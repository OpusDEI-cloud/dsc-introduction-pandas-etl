{
 "cells": [
  {
   "cell_type": "markdown",
   "metadata": {},
   "source": [
    "# Data Cleaning in Pandas - Introduction\n",
    "\n",
    "## Introduction\n",
    "\n",
    "In this section, you will learn invaluable skills that will form the foundation of your data processing work. Before you can apply machine learning algorithms or do interesting analyses, you often must clean and transform your data into a suitable format. Such initial data wrangling processes are often referred to as Extract Transform Load (ETL). Our primary tool of choice for performing ETL and basic analyses will be the Pandas package.\n",
    "\n"
   ]
  },
  {
   "attachments": {},
   "cell_type": "markdown",
   "metadata": {},
   "source": [
    "## Why ETL?\n",
    "\n",
    "ETL is an essential first step to data analysis and data science. It also will form the foundation for exploratory data analysis. Often, you will be thrown a dataset that you have little to no information about. In these cases, your first step is to explore the data and get familiar with it. What are the columns? How many observations do you have? Are there missing values? Any outliers? If we have user-level data, how can we explore aggregate trends along features like gender, race, or geography? All of these can be answered by applying ETL to transform raw datasets into alternative useful views. "
   ]
  },
  {
   "cell_type": "markdown",
   "metadata": {},
   "source": [
    "## Quick ETL Example\n",
    "\n",
    "While you'll see complete examples and explanations for all of these techniques (and more), here's a quick preview of some ETL techniques covered in this section."
   ]
  },
  {
   "cell_type": "markdown",
   "metadata": {},
   "source": [
    "### Import data"
   ]
  },
  {
   "cell_type": "code",
   "execution_count": 1,
   "metadata": {},
   "outputs": [
    {
     "data": {
      "application/vnd.microsoft.datawrangler.viewer.v0+json": {
       "columns": [
        {
         "name": "index",
         "rawType": "int64",
         "type": "integer"
        },
        {
         "name": "business_id",
         "rawType": "object",
         "type": "string"
        },
        {
         "name": "cool",
         "rawType": "int64",
         "type": "integer"
        },
        {
         "name": "date",
         "rawType": "object",
         "type": "string"
        },
        {
         "name": "funny",
         "rawType": "int64",
         "type": "integer"
        },
        {
         "name": "review_id",
         "rawType": "object",
         "type": "string"
        },
        {
         "name": "stars",
         "rawType": "int64",
         "type": "integer"
        },
        {
         "name": "text",
         "rawType": "object",
         "type": "string"
        },
        {
         "name": "useful",
         "rawType": "int64",
         "type": "integer"
        },
        {
         "name": "user_id",
         "rawType": "object",
         "type": "string"
        }
       ],
       "conversionMethod": "pd.DataFrame",
       "ref": "40b6f03f-df45-4084-ab60-9dbff5ab903f",
       "rows": [
        [
         "1",
         "pomGBqfbxcqPv14c3XH-ZQ",
         "0",
         "2012-11-13",
         "0",
         "dDl8zu1vWPdKGihJrwQbpw",
         "5",
         "I love this place! My fiance And I go here atleast once a week. The portions are huge! Food is amazing. I love their carne asada. They have great lunch specials... Leticia is super nice and cares about what you think of her restaurant. You have to try their cheese enchiladas too the sauce is different And amazing!!!",
         "0",
         "msQe1u7Z_XuqjGoqhB0J5g"
        ],
        [
         "2",
         "jtQARsP6P-LbkyjbO1qNGg",
         "1",
         "2014-10-23",
         "1",
         "LZp4UX5zK3e-c5ZGSeo3kA",
         "1",
         "Terrible. Dry corn bread. Rib tips were all fat and mushy and had no flavor. If you want bbq in this neighborhood go to john mulls roadkill grill. Trust me.",
         "3",
         "msQe1u7Z_XuqjGoqhB0J5g"
        ],
        [
         "4",
         "Ums3gaP2qM3W1XcA5r6SsQ",
         "0",
         "2014-09-05",
         "0",
         "jsDu6QEJHbwP2Blom1PLCA",
         "5",
         "Delicious healthy food. The steak is amazing. Fish and pork are awesome too. Service is above and beyond. Not a bad thing to say about this place. Worth every penny!",
         "0",
         "msQe1u7Z_XuqjGoqhB0J5g"
        ],
        [
         "5",
         "vgfcTvK81oD4r50NMjU2Ag",
         "0",
         "2011-02-25",
         "0",
         "pfavA0hr3nyqO61oupj-lA",
         "1",
         "This place sucks. The customer service is horrible. They dont serve food unless you order a pizza from a neighboring restaurant. Who does that? They dont control their crowd. Many times I've gone I've seen fights. The bartenders suck - I've almost got in a fight with one because she was a complete bitch. Refused to serve me a drink because she was \"busy\" celebrating her friends birthday BEHIND THE BAR. This place is ridiculous. I will NEVER go there again.. EVER.",
         "2",
         "msQe1u7Z_XuqjGoqhB0J5g"
        ],
        [
         "10",
         "yFumR3CWzpfvTH2FCthvVw",
         "0",
         "2016-06-15",
         "0",
         "STiFMww2z31siPY7BWNC2g",
         "5",
         "I have been an Emerald Club member for a number of years.  I have always been very satisfied with their vehicles and customer service.  This recent visit to Pittsburgh was no exception.",
         "0",
         "TlvV-xJhmh7LCwJYXkV-cg"
        ]
       ],
       "shape": {
        "columns": 9,
        "rows": 5
       }
      },
      "text/html": [
       "<div>\n",
       "<style scoped>\n",
       "    .dataframe tbody tr th:only-of-type {\n",
       "        vertical-align: middle;\n",
       "    }\n",
       "\n",
       "    .dataframe tbody tr th {\n",
       "        vertical-align: top;\n",
       "    }\n",
       "\n",
       "    .dataframe thead th {\n",
       "        text-align: right;\n",
       "    }\n",
       "</style>\n",
       "<table border=\"1\" class=\"dataframe\">\n",
       "  <thead>\n",
       "    <tr style=\"text-align: right;\">\n",
       "      <th></th>\n",
       "      <th>business_id</th>\n",
       "      <th>cool</th>\n",
       "      <th>date</th>\n",
       "      <th>funny</th>\n",
       "      <th>review_id</th>\n",
       "      <th>stars</th>\n",
       "      <th>text</th>\n",
       "      <th>useful</th>\n",
       "      <th>user_id</th>\n",
       "    </tr>\n",
       "  </thead>\n",
       "  <tbody>\n",
       "    <tr>\n",
       "      <th>1</th>\n",
       "      <td>pomGBqfbxcqPv14c3XH-ZQ</td>\n",
       "      <td>0</td>\n",
       "      <td>2012-11-13</td>\n",
       "      <td>0</td>\n",
       "      <td>dDl8zu1vWPdKGihJrwQbpw</td>\n",
       "      <td>5</td>\n",
       "      <td>I love this place! My fiance And I go here atl...</td>\n",
       "      <td>0</td>\n",
       "      <td>msQe1u7Z_XuqjGoqhB0J5g</td>\n",
       "    </tr>\n",
       "    <tr>\n",
       "      <th>2</th>\n",
       "      <td>jtQARsP6P-LbkyjbO1qNGg</td>\n",
       "      <td>1</td>\n",
       "      <td>2014-10-23</td>\n",
       "      <td>1</td>\n",
       "      <td>LZp4UX5zK3e-c5ZGSeo3kA</td>\n",
       "      <td>1</td>\n",
       "      <td>Terrible. Dry corn bread. Rib tips were all fa...</td>\n",
       "      <td>3</td>\n",
       "      <td>msQe1u7Z_XuqjGoqhB0J5g</td>\n",
       "    </tr>\n",
       "    <tr>\n",
       "      <th>4</th>\n",
       "      <td>Ums3gaP2qM3W1XcA5r6SsQ</td>\n",
       "      <td>0</td>\n",
       "      <td>2014-09-05</td>\n",
       "      <td>0</td>\n",
       "      <td>jsDu6QEJHbwP2Blom1PLCA</td>\n",
       "      <td>5</td>\n",
       "      <td>Delicious healthy food. The steak is amazing. ...</td>\n",
       "      <td>0</td>\n",
       "      <td>msQe1u7Z_XuqjGoqhB0J5g</td>\n",
       "    </tr>\n",
       "    <tr>\n",
       "      <th>5</th>\n",
       "      <td>vgfcTvK81oD4r50NMjU2Ag</td>\n",
       "      <td>0</td>\n",
       "      <td>2011-02-25</td>\n",
       "      <td>0</td>\n",
       "      <td>pfavA0hr3nyqO61oupj-lA</td>\n",
       "      <td>1</td>\n",
       "      <td>This place sucks. The customer service is horr...</td>\n",
       "      <td>2</td>\n",
       "      <td>msQe1u7Z_XuqjGoqhB0J5g</td>\n",
       "    </tr>\n",
       "    <tr>\n",
       "      <th>10</th>\n",
       "      <td>yFumR3CWzpfvTH2FCthvVw</td>\n",
       "      <td>0</td>\n",
       "      <td>2016-06-15</td>\n",
       "      <td>0</td>\n",
       "      <td>STiFMww2z31siPY7BWNC2g</td>\n",
       "      <td>5</td>\n",
       "      <td>I have been an Emerald Club member for a numbe...</td>\n",
       "      <td>0</td>\n",
       "      <td>TlvV-xJhmh7LCwJYXkV-cg</td>\n",
       "    </tr>\n",
       "  </tbody>\n",
       "</table>\n",
       "</div>"
      ],
      "text/plain": [
       "               business_id  cool        date  funny               review_id  \\\n",
       "1   pomGBqfbxcqPv14c3XH-ZQ     0  2012-11-13      0  dDl8zu1vWPdKGihJrwQbpw   \n",
       "2   jtQARsP6P-LbkyjbO1qNGg     1  2014-10-23      1  LZp4UX5zK3e-c5ZGSeo3kA   \n",
       "4   Ums3gaP2qM3W1XcA5r6SsQ     0  2014-09-05      0  jsDu6QEJHbwP2Blom1PLCA   \n",
       "5   vgfcTvK81oD4r50NMjU2Ag     0  2011-02-25      0  pfavA0hr3nyqO61oupj-lA   \n",
       "10  yFumR3CWzpfvTH2FCthvVw     0  2016-06-15      0  STiFMww2z31siPY7BWNC2g   \n",
       "\n",
       "    stars                                               text  useful  \\\n",
       "1       5  I love this place! My fiance And I go here atl...       0   \n",
       "2       1  Terrible. Dry corn bread. Rib tips were all fa...       3   \n",
       "4       5  Delicious healthy food. The steak is amazing. ...       0   \n",
       "5       1  This place sucks. The customer service is horr...       2   \n",
       "10      5  I have been an Emerald Club member for a numbe...       0   \n",
       "\n",
       "                   user_id  \n",
       "1   msQe1u7Z_XuqjGoqhB0J5g  \n",
       "2   msQe1u7Z_XuqjGoqhB0J5g  \n",
       "4   msQe1u7Z_XuqjGoqhB0J5g  \n",
       "5   msQe1u7Z_XuqjGoqhB0J5g  \n",
       "10  TlvV-xJhmh7LCwJYXkV-cg  "
      ]
     },
     "execution_count": 1,
     "metadata": {},
     "output_type": "execute_result"
    }
   ],
   "source": [
    "import pandas as pd\n",
    "df = pd.read_csv('Yelp_Reviews.csv', index_col=0)\n",
    "df.head()"
   ]
  },
  {
   "cell_type": "code",
   "execution_count": 2,
   "metadata": {},
   "outputs": [
    {
     "data": {
      "text/plain": [
       "(2610, 9)"
      ]
     },
     "execution_count": 2,
     "metadata": {},
     "output_type": "execute_result"
    }
   ],
   "source": [
    "df.shape"
   ]
  },
  {
   "cell_type": "markdown",
   "metadata": {},
   "source": [
    "### Apply lambda functions"
   ]
  },
  {
   "cell_type": "code",
   "execution_count": 3,
   "metadata": {},
   "outputs": [
    {
     "data": {
      "application/vnd.microsoft.datawrangler.viewer.v0+json": {
       "columns": [
        {
         "name": "index",
         "rawType": "int64",
         "type": "integer"
        },
        {
         "name": "business_id",
         "rawType": "object",
         "type": "string"
        },
        {
         "name": "cool",
         "rawType": "int64",
         "type": "integer"
        },
        {
         "name": "date",
         "rawType": "object",
         "type": "string"
        },
        {
         "name": "funny",
         "rawType": "int64",
         "type": "integer"
        },
        {
         "name": "review_id",
         "rawType": "object",
         "type": "string"
        },
        {
         "name": "stars",
         "rawType": "int64",
         "type": "integer"
        },
        {
         "name": "text",
         "rawType": "object",
         "type": "string"
        },
        {
         "name": "useful",
         "rawType": "int64",
         "type": "integer"
        },
        {
         "name": "user_id",
         "rawType": "object",
         "type": "string"
        },
        {
         "name": "Review_Word_Length",
         "rawType": "int64",
         "type": "integer"
        }
       ],
       "conversionMethod": "pd.DataFrame",
       "ref": "748447ed-82de-4229-8893-1066a7bc381e",
       "rows": [
        [
         "1",
         "pomGBqfbxcqPv14c3XH-ZQ",
         "0",
         "2012-11-13",
         "0",
         "dDl8zu1vWPdKGihJrwQbpw",
         "5",
         "I love this place! My fiance And I go here atleast once a week. The portions are huge! Food is amazing. I love their carne asada. They have great lunch specials... Leticia is super nice and cares about what you think of her restaurant. You have to try their cheese enchiladas too the sauce is different And amazing!!!",
         "0",
         "msQe1u7Z_XuqjGoqhB0J5g",
         "58"
        ],
        [
         "2",
         "jtQARsP6P-LbkyjbO1qNGg",
         "1",
         "2014-10-23",
         "1",
         "LZp4UX5zK3e-c5ZGSeo3kA",
         "1",
         "Terrible. Dry corn bread. Rib tips were all fat and mushy and had no flavor. If you want bbq in this neighborhood go to john mulls roadkill grill. Trust me.",
         "3",
         "msQe1u7Z_XuqjGoqhB0J5g",
         "30"
        ],
        [
         "4",
         "Ums3gaP2qM3W1XcA5r6SsQ",
         "0",
         "2014-09-05",
         "0",
         "jsDu6QEJHbwP2Blom1PLCA",
         "5",
         "Delicious healthy food. The steak is amazing. Fish and pork are awesome too. Service is above and beyond. Not a bad thing to say about this place. Worth every penny!",
         "0",
         "msQe1u7Z_XuqjGoqhB0J5g",
         "30"
        ],
        [
         "5",
         "vgfcTvK81oD4r50NMjU2Ag",
         "0",
         "2011-02-25",
         "0",
         "pfavA0hr3nyqO61oupj-lA",
         "1",
         "This place sucks. The customer service is horrible. They dont serve food unless you order a pizza from a neighboring restaurant. Who does that? They dont control their crowd. Many times I've gone I've seen fights. The bartenders suck - I've almost got in a fight with one because she was a complete bitch. Refused to serve me a drink because she was \"busy\" celebrating her friends birthday BEHIND THE BAR. This place is ridiculous. I will NEVER go there again.. EVER.",
         "2",
         "msQe1u7Z_XuqjGoqhB0J5g",
         "82"
        ],
        [
         "10",
         "yFumR3CWzpfvTH2FCthvVw",
         "0",
         "2016-06-15",
         "0",
         "STiFMww2z31siPY7BWNC2g",
         "5",
         "I have been an Emerald Club member for a number of years.  I have always been very satisfied with their vehicles and customer service.  This recent visit to Pittsburgh was no exception.",
         "0",
         "TlvV-xJhmh7LCwJYXkV-cg",
         "32"
        ]
       ],
       "shape": {
        "columns": 10,
        "rows": 5
       }
      },
      "text/html": [
       "<div>\n",
       "<style scoped>\n",
       "    .dataframe tbody tr th:only-of-type {\n",
       "        vertical-align: middle;\n",
       "    }\n",
       "\n",
       "    .dataframe tbody tr th {\n",
       "        vertical-align: top;\n",
       "    }\n",
       "\n",
       "    .dataframe thead th {\n",
       "        text-align: right;\n",
       "    }\n",
       "</style>\n",
       "<table border=\"1\" class=\"dataframe\">\n",
       "  <thead>\n",
       "    <tr style=\"text-align: right;\">\n",
       "      <th></th>\n",
       "      <th>business_id</th>\n",
       "      <th>cool</th>\n",
       "      <th>date</th>\n",
       "      <th>funny</th>\n",
       "      <th>review_id</th>\n",
       "      <th>stars</th>\n",
       "      <th>text</th>\n",
       "      <th>useful</th>\n",
       "      <th>user_id</th>\n",
       "      <th>Review_Word_Length</th>\n",
       "    </tr>\n",
       "  </thead>\n",
       "  <tbody>\n",
       "    <tr>\n",
       "      <th>1</th>\n",
       "      <td>pomGBqfbxcqPv14c3XH-ZQ</td>\n",
       "      <td>0</td>\n",
       "      <td>2012-11-13</td>\n",
       "      <td>0</td>\n",
       "      <td>dDl8zu1vWPdKGihJrwQbpw</td>\n",
       "      <td>5</td>\n",
       "      <td>I love this place! My fiance And I go here atl...</td>\n",
       "      <td>0</td>\n",
       "      <td>msQe1u7Z_XuqjGoqhB0J5g</td>\n",
       "      <td>58</td>\n",
       "    </tr>\n",
       "    <tr>\n",
       "      <th>2</th>\n",
       "      <td>jtQARsP6P-LbkyjbO1qNGg</td>\n",
       "      <td>1</td>\n",
       "      <td>2014-10-23</td>\n",
       "      <td>1</td>\n",
       "      <td>LZp4UX5zK3e-c5ZGSeo3kA</td>\n",
       "      <td>1</td>\n",
       "      <td>Terrible. Dry corn bread. Rib tips were all fa...</td>\n",
       "      <td>3</td>\n",
       "      <td>msQe1u7Z_XuqjGoqhB0J5g</td>\n",
       "      <td>30</td>\n",
       "    </tr>\n",
       "    <tr>\n",
       "      <th>4</th>\n",
       "      <td>Ums3gaP2qM3W1XcA5r6SsQ</td>\n",
       "      <td>0</td>\n",
       "      <td>2014-09-05</td>\n",
       "      <td>0</td>\n",
       "      <td>jsDu6QEJHbwP2Blom1PLCA</td>\n",
       "      <td>5</td>\n",
       "      <td>Delicious healthy food. The steak is amazing. ...</td>\n",
       "      <td>0</td>\n",
       "      <td>msQe1u7Z_XuqjGoqhB0J5g</td>\n",
       "      <td>30</td>\n",
       "    </tr>\n",
       "    <tr>\n",
       "      <th>5</th>\n",
       "      <td>vgfcTvK81oD4r50NMjU2Ag</td>\n",
       "      <td>0</td>\n",
       "      <td>2011-02-25</td>\n",
       "      <td>0</td>\n",
       "      <td>pfavA0hr3nyqO61oupj-lA</td>\n",
       "      <td>1</td>\n",
       "      <td>This place sucks. The customer service is horr...</td>\n",
       "      <td>2</td>\n",
       "      <td>msQe1u7Z_XuqjGoqhB0J5g</td>\n",
       "      <td>82</td>\n",
       "    </tr>\n",
       "    <tr>\n",
       "      <th>10</th>\n",
       "      <td>yFumR3CWzpfvTH2FCthvVw</td>\n",
       "      <td>0</td>\n",
       "      <td>2016-06-15</td>\n",
       "      <td>0</td>\n",
       "      <td>STiFMww2z31siPY7BWNC2g</td>\n",
       "      <td>5</td>\n",
       "      <td>I have been an Emerald Club member for a numbe...</td>\n",
       "      <td>0</td>\n",
       "      <td>TlvV-xJhmh7LCwJYXkV-cg</td>\n",
       "      <td>32</td>\n",
       "    </tr>\n",
       "  </tbody>\n",
       "</table>\n",
       "</div>"
      ],
      "text/plain": [
       "               business_id  cool        date  funny               review_id  \\\n",
       "1   pomGBqfbxcqPv14c3XH-ZQ     0  2012-11-13      0  dDl8zu1vWPdKGihJrwQbpw   \n",
       "2   jtQARsP6P-LbkyjbO1qNGg     1  2014-10-23      1  LZp4UX5zK3e-c5ZGSeo3kA   \n",
       "4   Ums3gaP2qM3W1XcA5r6SsQ     0  2014-09-05      0  jsDu6QEJHbwP2Blom1PLCA   \n",
       "5   vgfcTvK81oD4r50NMjU2Ag     0  2011-02-25      0  pfavA0hr3nyqO61oupj-lA   \n",
       "10  yFumR3CWzpfvTH2FCthvVw     0  2016-06-15      0  STiFMww2z31siPY7BWNC2g   \n",
       "\n",
       "    stars                                               text  useful  \\\n",
       "1       5  I love this place! My fiance And I go here atl...       0   \n",
       "2       1  Terrible. Dry corn bread. Rib tips were all fa...       3   \n",
       "4       5  Delicious healthy food. The steak is amazing. ...       0   \n",
       "5       1  This place sucks. The customer service is horr...       2   \n",
       "10      5  I have been an Emerald Club member for a numbe...       0   \n",
       "\n",
       "                   user_id  Review_Word_Length  \n",
       "1   msQe1u7Z_XuqjGoqhB0J5g                  58  \n",
       "2   msQe1u7Z_XuqjGoqhB0J5g                  30  \n",
       "4   msQe1u7Z_XuqjGoqhB0J5g                  30  \n",
       "5   msQe1u7Z_XuqjGoqhB0J5g                  82  \n",
       "10  TlvV-xJhmh7LCwJYXkV-cg                  32  "
      ]
     },
     "execution_count": 3,
     "metadata": {},
     "output_type": "execute_result"
    }
   ],
   "source": [
    "df['Review_Word_Length'] = df['text'].map(lambda x: len(x.split()))\n",
    "df.head()"
   ]
  },
  {
   "cell_type": "code",
   "execution_count": 4,
   "metadata": {},
   "outputs": [
    {
     "data": {
      "text/plain": [
       "(2610, 10)"
      ]
     },
     "execution_count": 4,
     "metadata": {},
     "output_type": "execute_result"
    }
   ],
   "source": [
    "df.shape # Previously this was (2610, 9), now we have added a column"
   ]
  },
  {
   "cell_type": "markdown",
   "metadata": {},
   "source": [
    "### Group data"
   ]
  },
  {
   "cell_type": "code",
   "execution_count": 5,
   "metadata": {},
   "outputs": [
    {
     "data": {
      "text/plain": [
       "business_id\n",
       "-050d_XIor1NpCuWkbIVaQ    5.0\n",
       "-0qht1roIqleKiQkBLDkbw    1.0\n",
       "-3zffZUHoY8bQjGfPSoBKQ    5.0\n",
       "-6tvduBzjLI1ISfs3F_qTg    5.0\n",
       "-9nai28tnoylwViuJVrYEQ    5.0\n",
       "Name: stars, dtype: float64"
      ]
     },
     "execution_count": 5,
     "metadata": {},
     "output_type": "execute_result"
    }
   ],
   "source": [
    "df.groupby('business_id')['stars'].mean().head()"
   ]
  },
  {
   "cell_type": "markdown",
   "metadata": {},
   "source": [
    "### Check for duplicates\n",
    "\n",
    "Check how many we have:"
   ]
  },
  {
   "cell_type": "code",
   "execution_count": 6,
   "metadata": {},
   "outputs": [
    {
     "data": {
      "text/plain": [
       "False    2277\n",
       "True      333\n",
       "dtype: int64"
      ]
     },
     "execution_count": 6,
     "metadata": {},
     "output_type": "execute_result"
    }
   ],
   "source": [
    "df.duplicated().value_counts()"
   ]
  },
  {
   "cell_type": "markdown",
   "metadata": {},
   "source": [
    "Visually inspect them:"
   ]
  },
  {
   "cell_type": "code",
   "execution_count": 7,
   "metadata": {},
   "outputs": [
    {
     "data": {
      "application/vnd.microsoft.datawrangler.viewer.v0+json": {
       "columns": [
        {
         "name": "index",
         "rawType": "int64",
         "type": "integer"
        },
        {
         "name": "business_id",
         "rawType": "object",
         "type": "string"
        },
        {
         "name": "cool",
         "rawType": "int64",
         "type": "integer"
        },
        {
         "name": "date",
         "rawType": "object",
         "type": "string"
        },
        {
         "name": "funny",
         "rawType": "int64",
         "type": "integer"
        },
        {
         "name": "review_id",
         "rawType": "object",
         "type": "string"
        },
        {
         "name": "stars",
         "rawType": "int64",
         "type": "integer"
        },
        {
         "name": "text",
         "rawType": "object",
         "type": "string"
        },
        {
         "name": "useful",
         "rawType": "int64",
         "type": "integer"
        },
        {
         "name": "user_id",
         "rawType": "object",
         "type": "string"
        },
        {
         "name": "Review_Word_Length",
         "rawType": "int64",
         "type": "integer"
        }
       ],
       "conversionMethod": "pd.DataFrame",
       "ref": "79b5be12-110a-45de-828a-be007edb5c7b",
       "rows": [
        [
         "1729",
         "-GY2fx-8udXPY8qn2HVBCg",
         "0",
         "2016-08-30",
         "0",
         "yQ6P1_CvM94wMLYw1T0UWA",
         "5",
         "Just opened a new account today.  So far I am impressed.  Nidia was able to coordinate everything via email for my loan and new account which is great with my busy schedule.  They were able to get me a lower rate than I was expecting for my new car I also refinanced my current car.",
         "1",
         "sZfZGrI592euyacKUcwQYg",
         "55"
        ],
        [
         "1729",
         "-GY2fx-8udXPY8qn2HVBCg",
         "0",
         "2016-08-30",
         "0",
         "yQ6P1_CvM94wMLYw1T0UWA",
         "5",
         "Just opened a new account today.  So far I am impressed.  Nidia was able to coordinate everything via email for my loan and new account which is great with my busy schedule.  They were able to get me a lower rate than I was expecting for my new car I also refinanced my current car.",
         "1",
         "sZfZGrI592euyacKUcwQYg",
         "55"
        ],
        [
         "754",
         "-LRlx2j9_LB3evsRRcC9MA",
         "0",
         "2017-10-07",
         "0",
         "kUqPsZmWwLIMSstGHhWssA",
         "5",
         "The vet took the time to explain what was possibly going on with my dog. Staff was friendly. Pricing was good. I will be going back for my vet needs in the future.",
         "0",
         "VgaYZ7004pTwEDSDWR6u4Q",
         "33"
        ],
        [
         "754",
         "-LRlx2j9_LB3evsRRcC9MA",
         "0",
         "2017-10-07",
         "0",
         "kUqPsZmWwLIMSstGHhWssA",
         "5",
         "The vet took the time to explain what was possibly going on with my dog. Staff was friendly. Pricing was good. I will be going back for my vet needs in the future.",
         "0",
         "VgaYZ7004pTwEDSDWR6u4Q",
         "33"
        ],
        [
         "2767",
         "-MKWJZnMjSit406AUKf7Pg",
         "0",
         "2015-01-03",
         "2",
         "rJhrQD3-b9GjTso0dxIkwg",
         "1",
         "Drove 37 miles on a Saturday at 12:30pm for lunch.... to find the place CLOSED! \r\nNOT HAPPY !!!!",
         "0",
         "kzP96uX8TUMmmvLtd-I3RQ",
         "18"
        ],
        [
         "2767",
         "-MKWJZnMjSit406AUKf7Pg",
         "0",
         "2015-01-03",
         "2",
         "rJhrQD3-b9GjTso0dxIkwg",
         "1",
         "Drove 37 miles on a Saturday at 12:30pm for lunch.... to find the place CLOSED! \r\nNOT HAPPY !!!!",
         "0",
         "kzP96uX8TUMmmvLtd-I3RQ",
         "18"
        ],
        [
         "3126",
         "-eIvRc3aEvufstBumpBTPQ",
         "0",
         "2015-07-02",
         "0",
         "rn49y5dm_3sRZ5_LrODFLA",
         "5",
         "After going to several physio clinics over the years with no success i finally found a home. I have bad knees and shoulders and according to the staff I shouldn't be able to walk upright lol. But with sessions from the staff I've already gotten back into all the sports I was used to playing before life took its toll on me. Paul (owner and therapist) is a truly caring individual and does his best to accommodate your schedule. The RMT's are also magnificent and I definitely recommend throwing in a massage session as well.",
         "0",
         "uK0LdXjF93PuPzVgo-Jsgg",
         "95"
        ],
        [
         "3126",
         "-eIvRc3aEvufstBumpBTPQ",
         "0",
         "2015-07-02",
         "0",
         "rn49y5dm_3sRZ5_LrODFLA",
         "5",
         "After going to several physio clinics over the years with no success i finally found a home. I have bad knees and shoulders and according to the staff I shouldn't be able to walk upright lol. But with sessions from the staff I've already gotten back into all the sports I was used to playing before life took its toll on me. Paul (owner and therapist) is a truly caring individual and does his best to accommodate your schedule. The RMT's are also magnificent and I definitely recommend throwing in a massage session as well.",
         "0",
         "uK0LdXjF93PuPzVgo-Jsgg",
         "95"
        ],
        [
         "2092",
         "-lJtyCOTVInWusU9YF120A",
         "0",
         "2015-11-08",
         "0",
         "qFNtxmCldq0bUoRF1OdpQA",
         "5",
         "One of our favorite Italian restaurants. Fabulous pizza and light & tasty chew pose ravioli that never disappoints. Fabulous friendly staff. A neighborhood gem for casual dining.",
         "0",
         "Ac3vNCPDwirpxSkIwtcvVA",
         "27"
        ],
        [
         "2092",
         "-lJtyCOTVInWusU9YF120A",
         "0",
         "2015-11-08",
         "0",
         "qFNtxmCldq0bUoRF1OdpQA",
         "5",
         "One of our favorite Italian restaurants. Fabulous pizza and light & tasty chew pose ravioli that never disappoints. Fabulous friendly staff. A neighborhood gem for casual dining.",
         "0",
         "Ac3vNCPDwirpxSkIwtcvVA",
         "27"
        ],
        [
         "1707",
         "01fuY2NNscttoTxOYbuZXw",
         "0",
         "2016-07-08",
         "0",
         "TUFmvhAynUbjSbOJa79sRw",
         "5",
         "Loved the food! Atmosphere funky and artsy. Staff good. Creative entrees prepared with care. I am giving it 5 stars even though the bathroom was outdated and not the freshest. Great place for people who like a funky vibe. Probably not for the uber conservative.",
         "0",
         "MejkKZgdUNfekUoNO1QJOA",
         "45"
        ],
        [
         "1707",
         "01fuY2NNscttoTxOYbuZXw",
         "0",
         "2016-07-08",
         "0",
         "TUFmvhAynUbjSbOJa79sRw",
         "5",
         "Loved the food! Atmosphere funky and artsy. Staff good. Creative entrees prepared with care. I am giving it 5 stars even though the bathroom was outdated and not the freshest. Great place for people who like a funky vibe. Probably not for the uber conservative.",
         "0",
         "MejkKZgdUNfekUoNO1QJOA",
         "45"
        ],
        [
         "1527",
         "04u-szAykldu-caSDHQaKA",
         "0",
         "2012-02-09",
         "0",
         "VkEeSwaqHgp6VFeANMoFow",
         "4",
         "I have been looking for a good Chinese restraint for lunch near work. This one fits the bill perfectly.",
         "0",
         "iNSL4q8MUvZ1ItVGboPpbQ",
         "19"
        ],
        [
         "1527",
         "04u-szAykldu-caSDHQaKA",
         "0",
         "2012-02-09",
         "0",
         "VkEeSwaqHgp6VFeANMoFow",
         "4",
         "I have been looking for a good Chinese restraint for lunch near work. This one fits the bill perfectly.",
         "0",
         "iNSL4q8MUvZ1ItVGboPpbQ",
         "19"
        ],
        [
         "744",
         "07F9bkUm3cs83CzGvTi0TA",
         "1",
         "2015-03-15",
         "0",
         "wgr_hOfIWlXR-glOC-qKYQ",
         "5",
         "Kudos to Charlotte Motor Speedway!! They took a situation that was less than idea at the All Star Race and turned it into a customer service win. Here is what happened. I used Ticketmaster to buy 6 tickets to the All Star Race. I browsed a few sections then wound up buying tickets in Chrysler section K. When we arrived at our section we were informed that it was a no alcohol section. I didn't remember seeing anything on the website (i went back and looked and there was at the checkout page and because of the way I searched I missed the one on the main page) or on my tickets. I was told to go exchange my tickets the gate. The employees at gate 3 said they did not have access to the Ticketmaster system so I would have to go to gate 4. At this point I'm not pleased but I head to gate 4. I show the employee my tickets on my phone and he hands in over to someone else. After about 20 or 30 minutes I'm informed by someone who I assume is a supervisor that the usher is wrong and that our tickets are not in an alcohol free zone and there is no need to exchange them and that the map displayed in the window of the ticket booth showing this as an alcohol free zone was wrong and out of date. At this point we have missed about a 1/4 of qualifying. We head back to our seats and inform the usher that we were told that it was ok to drink here. He said absolutely not and that the ticket person was wrong. At this point I'm furious. So we walk down into the next section and head toward the bottom to find some open seats and hope we are not sitting in someone else's seats (luckily we weren't as most of them around us filled up). Upon calling the ticket office today and explaining what happened the agent said I did miss the no alcohol writing at the checkout page but offered me 6 tickets to next years race to make up for the inconvenience!!! Way to go CMS even though we regularly attend races here you now have a customer for life!",
         "1",
         "Cxv3SNudPrCavvHJfIbwhQ",
         "384"
        ],
        [
         "744",
         "07F9bkUm3cs83CzGvTi0TA",
         "1",
         "2015-03-15",
         "0",
         "wgr_hOfIWlXR-glOC-qKYQ",
         "5",
         "Kudos to Charlotte Motor Speedway!! They took a situation that was less than idea at the All Star Race and turned it into a customer service win. Here is what happened. I used Ticketmaster to buy 6 tickets to the All Star Race. I browsed a few sections then wound up buying tickets in Chrysler section K. When we arrived at our section we were informed that it was a no alcohol section. I didn't remember seeing anything on the website (i went back and looked and there was at the checkout page and because of the way I searched I missed the one on the main page) or on my tickets. I was told to go exchange my tickets the gate. The employees at gate 3 said they did not have access to the Ticketmaster system so I would have to go to gate 4. At this point I'm not pleased but I head to gate 4. I show the employee my tickets on my phone and he hands in over to someone else. After about 20 or 30 minutes I'm informed by someone who I assume is a supervisor that the usher is wrong and that our tickets are not in an alcohol free zone and there is no need to exchange them and that the map displayed in the window of the ticket booth showing this as an alcohol free zone was wrong and out of date. At this point we have missed about a 1/4 of qualifying. We head back to our seats and inform the usher that we were told that it was ok to drink here. He said absolutely not and that the ticket person was wrong. At this point I'm furious. So we walk down into the next section and head toward the bottom to find some open seats and hope we are not sitting in someone else's seats (luckily we weren't as most of them around us filled up). Upon calling the ticket office today and explaining what happened the agent said I did miss the no alcohol writing at the checkout page but offered me 6 tickets to next years race to make up for the inconvenience!!! Way to go CMS even though we regularly attend races here you now have a customer for life!",
         "1",
         "Cxv3SNudPrCavvHJfIbwhQ",
         "384"
        ],
        [
         "2202",
         "0QBFtNNj9RIggZGeivcbEg",
         "0",
         "2013-07-23",
         "0",
         "6bzlzJj3jrbWSnXtv80D_A",
         "5",
         "Great food and service. Spinach enchiladas are my favorite. Beer is ice cold",
         "0",
         "VTjCebjbadCMAGRoXvs7Zw",
         "13"
        ],
        [
         "2202",
         "0QBFtNNj9RIggZGeivcbEg",
         "0",
         "2013-07-23",
         "0",
         "6bzlzJj3jrbWSnXtv80D_A",
         "5",
         "Great food and service. Spinach enchiladas are my favorite. Beer is ice cold",
         "0",
         "VTjCebjbadCMAGRoXvs7Zw",
         "13"
        ],
        [
         "3004",
         "0bbWKI1lA-bmEeeWOrDmSA",
         "0",
         "2015-11-12",
         "0",
         "71xNE0qpjhgEz44PgbfIDA",
         "3",
         "It's an ok place. Quantities are greater than you really need. Menus are are in thick plastique like in all non de script restaurants. No reason to avoid this restaurant just no reason to go out of you way to go either.  Ordered an espresso an got a Demi tasse with no crema. They should not be selling this if they can't make it",
         "0",
         "hjHrV1WzO8RDRYJ-ep2OZA",
         "64"
        ],
        [
         "3004",
         "0bbWKI1lA-bmEeeWOrDmSA",
         "0",
         "2015-11-12",
         "0",
         "71xNE0qpjhgEz44PgbfIDA",
         "3",
         "It's an ok place. Quantities are greater than you really need. Menus are are in thick plastique like in all non de script restaurants. No reason to avoid this restaurant just no reason to go out of you way to go either.  Ordered an espresso an got a Demi tasse with no crema. They should not be selling this if they can't make it",
         "0",
         "hjHrV1WzO8RDRYJ-ep2OZA",
         "64"
        ],
        [
         "3243",
         "0dFOy1BeJWuYTyIsi-gAqw",
         "0",
         "2015-05-10",
         "1",
         "ed8to80UuSExhgfJOyWphQ",
         "1",
         "Well I had to give a star because required. This place is a star minus. Land scraping does not exist and the up keep is just a grade above a bed bug infested super 8 hotel so what does that tell you.",
         "1",
         "dOsSS5r_YXViQznl6EvXlg",
         "42"
        ],
        [
         "3243",
         "0dFOy1BeJWuYTyIsi-gAqw",
         "0",
         "2015-05-10",
         "1",
         "ed8to80UuSExhgfJOyWphQ",
         "1",
         "Well I had to give a star because required. This place is a star minus. Land scraping does not exist and the up keep is just a grade above a bed bug infested super 8 hotel so what does that tell you.",
         "1",
         "dOsSS5r_YXViQznl6EvXlg",
         "42"
        ],
        [
         "2953",
         "0yAJCh0TBZcnZkdZWZ6bVQ",
         "0",
         "2016-01-18",
         "0",
         "qrzJrDPyfqP7djhb6sxb3A",
         "4",
         "i've been going for over a year. great service from a nail salon. it's not a spa so dont expect luxury. but for what it is it's great. the girls are friendly. the services are done well.",
         "0",
         "Y5DIwt-653VndVu53ATpLQ",
         "37"
        ],
        [
         "2953",
         "0yAJCh0TBZcnZkdZWZ6bVQ",
         "0",
         "2016-01-18",
         "0",
         "qrzJrDPyfqP7djhb6sxb3A",
         "4",
         "i've been going for over a year. great service from a nail salon. it's not a spa so dont expect luxury. but for what it is it's great. the girls are friendly. the services are done well.",
         "0",
         "Y5DIwt-653VndVu53ATpLQ",
         "37"
        ],
        [
         "4134",
         "19VNsxhnPZ11zc0KBauonQ",
         "0",
         "2015-02-03",
         "0",
         "iXEO9493AVcDZmOkGJpIgw",
         "1",
         "worst customer service.Mainly the manager Matt. Who made it very difficult to return a damaged product sold at that location.",
         "1",
         "z7dWikbkqL7NelG4JeSt4g",
         "20"
        ],
        [
         "4134",
         "19VNsxhnPZ11zc0KBauonQ",
         "0",
         "2015-02-03",
         "0",
         "iXEO9493AVcDZmOkGJpIgw",
         "1",
         "worst customer service.Mainly the manager Matt. Who made it very difficult to return a damaged product sold at that location.",
         "1",
         "z7dWikbkqL7NelG4JeSt4g",
         "20"
        ],
        [
         "3132",
         "1ForN8iXqYZ_dZZcOkvVeA",
         "0",
         "2014-03-29",
         "0",
         "9vEk6nrlA8fcej0SsbD3gA",
         "5",
         "This was the cutest little diner I have ever been too . The waitress was the nicest lady ever . The food was insanely cheap but still amazing. I loved everything about it !!",
         "1",
         "ZcgHNMGUKp-J9hRqgoDx6A",
         "34"
        ],
        [
         "3132",
         "1ForN8iXqYZ_dZZcOkvVeA",
         "0",
         "2014-03-29",
         "0",
         "9vEk6nrlA8fcej0SsbD3gA",
         "5",
         "This was the cutest little diner I have ever been too . The waitress was the nicest lady ever . The food was insanely cheap but still amazing. I loved everything about it !!",
         "1",
         "ZcgHNMGUKp-J9hRqgoDx6A",
         "34"
        ],
        [
         "4652",
         "1HnYxHZw2icWQ7-T4AmQ0Q",
         "0",
         "2017-06-18",
         "0",
         "fekMspN8qzJtai03tCUUvQ",
         "5",
         "Awesome place!!! Love that they have old style beer!!! Pizza was amazing as well! Service was A+ I will be coming back for sure!:)",
         "0",
         "vuJ39vRaVZTgkT6I4L1jjA",
         "24"
        ],
        [
         "4652",
         "1HnYxHZw2icWQ7-T4AmQ0Q",
         "0",
         "2017-06-18",
         "0",
         "fekMspN8qzJtai03tCUUvQ",
         "5",
         "Awesome place!!! Love that they have old style beer!!! Pizza was amazing as well! Service was A+ I will be coming back for sure!:)",
         "0",
         "vuJ39vRaVZTgkT6I4L1jjA",
         "24"
        ],
        [
         "2322",
         "1lLJDy73uBp_I2LJ0B0Fkw",
         "1",
         "2011-09-09",
         "0",
         "03dNKEDriDeZ8poYbiNyxQ",
         "5",
         "Was here for a party last weekend and had a blast. They play great Jazz music on Sundays and the tapas are really amazing. Would highly recommend.",
         "0",
         "ftLmo96CeyaNcVqHleDSHw",
         "27"
        ],
        [
         "2322",
         "1lLJDy73uBp_I2LJ0B0Fkw",
         "1",
         "2011-09-09",
         "0",
         "03dNKEDriDeZ8poYbiNyxQ",
         "5",
         "Was here for a party last weekend and had a blast. They play great Jazz music on Sundays and the tapas are really amazing. Would highly recommend.",
         "0",
         "ftLmo96CeyaNcVqHleDSHw",
         "27"
        ],
        [
         "1674",
         "1u4EvujoBP37oEL4SGLpgA",
         "0",
         "2016-03-03",
         "0",
         "MCW1MdNh3qQaOR7Oy8ET8g",
         "3",
         "I've only been here a couple times just because the atmosphere is kind of dark and musty. I wish they would use paper cups instead of styrofoam. Styrofoam really cheapens the whole thing. The coffee wasn't bad but nothing really special either.",
         "1",
         "NqpqzTdGg6YzaRNIauj7MA",
         "42"
        ],
        [
         "1674",
         "1u4EvujoBP37oEL4SGLpgA",
         "0",
         "2016-03-03",
         "0",
         "MCW1MdNh3qQaOR7Oy8ET8g",
         "3",
         "I've only been here a couple times just because the atmosphere is kind of dark and musty. I wish they would use paper cups instead of styrofoam. Styrofoam really cheapens the whole thing. The coffee wasn't bad but nothing really special either.",
         "1",
         "NqpqzTdGg6YzaRNIauj7MA",
         "42"
        ],
        [
         "2864",
         "1vqFEbZ4xUsHAbiHmPzuhw",
         "0",
         "2017-09-28",
         "0",
         "ASOngeNYDkjXzvUjswTMNQ",
         "5",
         "Everything I've had here has been delicious. Came twice on my own and on my third round brought a number of colleagues -- all of them loved it.",
         "1",
         "GPfteXVEeyOB6Jyd552Iew",
         "28"
        ],
        [
         "2864",
         "1vqFEbZ4xUsHAbiHmPzuhw",
         "0",
         "2017-09-28",
         "0",
         "ASOngeNYDkjXzvUjswTMNQ",
         "5",
         "Everything I've had here has been delicious. Came twice on my own and on my third round brought a number of colleagues -- all of them loved it.",
         "1",
         "GPfteXVEeyOB6Jyd552Iew",
         "28"
        ],
        [
         "2934",
         "21sGRVR7HEs_t6PdB9tGMw",
         "0",
         "2013-07-12",
         "2",
         "6U0BqygunHHoZzoS4D5mhA",
         "5",
         "I finally found a pizza that ill never get tired of... and the philly was the best in town",
         "2",
         "mNZUtwyCu4q0fsWvwPqceA",
         "19"
        ],
        [
         "2934",
         "21sGRVR7HEs_t6PdB9tGMw",
         "0",
         "2013-07-12",
         "2",
         "6U0BqygunHHoZzoS4D5mhA",
         "5",
         "I finally found a pizza that ill never get tired of... and the philly was the best in town",
         "2",
         "mNZUtwyCu4q0fsWvwPqceA",
         "19"
        ],
        [
         "4505",
         "2AcO-aHnBqx94dU2Z4Em2Q",
         "0",
         "2014-06-14",
         "0",
         "Z0YVpuuVVDBNhf4mCiEiZw",
         "5",
         "Trying the new Brunch menu today with the TMD Bridgeland Benny. They even offer it with the option of gluten free bread. It was Yummy. New menu has lots of the favorites plus a bunch of new dishes for me to try. Looking forward to my next brunch.",
         "2",
         "eeSdZhqaYBS8hho2JpXFYg",
         "48"
        ],
        [
         "4505",
         "2AcO-aHnBqx94dU2Z4Em2Q",
         "0",
         "2014-06-14",
         "0",
         "Z0YVpuuVVDBNhf4mCiEiZw",
         "5",
         "Trying the new Brunch menu today with the TMD Bridgeland Benny. They even offer it with the option of gluten free bread. It was Yummy. New menu has lots of the favorites plus a bunch of new dishes for me to try. Looking forward to my next brunch.",
         "2",
         "eeSdZhqaYBS8hho2JpXFYg",
         "48"
        ],
        [
         "2226",
         "2KWkeOk1KaH50Es_A-8cnA",
         "0",
         "2017-04-22",
         "0",
         "3Jqk01r2A9cLGSekhbrV8w",
         "5",
         "The menu at this place was almost too much. I wanted to try it all. I opted for the pancake flight (try the peanut butter cup ) their house made chicken sausage was also amazing. Cool retro decor. Highly recommended",
         "0",
         "HbLMYOEK7hdhI44qWZA_mA",
         "40"
        ],
        [
         "2226",
         "2KWkeOk1KaH50Es_A-8cnA",
         "0",
         "2017-04-22",
         "0",
         "3Jqk01r2A9cLGSekhbrV8w",
         "5",
         "The menu at this place was almost too much. I wanted to try it all. I opted for the pancake flight (try the peanut butter cup ) their house made chicken sausage was also amazing. Cool retro decor. Highly recommended",
         "0",
         "HbLMYOEK7hdhI44qWZA_mA",
         "40"
        ],
        [
         "2776",
         "2weQS-RnoOBhb1KsHKyoSQ",
         "0",
         "2013-08-28",
         "0",
         "ZQcT5McquK2ytp6gok_8PQ",
         "4",
         "Pro:\r\n+food was stellar\r\n+dessert was beautiful and tasty\r\n+romantic feeling\r\n+worth every penny\r\n\r\nCon:\r\n-customer service\r\n-waited 15 minutes for someone to ask me what I wanted to drink\r\n-heard hostesses talking trash about every guest that walked in",
         "0",
         "M8KZG9AxSaaJCyRZrHVXzg",
         "40"
        ],
        [
         "2776",
         "2weQS-RnoOBhb1KsHKyoSQ",
         "0",
         "2013-08-28",
         "0",
         "ZQcT5McquK2ytp6gok_8PQ",
         "4",
         "Pro:\r\n+food was stellar\r\n+dessert was beautiful and tasty\r\n+romantic feeling\r\n+worth every penny\r\n\r\nCon:\r\n-customer service\r\n-waited 15 minutes for someone to ask me what I wanted to drink\r\n-heard hostesses talking trash about every guest that walked in",
         "0",
         "M8KZG9AxSaaJCyRZrHVXzg",
         "40"
        ],
        [
         "1849",
         "355zerURpj4IMs2no238_A",
         "0",
         "2015-09-26",
         "0",
         "7BHrT3p-d8wId48uTzoLrQ",
         "1",
         "They argued with me again as to Wethersfield or not there was broccoli in the dish I asked for none and it's in it! I thought it was just two pieces but it's loaded with it I sent it back good thing I didn't do take out! I don't think I will be back sad! Now they gave me chicken instead of shrimp that I  paid for! And he is complaining!  Give me my money back. Well I was in my car and the manager came out to apologize and give me a gift card.  Unfortunately he is the same person who argued with me and blamed everything on the cashier! I told him that this has happened before and last time it was take out. Don't think I'll be back at least to this one.",
         "0",
         "uU_ol_n14rgh8kuuZ--WSQ",
         "136"
        ],
        [
         "1849",
         "355zerURpj4IMs2no238_A",
         "0",
         "2015-09-26",
         "0",
         "7BHrT3p-d8wId48uTzoLrQ",
         "1",
         "They argued with me again as to Wethersfield or not there was broccoli in the dish I asked for none and it's in it! I thought it was just two pieces but it's loaded with it I sent it back good thing I didn't do take out! I don't think I will be back sad! Now they gave me chicken instead of shrimp that I  paid for! And he is complaining!  Give me my money back. Well I was in my car and the manager came out to apologize and give me a gift card.  Unfortunately he is the same person who argued with me and blamed everything on the cashier! I told him that this has happened before and last time it was take out. Don't think I'll be back at least to this one.",
         "0",
         "uU_ol_n14rgh8kuuZ--WSQ",
         "136"
        ],
        [
         "3628",
         "3GEEy7RP6e4bT4LAiWFMFQ",
         "0",
         "2015-08-27",
         "0",
         "bp270CGLua8CFXDkddgoaA",
         "5",
         "Atmosphere awesome\r\nPizza perfection\r\nDraft delicious\r\nService spectacular\r\nGreat explanation of the menu \r\nOrdered the Romana #1 then the margherita and now on to the Italian pear and prosciutto \r\n\r\nThank you Vegas downtown your Pizza rocks!",
         "0",
         "Z1AeKHoc3qkymg5b1eP7iw",
         "36"
        ],
        [
         "3628",
         "3GEEy7RP6e4bT4LAiWFMFQ",
         "0",
         "2015-08-27",
         "0",
         "bp270CGLua8CFXDkddgoaA",
         "5",
         "Atmosphere awesome\r\nPizza perfection\r\nDraft delicious\r\nService spectacular\r\nGreat explanation of the menu \r\nOrdered the Romana #1 then the margherita and now on to the Italian pear and prosciutto \r\n\r\nThank you Vegas downtown your Pizza rocks!",
         "0",
         "Z1AeKHoc3qkymg5b1eP7iw",
         "36"
        ],
        [
         "581",
         "3XtB54REsZ402EkPAN-x7w",
         "0",
         "2016-05-19",
         "0",
         "pmhBXiCYaEyy_D-MgHQmmA",
         "3",
         "Performances are great but the crowd and music needs a little work. Also they shouldn't space out all the wicked performances sooooo far apart.",
         "1",
         "kBNFdviedCPFWyR-wVaAzw",
         "24"
        ],
        [
         "581",
         "3XtB54REsZ402EkPAN-x7w",
         "0",
         "2016-05-19",
         "0",
         "pmhBXiCYaEyy_D-MgHQmmA",
         "3",
         "Performances are great but the crowd and music needs a little work. Also they shouldn't space out all the wicked performances sooooo far apart.",
         "1",
         "kBNFdviedCPFWyR-wVaAzw",
         "24"
        ]
       ],
       "shape": {
        "columns": 10,
        "rows": 666
       }
      },
      "text/html": [
       "<div>\n",
       "<style scoped>\n",
       "    .dataframe tbody tr th:only-of-type {\n",
       "        vertical-align: middle;\n",
       "    }\n",
       "\n",
       "    .dataframe tbody tr th {\n",
       "        vertical-align: top;\n",
       "    }\n",
       "\n",
       "    .dataframe thead th {\n",
       "        text-align: right;\n",
       "    }\n",
       "</style>\n",
       "<table border=\"1\" class=\"dataframe\">\n",
       "  <thead>\n",
       "    <tr style=\"text-align: right;\">\n",
       "      <th></th>\n",
       "      <th>business_id</th>\n",
       "      <th>cool</th>\n",
       "      <th>date</th>\n",
       "      <th>funny</th>\n",
       "      <th>review_id</th>\n",
       "      <th>stars</th>\n",
       "      <th>text</th>\n",
       "      <th>useful</th>\n",
       "      <th>user_id</th>\n",
       "      <th>Review_Word_Length</th>\n",
       "    </tr>\n",
       "  </thead>\n",
       "  <tbody>\n",
       "    <tr>\n",
       "      <th>1729</th>\n",
       "      <td>-GY2fx-8udXPY8qn2HVBCg</td>\n",
       "      <td>0</td>\n",
       "      <td>2016-08-30</td>\n",
       "      <td>0</td>\n",
       "      <td>yQ6P1_CvM94wMLYw1T0UWA</td>\n",
       "      <td>5</td>\n",
       "      <td>Just opened a new account today.  So far I am ...</td>\n",
       "      <td>1</td>\n",
       "      <td>sZfZGrI592euyacKUcwQYg</td>\n",
       "      <td>55</td>\n",
       "    </tr>\n",
       "    <tr>\n",
       "      <th>1729</th>\n",
       "      <td>-GY2fx-8udXPY8qn2HVBCg</td>\n",
       "      <td>0</td>\n",
       "      <td>2016-08-30</td>\n",
       "      <td>0</td>\n",
       "      <td>yQ6P1_CvM94wMLYw1T0UWA</td>\n",
       "      <td>5</td>\n",
       "      <td>Just opened a new account today.  So far I am ...</td>\n",
       "      <td>1</td>\n",
       "      <td>sZfZGrI592euyacKUcwQYg</td>\n",
       "      <td>55</td>\n",
       "    </tr>\n",
       "    <tr>\n",
       "      <th>754</th>\n",
       "      <td>-LRlx2j9_LB3evsRRcC9MA</td>\n",
       "      <td>0</td>\n",
       "      <td>2017-10-07</td>\n",
       "      <td>0</td>\n",
       "      <td>kUqPsZmWwLIMSstGHhWssA</td>\n",
       "      <td>5</td>\n",
       "      <td>The vet took the time to explain what was poss...</td>\n",
       "      <td>0</td>\n",
       "      <td>VgaYZ7004pTwEDSDWR6u4Q</td>\n",
       "      <td>33</td>\n",
       "    </tr>\n",
       "    <tr>\n",
       "      <th>754</th>\n",
       "      <td>-LRlx2j9_LB3evsRRcC9MA</td>\n",
       "      <td>0</td>\n",
       "      <td>2017-10-07</td>\n",
       "      <td>0</td>\n",
       "      <td>kUqPsZmWwLIMSstGHhWssA</td>\n",
       "      <td>5</td>\n",
       "      <td>The vet took the time to explain what was poss...</td>\n",
       "      <td>0</td>\n",
       "      <td>VgaYZ7004pTwEDSDWR6u4Q</td>\n",
       "      <td>33</td>\n",
       "    </tr>\n",
       "    <tr>\n",
       "      <th>2767</th>\n",
       "      <td>-MKWJZnMjSit406AUKf7Pg</td>\n",
       "      <td>0</td>\n",
       "      <td>2015-01-03</td>\n",
       "      <td>2</td>\n",
       "      <td>rJhrQD3-b9GjTso0dxIkwg</td>\n",
       "      <td>1</td>\n",
       "      <td>Drove 37 miles on a Saturday at 12:30pm for lu...</td>\n",
       "      <td>0</td>\n",
       "      <td>kzP96uX8TUMmmvLtd-I3RQ</td>\n",
       "      <td>18</td>\n",
       "    </tr>\n",
       "    <tr>\n",
       "      <th>...</th>\n",
       "      <td>...</td>\n",
       "      <td>...</td>\n",
       "      <td>...</td>\n",
       "      <td>...</td>\n",
       "      <td>...</td>\n",
       "      <td>...</td>\n",
       "      <td>...</td>\n",
       "      <td>...</td>\n",
       "      <td>...</td>\n",
       "      <td>...</td>\n",
       "    </tr>\n",
       "    <tr>\n",
       "      <th>2193</th>\n",
       "      <td>zKw09ftu1730wEIZBZPoFg</td>\n",
       "      <td>3</td>\n",
       "      <td>2015-01-04</td>\n",
       "      <td>0</td>\n",
       "      <td>JV-yxKxMFp-d0rLDc_2_6w</td>\n",
       "      <td>5</td>\n",
       "      <td>So relaxing combined with the meditation  and ...</td>\n",
       "      <td>5</td>\n",
       "      <td>3mZFkwfa6XV0BBazRTva9w</td>\n",
       "      <td>31</td>\n",
       "    </tr>\n",
       "    <tr>\n",
       "      <th>496</th>\n",
       "      <td>zg5rJfgT4jhzg1d6r2twnA</td>\n",
       "      <td>0</td>\n",
       "      <td>2014-06-21</td>\n",
       "      <td>0</td>\n",
       "      <td>Zbj0HgdN3AT4l-mbH-EfjA</td>\n",
       "      <td>3</td>\n",
       "      <td>Burger week\\r\\n\\r\\n1. Blazing Pineapple Burger...</td>\n",
       "      <td>0</td>\n",
       "      <td>UGW-9bbBEB3eP1o6mWD_WA</td>\n",
       "      <td>62</td>\n",
       "    </tr>\n",
       "    <tr>\n",
       "      <th>496</th>\n",
       "      <td>zg5rJfgT4jhzg1d6r2twnA</td>\n",
       "      <td>0</td>\n",
       "      <td>2014-06-21</td>\n",
       "      <td>0</td>\n",
       "      <td>Zbj0HgdN3AT4l-mbH-EfjA</td>\n",
       "      <td>3</td>\n",
       "      <td>Burger week\\r\\n\\r\\n1. Blazing Pineapple Burger...</td>\n",
       "      <td>0</td>\n",
       "      <td>UGW-9bbBEB3eP1o6mWD_WA</td>\n",
       "      <td>62</td>\n",
       "    </tr>\n",
       "    <tr>\n",
       "      <th>988</th>\n",
       "      <td>ziv21pDfyrgdhlrlNIgDfg</td>\n",
       "      <td>0</td>\n",
       "      <td>2016-08-11</td>\n",
       "      <td>0</td>\n",
       "      <td>fus9odxu9bjE2lSxfwNfdw</td>\n",
       "      <td>5</td>\n",
       "      <td>Get this!!!  Wow Karlo is amazing and best cus...</td>\n",
       "      <td>2</td>\n",
       "      <td>ywjqPgnMrDZKOhA33v92Cw</td>\n",
       "      <td>62</td>\n",
       "    </tr>\n",
       "    <tr>\n",
       "      <th>988</th>\n",
       "      <td>ziv21pDfyrgdhlrlNIgDfg</td>\n",
       "      <td>0</td>\n",
       "      <td>2016-08-11</td>\n",
       "      <td>0</td>\n",
       "      <td>fus9odxu9bjE2lSxfwNfdw</td>\n",
       "      <td>5</td>\n",
       "      <td>Get this!!!  Wow Karlo is amazing and best cus...</td>\n",
       "      <td>2</td>\n",
       "      <td>ywjqPgnMrDZKOhA33v92Cw</td>\n",
       "      <td>62</td>\n",
       "    </tr>\n",
       "  </tbody>\n",
       "</table>\n",
       "<p>666 rows × 10 columns</p>\n",
       "</div>"
      ],
      "text/plain": [
       "                 business_id  cool        date  funny               review_id  \\\n",
       "1729  -GY2fx-8udXPY8qn2HVBCg     0  2016-08-30      0  yQ6P1_CvM94wMLYw1T0UWA   \n",
       "1729  -GY2fx-8udXPY8qn2HVBCg     0  2016-08-30      0  yQ6P1_CvM94wMLYw1T0UWA   \n",
       "754   -LRlx2j9_LB3evsRRcC9MA     0  2017-10-07      0  kUqPsZmWwLIMSstGHhWssA   \n",
       "754   -LRlx2j9_LB3evsRRcC9MA     0  2017-10-07      0  kUqPsZmWwLIMSstGHhWssA   \n",
       "2767  -MKWJZnMjSit406AUKf7Pg     0  2015-01-03      2  rJhrQD3-b9GjTso0dxIkwg   \n",
       "...                      ...   ...         ...    ...                     ...   \n",
       "2193  zKw09ftu1730wEIZBZPoFg     3  2015-01-04      0  JV-yxKxMFp-d0rLDc_2_6w   \n",
       "496   zg5rJfgT4jhzg1d6r2twnA     0  2014-06-21      0  Zbj0HgdN3AT4l-mbH-EfjA   \n",
       "496   zg5rJfgT4jhzg1d6r2twnA     0  2014-06-21      0  Zbj0HgdN3AT4l-mbH-EfjA   \n",
       "988   ziv21pDfyrgdhlrlNIgDfg     0  2016-08-11      0  fus9odxu9bjE2lSxfwNfdw   \n",
       "988   ziv21pDfyrgdhlrlNIgDfg     0  2016-08-11      0  fus9odxu9bjE2lSxfwNfdw   \n",
       "\n",
       "      stars                                               text  useful  \\\n",
       "1729      5  Just opened a new account today.  So far I am ...       1   \n",
       "1729      5  Just opened a new account today.  So far I am ...       1   \n",
       "754       5  The vet took the time to explain what was poss...       0   \n",
       "754       5  The vet took the time to explain what was poss...       0   \n",
       "2767      1  Drove 37 miles on a Saturday at 12:30pm for lu...       0   \n",
       "...     ...                                                ...     ...   \n",
       "2193      5  So relaxing combined with the meditation  and ...       5   \n",
       "496       3  Burger week\\r\\n\\r\\n1. Blazing Pineapple Burger...       0   \n",
       "496       3  Burger week\\r\\n\\r\\n1. Blazing Pineapple Burger...       0   \n",
       "988       5  Get this!!!  Wow Karlo is amazing and best cus...       2   \n",
       "988       5  Get this!!!  Wow Karlo is amazing and best cus...       2   \n",
       "\n",
       "                     user_id  Review_Word_Length  \n",
       "1729  sZfZGrI592euyacKUcwQYg                  55  \n",
       "1729  sZfZGrI592euyacKUcwQYg                  55  \n",
       "754   VgaYZ7004pTwEDSDWR6u4Q                  33  \n",
       "754   VgaYZ7004pTwEDSDWR6u4Q                  33  \n",
       "2767  kzP96uX8TUMmmvLtd-I3RQ                  18  \n",
       "...                      ...                 ...  \n",
       "2193  3mZFkwfa6XV0BBazRTva9w                  31  \n",
       "496   UGW-9bbBEB3eP1o6mWD_WA                  62  \n",
       "496   UGW-9bbBEB3eP1o6mWD_WA                  62  \n",
       "988   ywjqPgnMrDZKOhA33v92Cw                  62  \n",
       "988   ywjqPgnMrDZKOhA33v92Cw                  62  \n",
       "\n",
       "[666 rows x 10 columns]"
      ]
     },
     "execution_count": 7,
     "metadata": {},
     "output_type": "execute_result"
    }
   ],
   "source": [
    "# Use keep=False to keep all duplicates and sort_values to put duplicates next to each other\n",
    "df[df.duplicated(keep=False)].sort_values(by='business_id')"
   ]
  },
  {
   "cell_type": "markdown",
   "metadata": {},
   "source": [
    "### Remove duplicates"
   ]
  },
  {
   "cell_type": "code",
   "execution_count": 8,
   "metadata": {},
   "outputs": [
    {
     "data": {
      "text/plain": [
       "(2277, 10)"
      ]
     },
     "execution_count": 8,
     "metadata": {},
     "output_type": "execute_result"
    }
   ],
   "source": [
    "df = df.drop_duplicates()\n",
    "df.shape # Previously this was (2610, 10), now we have dropped duplicate rows"
   ]
  },
  {
   "cell_type": "markdown",
   "metadata": {},
   "source": [
    "### Recheck for duplicates"
   ]
  },
  {
   "cell_type": "code",
   "execution_count": 10,
   "metadata": {},
   "outputs": [
    {
     "data": {
      "text/plain": [
       "False    2277\n",
       "dtype: int64"
      ]
     },
     "execution_count": 10,
     "metadata": {},
     "output_type": "execute_result"
    }
   ],
   "source": [
    "df.duplicated().value_counts()"
   ]
  },
  {
   "cell_type": "code",
   "execution_count": 11,
   "metadata": {},
   "outputs": [
    {
     "data": {
      "application/vnd.microsoft.datawrangler.viewer.v0+json": {
       "columns": [
        {
         "name": "index",
         "rawType": "int64",
         "type": "integer"
        },
        {
         "name": "business_id",
         "rawType": "object",
         "type": "string"
        },
        {
         "name": "cool",
         "rawType": "int64",
         "type": "integer"
        },
        {
         "name": "date",
         "rawType": "object",
         "type": "string"
        },
        {
         "name": "funny",
         "rawType": "int64",
         "type": "integer"
        },
        {
         "name": "review_id",
         "rawType": "object",
         "type": "string"
        },
        {
         "name": "stars",
         "rawType": "int64",
         "type": "integer"
        },
        {
         "name": "text",
         "rawType": "object",
         "type": "string"
        },
        {
         "name": "useful",
         "rawType": "int64",
         "type": "integer"
        },
        {
         "name": "user_id",
         "rawType": "object",
         "type": "string"
        },
        {
         "name": "Review_Word_Length",
         "rawType": "int64",
         "type": "integer"
        }
       ],
       "conversionMethod": "pd.DataFrame",
       "ref": "eb26f73d-a7f6-42f1-8da3-70b5afb49747",
       "rows": [],
       "shape": {
        "columns": 10,
        "rows": 0
       }
      },
      "text/html": [
       "<div>\n",
       "<style scoped>\n",
       "    .dataframe tbody tr th:only-of-type {\n",
       "        vertical-align: middle;\n",
       "    }\n",
       "\n",
       "    .dataframe tbody tr th {\n",
       "        vertical-align: top;\n",
       "    }\n",
       "\n",
       "    .dataframe thead th {\n",
       "        text-align: right;\n",
       "    }\n",
       "</style>\n",
       "<table border=\"1\" class=\"dataframe\">\n",
       "  <thead>\n",
       "    <tr style=\"text-align: right;\">\n",
       "      <th></th>\n",
       "      <th>business_id</th>\n",
       "      <th>cool</th>\n",
       "      <th>date</th>\n",
       "      <th>funny</th>\n",
       "      <th>review_id</th>\n",
       "      <th>stars</th>\n",
       "      <th>text</th>\n",
       "      <th>useful</th>\n",
       "      <th>user_id</th>\n",
       "      <th>Review_Word_Length</th>\n",
       "    </tr>\n",
       "  </thead>\n",
       "  <tbody>\n",
       "  </tbody>\n",
       "</table>\n",
       "</div>"
      ],
      "text/plain": [
       "Empty DataFrame\n",
       "Columns: [business_id, cool, date, funny, review_id, stars, text, useful, user_id, Review_Word_Length]\n",
       "Index: []"
      ]
     },
     "execution_count": 11,
     "metadata": {},
     "output_type": "execute_result"
    }
   ],
   "source": [
    "# Duplicates should no longer exist\n",
    "df[df.duplicated(keep=False)].sort_values(by='business_id')"
   ]
  },
  {
   "cell_type": "markdown",
   "metadata": {},
   "source": [
    "### Create pivot tables"
   ]
  },
  {
   "cell_type": "code",
   "execution_count": 17,
   "metadata": {},
   "outputs": [
    {
     "data": {
      "application/vnd.microsoft.datawrangler.viewer.v0+json": {
       "columns": [
        {
         "name": "user_id",
         "rawType": "object",
         "type": "string"
        },
        {
         "name": "-050d_XIor1NpCuWkbIVaQ",
         "rawType": "float64",
         "type": "float"
        },
        {
         "name": "-0qht1roIqleKiQkBLDkbw",
         "rawType": "float64",
         "type": "float"
        },
        {
         "name": "-3zffZUHoY8bQjGfPSoBKQ",
         "rawType": "float64",
         "type": "float"
        },
        {
         "name": "-6tvduBzjLI1ISfs3F_qTg",
         "rawType": "float64",
         "type": "float"
        },
        {
         "name": "-9nai28tnoylwViuJVrYEQ",
         "rawType": "float64",
         "type": "float"
        },
        {
         "name": "-C8sSrFqaCxp51pyo-fQLQ",
         "rawType": "float64",
         "type": "float"
        },
        {
         "name": "-Dnh48f029YNugtMKkkI-Q",
         "rawType": "float64",
         "type": "float"
        },
        {
         "name": "-FLnsWAa4AGEW4NgE8Fqew",
         "rawType": "float64",
         "type": "float"
        },
        {
         "name": "-G7MPSNBpxRJmtrJxdwt7A",
         "rawType": "float64",
         "type": "float"
        },
        {
         "name": "-GY2fx-8udXPY8qn2HVBCg",
         "rawType": "float64",
         "type": "float"
        },
        {
         "name": "-Ht7HiGBox8lS1Y8IPjO8g",
         "rawType": "float64",
         "type": "float"
        },
        {
         "name": "-IZvuqxekWEvJqDw308daQ",
         "rawType": "float64",
         "type": "float"
        },
        {
         "name": "-J6FVdY9pSgAdFmmalO-pQ",
         "rawType": "float64",
         "type": "float"
        },
        {
         "name": "-L88B-PrtzwujhLuYc2k_g",
         "rawType": "float64",
         "type": "float"
        },
        {
         "name": "-LRlx2j9_LB3evsRRcC9MA",
         "rawType": "float64",
         "type": "float"
        },
        {
         "name": "-MKWJZnMjSit406AUKf7Pg",
         "rawType": "float64",
         "type": "float"
        },
        {
         "name": "-Nol0FMWThU8s3QflnNEFw",
         "rawType": "float64",
         "type": "float"
        },
        {
         "name": "-O31O2krgdg7quizo3LcCA",
         "rawType": "float64",
         "type": "float"
        },
        {
         "name": "-OSAVEMgZFleSC2Tb6Tcvw",
         "rawType": "float64",
         "type": "float"
        },
        {
         "name": "-PKUAor_Nz_IaNjP_jIwyA",
         "rawType": "float64",
         "type": "float"
        },
        {
         "name": "-PL-4fFYPYrOjnNd0lO4Lg",
         "rawType": "float64",
         "type": "float"
        },
        {
         "name": "-Tq6H24JUsMjZLJBa5YkZg",
         "rawType": "float64",
         "type": "float"
        },
        {
         "name": "-WExTQDca_JdeWd1BjlOTw",
         "rawType": "float64",
         "type": "float"
        },
        {
         "name": "-WfpxcNbp-kgrfOUG6xVvg",
         "rawType": "float64",
         "type": "float"
        },
        {
         "name": "-bMZCfTK7fxFaURynKpBMA",
         "rawType": "float64",
         "type": "float"
        },
        {
         "name": "-eIvRc3aEvufstBumpBTPQ",
         "rawType": "float64",
         "type": "float"
        },
        {
         "name": "-juOL0eJC6kvf5RLEjoPvA",
         "rawType": "float64",
         "type": "float"
        },
        {
         "name": "-lJtyCOTVInWusU9YF120A",
         "rawType": "float64",
         "type": "float"
        },
        {
         "name": "-o082vExIs0VVNSuZmiTQA",
         "rawType": "float64",
         "type": "float"
        },
        {
         "name": "-pe8Y19gDT-na7SuoBuE4w",
         "rawType": "float64",
         "type": "float"
        },
        {
         "name": "-ucQnELMVRIUOi3-Kv5r0Q",
         "rawType": "float64",
         "type": "float"
        },
        {
         "name": "-wUKgQXAMC4H5hiBOgpT6g",
         "rawType": "float64",
         "type": "float"
        },
        {
         "name": "-yApKLEFAvvNyifvpNKWCA",
         "rawType": "float64",
         "type": "float"
        },
        {
         "name": "01fuY2NNscttoTxOYbuZXw",
         "rawType": "float64",
         "type": "float"
        },
        {
         "name": "04u-szAykldu-caSDHQaKA",
         "rawType": "float64",
         "type": "float"
        },
        {
         "name": "06graki4XxJJJp5b8H9aGg",
         "rawType": "float64",
         "type": "float"
        },
        {
         "name": "07F9bkUm3cs83CzGvTi0TA",
         "rawType": "float64",
         "type": "float"
        },
        {
         "name": "09hXjMwfHxWpiOqYj08zwQ",
         "rawType": "float64",
         "type": "float"
        },
        {
         "name": "0AQnRQw34IQW9-1gJkYnMA",
         "rawType": "float64",
         "type": "float"
        },
        {
         "name": "0CB7YB1qRSWLQvMbHw3Fmw",
         "rawType": "float64",
         "type": "float"
        },
        {
         "name": "0CNebFRZI-YGffclhN0dXw",
         "rawType": "float64",
         "type": "float"
        },
        {
         "name": "0Cqkgz8hz8sLYvSkZhBDzQ",
         "rawType": "float64",
         "type": "float"
        },
        {
         "name": "0FUtlsQrJI7LhqDPxLumEw",
         "rawType": "float64",
         "type": "float"
        },
        {
         "name": "0LxAyxAnnCXq3KdLlq-APg",
         "rawType": "float64",
         "type": "float"
        },
        {
         "name": "0QBFtNNj9RIggZGeivcbEg",
         "rawType": "float64",
         "type": "float"
        },
        {
         "name": "0QzCeORfF8EY34UODWRV9A",
         "rawType": "float64",
         "type": "float"
        },
        {
         "name": "0S4WFZJZhVeM3aAqKjLz1w",
         "rawType": "float64",
         "type": "float"
        },
        {
         "name": "0TxkJxQ-inYuVae4xqytRg",
         "rawType": "float64",
         "type": "float"
        },
        {
         "name": "0UlMUHtEDgDMkycBQpoAew",
         "rawType": "float64",
         "type": "float"
        },
        {
         "name": "0WoQQlMXVIDEgI0xNdENKA",
         "rawType": "float64",
         "type": "float"
        },
        {
         "name": "0a2O150ytxrDjDzXNfRWkA",
         "rawType": "float64",
         "type": "float"
        },
        {
         "name": "0bbWKI1lA-bmEeeWOrDmSA",
         "rawType": "float64",
         "type": "float"
        },
        {
         "name": "0cITagiY3ytdRh6shZInxw",
         "rawType": "float64",
         "type": "float"
        },
        {
         "name": "0cpLF0LFQHHRFNlL0iy_Aw",
         "rawType": "float64",
         "type": "float"
        },
        {
         "name": "0dFOy1BeJWuYTyIsi-gAqw",
         "rawType": "float64",
         "type": "float"
        },
        {
         "name": "0gXYLVPNWz0WT8wXQVpS0g",
         "rawType": "float64",
         "type": "float"
        },
        {
         "name": "0k-WPC8TGbdSdl7qKHcRvg",
         "rawType": "float64",
         "type": "float"
        },
        {
         "name": "0rFhC57cPyA6aU0Iz7cVIA",
         "rawType": "float64",
         "type": "float"
        },
        {
         "name": "0vJmCY2P5rc37jSMz7Nz3Q",
         "rawType": "float64",
         "type": "float"
        },
        {
         "name": "0yAJCh0TBZcnZkdZWZ6bVQ",
         "rawType": "float64",
         "type": "float"
        },
        {
         "name": "1-phG1_n-aycybl1r3_spA",
         "rawType": "float64",
         "type": "float"
        },
        {
         "name": "10cbzitPG_MXwUdMfSN2gw",
         "rawType": "float64",
         "type": "float"
        },
        {
         "name": "13fTEZcL7ayGnkDdzaBSNQ",
         "rawType": "float64",
         "type": "float"
        },
        {
         "name": "16-Ne-iDt5HpHWIP9fOmhw",
         "rawType": "float64",
         "type": "float"
        },
        {
         "name": "19VNsxhnPZ11zc0KBauonQ",
         "rawType": "float64",
         "type": "float"
        },
        {
         "name": "1A6wgPpLZ6nW9ekRuBHDpA",
         "rawType": "float64",
         "type": "float"
        },
        {
         "name": "1C7mPT-9mFihyZq8-qLxgw",
         "rawType": "float64",
         "type": "float"
        },
        {
         "name": "1DJNBnnrvdrHcuDgbGlmLQ",
         "rawType": "float64",
         "type": "float"
        },
        {
         "name": "1DP5vHxJzCDbgawv0WC3yA",
         "rawType": "float64",
         "type": "float"
        },
        {
         "name": "1ForN8iXqYZ_dZZcOkvVeA",
         "rawType": "float64",
         "type": "float"
        },
        {
         "name": "1Geg7R5ACFL0oassVziNiQ",
         "rawType": "float64",
         "type": "float"
        },
        {
         "name": "1HnYxHZw2icWQ7-T4AmQ0Q",
         "rawType": "float64",
         "type": "float"
        },
        {
         "name": "1MvR4NJQbHy0i7ME1IoYpw",
         "rawType": "float64",
         "type": "float"
        },
        {
         "name": "1Nq7GxjvEDgAJxBeOjR_9Q",
         "rawType": "float64",
         "type": "float"
        },
        {
         "name": "1RKS8f8p2vwFDoEPz8q5fQ",
         "rawType": "float64",
         "type": "float"
        },
        {
         "name": "1SnYDvrd02FXSXnIgz-9DQ",
         "rawType": "float64",
         "type": "float"
        },
        {
         "name": "1Vn_lex3LGGwuTo-xeJnww",
         "rawType": "float64",
         "type": "float"
        },
        {
         "name": "1W4MuTJiUBJ3Z2TsXz994Q",
         "rawType": "float64",
         "type": "float"
        },
        {
         "name": "1WpnMTyWtLmnGCkAfRPsLA",
         "rawType": "float64",
         "type": "float"
        },
        {
         "name": "1WtUgLhdBdQ39aBvEUbsnw",
         "rawType": "float64",
         "type": "float"
        },
        {
         "name": "1_rqZz1K5Uoq2RvZlINfgA",
         "rawType": "float64",
         "type": "float"
        },
        {
         "name": "1cCh0fuVULWtWhJPr95jIw",
         "rawType": "float64",
         "type": "float"
        },
        {
         "name": "1cmGPtkf173LS4XuFkzADQ",
         "rawType": "float64",
         "type": "float"
        },
        {
         "name": "1d6c6Q2j2jwVzBfX_dLHlg",
         "rawType": "float64",
         "type": "float"
        },
        {
         "name": "1dhPgc7E7IzzpxjHM2LphQ",
         "rawType": "float64",
         "type": "float"
        },
        {
         "name": "1fqRRtxI7mHEXyUE80UMyQ",
         "rawType": "float64",
         "type": "float"
        },
        {
         "name": "1l-6sFjSKgQ7zIlvlX8uiw",
         "rawType": "float64",
         "type": "float"
        },
        {
         "name": "1lLJDy73uBp_I2LJ0B0Fkw",
         "rawType": "float64",
         "type": "float"
        },
        {
         "name": "1p76_EWPbPcTprNrEVw3-g",
         "rawType": "float64",
         "type": "float"
        },
        {
         "name": "1py-uoSzigNPyo5HaTkdTw",
         "rawType": "float64",
         "type": "float"
        },
        {
         "name": "1u4EvujoBP37oEL4SGLpgA",
         "rawType": "float64",
         "type": "float"
        },
        {
         "name": "1uPQTz5XZSWr0ti7kUpaDw",
         "rawType": "float64",
         "type": "float"
        },
        {
         "name": "1vqFEbZ4xUsHAbiHmPzuhw",
         "rawType": "float64",
         "type": "float"
        },
        {
         "name": "1w7J0Ja9SSM3V_zwYTZScQ",
         "rawType": "float64",
         "type": "float"
        },
        {
         "name": "1yBhet37qpki8W0EvOi70g",
         "rawType": "float64",
         "type": "float"
        },
        {
         "name": "1zsM7weLS8fNHomDAqCh4Q",
         "rawType": "float64",
         "type": "float"
        },
        {
         "name": "2-9wu090DJutG_MPUgPWQw",
         "rawType": "float64",
         "type": "float"
        },
        {
         "name": "2-SIryQTQ-3y4sYzNoal8g",
         "rawType": "float64",
         "type": "float"
        },
        {
         "name": "21sGRVR7HEs_t6PdB9tGMw",
         "rawType": "float64",
         "type": "float"
        },
        {
         "name": "24Td_CQH1bonWKff1rt2vg",
         "rawType": "float64",
         "type": "float"
        },
        {
         "name": "272a60ze8sADYRR6GyJ3GA",
         "rawType": "float64",
         "type": "float"
        },
        {
         "name": "277d8SZxXgkaMqImExe5sQ",
         "rawType": "float64",
         "type": "float"
        },
        {
         "name": "28adZ4lsuUeVB2aWzohK9g",
         "rawType": "float64",
         "type": "float"
        },
        {
         "name": "2AcO-aHnBqx94dU2Z4Em2Q",
         "rawType": "float64",
         "type": "float"
        },
        {
         "name": "2CabGE-ZFsKrw5Ke_mNsaw",
         "rawType": "float64",
         "type": "float"
        },
        {
         "name": "2GIuCQJ9vfMY7rERB-SkUA",
         "rawType": "float64",
         "type": "float"
        },
        {
         "name": "2IKkooPTSW4YdrdptyBKbg",
         "rawType": "float64",
         "type": "float"
        },
        {
         "name": "2KWkeOk1KaH50Es_A-8cnA",
         "rawType": "float64",
         "type": "float"
        },
        {
         "name": "2X5I7wY_bqYWOub-q2Ba3Q",
         "rawType": "float64",
         "type": "float"
        },
        {
         "name": "2Z5Shzs1Hn2WpbjguLyHHg",
         "rawType": "float64",
         "type": "float"
        },
        {
         "name": "2ZU3ujOk7cDnIOIRGmBgjg",
         "rawType": "float64",
         "type": "float"
        },
        {
         "name": "2aVQu4wnptrFM_kxDhhPIg",
         "rawType": "float64",
         "type": "float"
        },
        {
         "name": "2a_Hh52GRoC6RBLznYRGMA",
         "rawType": "float64",
         "type": "float"
        },
        {
         "name": "2cxAfdLTS7EdxebbBVGuGw",
         "rawType": "float64",
         "type": "float"
        },
        {
         "name": "2dOS56h2QueEIDAdP9-1TQ",
         "rawType": "float64",
         "type": "float"
        },
        {
         "name": "2ep5qQUYL0mTx5CanTAL2w",
         "rawType": "float64",
         "type": "float"
        },
        {
         "name": "2iLeiQ4OCJVwfodR9egMag",
         "rawType": "float64",
         "type": "float"
        },
        {
         "name": "2ktKjN5z8EcqmUv6EDiDgA",
         "rawType": "float64",
         "type": "float"
        },
        {
         "name": "2mKFNjIEktW2Nl1yV2cj7g",
         "rawType": "float64",
         "type": "float"
        },
        {
         "name": "2mZGnGIMUNRQY3d0hjdAxg",
         "rawType": "float64",
         "type": "float"
        },
        {
         "name": "2oEXQryBIq6uFpbMWt7mAA",
         "rawType": "float64",
         "type": "float"
        },
        {
         "name": "2pMT5SBfn4oGr_Ae1tp8vQ",
         "rawType": "float64",
         "type": "float"
        },
        {
         "name": "2uGqLFmTRq4sDiGtlCg-Jw",
         "rawType": "float64",
         "type": "float"
        },
        {
         "name": "2v2i723WVjWAvkxmGpCWZA",
         "rawType": "float64",
         "type": "float"
        },
        {
         "name": "2vYRUAonMg9HBUDs30NL8g",
         "rawType": "float64",
         "type": "float"
        },
        {
         "name": "2weQS-RnoOBhb1KsHKyoSQ",
         "rawType": "float64",
         "type": "float"
        },
        {
         "name": "2zBCxn7_jHcfxoSjBdHJ3A",
         "rawType": "float64",
         "type": "float"
        },
        {
         "name": "3-0Q3D3lC5hDys3EX0Ai9g",
         "rawType": "float64",
         "type": "float"
        },
        {
         "name": "31cOttU_tML5b6eLLXZfsQ",
         "rawType": "float64",
         "type": "float"
        },
        {
         "name": "33IS-0QBNwRC8cXnHABpbg",
         "rawType": "float64",
         "type": "float"
        },
        {
         "name": "355zerURpj4IMs2no238_A",
         "rawType": "float64",
         "type": "float"
        },
        {
         "name": "35X1ZV9tSEqB__yJEAhuhQ",
         "rawType": "float64",
         "type": "float"
        },
        {
         "name": "37XExTruLjOLqnTERYy8aw",
         "rawType": "float64",
         "type": "float"
        },
        {
         "name": "3BBkhChwKTEx9l83bIl1ng",
         "rawType": "float64",
         "type": "float"
        },
        {
         "name": "3DLSWOjkNgJHkv3Ti-bgLQ",
         "rawType": "float64",
         "type": "float"
        },
        {
         "name": "3DW4YkYL0lBOG6AS9ksFqQ",
         "rawType": "float64",
         "type": "float"
        },
        {
         "name": "3GEEy7RP6e4bT4LAiWFMFQ",
         "rawType": "float64",
         "type": "float"
        },
        {
         "name": "3IQPoS4vdNwHMa5vf3b1og",
         "rawType": "float64",
         "type": "float"
        },
        {
         "name": "3JgHBYltzNEHwpA6h9ekTg",
         "rawType": "float64",
         "type": "float"
        },
        {
         "name": "3Jq5LfJ5fmJ5KmuA6VHmzw",
         "rawType": "float64",
         "type": "float"
        },
        {
         "name": "3Mx4renubPRnjHUw1n2UkA",
         "rawType": "float64",
         "type": "float"
        },
        {
         "name": "3NSeHqI4QrXx8Smw2j662w",
         "rawType": "float64",
         "type": "float"
        },
        {
         "name": "3PekkCkOZD7Pe3Q4owP3Pg",
         "rawType": "float64",
         "type": "float"
        },
        {
         "name": "3VvPKmr-6LXJ7aWlFtp4Yg",
         "rawType": "float64",
         "type": "float"
        },
        {
         "name": "3XtB54REsZ402EkPAN-x7w",
         "rawType": "float64",
         "type": "float"
        },
        {
         "name": "3Z55ll2Rx43I96aozFG3Eg",
         "rawType": "float64",
         "type": "float"
        },
        {
         "name": "3ZHyw0d8mk0HOEP7v4fW1A",
         "rawType": "float64",
         "type": "float"
        },
        {
         "name": "3Zgo3Fi1DayoSkm89NweKA",
         "rawType": "float64",
         "type": "float"
        },
        {
         "name": "3ZvJhWfPxxFvdL8BYz5mKg",
         "rawType": "float64",
         "type": "float"
        },
        {
         "name": "3_QNAH8yVzY0sBPftWyNhQ",
         "rawType": "float64",
         "type": "float"
        },
        {
         "name": "3b-jZX9Ms0U9B2Oy_ZmNMA",
         "rawType": "float64",
         "type": "float"
        },
        {
         "name": "3gdjVkNeUa9piW9H708Aig",
         "rawType": "float64",
         "type": "float"
        },
        {
         "name": "3glVZZh_vyZH1VvPU0307A",
         "rawType": "float64",
         "type": "float"
        },
        {
         "name": "3jy3CXO6gVEat4uB-E2msA",
         "rawType": "float64",
         "type": "float"
        },
        {
         "name": "3k7BxyPCE60d-5GlU8hE0g",
         "rawType": "float64",
         "type": "float"
        },
        {
         "name": "3k9treY8PmsZ42bKmuICgA",
         "rawType": "float64",
         "type": "float"
        },
        {
         "name": "3kdSl5mo9dWC4clrQjEDGg",
         "rawType": "float64",
         "type": "float"
        },
        {
         "name": "3m2XZFVraCiqjgLxHi5MdA",
         "rawType": "float64",
         "type": "float"
        },
        {
         "name": "3nRaWjtgTxoqtpHKJy5u4g",
         "rawType": "float64",
         "type": "float"
        },
        {
         "name": "3p9q6p4PckNOq-oXMiP22A",
         "rawType": "float64",
         "type": "float"
        },
        {
         "name": "3pSUr_cdrphurO6m1HMP9A",
         "rawType": "float64",
         "type": "float"
        },
        {
         "name": "3sEOltqZs1cjRA4Pqkm_AQ",
         "rawType": "float64",
         "type": "float"
        },
        {
         "name": "3sOS8wKatd_Uoa9VEJHhrw",
         "rawType": "float64",
         "type": "float"
        },
        {
         "name": "3wGsvZj5-_YtM-4D4JndDQ",
         "rawType": "float64",
         "type": "float"
        },
        {
         "name": "3xmfT7l3xNH5LK1dLzfvGw",
         "rawType": "float64",
         "type": "float"
        },
        {
         "name": "4-ErDo1ggAg0DWrVwPa-IQ",
         "rawType": "float64",
         "type": "float"
        },
        {
         "name": "409qhf4RF0rlxcuaM576Qg",
         "rawType": "float64",
         "type": "float"
        },
        {
         "name": "45asFhMTFuAUtG_rjPhkkQ",
         "rawType": "float64",
         "type": "float"
        },
        {
         "name": "487ZwV1pjttfx_kdqtIl3Q",
         "rawType": "float64",
         "type": "float"
        },
        {
         "name": "4Af-CW_Dn0LxmcBbs8eA8Q",
         "rawType": "float64",
         "type": "float"
        },
        {
         "name": "4JNXUYY8wbaaDmk3BPzlWw",
         "rawType": "float64",
         "type": "float"
        },
        {
         "name": "4JdoQ95uXy__zoHmPhtdiA",
         "rawType": "float64",
         "type": "float"
        },
        {
         "name": "4KfDcE9iU2isFpoaKeDpgw",
         "rawType": "float64",
         "type": "float"
        },
        {
         "name": "4KmrrhtfnngTVFa2d5LAjg",
         "rawType": "float64",
         "type": "float"
        },
        {
         "name": "4MfcvMRmRCyndMrQ-vgPvg",
         "rawType": "float64",
         "type": "float"
        },
        {
         "name": "4OUGSeQeASZGn9nSb8Ialg",
         "rawType": "float64",
         "type": "float"
        },
        {
         "name": "4Oq-eDBdcm1pR4tO9cQQiQ",
         "rawType": "float64",
         "type": "float"
        },
        {
         "name": "4RfLQ8p6kxZIU-A6_bKG0A",
         "rawType": "float64",
         "type": "float"
        },
        {
         "name": "4Rq2kF6HnqgsoR6819_lbA",
         "rawType": "float64",
         "type": "float"
        },
        {
         "name": "4S358eahT9dfeKpnB1U46Q",
         "rawType": "float64",
         "type": "float"
        },
        {
         "name": "4VHp2gei1bpY68ZzEZE9Bg",
         "rawType": "float64",
         "type": "float"
        },
        {
         "name": "4XGjbI2Ggi-kdgt9eZR83w",
         "rawType": "float64",
         "type": "float"
        },
        {
         "name": "4YKU46PNs-wCi3TAafrRaQ",
         "rawType": "float64",
         "type": "float"
        },
        {
         "name": "4_jgrKQg3g8DvxECZr28uQ",
         "rawType": "float64",
         "type": "float"
        },
        {
         "name": "4aPStPs9-_FgOh3HtoYUXQ",
         "rawType": "float64",
         "type": "float"
        },
        {
         "name": "4bmaBgd-GfVO94K5BlXk-g",
         "rawType": "float64",
         "type": "float"
        },
        {
         "name": "4cuvlrnhnLA9r2TOmwSvfw",
         "rawType": "float64",
         "type": "float"
        },
        {
         "name": "4hu_-khyc-DlOIhTMZcN3w",
         "rawType": "float64",
         "type": "float"
        },
        {
         "name": "4iB4J5fxd8tbYklDAnaD5g",
         "rawType": "float64",
         "type": "float"
        },
        {
         "name": "4iFYsHDzkuf3JjSzhaNd2g",
         "rawType": "float64",
         "type": "float"
        },
        {
         "name": "4ixZ_8A1v-LOZJqdEkpb9g",
         "rawType": "float64",
         "type": "float"
        },
        {
         "name": "4kDLEb1OgE7IrO54lCkn3A",
         "rawType": "float64",
         "type": "float"
        },
        {
         "name": "4mYPOzBokDgz307TW2EIKw",
         "rawType": "float64",
         "type": "float"
        },
        {
         "name": "4mb32UmQULqg7IMck28vog",
         "rawType": "float64",
         "type": "float"
        },
        {
         "name": "4qG3Gh8QyugC1XvoTlmgcQ",
         "rawType": "float64",
         "type": "float"
        },
        {
         "name": "4s_cPDS_AkLP1fXMJPqB2w",
         "rawType": "float64",
         "type": "float"
        },
        {
         "name": "4tWF2w6jP2LNK2xTVNEMFw",
         "rawType": "float64",
         "type": "float"
        },
        {
         "name": "4twpbw7n4DmsLxAm6-sMkg",
         "rawType": "float64",
         "type": "float"
        },
        {
         "name": "50pDd3dmJCb6m9JxBUq7KA",
         "rawType": "float64",
         "type": "float"
        },
        {
         "name": "52sY8-9al5LJi475nNJkyQ",
         "rawType": "float64",
         "type": "float"
        },
        {
         "name": "53BSdnhzcCBfBH_6TgX63Q",
         "rawType": "float64",
         "type": "float"
        },
        {
         "name": "55CXQoIftXybtBZEg0HQfQ",
         "rawType": "float64",
         "type": "float"
        },
        {
         "name": "5AzcNTr0kPAspT_v-TWTIw",
         "rawType": "float64",
         "type": "float"
        },
        {
         "name": "5B2bliw6ZYnFv8VVCdoSDw",
         "rawType": "float64",
         "type": "float"
        },
        {
         "name": "5EMadlOW4sta6CEtJHf9uQ",
         "rawType": "float64",
         "type": "float"
        },
        {
         "name": "5FIOXmUE3qMviX9GafGH-Q",
         "rawType": "float64",
         "type": "float"
        },
        {
         "name": "5Ktv5ZmJI0CN4L0KxDWJvw",
         "rawType": "float64",
         "type": "float"
        },
        {
         "name": "5Lcit9Zt6TF9bmKoFMhF0g",
         "rawType": "float64",
         "type": "float"
        },
        {
         "name": "5N8R7ALESZ30EoAzVJtabw",
         "rawType": "float64",
         "type": "float"
        },
        {
         "name": "5OZS7Sz7oX6XBL7KZE0G1Q",
         "rawType": "float64",
         "type": "float"
        },
        {
         "name": "5PD6FDa_03U6NXrd7E4yGA",
         "rawType": "float64",
         "type": "float"
        },
        {
         "name": "5PO5ZIHIcaTNIiHNoRKDqg",
         "rawType": "float64",
         "type": "float"
        },
        {
         "name": "5REYrZfsX3m4E3FTwovp5Q",
         "rawType": "float64",
         "type": "float"
        },
        {
         "name": "5VXsbrqyJx0a4iaa43RNFA",
         "rawType": "float64",
         "type": "float"
        },
        {
         "name": "5WJvFVmBZXeSPXB4IjZ_Ig",
         "rawType": "float64",
         "type": "float"
        },
        {
         "name": "5X3dzKWnBdV-KmxdGEPb_Q",
         "rawType": "float64",
         "type": "float"
        },
        {
         "name": "5XYR6doRa5Nj1JMfSDei6A",
         "rawType": "float64",
         "type": "float"
        },
        {
         "name": "5ZxhCmYZV6628c9xVkNywA",
         "rawType": "float64",
         "type": "float"
        },
        {
         "name": "5bcpM0ss6j3AnsOOiOZiig",
         "rawType": "float64",
         "type": "float"
        },
        {
         "name": "5cXym2kMtJgKeaxdF2SrJA",
         "rawType": "float64",
         "type": "float"
        },
        {
         "name": "5euk5_UKqnAWcrbOPNYt0g",
         "rawType": "float64",
         "type": "float"
        },
        {
         "name": "5fM69_oyGPAtrvR7bSGVOg",
         "rawType": "float64",
         "type": "float"
        },
        {
         "name": "5iSlHNIy3RLbCP5AayB31g",
         "rawType": "float64",
         "type": "float"
        },
        {
         "name": "5jXwI9WpDxGDmzmkmE0RTg",
         "rawType": "float64",
         "type": "float"
        },
        {
         "name": "5ma1OUQWy_Ds80xUiP7JPQ",
         "rawType": "float64",
         "type": "float"
        },
        {
         "name": "5mmF-H_4emxvultbneKFWQ",
         "rawType": "float64",
         "type": "float"
        },
        {
         "name": "5nRJg6TN0k4AIh1NcCWiYA",
         "rawType": "float64",
         "type": "float"
        },
        {
         "name": "5nie8WoCB-MpEYT5uE6t4A",
         "rawType": "float64",
         "type": "float"
        },
        {
         "name": "5o6qOFzZ4NrJ6bJ39ohCtA",
         "rawType": "float64",
         "type": "float"
        },
        {
         "name": "5oVIydJLDwm9chThPU6zIA",
         "rawType": "float64",
         "type": "float"
        },
        {
         "name": "5qAnki509wBtMeabE3jUHA",
         "rawType": "float64",
         "type": "float"
        },
        {
         "name": "5shgJB7a-2_gdnzc0gsOtg",
         "rawType": "float64",
         "type": "float"
        },
        {
         "name": "5uMby-2z4xIFBQjgTLCYdg",
         "rawType": "float64",
         "type": "float"
        },
        {
         "name": "5uUACWfCXMLjuL41O-v4aw",
         "rawType": "float64",
         "type": "float"
        },
        {
         "name": "5wTs_RnU7XE_S2uw20kU9A",
         "rawType": "float64",
         "type": "float"
        },
        {
         "name": "5wfEgNqbyOSb9agPkors9w",
         "rawType": "float64",
         "type": "float"
        },
        {
         "name": "60N91qkHqdFCsyUMd_qVLA",
         "rawType": "float64",
         "type": "float"
        },
        {
         "name": "61Gcb01LdGskyOidVSAmWg",
         "rawType": "float64",
         "type": "float"
        },
        {
         "name": "61qDFkNrHKzyA9n3dlgcEw",
         "rawType": "float64",
         "type": "float"
        },
        {
         "name": "64A4CTvJ2uRQVPkJ5E91ag",
         "rawType": "float64",
         "type": "float"
        },
        {
         "name": "68O4uYCd0YToLOLqHTBSZQ",
         "rawType": "float64",
         "type": "float"
        },
        {
         "name": "69Gyhl3O04NG6DGAoZ6t4Q",
         "rawType": "float64",
         "type": "float"
        },
        {
         "name": "6ANVuBMmpkXpFd5Hzkn4_Q",
         "rawType": "float64",
         "type": "float"
        },
        {
         "name": "6CcXCWwwnp_NYQm5ya3wAw",
         "rawType": "float64",
         "type": "float"
        },
        {
         "name": "6HdzmAatFoB8UDep4n9QIw",
         "rawType": "float64",
         "type": "float"
        },
        {
         "name": "6NwkKX8VvN3Nnn-ANISBrQ",
         "rawType": "float64",
         "type": "float"
        },
        {
         "name": "6OkjUz-I552moryf3qN1Gg",
         "rawType": "float64",
         "type": "float"
        },
        {
         "name": "6P-JmU0VW-qhYq7It1wowg",
         "rawType": "float64",
         "type": "float"
        },
        {
         "name": "6PwKC0dqP9uI85FEP86iPQ",
         "rawType": "float64",
         "type": "float"
        },
        {
         "name": "6Qn4YU7DKtp2S9IL9Rr0-A",
         "rawType": "float64",
         "type": "float"
        },
        {
         "name": "6Rrlg6hnM0ir7ijhKG2ybA",
         "rawType": "float64",
         "type": "float"
        },
        {
         "name": "6WDJklLMMCAYzrCNNKqCjA",
         "rawType": "float64",
         "type": "float"
        },
        {
         "name": "6YGQcH6v5ndd-Q4ovVRLDQ",
         "rawType": "float64",
         "type": "float"
        },
        {
         "name": "6YrmJ_pxLSTabcM_FFZhlQ",
         "rawType": "float64",
         "type": "float"
        },
        {
         "name": "6Z6IyosSMciZtwk8hRLRag",
         "rawType": "float64",
         "type": "float"
        },
        {
         "name": "6cYgq6_kSOa2SgXrjyaLZg",
         "rawType": "float64",
         "type": "float"
        },
        {
         "name": "6d7aOsiinhme6BB7s2QmZQ",
         "rawType": "float64",
         "type": "float"
        },
        {
         "name": "6i85_hLuAdymNIy01LLl0g",
         "rawType": "float64",
         "type": "float"
        },
        {
         "name": "6iP8XodmOHZIlx2GF2C6OA",
         "rawType": "float64",
         "type": "float"
        },
        {
         "name": "6lgRm13PvA6iMGc7PmqK9Q",
         "rawType": "float64",
         "type": "float"
        },
        {
         "name": "6md5a6HzI8oKkBTaOecygg",
         "rawType": "float64",
         "type": "float"
        },
        {
         "name": "6nbPXEjmBnDtsgM_YNwGjw",
         "rawType": "float64",
         "type": "float"
        },
        {
         "name": "6nrmLizifFSiPhNgfUCn2w",
         "rawType": "float64",
         "type": "float"
        },
        {
         "name": "6o9Y55T6uJndAfl4QHsKdw",
         "rawType": "float64",
         "type": "float"
        },
        {
         "name": "6pegVJW1Y8QahUZH7TCGFg",
         "rawType": "float64",
         "type": "float"
        },
        {
         "name": "6qDRqHWqf0EeHupSUEBfKg",
         "rawType": "float64",
         "type": "float"
        },
        {
         "name": "6qJPWV34kpdC8TUWEZvWOQ",
         "rawType": "float64",
         "type": "float"
        },
        {
         "name": "6qR6CmHQrheE0fWRhAhbVg",
         "rawType": "float64",
         "type": "float"
        },
        {
         "name": "6r0r0cJSLvh2BDir8TaxPw",
         "rawType": "float64",
         "type": "float"
        },
        {
         "name": "6tLL1P8k9drb7MJEVwmRhg",
         "rawType": "float64",
         "type": "float"
        },
        {
         "name": "6tSvz_21BMo3a4GaItwa0g",
         "rawType": "float64",
         "type": "float"
        },
        {
         "name": "6u-x45q0ETB7SQTAAuKSHw",
         "rawType": "float64",
         "type": "float"
        },
        {
         "name": "6xgcHeLad-VaoTIQewK84A",
         "rawType": "float64",
         "type": "float"
        },
        {
         "name": "6z3cgIE9dJ01wUm43f0yBQ",
         "rawType": "float64",
         "type": "float"
        },
        {
         "name": "70umoFq_Wa24Nr78UOsilQ",
         "rawType": "float64",
         "type": "float"
        },
        {
         "name": "755yRLsWBQFh2fdaIfKy1A",
         "rawType": "float64",
         "type": "float"
        },
        {
         "name": "75gUQWJM6KksjJW7aHPsBQ",
         "rawType": "float64",
         "type": "float"
        },
        {
         "name": "75h1zQoWi_D7SMHIIYpeMQ",
         "rawType": "float64",
         "type": "float"
        },
        {
         "name": "769NudnrUxWFtJCGU66A_A",
         "rawType": "float64",
         "type": "float"
        },
        {
         "name": "7A9HrrfVdLVlQwR-kAIjUA",
         "rawType": "float64",
         "type": "float"
        },
        {
         "name": "7ALNJcSA_GRpznrDOtaOtg",
         "rawType": "float64",
         "type": "float"
        },
        {
         "name": "7AlULGZI1pHt0imODsqdkg",
         "rawType": "float64",
         "type": "float"
        },
        {
         "name": "7KkgMcbVaetryW1wwpzvvA",
         "rawType": "float64",
         "type": "float"
        },
        {
         "name": "7LLU_dpe7iN97nJzYmTvjQ",
         "rawType": "float64",
         "type": "float"
        },
        {
         "name": "7Ny2GHLw8xl_kXfhfrvh5w",
         "rawType": "float64",
         "type": "float"
        },
        {
         "name": "7Tp53xZh1ypd2wbudP6Qcw",
         "rawType": "float64",
         "type": "float"
        },
        {
         "name": "7UCj5fj-aETTn3johW1LRw",
         "rawType": "float64",
         "type": "float"
        },
        {
         "name": "7UFDAX4wLi6ux5otguYldA",
         "rawType": "float64",
         "type": "float"
        },
        {
         "name": "7Us3dn3v9o2xMSXA6qztLg",
         "rawType": "float64",
         "type": "float"
        },
        {
         "name": "7VMQOcu_ZitkulsDsvegZw",
         "rawType": "float64",
         "type": "float"
        },
        {
         "name": "7XTGtaKjANmZqp2QtN_iPA",
         "rawType": "float64",
         "type": "float"
        },
        {
         "name": "7YYrZ9LgjpKLTtF-huhJug",
         "rawType": "float64",
         "type": "float"
        },
        {
         "name": "7ZAQHYwS4SlY2nDkQF54tQ",
         "rawType": "float64",
         "type": "float"
        },
        {
         "name": "7_c4d9BrjIjg3uv7Z_MmnQ",
         "rawType": "float64",
         "type": "float"
        },
        {
         "name": "7cnz3nRaVuwHLVTTaV5-PA",
         "rawType": "float64",
         "type": "float"
        },
        {
         "name": "7eSbvHOOpRmEwywDOclevQ",
         "rawType": "float64",
         "type": "float"
        },
        {
         "name": "7h08ecPN5bcW1Gp6UQZxNQ",
         "rawType": "float64",
         "type": "float"
        },
        {
         "name": "7ibuDLfx8gEhESAufYIySw",
         "rawType": "float64",
         "type": "float"
        },
        {
         "name": "7iy93pe0oKz0KLLh8zNKFA",
         "rawType": "float64",
         "type": "float"
        },
        {
         "name": "7m1Oa1VYV98UUuo_6i0EZg",
         "rawType": "float64",
         "type": "float"
        },
        {
         "name": "7mGZrCzGGjS95SdRtEaGcQ",
         "rawType": "float64",
         "type": "float"
        },
        {
         "name": "7mOWMhlibS62hedb1m5A3Q",
         "rawType": "float64",
         "type": "float"
        },
        {
         "name": "7nNtjlWDnj0YI80I8gjbdQ",
         "rawType": "float64",
         "type": "float"
        },
        {
         "name": "7o61DDMJ1noIlDbjY-McEA",
         "rawType": "float64",
         "type": "float"
        },
        {
         "name": "7pGWy3mR7gjMSE6x2njqPA",
         "rawType": "float64",
         "type": "float"
        },
        {
         "name": "7rHrKkouOYatJycqbobGOA",
         "rawType": "float64",
         "type": "float"
        },
        {
         "name": "7sPNbCx7vGAaH7SbNPZ6oA",
         "rawType": "float64",
         "type": "float"
        },
        {
         "name": "7siEeRGqAJ730IkwAtcWAQ",
         "rawType": "float64",
         "type": "float"
        },
        {
         "name": "7t8mhKYTGuyiU2X65w0fLA",
         "rawType": "float64",
         "type": "float"
        },
        {
         "name": "7tD2x6ElqZssMSCPhZu5uA",
         "rawType": "float64",
         "type": "float"
        },
        {
         "name": "7v91woy8IpLrqXsRvxj_vw",
         "rawType": "float64",
         "type": "float"
        },
        {
         "name": "7xn6RDKmCanq2C8Fn-FNgg",
         "rawType": "float64",
         "type": "float"
        },
        {
         "name": "7yIHC8KsR5OaE_7MgEBVhw",
         "rawType": "float64",
         "type": "float"
        },
        {
         "name": "7yYexN1Q5ShE_z1MH2TDTw",
         "rawType": "float64",
         "type": "float"
        },
        {
         "name": "8-Ht3meyFzpGqJ0j2x-8Wg",
         "rawType": "float64",
         "type": "float"
        },
        {
         "name": "8-_jXGGDFPFAPB4r1x-81w",
         "rawType": "float64",
         "type": "float"
        },
        {
         "name": "806kkDGaRCJ4lZLRcEf-iw",
         "rawType": "float64",
         "type": "float"
        },
        {
         "name": "80H8EnyShhq6_ZENH7aV3A",
         "rawType": "float64",
         "type": "float"
        },
        {
         "name": "82XiVba4oiPXvLKelbW6FQ",
         "rawType": "float64",
         "type": "float"
        },
        {
         "name": "834GwOgJpBTg8j5dWe-hrg",
         "rawType": "float64",
         "type": "float"
        },
        {
         "name": "83WxQY0j17oZBleXUIBeAQ",
         "rawType": "float64",
         "type": "float"
        },
        {
         "name": "8AWnAA7aUk8OO5oLz8yvQQ",
         "rawType": "float64",
         "type": "float"
        },
        {
         "name": "8MSzI-4KJHpGBLiILkrtVg",
         "rawType": "float64",
         "type": "float"
        },
        {
         "name": "8MdS6jgVymIfV0C2yv_IGA",
         "rawType": "float64",
         "type": "float"
        },
        {
         "name": "8Sx63K4KRZ0vGaUfZGqxZw",
         "rawType": "float64",
         "type": "float"
        },
        {
         "name": "8WBHKj2davW6hhZWlUQ7DA",
         "rawType": "float64",
         "type": "float"
        },
        {
         "name": "8XZ4X5WUyM1sWscObramwQ",
         "rawType": "float64",
         "type": "float"
        },
        {
         "name": "8XoDXN2DKmQGJHZhkQbJ9A",
         "rawType": "float64",
         "type": "float"
        },
        {
         "name": "8Y5p2IQMLX6QjGPzxanexg",
         "rawType": "float64",
         "type": "float"
        },
        {
         "name": "8b5ll2kjXfjgFIqWsjkr8Q",
         "rawType": "float64",
         "type": "float"
        },
        {
         "name": "8e1drk0-pBwSYsy8te5oMQ",
         "rawType": "float64",
         "type": "float"
        },
        {
         "name": "8eSmXnZG0N1GRsqiFeU9uA",
         "rawType": "float64",
         "type": "float"
        },
        {
         "name": "8g3u6g7J93nIOF8owARxew",
         "rawType": "float64",
         "type": "float"
        },
        {
         "name": "8gPvDLHY6D7NjJxpikUc6Q",
         "rawType": "float64",
         "type": "float"
        },
        {
         "name": "8iGWR3bEYUUBOjIJRngyOQ",
         "rawType": "float64",
         "type": "float"
        },
        {
         "name": "8iKrvvY-GqNrh2UOjor-Iw",
         "rawType": "float64",
         "type": "float"
        },
        {
         "name": "8jHLEXfoy3Q9TdvJYvtWvg",
         "rawType": "float64",
         "type": "float"
        },
        {
         "name": "8jLZiv202Cfx_RbTuPOwxQ",
         "rawType": "float64",
         "type": "float"
        },
        {
         "name": "8keN8Z2sylAEXgMCJMQpDg",
         "rawType": "float64",
         "type": "float"
        },
        {
         "name": "8m1-8UjuWYDyQ5vgKiTdyw",
         "rawType": "float64",
         "type": "float"
        },
        {
         "name": "8nFcofQcOdXf9dG6YF8RGg",
         "rawType": "float64",
         "type": "float"
        },
        {
         "name": "8njSaIveQDfTFnEgYWm3Fg",
         "rawType": "float64",
         "type": "float"
        },
        {
         "name": "8qNOI6Q1-rJrvWWD5Btz6w",
         "rawType": "float64",
         "type": "float"
        },
        {
         "name": "8xsuDn0EjpyFFBjdckkNHQ",
         "rawType": "float64",
         "type": "float"
        },
        {
         "name": "8zN3nV0zbtE377_XhlvabA",
         "rawType": "float64",
         "type": "float"
        },
        {
         "name": "93ZfzaU2Y3FDSW4-4EGvoA",
         "rawType": "float64",
         "type": "float"
        },
        {
         "name": "93ncJl30FNA5a1sIEffWwA",
         "rawType": "float64",
         "type": "float"
        },
        {
         "name": "97--r-a3_J8qo-ajRiU9wg",
         "rawType": "float64",
         "type": "float"
        },
        {
         "name": "973nneT7EUq8p2JU5bQjsQ",
         "rawType": "float64",
         "type": "float"
        },
        {
         "name": "9Bg2JLQdyf97KlNuRQ56HA",
         "rawType": "float64",
         "type": "float"
        },
        {
         "name": "9EWqMUCkQNfRUELiIEA8Iw",
         "rawType": "float64",
         "type": "float"
        },
        {
         "name": "9GPTELAPPpT5vUxad9AoCw",
         "rawType": "float64",
         "type": "float"
        },
        {
         "name": "9MnbQg7kfb_WgxoV0hXKSQ",
         "rawType": "float64",
         "type": "float"
        },
        {
         "name": "9NBkIExYYz3w9O5JdzDOMA",
         "rawType": "float64",
         "type": "float"
        },
        {
         "name": "9RHaeLIbJ3NFzrJI8RaZqQ",
         "rawType": "float64",
         "type": "float"
        },
        {
         "name": "9SvAcGdswHs88kA6HHaC-w",
         "rawType": "float64",
         "type": "float"
        },
        {
         "name": "9VBn6MsdNri2At1VxORHeA",
         "rawType": "float64",
         "type": "float"
        },
        {
         "name": "9WOyQM8u3lMfmQiACpW5pQ",
         "rawType": "float64",
         "type": "float"
        },
        {
         "name": "9Zhiktm7_LYN_uxaT9XEhg",
         "rawType": "float64",
         "type": "float"
        },
        {
         "name": "9_JYDL4Ni1tQhnWl01tFNw",
         "rawType": "float64",
         "type": "float"
        },
        {
         "name": "9_onoqwv9ZdItxc8OlUKAg",
         "rawType": "float64",
         "type": "float"
        },
        {
         "name": "9a3DrZvpYxVs3k_qwlCNSw",
         "rawType": "float64",
         "type": "float"
        },
        {
         "name": "9ba2odSWsMCDqTogoqGcqQ",
         "rawType": "float64",
         "type": "float"
        },
        {
         "name": "9iujAdopmNdLzjejKROD5Q",
         "rawType": "float64",
         "type": "float"
        },
        {
         "name": "9jm72na8vEqA3slrz3L2Dw",
         "rawType": "float64",
         "type": "float"
        },
        {
         "name": "9kk5C_BW7rdBwtCJiSiBtw",
         "rawType": "float64",
         "type": "float"
        },
        {
         "name": "9mLpkJISzg5G1ImVqqe2QA",
         "rawType": "float64",
         "type": "float"
        },
        {
         "name": "9nlQLMA8W08dFAkXFSQOyA",
         "rawType": "float64",
         "type": "float"
        },
        {
         "name": "9oyYmCv9HuVRa1lZUE86sw",
         "rawType": "float64",
         "type": "float"
        },
        {
         "name": "9prl00viUUFrEcPIpXZDOw",
         "rawType": "float64",
         "type": "float"
        },
        {
         "name": "9qcTpWYxrZrN13p1zAP6dA",
         "rawType": "float64",
         "type": "float"
        },
        {
         "name": "9tKSEjLCJowSkxze0NiFig",
         "rawType": "float64",
         "type": "float"
        },
        {
         "name": "9tLCuUmw3Tlco-tKPGkIWQ",
         "rawType": "float64",
         "type": "float"
        },
        {
         "name": "9t_8diw5-AlHwpRdZAP22w",
         "rawType": "float64",
         "type": "float"
        },
        {
         "name": "9v9cMGBpUm_IzTuPfXXEOw",
         "rawType": "float64",
         "type": "float"
        },
        {
         "name": "9vG7UBYjYLDNb3VS1EZqEw",
         "rawType": "float64",
         "type": "float"
        },
        {
         "name": "9yESUcIVarhYEabIMj844Q",
         "rawType": "float64",
         "type": "float"
        },
        {
         "name": "9yaFehP2nI9XBQg4t1Ztag",
         "rawType": "float64",
         "type": "float"
        },
        {
         "name": "9z1T2lgmirOxrTpFh9ellw",
         "rawType": "float64",
         "type": "float"
        },
        {
         "name": "9zqrKGYRdt1_lZZT5FWf2g",
         "rawType": "float64",
         "type": "float"
        },
        {
         "name": "A-KVm7iKLOe1X1yAQP13FA",
         "rawType": "float64",
         "type": "float"
        },
        {
         "name": "A-UPVDNls_vYHwj1zWJBZA",
         "rawType": "float64",
         "type": "float"
        },
        {
         "name": "A26hK0LDXOyRaIbDdbel9g",
         "rawType": "float64",
         "type": "float"
        },
        {
         "name": "A2pHOVp0zh7grb1bbZxoBQ",
         "rawType": "float64",
         "type": "float"
        },
        {
         "name": "A2pJexRMOpkSE8Tq68ZVbQ",
         "rawType": "float64",
         "type": "float"
        },
        {
         "name": "A5Rkh7UymKm0_Rxm9K2PJw",
         "rawType": "float64",
         "type": "float"
        },
        {
         "name": "A7LPS3Vk7ORNe3dMQbvsmw",
         "rawType": "float64",
         "type": "float"
        },
        {
         "name": "A8UtlAQem2hPDe-UfsvndQ",
         "rawType": "float64",
         "type": "float"
        },
        {
         "name": "ABJjxuO6oh5D9R48-eAUdQ",
         "rawType": "float64",
         "type": "float"
        },
        {
         "name": "AF-N6i0XCJRPFFOZKp1Pnw",
         "rawType": "float64",
         "type": "float"
        },
        {
         "name": "AJ8DDFm6QaihAPZI3wFBHw",
         "rawType": "float64",
         "type": "float"
        },
        {
         "name": "AJWrjfJ0GcR5ar2oU4gbow",
         "rawType": "float64",
         "type": "float"
        },
        {
         "name": "AKwn9oWzFwm4TNYzVY08DA",
         "rawType": "float64",
         "type": "float"
        },
        {
         "name": "AM0NHSxMeX92OKBt0ywmSA",
         "rawType": "float64",
         "type": "float"
        },
        {
         "name": "ARX3uG3nLraOzkQYEdHzcg",
         "rawType": "float64",
         "type": "float"
        },
        {
         "name": "ATKC7O3KXK-CXVG5P0fkiA",
         "rawType": "float64",
         "type": "float"
        },
        {
         "name": "AV6weBrZFFBfRGCbcRGO4g",
         "rawType": "float64",
         "type": "float"
        },
        {
         "name": "AVLj5MSJD1si-Rl6X6qTXQ",
         "rawType": "float64",
         "type": "float"
        },
        {
         "name": "AVv1l2mFjvcuWPss2EDedw",
         "rawType": "float64",
         "type": "float"
        },
        {
         "name": "AdtaU4YPa5ejSsepQHfkQA",
         "rawType": "float64",
         "type": "float"
        },
        {
         "name": "Ae4ABFarGMaI5lk1i98A0w",
         "rawType": "float64",
         "type": "float"
        },
        {
         "name": "AgumeejSSVoJ0Bdr5Iguww",
         "rawType": "float64",
         "type": "float"
        },
        {
         "name": "AjWFFZN8KwyqJzzi0DyEsw",
         "rawType": "float64",
         "type": "float"
        },
        {
         "name": "Akhq4AKxKRDPa6BHpiSEVQ",
         "rawType": "float64",
         "type": "float"
        },
        {
         "name": "AmrUWxq17Ct5VhG0Czx-FA",
         "rawType": "float64",
         "type": "float"
        },
        {
         "name": "ApAzthiFRKuL-yJo1HMFvQ",
         "rawType": "float64",
         "type": "float"
        },
        {
         "name": "ArzvTos0EuwOrrtEILUDcQ",
         "rawType": "float64",
         "type": "float"
        },
        {
         "name": "AsLqWQH86sie035iDtQPOA",
         "rawType": "float64",
         "type": "float"
        },
        {
         "name": "At2bqa8emnEr5WNIosi0ow",
         "rawType": "float64",
         "type": "float"
        },
        {
         "name": "AtbXj3Rg1GF6Dj5zu6KCDg",
         "rawType": "float64",
         "type": "float"
        },
        {
         "name": "AtraBpfwzuom-yBGPTQeMg",
         "rawType": "float64",
         "type": "float"
        },
        {
         "name": "Au-eSvWd3NTk89J1o_0B5g",
         "rawType": "float64",
         "type": "float"
        },
        {
         "name": "AuLTXW451BdZubhPe5wo_w",
         "rawType": "float64",
         "type": "float"
        },
        {
         "name": "Auy2w1PNycTomFXMwdC6Zw",
         "rawType": "float64",
         "type": "float"
        },
        {
         "name": "Ay34xZOFax3X23zaA3nwdg",
         "rawType": "float64",
         "type": "float"
        },
        {
         "name": "B1imfnKRvcotaYacPGUrLQ",
         "rawType": "float64",
         "type": "float"
        },
        {
         "name": "B32Ghxep_UhiscserSXMSA",
         "rawType": "float64",
         "type": "float"
        },
        {
         "name": "B3UsjglAAC5NvTmGfpO7RA",
         "rawType": "float64",
         "type": "float"
        },
        {
         "name": "B5E_Qp3R1q0oRlzbYaWIkQ",
         "rawType": "float64",
         "type": "float"
        },
        {
         "name": "B5JCODx4728Ce2Qca1NFHw",
         "rawType": "float64",
         "type": "float"
        },
        {
         "name": "B6xVgae6x4Xm5wVNrxaHiw",
         "rawType": "float64",
         "type": "float"
        },
        {
         "name": "B70iTJjcPkuYn8ouUewWgw",
         "rawType": "float64",
         "type": "float"
        },
        {
         "name": "B7a5Gknl7QAYKLCV33w6IQ",
         "rawType": "float64",
         "type": "float"
        },
        {
         "name": "B8zMmUlCIX7Ts8VSgy9B-A",
         "rawType": "float64",
         "type": "float"
        },
        {
         "name": "B9To2QK1qbHKGSMDh6IrjA",
         "rawType": "float64",
         "type": "float"
        },
        {
         "name": "BBkQ99cFPNJ5op-7IVqWNA",
         "rawType": "float64",
         "type": "float"
        },
        {
         "name": "BEplfZTUzYwApjMUaOA12w",
         "rawType": "float64",
         "type": "float"
        },
        {
         "name": "BGGQOJQTQerEQu0kHbT_UQ",
         "rawType": "float64",
         "type": "float"
        },
        {
         "name": "BJLhJdmhUxV95BHAxZluzA",
         "rawType": "float64",
         "type": "float"
        },
        {
         "name": "BKbh-45X41-ZDMsOEawR9A",
         "rawType": "float64",
         "type": "float"
        },
        {
         "name": "BLIJ-p5wYuAhw6Pp6mh6mw",
         "rawType": "float64",
         "type": "float"
        },
        {
         "name": "BLp6atZ7ydioAIVkKlmAGg",
         "rawType": "float64",
         "type": "float"
        },
        {
         "name": "BLwopwKT4lr50nAo1G0DAA",
         "rawType": "float64",
         "type": "float"
        },
        {
         "name": "BNtQD_aXWOA_Ip99grNMLw",
         "rawType": "float64",
         "type": "float"
        },
        {
         "name": "BNzcfz3jmBo_1wUB5YIsXg",
         "rawType": "float64",
         "type": "float"
        },
        {
         "name": "BPyopyEntbl4obte91gNrQ",
         "rawType": "float64",
         "type": "float"
        },
        {
         "name": "BTcY04QFiS1uh-RpkR7rAg",
         "rawType": "float64",
         "type": "float"
        },
        {
         "name": "BToSTEiaK94G3h5_XROEcA",
         "rawType": "float64",
         "type": "float"
        },
        {
         "name": "BX4HheOcR7sdGLvFrBXy2A",
         "rawType": "float64",
         "type": "float"
        },
        {
         "name": "BXSKs02psOB24y9c0OGTvA",
         "rawType": "float64",
         "type": "float"
        },
        {
         "name": "BXg7KQWfxNF5774IU02rEw",
         "rawType": "float64",
         "type": "float"
        },
        {
         "name": "BZtmcWxwJp8z0EKoQ4awyg",
         "rawType": "float64",
         "type": "float"
        },
        {
         "name": "BbH_waWdlUMjiEr__lTAIQ",
         "rawType": "float64",
         "type": "float"
        },
        {
         "name": "Bdpol3l4pXm9FPfHaBqtbg",
         "rawType": "float64",
         "type": "float"
        },
        {
         "name": "BeRtYRSfyZgL1MWgcEx_IQ",
         "rawType": "float64",
         "type": "float"
        },
        {
         "name": "BjbokieOGk2CCq2t8wV6MA",
         "rawType": "float64",
         "type": "float"
        },
        {
         "name": "Bk3yUv6mJqSCTbyFNbgeSw",
         "rawType": "float64",
         "type": "float"
        },
        {
         "name": "BkIZ8UDA23qxnp_kR1Sv8Q",
         "rawType": "float64",
         "type": "float"
        },
        {
         "name": "BmgfYQ3tpRKnT9H9WvjL_g",
         "rawType": "float64",
         "type": "float"
        },
        {
         "name": "BqHX49ixrSuPoMaZ9Lzz1g",
         "rawType": "float64",
         "type": "float"
        },
        {
         "name": "BslEhCyzaQPfpHtDogb4hQ",
         "rawType": "float64",
         "type": "float"
        },
        {
         "name": "BxkVct02QHybp54ATZgkUQ",
         "rawType": "float64",
         "type": "float"
        },
        {
         "name": "By2DQwaG2EiOxsuHnS8FoA",
         "rawType": "float64",
         "type": "float"
        },
        {
         "name": "ByFMv3p5X1aNeZhU61rDcA",
         "rawType": "float64",
         "type": "float"
        },
        {
         "name": "C0IedQWlNKf4tCYWWZJ36A",
         "rawType": "float64",
         "type": "float"
        },
        {
         "name": "C2zIZ9LRUsYvpbYyuESedA",
         "rawType": "float64",
         "type": "float"
        },
        {
         "name": "C3GUi1zAtJdDBWrPoPZjBQ",
         "rawType": "float64",
         "type": "float"
        },
        {
         "name": "C4gZY6CsTVoF_X_j1Cp1Lg",
         "rawType": "float64",
         "type": "float"
        },
        {
         "name": "C5f0zLJ822I1EvVLplJDcg",
         "rawType": "float64",
         "type": "float"
        },
        {
         "name": "C8D_GU9cDDjbOJfCaGXxDQ",
         "rawType": "float64",
         "type": "float"
        },
        {
         "name": "C8pQz67ragXUlee19tCivA",
         "rawType": "float64",
         "type": "float"
        },
        {
         "name": "C9ImzBi5fn742ZcAYDww2A",
         "rawType": "float64",
         "type": "float"
        },
        {
         "name": "CE05_kJvl0xRloi8fW6R3w",
         "rawType": "float64",
         "type": "float"
        },
        {
         "name": "CFtZH4Skp9z3o4ToSywI4w",
         "rawType": "float64",
         "type": "float"
        },
        {
         "name": "CGPulfOy0zhvrFM8cunP-w",
         "rawType": "float64",
         "type": "float"
        },
        {
         "name": "CHFw_V836nIKpWtqMP4E5g",
         "rawType": "float64",
         "type": "float"
        },
        {
         "name": "CHW_DPKnTqudyRaDa4vwkg",
         "rawType": "float64",
         "type": "float"
        },
        {
         "name": "CJZm1-WJFxNI_HE6P-n8Aw",
         "rawType": "float64",
         "type": "float"
        },
        {
         "name": "CN5nuUQod0f8g3oh99qq0w",
         "rawType": "float64",
         "type": "float"
        },
        {
         "name": "COnqdubhr87gCDJjPGwT6A",
         "rawType": "float64",
         "type": "float"
        },
        {
         "name": "CTwEWgU93Es5Gycjym3GiA",
         "rawType": "float64",
         "type": "float"
        },
        {
         "name": "CVRTly4ag_q5ua0R3iqrVw",
         "rawType": "float64",
         "type": "float"
        },
        {
         "name": "CZY3743GpOOhdDJu6UmPBA",
         "rawType": "float64",
         "type": "float"
        },
        {
         "name": "CZhc8YXdFLhAI4ViC2ERTg",
         "rawType": "float64",
         "type": "float"
        },
        {
         "name": "Cni2l-VKG_pdospJ6xliXQ",
         "rawType": "float64",
         "type": "float"
        },
        {
         "name": "CoGcHxwZNwG3gdMJey_UXQ",
         "rawType": "float64",
         "type": "float"
        },
        {
         "name": "Cp-clhAJs3NJRwXpXk_saw",
         "rawType": "float64",
         "type": "float"
        },
        {
         "name": "CpPJ2UKAxDLwj95-HNFPHg",
         "rawType": "float64",
         "type": "float"
        },
        {
         "name": "Cpb142L849ilMzgiSR4a0w",
         "rawType": "float64",
         "type": "float"
        },
        {
         "name": "CqAfATa4bN_VD5BuY82TRQ",
         "rawType": "float64",
         "type": "float"
        },
        {
         "name": "CqVdLcbyZzfAjeCD1qEBZQ",
         "rawType": "float64",
         "type": "float"
        },
        {
         "name": "Cr4ipI-tr-R8Q0NilkWNkA",
         "rawType": "float64",
         "type": "float"
        },
        {
         "name": "Cr5CLpmVrmzFyz_RfQ6rmA",
         "rawType": "float64",
         "type": "float"
        },
        {
         "name": "Cs8BaiKkyNU6mzxq9nTsmg",
         "rawType": "float64",
         "type": "float"
        },
        {
         "name": "CtI7MMRF-arzGJxA1nJccQ",
         "rawType": "float64",
         "type": "float"
        },
        {
         "name": "CtYCzxaDoVCABoz1drGOGg",
         "rawType": "float64",
         "type": "float"
        },
        {
         "name": "CuT2Xh3vAYvRfxUWlUo6oA",
         "rawType": "float64",
         "type": "float"
        },
        {
         "name": "CxsN79g8rZoouLwZvr_FVg",
         "rawType": "float64",
         "type": "float"
        },
        {
         "name": "CyKi4WgsRNpp3jgsxBEcDg",
         "rawType": "float64",
         "type": "float"
        },
        {
         "name": "CzWTjbjzvTndiiE-wGzsSg",
         "rawType": "float64",
         "type": "float"
        },
        {
         "name": "D-Y4sRmHcpukcgKiiYOicA",
         "rawType": "float64",
         "type": "float"
        },
        {
         "name": "D2ojX9bvE0_-aIj9BhdZZA",
         "rawType": "float64",
         "type": "float"
        },
        {
         "name": "D3dAx-QW_uuClz4MambeHA",
         "rawType": "float64",
         "type": "float"
        },
        {
         "name": "D5cyvit3V5vEFzRXOc1Y4Q",
         "rawType": "float64",
         "type": "float"
        },
        {
         "name": "D5oYTE-sbkV2wurOWOGzjQ",
         "rawType": "float64",
         "type": "float"
        },
        {
         "name": "D7DLb-G0HJis3Ae4iGsVkQ",
         "rawType": "float64",
         "type": "float"
        },
        {
         "name": "D9Y1JQtSbattMvqfGnneow",
         "rawType": "float64",
         "type": "float"
        },
        {
         "name": "DB9BRdu7is0AK1DvcuKlcw",
         "rawType": "float64",
         "type": "float"
        },
        {
         "name": "DDlE4BTZDdbBmoZkIVRuxQ",
         "rawType": "float64",
         "type": "float"
        },
        {
         "name": "DESv2ys6SjBKA4SyDtJvxw",
         "rawType": "float64",
         "type": "float"
        },
        {
         "name": "DFeEJf8h04q3KwRVWUsoMQ",
         "rawType": "float64",
         "type": "float"
        },
        {
         "name": "DHUAQ4pzH9KKzGZDm1jZLg",
         "rawType": "float64",
         "type": "float"
        },
        {
         "name": "DVfCbJhJUDWRlUfrKzaKOA",
         "rawType": "float64",
         "type": "float"
        },
        {
         "name": "DVhSFWIJKk4Vo8fjy_JfcQ",
         "rawType": "float64",
         "type": "float"
        },
        {
         "name": "D_bSeZF8ZcHIl4gRsIwCBg",
         "rawType": "float64",
         "type": "float"
        },
        {
         "name": "DaxEPd4fQNCksMy3xzBraA",
         "rawType": "float64",
         "type": "float"
        },
        {
         "name": "DdrEM9s_OdSyryeFWqr6zg",
         "rawType": "float64",
         "type": "float"
        },
        {
         "name": "De8BJmD7PuIxUggJtDFEXQ",
         "rawType": "float64",
         "type": "float"
        },
        {
         "name": "DgHXVoAZ4XzbcQMahuJCbw",
         "rawType": "float64",
         "type": "float"
        },
        {
         "name": "Dhe_ALaXgp5RY8aW9x5GTg",
         "rawType": "float64",
         "type": "float"
        },
        {
         "name": "DkLkQTDISbGdEZXlVBdLmA",
         "rawType": "float64",
         "type": "float"
        },
        {
         "name": "DkS8Fwy5nsbOUlbU9sITLQ",
         "rawType": "float64",
         "type": "float"
        },
        {
         "name": "DkYS3arLOhA8si5uUEmHOw",
         "rawType": "float64",
         "type": "float"
        },
        {
         "name": "Dkx_UjNhbXB-P0oyKqbTPA",
         "rawType": "float64",
         "type": "float"
        },
        {
         "name": "Dnn7JsdmvJ0_spWu9wo2kg",
         "rawType": "float64",
         "type": "float"
        },
        {
         "name": "Do4n_yK_K6DmR9_Es5qwlA",
         "rawType": "float64",
         "type": "float"
        },
        {
         "name": "Do72DKBclgkSPt6jZ9-c4Q",
         "rawType": "float64",
         "type": "float"
        },
        {
         "name": "Do_mUw9iZARpYx81jsPkRg",
         "rawType": "float64",
         "type": "float"
        },
        {
         "name": "Dv0OHpQSL4hOGl2KAEVvlA",
         "rawType": "float64",
         "type": "float"
        },
        {
         "name": "Dy99p5bWfr6g0UtlmPjDqg",
         "rawType": "float64",
         "type": "float"
        },
        {
         "name": "DyCv2ubxeygyOUWJ4lnewg",
         "rawType": "float64",
         "type": "float"
        },
        {
         "name": "DyYS-JKXlW2PCr_Gt5JOvQ",
         "rawType": "float64",
         "type": "float"
        },
        {
         "name": "E0TK141YMBP0LBknhVKEqw",
         "rawType": "float64",
         "type": "float"
        },
        {
         "name": "E25-2ssHwsajyGtsllMXaA",
         "rawType": "float64",
         "type": "float"
        },
        {
         "name": "E3kx4NIp3Y9QQBeINgS1lw",
         "rawType": "float64",
         "type": "float"
        },
        {
         "name": "E5GnSqLpuPTKCChnZmD7ag",
         "rawType": "float64",
         "type": "float"
        },
        {
         "name": "E9IPxXY6pS2gTW2FBkAJmg",
         "rawType": "float64",
         "type": "float"
        },
        {
         "name": "EAwh1OmG6t6p3nRaZOW_AA",
         "rawType": "float64",
         "type": "float"
        },
        {
         "name": "EDcZRvERC22Cvw1yi4-VKg",
         "rawType": "float64",
         "type": "float"
        },
        {
         "name": "EEucpi6TIZQNrXw3-opSEA",
         "rawType": "float64",
         "type": "float"
        },
        {
         "name": "EFSrUiPzbKgQd73xru73MQ",
         "rawType": "float64",
         "type": "float"
        },
        {
         "name": "EFq1p7Nm1SkCqT2RQWI67A",
         "rawType": "float64",
         "type": "float"
        },
        {
         "name": "EH86fhZPCGGpUC_mesjvcA",
         "rawType": "float64",
         "type": "float"
        },
        {
         "name": "ESzO3Av0b1_TzKOiqzbQYQ",
         "rawType": "float64",
         "type": "float"
        },
        {
         "name": "EUQoB_ph7_xIyj7JZGI3bg",
         "rawType": "float64",
         "type": "float"
        },
        {
         "name": "EVxY3Vcc-4uavsq2CQsk3g",
         "rawType": "float64",
         "type": "float"
        },
        {
         "name": "EWP6pxAwnyQcBug6jchWNA",
         "rawType": "float64",
         "type": "float"
        },
        {
         "name": "EZRl9nOwcaED93NnFakvHw",
         "rawType": "float64",
         "type": "float"
        },
        {
         "name": "E_Qr3fQrZCwOvEnEDYT4Kw",
         "rawType": "float64",
         "type": "float"
        },
        {
         "name": "Ea3GSstXLA1GRTMPq7pgdg",
         "rawType": "float64",
         "type": "float"
        },
        {
         "name": "Ed47ZME7NcLTZeIBUYsdog",
         "rawType": "float64",
         "type": "float"
        },
        {
         "name": "Edq3REDbBfss0WQu2Ta93w",
         "rawType": "float64",
         "type": "float"
        },
        {
         "name": "Edr6SafmQrZa6CcFuItoqg",
         "rawType": "float64",
         "type": "float"
        },
        {
         "name": "EfkhcHuVyakw3LE85CGsnw",
         "rawType": "float64",
         "type": "float"
        },
        {
         "name": "EgW-kEqxP83MlVl06Qn21g",
         "rawType": "float64",
         "type": "float"
        },
        {
         "name": "EgemRE83Qe_ZbGnFcrPsng",
         "rawType": "float64",
         "type": "float"
        },
        {
         "name": "Ehy00JWQixgoXzisVKhvag",
         "rawType": "float64",
         "type": "float"
        },
        {
         "name": "Ej0sTcCOsvjsamtvdeGlOA",
         "rawType": "float64",
         "type": "float"
        },
        {
         "name": "EjYGxyksao-Jhw86tIAiYQ",
         "rawType": "float64",
         "type": "float"
        },
        {
         "name": "El4FC8jcawUVgw_0EIcbaQ",
         "rawType": "float64",
         "type": "float"
        },
        {
         "name": "ElCy74OhzHmwgpZ1RSDYsg",
         "rawType": "float64",
         "type": "float"
        },
        {
         "name": "ElWzx5_fU8S2G45OnM-HpA",
         "rawType": "float64",
         "type": "float"
        },
        {
         "name": "EnTVeyh_8WzOaWrEJDWaZA",
         "rawType": "float64",
         "type": "float"
        },
        {
         "name": "EpqlqXSjtoKhc-dNft0_ug",
         "rawType": "float64",
         "type": "float"
        },
        {
         "name": "Er2XAYN8l1BadlYFwiPb9g",
         "rawType": "float64",
         "type": "float"
        },
        {
         "name": "Ex1-tKlQa74J0usZVHxYEw",
         "rawType": "float64",
         "type": "float"
        },
        {
         "name": "ExQpwVK2xg6w3Ip4tKyvhA",
         "rawType": "float64",
         "type": "float"
        },
        {
         "name": "ExtP8z3SVyut_RICc9i_DA",
         "rawType": "float64",
         "type": "float"
        },
        {
         "name": "F1VasoCjLgA079A21nQIvA",
         "rawType": "float64",
         "type": "float"
        },
        {
         "name": "F44RugAixD4yauHlTGXGug",
         "rawType": "float64",
         "type": "float"
        },
        {
         "name": "F70couxLlxWDRZNIVHoIRA",
         "rawType": "float64",
         "type": "float"
        },
        {
         "name": "F8_WdEVmUFTU1pTHBgikIg",
         "rawType": "float64",
         "type": "float"
        },
        {
         "name": "FAsxcxsHTmcBeW78pl9S7Q",
         "rawType": "float64",
         "type": "float"
        },
        {
         "name": "FB2iUwS4-LMLBQVyLZmZfQ",
         "rawType": "float64",
         "type": "float"
        },
        {
         "name": "FDY7wagp7-rfjopJDRARbA",
         "rawType": "float64",
         "type": "float"
        },
        {
         "name": "FEH0i7SnTH81k451ZadKIQ",
         "rawType": "float64",
         "type": "float"
        },
        {
         "name": "FJ4SYm6u4GbhkkXXnjYPcg",
         "rawType": "float64",
         "type": "float"
        },
        {
         "name": "FJWDDlxhFzY1Tqu8sLCTaA",
         "rawType": "float64",
         "type": "float"
        },
        {
         "name": "FMIwjG47DRY7vbpVW9A3uQ",
         "rawType": "float64",
         "type": "float"
        },
        {
         "name": "FML0YqZ7dLBBC3Suap4_4Q",
         "rawType": "float64",
         "type": "float"
        },
        {
         "name": "FSjtWNPi1D1TklbwpM0ajQ",
         "rawType": "float64",
         "type": "float"
        },
        {
         "name": "FUZSxfQbZbuNxkyCR3Hj2g",
         "rawType": "float64",
         "type": "float"
        },
        {
         "name": "FX_9bEgVSLjSaFU2GclZyg",
         "rawType": "float64",
         "type": "float"
        },
        {
         "name": "FZNUNbyB3Eh_x4Avy3D-9g",
         "rawType": "float64",
         "type": "float"
        },
        {
         "name": "F_oPMHJrH42R67xp5eKtQA",
         "rawType": "float64",
         "type": "float"
        },
        {
         "name": "FaHADZARwnY4yvlvpnsfGA",
         "rawType": "float64",
         "type": "float"
        },
        {
         "name": "Fbycyr3KEjDQ4wO9AStmvQ",
         "rawType": "float64",
         "type": "float"
        },
        {
         "name": "FcCUyrq-ZdcRl_h-k9-CYA",
         "rawType": "float64",
         "type": "float"
        },
        {
         "name": "FcJ7DkL-UKj8RLUi08lyfg",
         "rawType": "float64",
         "type": "float"
        },
        {
         "name": "FcNtrDGaWmkDzlHaq9F1UQ",
         "rawType": "float64",
         "type": "float"
        },
        {
         "name": "Fcy6hCkemQoDXCs5ayvcxg",
         "rawType": "float64",
         "type": "float"
        },
        {
         "name": "FczpP53EAcXsfIQMxp9p4A",
         "rawType": "float64",
         "type": "float"
        },
        {
         "name": "Ffhe2cmRyloz3CCdRGvHtA",
         "rawType": "float64",
         "type": "float"
        },
        {
         "name": "FlaKnTMLBE_pzRYHjXTOLg",
         "rawType": "float64",
         "type": "float"
        },
        {
         "name": "FlgHwy8TwjK8e684ZNN-LQ",
         "rawType": "float64",
         "type": "float"
        },
        {
         "name": "FndkIvEO5vjb0s8cRpzsKg",
         "rawType": "float64",
         "type": "float"
        },
        {
         "name": "Fpm3WvqtrAg2ueh_4pz7iA",
         "rawType": "float64",
         "type": "float"
        },
        {
         "name": "FqA7ofYWGVHnAIF4jjznHA",
         "rawType": "float64",
         "type": "float"
        },
        {
         "name": "FqJ1SWEBhgVl66FrcsovOQ",
         "rawType": "float64",
         "type": "float"
        },
        {
         "name": "FrOMEmctp35zTTDSulyOxg",
         "rawType": "float64",
         "type": "float"
        },
        {
         "name": "Frp9q9UFqr1PlUOk9mgmvg",
         "rawType": "float64",
         "type": "float"
        },
        {
         "name": "FtLibezRe7HsT13BLpR-Dg",
         "rawType": "float64",
         "type": "float"
        },
        {
         "name": "Fv4EXwV30rwGD2NzN1ekgA",
         "rawType": "float64",
         "type": "float"
        },
        {
         "name": "FvXZcRB8bocNMDvFUnoWhg",
         "rawType": "float64",
         "type": "float"
        },
        {
         "name": "FxKKhsjjPNNH3KWz8TEXaw",
         "rawType": "float64",
         "type": "float"
        },
        {
         "name": "FyucbcsZwdDs5RQ7Tk9z9w",
         "rawType": "float64",
         "type": "float"
        },
        {
         "name": "G-5kEa6E6PD5fkBRuA7k9Q",
         "rawType": "float64",
         "type": "float"
        },
        {
         "name": "G54fcIaoI89tc6X285suRA",
         "rawType": "float64",
         "type": "float"
        },
        {
         "name": "G6BwYw_0_atLPTzI1uokIA",
         "rawType": "float64",
         "type": "float"
        },
        {
         "name": "G6WGIx0y85tCI8wCxTFGXQ",
         "rawType": "float64",
         "type": "float"
        },
        {
         "name": "G7xS3HiTKHnRhI8cNRGXpA",
         "rawType": "float64",
         "type": "float"
        },
        {
         "name": "G81XguoS1NucTWioh6XG8w",
         "rawType": "float64",
         "type": "float"
        },
        {
         "name": "G8k2E3oYHHl2o4lNJQwR-g",
         "rawType": "float64",
         "type": "float"
        },
        {
         "name": "GAKCd5eIPQ-_B0psppX81g",
         "rawType": "float64",
         "type": "float"
        },
        {
         "name": "GAKFx4jFUtTOTpp_jDJnuA",
         "rawType": "float64",
         "type": "float"
        },
        {
         "name": "GEHnzX7BQwIsn8nt6wt7pw",
         "rawType": "float64",
         "type": "float"
        },
        {
         "name": "GEk5OqxjRyTAY_Va_NSi3A",
         "rawType": "float64",
         "type": "float"
        },
        {
         "name": "GEvolb_U74NXgfgdxrVtyQ",
         "rawType": "float64",
         "type": "float"
        },
        {
         "name": "GHUHWAaVjKDn74r50EKKMA",
         "rawType": "float64",
         "type": "float"
        },
        {
         "name": "GJ_bXUPv672YwNg4TneJog",
         "rawType": "float64",
         "type": "float"
        },
        {
         "name": "GKtVASxg9ZafsNEQnFsipQ",
         "rawType": "float64",
         "type": "float"
        },
        {
         "name": "GLgL8e9QvHPvy39UIbX-cA",
         "rawType": "float64",
         "type": "float"
        },
        {
         "name": "GM7eH4niVTz64O3cNjlaMA",
         "rawType": "float64",
         "type": "float"
        },
        {
         "name": "GT0K4EdSSxe_LMU6SPr-_A",
         "rawType": "float64",
         "type": "float"
        },
        {
         "name": "GTuAPBRsM5dVPqPy9oe14Q",
         "rawType": "float64",
         "type": "float"
        },
        {
         "name": "GUL13B_eJMX2b2JnN1kckw",
         "rawType": "float64",
         "type": "float"
        },
        {
         "name": "GU_bZ2qgcxVsj7f98z-1YQ",
         "rawType": "float64",
         "type": "float"
        },
        {
         "name": "GYTmQ4LK7vssENFDBuUt3w",
         "rawType": "float64",
         "type": "float"
        },
        {
         "name": "G_Opi5l0rB1cWgHYv6a-Jg",
         "rawType": "float64",
         "type": "float"
        },
        {
         "name": "G_WLvkBLT9xr9aM_nmgrwQ",
         "rawType": "float64",
         "type": "float"
        },
        {
         "name": "Gc-HJ7FQ6_tFBmwZ5Pm-wQ",
         "rawType": "float64",
         "type": "float"
        },
        {
         "name": "GdCRQU3VCh_x8fY84mbwYQ",
         "rawType": "float64",
         "type": "float"
        },
        {
         "name": "GdHMZn1gEeVvz5-4u5TTug",
         "rawType": "float64",
         "type": "float"
        },
        {
         "name": "GdiKn-JExlIHCQUDxQ9xgQ",
         "rawType": "float64",
         "type": "float"
        },
        {
         "name": "GhGN_eerrkfnWjNXvIb21Q",
         "rawType": "float64",
         "type": "float"
        },
        {
         "name": "GhM6y2RX1zU-Gc0ustXsqw",
         "rawType": "float64",
         "type": "float"
        },
        {
         "name": "GheMvm_dgcBTULpwzNuyBg",
         "rawType": "float64",
         "type": "float"
        },
        {
         "name": "Ghn4p2M-TsuSXORZxO73Yg",
         "rawType": "float64",
         "type": "float"
        },
        {
         "name": "Gj7QZ0kV-32MAVhJQsWlmg",
         "rawType": "float64",
         "type": "float"
        },
        {
         "name": "GmdujALb1Nq2RHGr7jhCaA",
         "rawType": "float64",
         "type": "float"
        },
        {
         "name": "GpVk87Zw6IGXq5pPcuF7Sg",
         "rawType": "float64",
         "type": "float"
        },
        {
         "name": "GrwvBAEALujIOPQeOfN1vA",
         "rawType": "float64",
         "type": "float"
        },
        {
         "name": "Gvj_nneJoAvB7MkVWvAxmQ",
         "rawType": "float64",
         "type": "float"
        },
        {
         "name": "GwoMn_2-RbapQD_Fuyd3uA",
         "rawType": "float64",
         "type": "float"
        },
        {
         "name": "Gyrez6K8f1AyR7dzW9fvAw",
         "rawType": "float64",
         "type": "float"
        },
        {
         "name": "H-PmFfqAzQtWTS0XeWC_lw",
         "rawType": "float64",
         "type": "float"
        },
        {
         "name": "H-dkfQq4sVhq7rY5l9Qx7A",
         "rawType": "float64",
         "type": "float"
        },
        {
         "name": "H57kJV5TUpYyQrY0NvoWYw",
         "rawType": "float64",
         "type": "float"
        },
        {
         "name": "H8RPjZJMrDC7nNcx2S6nHQ",
         "rawType": "float64",
         "type": "float"
        },
        {
         "name": "HBVzTJlmv1rD2SBL1OAOTg",
         "rawType": "float64",
         "type": "float"
        },
        {
         "name": "HBtn4ENYp3zy0Ylsw5KVuw",
         "rawType": "float64",
         "type": "float"
        },
        {
         "name": "HHCn1akqIpl_BhdcJoYPbw",
         "rawType": "float64",
         "type": "float"
        },
        {
         "name": "HOmaC1T2bm4T7LzFQ-dTCw",
         "rawType": "float64",
         "type": "float"
        },
        {
         "name": "HRvl9-kHkm6LcH40kpCMzQ",
         "rawType": "float64",
         "type": "float"
        },
        {
         "name": "HUWLnKD5LSZY134amUO2Rg",
         "rawType": "float64",
         "type": "float"
        },
        {
         "name": "HVpwpXneaCWMeEBF7H8jpQ",
         "rawType": "float64",
         "type": "float"
        },
        {
         "name": "HWjqW5ZFJ8eZRQuHcpySQA",
         "rawType": "float64",
         "type": "float"
        },
        {
         "name": "HY_A1DREcEnlf7S2KnZWNg",
         "rawType": "float64",
         "type": "float"
        },
        {
         "name": "HaWU8ICNtjIkCN_ZNrx1hw",
         "rawType": "float64",
         "type": "float"
        },
        {
         "name": "HgdFqAvK31fB9sgBdOzo9g",
         "rawType": "float64",
         "type": "float"
        },
        {
         "name": "HhVmDybpU7L50Kb5A0jXTg",
         "rawType": "float64",
         "type": "float"
        },
        {
         "name": "HjXI6lKGPVNQ8dYJPtaOCg",
         "rawType": "float64",
         "type": "float"
        },
        {
         "name": "HmsCerK_rub0Ulo0aC0f9A",
         "rawType": "float64",
         "type": "float"
        },
        {
         "name": "HqbwwkRJmm5RpCPRvOltGw",
         "rawType": "float64",
         "type": "float"
        },
        {
         "name": "HudCKBs3crW5mjaD7Y89gQ",
         "rawType": "float64",
         "type": "float"
        },
        {
         "name": "Hz1F5uruPe1kCsf5PIA6Sg",
         "rawType": "float64",
         "type": "float"
        },
        {
         "name": "I-3pI0DeW3VYJ6mpUyDNSw",
         "rawType": "float64",
         "type": "float"
        },
        {
         "name": "I-5qHCVwT7k_KH67-YOx3A",
         "rawType": "float64",
         "type": "float"
        },
        {
         "name": "I1gRYCt2exnOMsTr-lEJVA",
         "rawType": "float64",
         "type": "float"
        },
        {
         "name": "I22wQGTkLFGn6jTOhwoecQ",
         "rawType": "float64",
         "type": "float"
        },
        {
         "name": "I4EmpNOW7zCcx7fUnQ9ixg",
         "rawType": "float64",
         "type": "float"
        },
        {
         "name": "I8e1_CZ1c76UaL7LQfsh4Q",
         "rawType": "float64",
         "type": "float"
        },
        {
         "name": "I9_cp9hYiHAKgMavbZxz5w",
         "rawType": "float64",
         "type": "float"
        },
        {
         "name": "ICw43H7hrbSuXTjDBmJxbA",
         "rawType": "float64",
         "type": "float"
        },
        {
         "name": "IDQaKXffLa37mKBd9ZA8DA",
         "rawType": "float64",
         "type": "float"
        },
        {
         "name": "IE7sVOweBucNusO3jhrEpw",
         "rawType": "float64",
         "type": "float"
        },
        {
         "name": "IF0swG6XxLegyHs0edj3xQ",
         "rawType": "float64",
         "type": "float"
        },
        {
         "name": "IFaRfrlwhQo4gILB0wmA-g",
         "rawType": "float64",
         "type": "float"
        },
        {
         "name": "IKrhAx9KpUgDiUq2KUeQQA",
         "rawType": "float64",
         "type": "float"
        },
        {
         "name": "ILq2TVP7mEJ1E-VoAt1_vw",
         "rawType": "float64",
         "type": "float"
        },
        {
         "name": "IMb5BpDLlSbr7yn19HhltA",
         "rawType": "float64",
         "type": "float"
        },
        {
         "name": "IMlVSAmQMfKp0ltI2D0SPA",
         "rawType": "float64",
         "type": "float"
        },
        {
         "name": "IOxRbnv2YnLtErYY3TrU3A",
         "rawType": "float64",
         "type": "float"
        },
        {
         "name": "IPiRBDgjSFGOZeewrAVIMQ",
         "rawType": "float64",
         "type": "float"
        },
        {
         "name": "IQVka-wzJmN3jw2W70aCzw",
         "rawType": "float64",
         "type": "float"
        },
        {
         "name": "IQhBsMtHfZy72-1ivmEgTA",
         "rawType": "float64",
         "type": "float"
        },
        {
         "name": "IQjHRGMSXXGN9MHPdsvk8w",
         "rawType": "float64",
         "type": "float"
        },
        {
         "name": "ISgEtF4G4UtyEsc5ed6Rhg",
         "rawType": "float64",
         "type": "float"
        },
        {
         "name": "I_eCXujGAbl1JKrye_419w",
         "rawType": "float64",
         "type": "float"
        },
        {
         "name": "IcOvxejpd5FLFIkj20Opqg",
         "rawType": "float64",
         "type": "float"
        },
        {
         "name": "IdCua3C1lp0Y2VjdLJvZUw",
         "rawType": "float64",
         "type": "float"
        },
        {
         "name": "IdNR_TYoB7eHz681M0bKag",
         "rawType": "float64",
         "type": "float"
        },
        {
         "name": "IjPGaNpqcFl9byTSpg0AmQ",
         "rawType": "float64",
         "type": "float"
        },
        {
         "name": "Inh4zML74UuNekCzM_JP2w",
         "rawType": "float64",
         "type": "float"
        },
        {
         "name": "InnQkf4j02mnQUXJOtqqJw",
         "rawType": "float64",
         "type": "float"
        },
        {
         "name": "Iq7NqQD-sESu3vr9iEGuTA",
         "rawType": "float64",
         "type": "float"
        },
        {
         "name": "Ir4zL3MF7LX7b46qXn5WWQ",
         "rawType": "float64",
         "type": "float"
        },
        {
         "name": "ItqPtxnayraXSlBS0EMOgg",
         "rawType": "float64",
         "type": "float"
        },
        {
         "name": "IuOFGmsMOKUhkJNMvJewRQ",
         "rawType": "float64",
         "type": "float"
        },
        {
         "name": "IvWiFeA-Pkc-ntaz4bMHSw",
         "rawType": "float64",
         "type": "float"
        },
        {
         "name": "IzdLLebxhDjnugxAMc-4EA",
         "rawType": "float64",
         "type": "float"
        },
        {
         "name": "J-SZZniOp7nNsCNbj5rIUQ",
         "rawType": "float64",
         "type": "float"
        },
        {
         "name": "J01oX1zLdkV5doNupaTaiQ",
         "rawType": "float64",
         "type": "float"
        },
        {
         "name": "J5ebC7fKqrSF8KuS8d6hgw",
         "rawType": "float64",
         "type": "float"
        },
        {
         "name": "J64Yg3hQJXSI-ipnfJUkiw",
         "rawType": "float64",
         "type": "float"
        },
        {
         "name": "J6WnhToRaJ2TtLbRpKF3Lg",
         "rawType": "float64",
         "type": "float"
        },
        {
         "name": "J8GuDrqeLH1xMpSpeEixYA",
         "rawType": "float64",
         "type": "float"
        },
        {
         "name": "JDDZAflMR3oHBH5cKOQNpw",
         "rawType": "float64",
         "type": "float"
        },
        {
         "name": "JECKrOvqJ_faoW_QxyeEAw",
         "rawType": "float64",
         "type": "float"
        },
        {
         "name": "JFhfVTt_8xNjtwqSD-raIw",
         "rawType": "float64",
         "type": "float"
        },
        {
         "name": "JIETwXSEGIHMNyxZVEnNKQ",
         "rawType": "float64",
         "type": "float"
        },
        {
         "name": "JIfSollg32ifUzTw2K4PDQ",
         "rawType": "float64",
         "type": "float"
        },
        {
         "name": "JJDxLSeHkEFPUrPCxEFp0w",
         "rawType": "float64",
         "type": "float"
        },
        {
         "name": "JJys4pp5xmf3bB4E3lmxRA",
         "rawType": "float64",
         "type": "float"
        },
        {
         "name": "JLbgvGM4FXh9zNP4O5ZWjQ",
         "rawType": "float64",
         "type": "float"
        },
        {
         "name": "JOr4h5_BsGly5Cnt25jFxA",
         "rawType": "float64",
         "type": "float"
        },
        {
         "name": "JOsBOphWK14yjq7FC1zL5w",
         "rawType": "float64",
         "type": "float"
        },
        {
         "name": "JPfi__QJAaRzmfh5aOyFEw",
         "rawType": "float64",
         "type": "float"
        },
        {
         "name": "JQwMRgCMZJhIDxec1z7URQ",
         "rawType": "float64",
         "type": "float"
        },
        {
         "name": "JTSk0BCHw-uusHO4snGePA",
         "rawType": "float64",
         "type": "float"
        },
        {
         "name": "JVbhg2uUmjp0Acs72gP7rA",
         "rawType": "float64",
         "type": "float"
        },
        {
         "name": "JXS5uSc0lMPMl_JOkJq6Kg",
         "rawType": "float64",
         "type": "float"
        },
        {
         "name": "J__5TVwnEtNNAWOndZtJig",
         "rawType": "float64",
         "type": "float"
        },
        {
         "name": "JbHVdvF0E3n7e8jUrOO6uQ",
         "rawType": "float64",
         "type": "float"
        },
        {
         "name": "JcR-zY-wT42QWsD3f5NzRA",
         "rawType": "float64",
         "type": "float"
        },
        {
         "name": "JdywUXidDtRhjuKdJC-SVw",
         "rawType": "float64",
         "type": "float"
        },
        {
         "name": "JeDuMHq5rnUSPC39kSgEqA",
         "rawType": "float64",
         "type": "float"
        },
        {
         "name": "Jgi9U4FtFu75iZTaX7X02w",
         "rawType": "float64",
         "type": "float"
        },
        {
         "name": "JhQyOcVCkzNANOXgrbW11A",
         "rawType": "float64",
         "type": "float"
        },
        {
         "name": "JhRxDdmZSGDG_u7cGxaYrw",
         "rawType": "float64",
         "type": "float"
        },
        {
         "name": "Jhz_aUT4i84Wt8KAZVGXVA",
         "rawType": "float64",
         "type": "float"
        },
        {
         "name": "Jj8ubiwwuCR-rrhrrjcryw",
         "rawType": "float64",
         "type": "float"
        },
        {
         "name": "JlPLadwBV3o20GjQwKmXAg",
         "rawType": "float64",
         "type": "float"
        },
        {
         "name": "JlkHGjgS3MJ5FqEDJdu8xQ",
         "rawType": "float64",
         "type": "float"
        },
        {
         "name": "JnjXnu6A9Xb-3wm5fUyL3A",
         "rawType": "float64",
         "type": "float"
        },
        {
         "name": "JpgVl3d20CMRNjf1DVnzGA",
         "rawType": "float64",
         "type": "float"
        },
        {
         "name": "JqBtQ1bSynPHE9gbyuSSvA",
         "rawType": "float64",
         "type": "float"
        },
        {
         "name": "JsAjP49bCk9KjJmmmjyM4w",
         "rawType": "float64",
         "type": "float"
        },
        {
         "name": "Jw3iaQalS9-1aeXkKh_plA",
         "rawType": "float64",
         "type": "float"
        },
        {
         "name": "Jzth-y32SyvOhJNgbIPTqQ",
         "rawType": "float64",
         "type": "float"
        },
        {
         "name": "K-uQkfSUTwu5LIwPB4b_vg",
         "rawType": "float64",
         "type": "float"
        },
        {
         "name": "K-vBVV_RZX-BeyqOBWjsDg",
         "rawType": "float64",
         "type": "float"
        },
        {
         "name": "K1rAToLggkTvjRz46IU-Tg",
         "rawType": "float64",
         "type": "float"
        },
        {
         "name": "K1xLoyHmmkaOKIXs2FUVeA",
         "rawType": "float64",
         "type": "float"
        },
        {
         "name": "K5XjxDyq3ZIjUhbtLaW4ZQ",
         "rawType": "float64",
         "type": "float"
        },
        {
         "name": "K6fYrrTorlpXmqutRcrHzg",
         "rawType": "float64",
         "type": "float"
        },
        {
         "name": "K74Px1ALCCBvcU6-XsmSpA",
         "rawType": "float64",
         "type": "float"
        },
        {
         "name": "K7fip0nDFFdCC7OCnNOotQ",
         "rawType": "float64",
         "type": "float"
        },
        {
         "name": "K7lWdNUhCbcnEvI0NhGewg",
         "rawType": "float64",
         "type": "float"
        },
        {
         "name": "KBGoTNvOoV3ixc8zaaMHnw",
         "rawType": "float64",
         "type": "float"
        },
        {
         "name": "KFC7mrcdUUeS0ueUCayyEA",
         "rawType": "float64",
         "type": "float"
        },
        {
         "name": "KFfETANLhkT_JTFoo4xdHA",
         "rawType": "float64",
         "type": "float"
        },
        {
         "name": "KIWUFC4iSjUH4v4t_N2V6w",
         "rawType": "float64",
         "type": "float"
        },
        {
         "name": "KJva9u5Zu7_tyZrjYBFnIg",
         "rawType": "float64",
         "type": "float"
        },
        {
         "name": "KK7H1bVOMAJnDqMhBv2zpA",
         "rawType": "float64",
         "type": "float"
        },
        {
         "name": "KMjpXsJFNiqE18orsi4stQ",
         "rawType": "float64",
         "type": "float"
        },
        {
         "name": "KPSaUzlYg4JLVbzrbA23uw",
         "rawType": "float64",
         "type": "float"
        },
        {
         "name": "KPgyqG3MyFUDK7GRbUg51A",
         "rawType": "float64",
         "type": "float"
        },
        {
         "name": "KPqXo9ZXSc3-WOl6oe58Og",
         "rawType": "float64",
         "type": "float"
        },
        {
         "name": "KPvEo0QeT6b3x_UC6WbsvQ",
         "rawType": "float64",
         "type": "float"
        },
        {
         "name": "KQEuEJ80wwPqhRNSI3em4A",
         "rawType": "float64",
         "type": "float"
        },
        {
         "name": "KSh5L6wADW_fMpG2hMJx8Q",
         "rawType": "float64",
         "type": "float"
        },
        {
         "name": "KTon9_ClD6O6eOLqA-tIUA",
         "rawType": "float64",
         "type": "float"
        },
        {
         "name": "KWM6C4g9x7Fnmjdz8H18sw",
         "rawType": "float64",
         "type": "float"
        },
        {
         "name": "KWf3sEG-S4xY0RgiwGprvA",
         "rawType": "float64",
         "type": "float"
        },
        {
         "name": "K_20WI2uDh_1UvnyKTazfg",
         "rawType": "float64",
         "type": "float"
        },
        {
         "name": "KaGZE0_o1EmmSN4Fo_cpUw",
         "rawType": "float64",
         "type": "float"
        },
        {
         "name": "Ki8seQY5mtXc36xjoMfeDA",
         "rawType": "float64",
         "type": "float"
        },
        {
         "name": "KjV_68oLLSpqR96VnV68tw",
         "rawType": "float64",
         "type": "float"
        },
        {
         "name": "KkmPDIWzvwbBpyqOHT6pcQ",
         "rawType": "float64",
         "type": "float"
        },
        {
         "name": "Kkpnsw5cuUwySbSKYUl7Iw",
         "rawType": "float64",
         "type": "float"
        },
        {
         "name": "Klg7aKcXOGEdeLi2oI2cOg",
         "rawType": "float64",
         "type": "float"
        },
        {
         "name": "KmabDzJpEDpI-lZi_XdzEA",
         "rawType": "float64",
         "type": "float"
        },
        {
         "name": "KmsaDVRln9HpsK5vJxFLKA",
         "rawType": "float64",
         "type": "float"
        },
        {
         "name": "KpgPSQmQDgx3tJ6RlKVCBA",
         "rawType": "float64",
         "type": "float"
        },
        {
         "name": "Kpk1wm96lLQV3gJWNumfbg",
         "rawType": "float64",
         "type": "float"
        },
        {
         "name": "KrIt8-qeaIvub9KJ9vqlWg",
         "rawType": "float64",
         "type": "float"
        },
        {
         "name": "Kvr3maTyGSS9Xo_nhsEvrA",
         "rawType": "float64",
         "type": "float"
        },
        {
         "name": "KxqE9n2i21ol9DiCv8iknA",
         "rawType": "float64",
         "type": "float"
        },
        {
         "name": "Kxz6WSfmz0YTf5nV1vhkpg",
         "rawType": "float64",
         "type": "float"
        },
        {
         "name": "Kz4WS00PcqOJgxfZawk4dQ",
         "rawType": "float64",
         "type": "float"
        },
        {
         "name": "L2DONYpn0IjFvVGaZ9bZpg",
         "rawType": "float64",
         "type": "float"
        },
        {
         "name": "L3dAvYkqMsLhyPLoeJgwsQ",
         "rawType": "float64",
         "type": "float"
        },
        {
         "name": "L6zsmdB7TUzvcxFNUyYjyQ",
         "rawType": "float64",
         "type": "float"
        },
        {
         "name": "L772e6l2Yd0DJEyCBxBNng",
         "rawType": "float64",
         "type": "float"
        },
        {
         "name": "L95ppCbcWAt4LUWrCiEvPg",
         "rawType": "float64",
         "type": "float"
        },
        {
         "name": "LAKs5UatFvOhlaF4sZ1obA",
         "rawType": "float64",
         "type": "float"
        },
        {
         "name": "LB7r3hZmb4NXb2jDQmmQ9w",
         "rawType": "float64",
         "type": "float"
        },
        {
         "name": "LI9sVHgnX-DzFyvWmPDRgA",
         "rawType": "float64",
         "type": "float"
        },
        {
         "name": "LMa0x4S5-5XYZegwB7jPug",
         "rawType": "float64",
         "type": "float"
        },
        {
         "name": "LNGBEEelQx4zbfWnlc66cw",
         "rawType": "float64",
         "type": "float"
        },
        {
         "name": "LPzx71DCvPyNIrPdbKLDbg",
         "rawType": "float64",
         "type": "float"
        },
        {
         "name": "LQFmktF43j2NPncKdNd9mg",
         "rawType": "float64",
         "type": "float"
        },
        {
         "name": "L_Gffnv086h8wGaAiFxhIw",
         "rawType": "float64",
         "type": "float"
        },
        {
         "name": "LdI-o0yH_vtqoFf_ageDpA",
         "rawType": "float64",
         "type": "float"
        },
        {
         "name": "LhU-XsZ2YObJnP-5uiMIjA",
         "rawType": "float64",
         "type": "float"
        },
        {
         "name": "Lpbo9wYj4pu58vJ7tlh-4w",
         "rawType": "float64",
         "type": "float"
        },
        {
         "name": "LrbLZKu1zMY_HDJsL2e6VQ",
         "rawType": "float64",
         "type": "float"
        },
        {
         "name": "LrnStcyN8cXs0RlyiVFTiQ",
         "rawType": "float64",
         "type": "float"
        },
        {
         "name": "Lsr7V0QWYvrHnYo_RQbADA",
         "rawType": "float64",
         "type": "float"
        },
        {
         "name": "LtSJn2xwn6ykQBpGBw2WyQ",
         "rawType": "float64",
         "type": "float"
        },
        {
         "name": "LvnOhs9Udhyp5adF7Cq98g",
         "rawType": "float64",
         "type": "float"
        },
        {
         "name": "LwNZ1AR4_5iukgQYuhmTOg",
         "rawType": "float64",
         "type": "float"
        },
        {
         "name": "LwQB9H3jZ9wTk24Lr-AnZQ",
         "rawType": "float64",
         "type": "float"
        },
        {
         "name": "LwXo16VrGPhhOWc_Wj7ifw",
         "rawType": "float64",
         "type": "float"
        },
        {
         "name": "LwafYd6RYGPnnjoMc0YHaw",
         "rawType": "float64",
         "type": "float"
        },
        {
         "name": "Ly2ShApiomYZwKehwb7eRA",
         "rawType": "float64",
         "type": "float"
        },
        {
         "name": "M0pXDKKvnM5sc7ceisBD4Q",
         "rawType": "float64",
         "type": "float"
        },
        {
         "name": "M25ITUcRPX02_KmAU5DZDQ",
         "rawType": "float64",
         "type": "float"
        },
        {
         "name": "M30I1NPl5JuHthxo1IXPGg",
         "rawType": "float64",
         "type": "float"
        },
        {
         "name": "M9gwHW1oIiIqjdT76yOBDA",
         "rawType": "float64",
         "type": "float"
        },
        {
         "name": "MAuSh7NKoT__CQ4BumoayA",
         "rawType": "float64",
         "type": "float"
        },
        {
         "name": "MC3Dmq3HVKAkG6lWl6stKA",
         "rawType": "float64",
         "type": "float"
        },
        {
         "name": "MCBsyPnsOn8kOuyCbP2O4A",
         "rawType": "float64",
         "type": "float"
        },
        {
         "name": "MDLajW6yCfUJPDJRmhlobg",
         "rawType": "float64",
         "type": "float"
        },
        {
         "name": "MHe0H03-IxVAxdfKgjIdmA",
         "rawType": "float64",
         "type": "float"
        },
        {
         "name": "MHgCSMjjLBa11ul2as6dpw",
         "rawType": "float64",
         "type": "float"
        },
        {
         "name": "MHq5Ly9ZMbCgnP3PoQJbVQ",
         "rawType": "float64",
         "type": "float"
        },
        {
         "name": "MQJxekA2SN8kmoo-kiq1dw",
         "rawType": "float64",
         "type": "float"
        },
        {
         "name": "MQkAWkWf3sPCSjo4HeSOaw",
         "rawType": "float64",
         "type": "float"
        },
        {
         "name": "MTtI2bqoNHN_0m2cHbY2ug",
         "rawType": "float64",
         "type": "float"
        },
        {
         "name": "MVHGmZEwtKrXH11ySGweEw",
         "rawType": "float64",
         "type": "float"
        },
        {
         "name": "MVgTNrbHjQnRNY4QaYIrbQ",
         "rawType": "float64",
         "type": "float"
        },
        {
         "name": "MYExA8lcXaHYXuAPlGBWUg",
         "rawType": "float64",
         "type": "float"
        },
        {
         "name": "MYMoho8uONfkTvaVNL-pVQ",
         "rawType": "float64",
         "type": "float"
        },
        {
         "name": "MZlpKHbWH5hBXhjaGFcezw",
         "rawType": "float64",
         "type": "float"
        },
        {
         "name": "MdjIl105vqCYUGKFSUVytA",
         "rawType": "float64",
         "type": "float"
        },
        {
         "name": "MdnYGOVa3goIGfKjrOCXqQ",
         "rawType": "float64",
         "type": "float"
        },
        {
         "name": "MjQtalcEfMkaAWLsEK0pVQ",
         "rawType": "float64",
         "type": "float"
        },
        {
         "name": "Mksyt1TZQ-7vzCZjeuzfAg",
         "rawType": "float64",
         "type": "float"
        },
        {
         "name": "Mn474gMKu8P92Mk9jAaoVA",
         "rawType": "float64",
         "type": "float"
        },
        {
         "name": "MpWkXcBH1sSVcjReplDB3A",
         "rawType": "float64",
         "type": "float"
        },
        {
         "name": "MpmFFw0GE_2iRFPdsRpJbA",
         "rawType": "float64",
         "type": "float"
        },
        {
         "name": "MqYYYNA-ZYvV-1w5qcmMoA",
         "rawType": "float64",
         "type": "float"
        },
        {
         "name": "MrovSlB5Ff0v4VGnvC2i_Q",
         "rawType": "float64",
         "type": "float"
        },
        {
         "name": "MtzjOi57BkQrqF8wqNOyHg",
         "rawType": "float64",
         "type": "float"
        },
        {
         "name": "MuC-DZku5o45QefA0tJquw",
         "rawType": "float64",
         "type": "float"
        },
        {
         "name": "MyX8MqLZDsv63oWHb-X7Uw",
         "rawType": "float64",
         "type": "float"
        },
        {
         "name": "MzjfSbFFTEVlX4Lp2kHg_Q",
         "rawType": "float64",
         "type": "float"
        },
        {
         "name": "N4-cdkXF1uDFH_Kfok6yEA",
         "rawType": "float64",
         "type": "float"
        },
        {
         "name": "N42CouuodYv-yGpmuUZyew",
         "rawType": "float64",
         "type": "float"
        },
        {
         "name": "N4BbeIbQNgtUEEMutu9U3w",
         "rawType": "float64",
         "type": "float"
        },
        {
         "name": "N4PfU2vuSULaQej5fEiJfQ",
         "rawType": "float64",
         "type": "float"
        },
        {
         "name": "N5B7OBTyNGgwU_Y2fwNcyw",
         "rawType": "float64",
         "type": "float"
        },
        {
         "name": "N7Gkwbfs4sDikX4qHg_fGQ",
         "rawType": "float64",
         "type": "float"
        },
        {
         "name": "N7hY5ZMttt730xl2BUCYCA",
         "rawType": "float64",
         "type": "float"
        },
        {
         "name": "NASjUYKkz6l7hQLxMf2lqg",
         "rawType": "float64",
         "type": "float"
        },
        {
         "name": "NCu9a32XQzzWqj10JwKQ-g",
         "rawType": "float64",
         "type": "float"
        },
        {
         "name": "NF0H-HFJOK6R8fkhYkFuzw",
         "rawType": "float64",
         "type": "float"
        },
        {
         "name": "NFv21m2Czqz2XM5G4kpbKg",
         "rawType": "float64",
         "type": "float"
        },
        {
         "name": "NI3xvN6p0qhvUkKirbKokA",
         "rawType": "float64",
         "type": "float"
        },
        {
         "name": "NJ0RzuWd5xDqfJejYQZ65g",
         "rawType": "float64",
         "type": "float"
        },
        {
         "name": "NKg7XSXPlU8NGakmCeXGgw",
         "rawType": "float64",
         "type": "float"
        },
        {
         "name": "NL3U1UB9sZvHbZQ77oNHVw",
         "rawType": "float64",
         "type": "float"
        },
        {
         "name": "NLHqpX3SwqPb5wlWwau9pw",
         "rawType": "float64",
         "type": "float"
        },
        {
         "name": "NT9oIw3TTDLXo_x6nKUkBA",
         "rawType": "float64",
         "type": "float"
        },
        {
         "name": "NTKxxbg2l55sdKD1UmBiBw",
         "rawType": "float64",
         "type": "float"
        },
        {
         "name": "NTtLuuBKpywlyIz6oyd9kg",
         "rawType": "float64",
         "type": "float"
        },
        {
         "name": "NW2flon_30tSRIDGxdjnnA",
         "rawType": "float64",
         "type": "float"
        },
        {
         "name": "NXN_rVXsvJJVgm47k99Gtw",
         "rawType": "float64",
         "type": "float"
        },
        {
         "name": "NYf9TKBKPpa1wkA_uwIlfg",
         "rawType": "float64",
         "type": "float"
        },
        {
         "name": "N_2yEZ41g9zDW_gWArFiHw",
         "rawType": "float64",
         "type": "float"
        },
        {
         "name": "NbigxJ5d_wNk92Wm_2lF8Q",
         "rawType": "float64",
         "type": "float"
        },
        {
         "name": "Nc7cqq5k0WZsVhu25QrmNQ",
         "rawType": "float64",
         "type": "float"
        },
        {
         "name": "NcrasPRJ3xm0K7JPxLFBGA",
         "rawType": "float64",
         "type": "float"
        },
        {
         "name": "Net_BZG7t8JRLjXxNtvyNg",
         "rawType": "float64",
         "type": "float"
        },
        {
         "name": "Nmfvhyxi7gruNGs_hfWc3w",
         "rawType": "float64",
         "type": "float"
        },
        {
         "name": "NoF90rswXBHESSyDaWeKKA",
         "rawType": "float64",
         "type": "float"
        },
        {
         "name": "Nsi49BE_XsjJ0oOXwhH8hA",
         "rawType": "float64",
         "type": "float"
        },
        {
         "name": "Ntp-xe4x9mDAOEgpbNuPSA",
         "rawType": "float64",
         "type": "float"
        },
        {
         "name": "NvKNe9DnQavC9GstglcBJQ",
         "rawType": "float64",
         "type": "float"
        },
        {
         "name": "NwXtHmIsmMlQ2KY_BGaL8w",
         "rawType": "float64",
         "type": "float"
        },
        {
         "name": "Nz9Tk-YjE6RHQBOExYbNng",
         "rawType": "float64",
         "type": "float"
        },
        {
         "name": "NzWpIwYwGsjujewhYjPPPg",
         "rawType": "float64",
         "type": "float"
        },
        {
         "name": "O00LTi6SV8vCVND_8k1YVw",
         "rawType": "float64",
         "type": "float"
        },
        {
         "name": "O5jWRmilHqaW54ChJh1oFg",
         "rawType": "float64",
         "type": "float"
        },
        {
         "name": "OA5Li3ySzhrbG_WvD_QGYA",
         "rawType": "float64",
         "type": "float"
        },
        {
         "name": "OCEAe7tjPbDmcWWvRFUwwQ",
         "rawType": "float64",
         "type": "float"
        },
        {
         "name": "ODJJdWPVThx0xQxbZlLE9w",
         "rawType": "float64",
         "type": "float"
        },
        {
         "name": "OETh78qcgDltvHULowwhJg",
         "rawType": "float64",
         "type": "float"
        },
        {
         "name": "OF19lUVQHj8pVaSACNewWg",
         "rawType": "float64",
         "type": "float"
        },
        {
         "name": "OFdMlXxtkU_nUh8jJ4W6GA",
         "rawType": "float64",
         "type": "float"
        },
        {
         "name": "OIO1RVPOE6kfqnPptF38-Q",
         "rawType": "float64",
         "type": "float"
        },
        {
         "name": "OIc8vVH1MTmObFeeoc0LFA",
         "rawType": "float64",
         "type": "float"
        },
        {
         "name": "OIdOJaNS8M624F58XGV3PQ",
         "rawType": "float64",
         "type": "float"
        },
        {
         "name": "OK0ba4X5seibH8oMWh4bhw",
         "rawType": "float64",
         "type": "float"
        },
        {
         "name": "OLceT-xSok7HlL5F6ZZKKA",
         "rawType": "float64",
         "type": "float"
        },
        {
         "name": "OOHDPE3tilNC4md8Lcx_4Q",
         "rawType": "float64",
         "type": "float"
        },
        {
         "name": "OPSNdO3LNPMt7qz1MNb42g",
         "rawType": "float64",
         "type": "float"
        },
        {
         "name": "ORqZyyZafJyZcgTGNrJ_oA",
         "rawType": "float64",
         "type": "float"
        },
        {
         "name": "OUP9dy2eu_-2Mga3DpSFfQ",
         "rawType": "float64",
         "type": "float"
        },
        {
         "name": "OWiKC7bjIvc7L2iIuBsHxw",
         "rawType": "float64",
         "type": "float"
        },
        {
         "name": "Oe7FYgamhSFuxQy9cMNI0A",
         "rawType": "float64",
         "type": "float"
        },
        {
         "name": "OgqZepyL6UesV6oHtdvI1A",
         "rawType": "float64",
         "type": "float"
        },
        {
         "name": "OkGl2r39FMmK_ephOvcxvg",
         "rawType": "float64",
         "type": "float"
        },
        {
         "name": "OkLqpxpbvU2N2-OGDn0yiA",
         "rawType": "float64",
         "type": "float"
        },
        {
         "name": "Okm4L-vcrZkWJ7GB-auhFQ",
         "rawType": "float64",
         "type": "float"
        },
        {
         "name": "OotqWIuPJcRC3iXA7v5xwg",
         "rawType": "float64",
         "type": "float"
        },
        {
         "name": "Oq_NXf50o4U-cTFWlVkyGQ",
         "rawType": "float64",
         "type": "float"
        },
        {
         "name": "OtGSQQzV7uF8XPAsNIh7Bw",
         "rawType": "float64",
         "type": "float"
        },
        {
         "name": "OwZM33ZI8LZVknaLICWIhw",
         "rawType": "float64",
         "type": "float"
        },
        {
         "name": "Owa9OedRZlYJ6bTLUGltSw",
         "rawType": "float64",
         "type": "float"
        },
        {
         "name": "OyGwvqB3iVPX5CavwuC4tA",
         "rawType": "float64",
         "type": "float"
        },
        {
         "name": "OyutYVBEA505HnCnMEaXMw",
         "rawType": "float64",
         "type": "float"
        },
        {
         "name": "P2ho2ZOr0P49X8-HAMdulw",
         "rawType": "float64",
         "type": "float"
        },
        {
         "name": "P4Plzlfm4uJjNmH3wY4W1Q",
         "rawType": "float64",
         "type": "float"
        },
        {
         "name": "P7pxQFqr7yBKMMI2J51udw",
         "rawType": "float64",
         "type": "float"
        },
        {
         "name": "P9pBzaqo9m6QIhlRRSqoMA",
         "rawType": "float64",
         "type": "float"
        },
        {
         "name": "PAr8XQLgVx2bFIs7OCqPwg",
         "rawType": "float64",
         "type": "float"
        },
        {
         "name": "PBEUEK39haiJhQzuW4tnYQ",
         "rawType": "float64",
         "type": "float"
        },
        {
         "name": "PCiyAPyWO9_6IUWgw7Pwog",
         "rawType": "float64",
         "type": "float"
        },
        {
         "name": "PN2QUMm4bsEKls2Q2-BXsA",
         "rawType": "float64",
         "type": "float"
        },
        {
         "name": "POB0Ng3wbILP5OmpVvGPOQ",
         "rawType": "float64",
         "type": "float"
        },
        {
         "name": "POJL-N7Smw1UZMP_xldFwg",
         "rawType": "float64",
         "type": "float"
        },
        {
         "name": "PPCuGwbGA7HlhsGh8dbBsA",
         "rawType": "float64",
         "type": "float"
        },
        {
         "name": "PRbIMseOwPCCRv5C4SfTDQ",
         "rawType": "float64",
         "type": "float"
        },
        {
         "name": "PS6MUV_adG5JH3SZ4e_sCQ",
         "rawType": "float64",
         "type": "float"
        },
        {
         "name": "PUDtJu2bFTvIl1_WhyUIXQ",
         "rawType": "float64",
         "type": "float"
        },
        {
         "name": "PYIwY8EqOyMLQG567xwVEw",
         "rawType": "float64",
         "type": "float"
        },
        {
         "name": "Pg6t8mG-zWY3pRSdxlFnHg",
         "rawType": "float64",
         "type": "float"
        },
        {
         "name": "PgQZfKQwW6Q9fIvViD7Xrg",
         "rawType": "float64",
         "type": "float"
        },
        {
         "name": "PjEls_NCOQ0m4tJPvcTY8w",
         "rawType": "float64",
         "type": "float"
        },
        {
         "name": "Pk3wpQJ6Gjo-smmzlF0nzA",
         "rawType": "float64",
         "type": "float"
        },
        {
         "name": "PlTdQdCWu2_hjbSuenB3pg",
         "rawType": "float64",
         "type": "float"
        },
        {
         "name": "PqcOSnCsJTT9Yd2xWKIMWw",
         "rawType": "float64",
         "type": "float"
        },
        {
         "name": "PtwW1Hwme8Y0wy54zNr8Xw",
         "rawType": "float64",
         "type": "float"
        },
        {
         "name": "PwHdOGAwzmMm1jr_Nh9SnA",
         "rawType": "float64",
         "type": "float"
        },
        {
         "name": "Pwn3UOiHDYq_UTOcpjgZcA",
         "rawType": "float64",
         "type": "float"
        },
        {
         "name": "PycR_Mr5jA9jB4Xg3nX0Yw",
         "rawType": "float64",
         "type": "float"
        },
        {
         "name": "PyrcymoNDAJDm_Zn9yl-7A",
         "rawType": "float64",
         "type": "float"
        },
        {
         "name": "PzxaySdQuhULRTXhWwM8Kg",
         "rawType": "float64",
         "type": "float"
        },
        {
         "name": "Q-5sqRN6p4B9dgUQKA4hTw",
         "rawType": "float64",
         "type": "float"
        },
        {
         "name": "Q-lz4ZAYDGk0kE-P2Hncsg",
         "rawType": "float64",
         "type": "float"
        },
        {
         "name": "Q997r9eE0cd3PQH0wUNdqw",
         "rawType": "float64",
         "type": "float"
        },
        {
         "name": "QCUjHPu7OF_bqfjnehlQaQ",
         "rawType": "float64",
         "type": "float"
        },
        {
         "name": "QCoeVqhEKg_LGAUyojKe7g",
         "rawType": "float64",
         "type": "float"
        },
        {
         "name": "QDeB3ZtWYzVJJ0KK-HM-PA",
         "rawType": "float64",
         "type": "float"
        },
        {
         "name": "QDtK6vrE0DTDrkFb_3D7tA",
         "rawType": "float64",
         "type": "float"
        },
        {
         "name": "QDvUdj36I_oAzXoFzCQnNA",
         "rawType": "float64",
         "type": "float"
        },
        {
         "name": "QE1tzFyyyRKV1p7C4LRukQ",
         "rawType": "float64",
         "type": "float"
        },
        {
         "name": "QFqtVX-lyZQgVHQrG-dhlg",
         "rawType": "float64",
         "type": "float"
        },
        {
         "name": "QH1lePb3lwTKRF_OXH_6uw",
         "rawType": "float64",
         "type": "float"
        },
        {
         "name": "QH8B92lZXtLwQV9Fdrpukg",
         "rawType": "float64",
         "type": "float"
        },
        {
         "name": "QIn3nMX3ywY8a2bCpyQcRA",
         "rawType": "float64",
         "type": "float"
        },
        {
         "name": "QJR4qBUHegWEozSQrGmBPw",
         "rawType": "float64",
         "type": "float"
        },
        {
         "name": "QJatAcxYgK1Zp9BRZMAx7g",
         "rawType": "float64",
         "type": "float"
        },
        {
         "name": "QMI6A2H1N3SwKU69SiASJA",
         "rawType": "float64",
         "type": "float"
        },
        {
         "name": "QORQnn9U6QHac09XX-nAKg",
         "rawType": "float64",
         "type": "float"
        },
        {
         "name": "QSv8Om6yHTypbXfvWb4C2g",
         "rawType": "float64",
         "type": "float"
        },
        {
         "name": "QXg8-xvdDP8AqeOBPbrXMA",
         "rawType": "float64",
         "type": "float"
        },
        {
         "name": "QdganL5AW9E_fNoRVroLig",
         "rawType": "float64",
         "type": "float"
        },
        {
         "name": "QeDkfLmXVguytF3Of9zg-Q",
         "rawType": "float64",
         "type": "float"
        },
        {
         "name": "QfIJFYIVeZQ3phDJ96JRmw",
         "rawType": "float64",
         "type": "float"
        },
        {
         "name": "Qgi_Q6PkF5D489t45vU_8g",
         "rawType": "float64",
         "type": "float"
        },
        {
         "name": "QhJT2fro3Dp1AaIVY7pgzQ",
         "rawType": "float64",
         "type": "float"
        },
        {
         "name": "Qihead6oTtWCwde3TBqlGg",
         "rawType": "float64",
         "type": "float"
        },
        {
         "name": "QjkA38rDhT_HdN5M31skqQ",
         "rawType": "float64",
         "type": "float"
        },
        {
         "name": "Qjz2Lyqlrag9bCKo3glExg",
         "rawType": "float64",
         "type": "float"
        },
        {
         "name": "QlJztL2aGEXgejgi5JM9Xg",
         "rawType": "float64",
         "type": "float"
        },
        {
         "name": "Qn_mBXvKnn9VeOKym0Ussw",
         "rawType": "float64",
         "type": "float"
        },
        {
         "name": "QpCYSH83E5qT9Vss28Odug",
         "rawType": "float64",
         "type": "float"
        },
        {
         "name": "QrKjK2pzY85D0WgY8GzWXg",
         "rawType": "float64",
         "type": "float"
        },
        {
         "name": "QuYAh94UZzHuy9McaeovKg",
         "rawType": "float64",
         "type": "float"
        },
        {
         "name": "QvxBnMcBPP1z_NAIYCqqdA",
         "rawType": "float64",
         "type": "float"
        },
        {
         "name": "Qx2BnG2jpVV6XVFOYPfGcQ",
         "rawType": "float64",
         "type": "float"
        },
        {
         "name": "QzuamBC7eQx8oHlg6n_qIA",
         "rawType": "float64",
         "type": "float"
        },
        {
         "name": "R0iz7n80-mDo2_uL_Q5ANg",
         "rawType": "float64",
         "type": "float"
        },
        {
         "name": "R1k-z3Mauqk4v-7ZeEVsHQ",
         "rawType": "float64",
         "type": "float"
        },
        {
         "name": "R5ZvZ97FDp2bD93CNKg-zQ",
         "rawType": "float64",
         "type": "float"
        },
        {
         "name": "R5sfMJeNBARIOT9OevJLkA",
         "rawType": "float64",
         "type": "float"
        },
        {
         "name": "R9Q2H4XVCiHUee3OvkB1kg",
         "rawType": "float64",
         "type": "float"
        },
        {
         "name": "RA1Jchnz3uQDg4YVHckKXQ",
         "rawType": "float64",
         "type": "float"
        },
        {
         "name": "RAh9WCQAuocM7hYM5_6tnw",
         "rawType": "float64",
         "type": "float"
        },
        {
         "name": "RClrhCnZiQtKbg6XUpwIWQ",
         "rawType": "float64",
         "type": "float"
        },
        {
         "name": "RESDUcs7fIiihp38-d6_6g",
         "rawType": "float64",
         "type": "float"
        },
        {
         "name": "RFXvcu83or4KG7mcjWaUKA",
         "rawType": "float64",
         "type": "float"
        },
        {
         "name": "RG2IGb4LwbxUwCW3iooYDA",
         "rawType": "float64",
         "type": "float"
        },
        {
         "name": "RHEfk2TTYsTMRsXCAk30yA",
         "rawType": "float64",
         "type": "float"
        },
        {
         "name": "RIPS917yIZ84FLXsjz-cYA",
         "rawType": "float64",
         "type": "float"
        },
        {
         "name": "RJNAeNA-209sctUO0dmwuA",
         "rawType": "float64",
         "type": "float"
        },
        {
         "name": "RJxkhoGxTsz545_sTlDdFA",
         "rawType": "float64",
         "type": "float"
        },
        {
         "name": "RKBxoTrfQaJPn3U5oGn51w",
         "rawType": "float64",
         "type": "float"
        },
        {
         "name": "RStEBQAR_k4Xb5KbplQQ_A",
         "rawType": "float64",
         "type": "float"
        },
        {
         "name": "RWuYX5v7m7giMDmmhP7sVA",
         "rawType": "float64",
         "type": "float"
        },
        {
         "name": "RbPg6h4tramTsGagjfFfdA",
         "rawType": "float64",
         "type": "float"
        },
        {
         "name": "Rc3WSNqLq9Vd0bCFts-E_Q",
         "rawType": "float64",
         "type": "float"
        },
        {
         "name": "Rd11Bosr8JkfoUhZLzpuxg",
         "rawType": "float64",
         "type": "float"
        },
        {
         "name": "RdwHiTJzpCU4Q8pgsJhiKg",
         "rawType": "float64",
         "type": "float"
        },
        {
         "name": "ReyjVKUEVKZHmlrBxu_h2A",
         "rawType": "float64",
         "type": "float"
        },
        {
         "name": "Rh2smrKvcamnP8VBUgMI0Q",
         "rawType": "float64",
         "type": "float"
        },
        {
         "name": "RhEvP5flF6KoPriMHmVYGg",
         "rawType": "float64",
         "type": "float"
        },
        {
         "name": "RkXZ4Gx6SHmSMe_R9c1Dcw",
         "rawType": "float64",
         "type": "float"
        },
        {
         "name": "RnAb4KkRDmWUBWhhZhugZQ",
         "rawType": "float64",
         "type": "float"
        },
        {
         "name": "RpWwTHklokkRMlw5EA9bYQ",
         "rawType": "float64",
         "type": "float"
        },
        {
         "name": "RsQdAT-eFwWpzy0t2SiReQ",
         "rawType": "float64",
         "type": "float"
        },
        {
         "name": "RsxqZk0wswetGMaaQh2r2Q",
         "rawType": "float64",
         "type": "float"
        },
        {
         "name": "RtnTbhWYw4QjKhoTBV37OA",
         "rawType": "float64",
         "type": "float"
        },
        {
         "name": "Rud4J5Hsjn_jjU9IaQ0Dpw",
         "rawType": "float64",
         "type": "float"
        },
        {
         "name": "RwRNR4z3kY-4OsFqigY5sw",
         "rawType": "float64",
         "type": "float"
        },
        {
         "name": "RyTEGJz5tG7zC73BdXt-cQ",
         "rawType": "float64",
         "type": "float"
        },
        {
         "name": "RyTKm8McePjwsL8ggEHOYA",
         "rawType": "float64",
         "type": "float"
        },
        {
         "name": "RypJ1Rhq7Y8GFdP5UFbzUg",
         "rawType": "float64",
         "type": "float"
        },
        {
         "name": "RzXSaz2BjPBHeJzEIUKoQw",
         "rawType": "float64",
         "type": "float"
        },
        {
         "name": "S-oLPRdhlyL5HAknBKTUcQ",
         "rawType": "float64",
         "type": "float"
        },
        {
         "name": "S3-JpB5dBhMXmauMqeoN-g",
         "rawType": "float64",
         "type": "float"
        },
        {
         "name": "SAae44V24aD7y_HpgxjhPA",
         "rawType": "float64",
         "type": "float"
        },
        {
         "name": "SIWwh4m6kkvUaa5skrVAQQ",
         "rawType": "float64",
         "type": "float"
        },
        {
         "name": "SN6mvy2vbXL0F_CYFkx8zg",
         "rawType": "float64",
         "type": "float"
        },
        {
         "name": "SPrOEdbcxGQSvVLDJk2O_g",
         "rawType": "float64",
         "type": "float"
        },
        {
         "name": "SSCH4Z2gw-hh2KZy7aH4qw",
         "rawType": "float64",
         "type": "float"
        },
        {
         "name": "SThmy10YhS13oFgT990Xhw",
         "rawType": "float64",
         "type": "float"
        },
        {
         "name": "SW0NcZwZsbSpsk0ZPgJKmQ",
         "rawType": "float64",
         "type": "float"
        },
        {
         "name": "SW6ZQk22G1_CV81_gfnvNQ",
         "rawType": "float64",
         "type": "float"
        },
        {
         "name": "SYGbbZlLk81_bOlBptbS7A",
         "rawType": "float64",
         "type": "float"
        },
        {
         "name": "SYhiOIAvxBNHt5QEQpu8dg",
         "rawType": "float64",
         "type": "float"
        },
        {
         "name": "S_bG5WWbtNXhhY9Y0GTcSg",
         "rawType": "float64",
         "type": "float"
        },
        {
         "name": "SeNOJ2zYHziptxLuiRINLg",
         "rawType": "float64",
         "type": "float"
        },
        {
         "name": "SecrRuLWCQZW5hdSgJyQPw",
         "rawType": "float64",
         "type": "float"
        },
        {
         "name": "Sf-ZyFFc4UgdgaGzONgaCA",
         "rawType": "float64",
         "type": "float"
        },
        {
         "name": "SkSkWld_ijmWVEDo9_ztKw",
         "rawType": "float64",
         "type": "float"
        },
        {
         "name": "Sovgwq-E-n6wLqNh3X_rXg",
         "rawType": "float64",
         "type": "float"
        },
        {
         "name": "SpJYus_184M2TdT7t52rIA",
         "rawType": "float64",
         "type": "float"
        },
        {
         "name": "SrDrMJYBwuIVzW7gvv64mw",
         "rawType": "float64",
         "type": "float"
        },
        {
         "name": "SueEpC916vd8Lo3Lyl9_pQ",
         "rawType": "float64",
         "type": "float"
        },
        {
         "name": "SvlTuwslYKdqvqWtDe2dgA",
         "rawType": "float64",
         "type": "float"
        },
        {
         "name": "Swezz8vG_9woCkV30kdgKA",
         "rawType": "float64",
         "type": "float"
        },
        {
         "name": "SxC7gGLEZ8B3ooj1Qtjz5w",
         "rawType": "float64",
         "type": "float"
        },
        {
         "name": "SzcCJJmreMlWCsNjupdVAA",
         "rawType": "float64",
         "type": "float"
        },
        {
         "name": "SzhD5J80IhpyeBftzQ950Q",
         "rawType": "float64",
         "type": "float"
        },
        {
         "name": "T-KniGykrZ46ZC9plOTspw",
         "rawType": "float64",
         "type": "float"
        },
        {
         "name": "T-wer_1iIXs692gYrTriDg",
         "rawType": "float64",
         "type": "float"
        },
        {
         "name": "T2XdzAcj0M_kBD9_BHfZlw",
         "rawType": "float64",
         "type": "float"
        },
        {
         "name": "T2tEMLpTeSMxLKpxwFdS3g",
         "rawType": "float64",
         "type": "float"
        },
        {
         "name": "T419Y3fiJW9EuFDkFougVA",
         "rawType": "float64",
         "type": "float"
        },
        {
         "name": "T4xwy5NVY__Emc0UHdlACA",
         "rawType": "float64",
         "type": "float"
        },
        {
         "name": "T5R6aILLDBnHQvfejY7dgA",
         "rawType": "float64",
         "type": "float"
        },
        {
         "name": "T70pMoTP008qYLsIvFCXdQ",
         "rawType": "float64",
         "type": "float"
        },
        {
         "name": "T7yKffTuhiIZclsgjfgowA",
         "rawType": "float64",
         "type": "float"
        },
        {
         "name": "T8npqHg1fPp4P8JE3E16sw",
         "rawType": "float64",
         "type": "float"
        },
        {
         "name": "TBzgzTFSa7pJXiLD7emYaQ",
         "rawType": "float64",
         "type": "float"
        },
        {
         "name": "TCoBE_BkDRrK0bWrh5VueQ",
         "rawType": "float64",
         "type": "float"
        },
        {
         "name": "TIYnquDIPdYmVJK4GNeXSQ",
         "rawType": "float64",
         "type": "float"
        },
        {
         "name": "TLp092gHMUnGPDE0U8gSxg",
         "rawType": "float64",
         "type": "float"
        },
        {
         "name": "TQcDrdS8Dbbrayu78G_myA",
         "rawType": "float64",
         "type": "float"
        },
        {
         "name": "TQxMhEar6--Wj4Du8nRQsw",
         "rawType": "float64",
         "type": "float"
        },
        {
         "name": "TT658qQinO6MBHP9q7rJ8w",
         "rawType": "float64",
         "type": "float"
        },
        {
         "name": "TVYJx5iUkLJFiuiXc8rxEQ",
         "rawType": "float64",
         "type": "float"
        },
        {
         "name": "TVbVii4EUQt9DG7y698zIw",
         "rawType": "float64",
         "type": "float"
        },
        {
         "name": "TZGcI88FepqA6A5ynDidQA",
         "rawType": "float64",
         "type": "float"
        },
        {
         "name": "TaTjCuAu6digyuZNBo0fag",
         "rawType": "float64",
         "type": "float"
        },
        {
         "name": "TeL2_oZCI-eA1NMrznG58Q",
         "rawType": "float64",
         "type": "float"
        },
        {
         "name": "ThNGovQZjZ5mn-ZwX_N2BQ",
         "rawType": "float64",
         "type": "float"
        },
        {
         "name": "Tjbd3oTRXs9ZdItF_cLJMQ",
         "rawType": "float64",
         "type": "float"
        },
        {
         "name": "Tk7qCou7aYv_Z-K3a7NhhA",
         "rawType": "float64",
         "type": "float"
        },
        {
         "name": "TmddzXM17nF25IbIfbTbjQ",
         "rawType": "float64",
         "type": "float"
        },
        {
         "name": "Todrg1F247iuDIm784XHfA",
         "rawType": "float64",
         "type": "float"
        },
        {
         "name": "Tp07u-0AOFRfQhtNpAXaQA",
         "rawType": "float64",
         "type": "float"
        },
        {
         "name": "TqL0ytKAucWdW2mR7EbayA",
         "rawType": "float64",
         "type": "float"
        },
        {
         "name": "TyKGLi1V1PFRHYmHDjFUMQ",
         "rawType": "float64",
         "type": "float"
        },
        {
         "name": "TyZnv8aX1OJfBKoyuYgZLQ",
         "rawType": "float64",
         "type": "float"
        },
        {
         "name": "U-zsJM-VN89i3PbaIbKmJw",
         "rawType": "float64",
         "type": "float"
        },
        {
         "name": "U1cXgftMjQheZfY8QKoXmA",
         "rawType": "float64",
         "type": "float"
        },
        {
         "name": "U1vCsmbALiJpTUySjkirfw",
         "rawType": "float64",
         "type": "float"
        },
        {
         "name": "U3O8l_wmzdeckbhHpuRWCg",
         "rawType": "float64",
         "type": "float"
        },
        {
         "name": "U7fZfH9C4hj5BFRYaPOo2w",
         "rawType": "float64",
         "type": "float"
        },
        {
         "name": "UBv8heCQR0RPnUQG0zkXIQ",
         "rawType": "float64",
         "type": "float"
        },
        {
         "name": "UCKwaY8_cgYZ4U0hZYWIUA",
         "rawType": "float64",
         "type": "float"
        },
        {
         "name": "UCpUOtvqR-NBWBNVMzJleA",
         "rawType": "float64",
         "type": "float"
        },
        {
         "name": "UE3AvVnaPEBPneVahYT2eA",
         "rawType": "float64",
         "type": "float"
        },
        {
         "name": "UH6mET5JYZR6yPDVpTG9Og",
         "rawType": "float64",
         "type": "float"
        },
        {
         "name": "UMqfeCItzQ2glr4d9apGlA",
         "rawType": "float64",
         "type": "float"
        },
        {
         "name": "UN_6ebslv5cxdDmZAX3ivQ",
         "rawType": "float64",
         "type": "float"
        },
        {
         "name": "UO4HTFr0D_hEYvxrItx9vA",
         "rawType": "float64",
         "type": "float"
        },
        {
         "name": "UP7ejOl-PQyWZ9iFRQD8Xw",
         "rawType": "float64",
         "type": "float"
        },
        {
         "name": "UPIYuRaZvknINOd1w8kqRQ",
         "rawType": "float64",
         "type": "float"
        },
        {
         "name": "URa75T-A1QvjMUFNIPyukQ",
         "rawType": "float64",
         "type": "float"
        },
        {
         "name": "UXDoc76N59G6p3RUH5S--w",
         "rawType": "float64",
         "type": "float"
        },
        {
         "name": "UXL5eg0e6W1AZzmX6NAXdg",
         "rawType": "float64",
         "type": "float"
        },
        {
         "name": "UY13CTgUqriT-fMxT2APLw",
         "rawType": "float64",
         "type": "float"
        },
        {
         "name": "Ub4_g-M8ocMSrsa9RlXu4Q",
         "rawType": "float64",
         "type": "float"
        },
        {
         "name": "UdMrPZIXPTZfKhHBw_toKg",
         "rawType": "float64",
         "type": "float"
        },
        {
         "name": "UhdlNJz_ZNb-m3kF-YLSgw",
         "rawType": "float64",
         "type": "float"
        },
        {
         "name": "UioQI1PcRmEgO9EKk9VZEA",
         "rawType": "float64",
         "type": "float"
        },
        {
         "name": "Uis9LkGms_T9Cj0iWNp_BQ",
         "rawType": "float64",
         "type": "float"
        },
        {
         "name": "UivDzG-AWhcfX-ADpg3Riw",
         "rawType": "float64",
         "type": "float"
        },
        {
         "name": "UjvFjN1Aqp-pysEvpjelMg",
         "rawType": "float64",
         "type": "float"
        },
        {
         "name": "UkWme3kwg6L9rd4tCNB15w",
         "rawType": "float64",
         "type": "float"
        },
        {
         "name": "Ul6JwluSTm12PVDIqnNaTg",
         "rawType": "float64",
         "type": "float"
        },
        {
         "name": "Um1RlhIOjamlkF4YoAj_8w",
         "rawType": "float64",
         "type": "float"
        },
        {
         "name": "Ums3gaP2qM3W1XcA5r6SsQ",
         "rawType": "float64",
         "type": "float"
        },
        {
         "name": "Uq-GOs9_IqweUsB5MdII9w",
         "rawType": "float64",
         "type": "float"
        },
        {
         "name": "UqhVZYUeoBGroYpZB-9jlQ",
         "rawType": "float64",
         "type": "float"
        },
        {
         "name": "UsDRCbDndzVGLXrAylnxnQ",
         "rawType": "float64",
         "type": "float"
        },
        {
         "name": "Uut2Y-n5eMO6qIn7tvEYKA",
         "rawType": "float64",
         "type": "float"
        },
        {
         "name": "UvF68aNDfzCWQbxO6-647g",
         "rawType": "float64",
         "type": "float"
        },
        {
         "name": "Uw-kIS3HTuAohfg0edQZ3Q",
         "rawType": "float64",
         "type": "float"
        },
        {
         "name": "UxWH8zRYIBgs6Q2oykvRdw",
         "rawType": "float64",
         "type": "float"
        },
        {
         "name": "Uxm9N6jwmJybOv1NcBbnRw",
         "rawType": "float64",
         "type": "float"
        },
        {
         "name": "V-z697Ko2niiEAD60SJv7A",
         "rawType": "float64",
         "type": "float"
        },
        {
         "name": "V0sBuKW37bg7h-ICtI07aw",
         "rawType": "float64",
         "type": "float"
        },
        {
         "name": "V1cWGBZLQLyIiyo0iUOnyg",
         "rawType": "float64",
         "type": "float"
        },
        {
         "name": "V4NH79nxz5PS6_GdCM9sSQ",
         "rawType": "float64",
         "type": "float"
        },
        {
         "name": "V90fC_aF-_DNYzQvUtbLww",
         "rawType": "float64",
         "type": "float"
        },
        {
         "name": "V9OIBO95GDFRvQMcKsNT2w",
         "rawType": "float64",
         "type": "float"
        },
        {
         "name": "VG0nWxGsPixYLsyi49gyxQ",
         "rawType": "float64",
         "type": "float"
        },
        {
         "name": "VH2BjFjc9usDquDgoHhptA",
         "rawType": "float64",
         "type": "float"
        },
        {
         "name": "VJTfQ1XksfYg8qgrHk3PlQ",
         "rawType": "float64",
         "type": "float"
        },
        {
         "name": "VJzOQmsuoeF4Y53nEreJmA",
         "rawType": "float64",
         "type": "float"
        },
        {
         "name": "VK4YQ5_s2-dyfAJgYK2X2Q",
         "rawType": "float64",
         "type": "float"
        },
        {
         "name": "VLDFjeqpUgWhnVuB_8GuEg",
         "rawType": "float64",
         "type": "float"
        },
        {
         "name": "VO8ZLZ4NPvwcvdCAp89e0w",
         "rawType": "float64",
         "type": "float"
        },
        {
         "name": "VOGC-kA2DlI2kxFj5prkDA",
         "rawType": "float64",
         "type": "float"
        },
        {
         "name": "VRTfAP2DjvUYxRY3dw37hA",
         "rawType": "float64",
         "type": "float"
        },
        {
         "name": "VRwT0pscR5vESCrAnUpNwQ",
         "rawType": "float64",
         "type": "float"
        },
        {
         "name": "VTxsR3s6uTlJ1_Vep_bx2g",
         "rawType": "float64",
         "type": "float"
        },
        {
         "name": "VZa00hKCxOczpJyfFj8AOQ",
         "rawType": "float64",
         "type": "float"
        },
        {
         "name": "V_VQ9BgbLEzL9mPLQQlc6g",
         "rawType": "float64",
         "type": "float"
        },
        {
         "name": "Vay9xHwcvu7VRZOddBgn-A",
         "rawType": "float64",
         "type": "float"
        },
        {
         "name": "VbEK6-etnKKaPamrG2jWjQ",
         "rawType": "float64",
         "type": "float"
        },
        {
         "name": "Vd5n_Jv9vtvD6dzl3ReNWg",
         "rawType": "float64",
         "type": "float"
        },
        {
         "name": "VeFqptSzekFAc3FZOpi81Q",
         "rawType": "float64",
         "type": "float"
        },
        {
         "name": "Vg4N2DsGrzzoam9jS1L3Wg",
         "rawType": "float64",
         "type": "float"
        },
        {
         "name": "VhQXJteVrG3L-wq8HlYFqw",
         "rawType": "float64",
         "type": "float"
        },
        {
         "name": "VheEKc8mM7WcwILhM6fnaw",
         "rawType": "float64",
         "type": "float"
        },
        {
         "name": "ViF5Kd7pBF1JJhlvEy1kpA",
         "rawType": "float64",
         "type": "float"
        },
        {
         "name": "VmspRdKauEargr8YX1oL-Q",
         "rawType": "float64",
         "type": "float"
        },
        {
         "name": "VnZ7QP7OnJD8dJIFk91-Yw",
         "rawType": "float64",
         "type": "float"
        },
        {
         "name": "VoXUt6TIJWyIf_lihbN5xQ",
         "rawType": "float64",
         "type": "float"
        },
        {
         "name": "VoYF6KnSnnhZ2lI4D9O-KA",
         "rawType": "float64",
         "type": "float"
        },
        {
         "name": "VpXlnz2dD4KzPw4yJ_eJ3A",
         "rawType": "float64",
         "type": "float"
        },
        {
         "name": "VsRAIb4k5CjEF-3l_bac0g",
         "rawType": "float64",
         "type": "float"
        },
        {
         "name": "Vt4RPq1nkUI5GI4G8JXyQw",
         "rawType": "float64",
         "type": "float"
        },
        {
         "name": "VtuC_HxzVTl4Zw0ICuXkIQ",
         "rawType": "float64",
         "type": "float"
        },
        {
         "name": "VvSmE1NnTjnaTPHT0WrCaQ",
         "rawType": "float64",
         "type": "float"
        },
        {
         "name": "VyVIneSU7XAWgMBllI6LnQ",
         "rawType": "float64",
         "type": "float"
        },
        {
         "name": "VyjyHoBg3KC5BSFRlD0ZPQ",
         "rawType": "float64",
         "type": "float"
        },
        {
         "name": "W-vHSqHnELqA0iPiHB5vQA",
         "rawType": "float64",
         "type": "float"
        },
        {
         "name": "W4bpu9EZeynoIgJFCuo1Nw",
         "rawType": "float64",
         "type": "float"
        },
        {
         "name": "W64ewTH4tk_d5feUseZqFQ",
         "rawType": "float64",
         "type": "float"
        },
        {
         "name": "W9y-Bl9030-rmfxSTmUD_g",
         "rawType": "float64",
         "type": "float"
        },
        {
         "name": "WAvBDsUGa_nzmcwfc42Qng",
         "rawType": "float64",
         "type": "float"
        },
        {
         "name": "WB8BmFMORvshjb7tBw0e0Q",
         "rawType": "float64",
         "type": "float"
        },
        {
         "name": "WD64Zr_LUXITJVAOFnT5Aw",
         "rawType": "float64",
         "type": "float"
        },
        {
         "name": "WEtbc5oewinsWdhrXDcojQ",
         "rawType": "float64",
         "type": "float"
        },
        {
         "name": "WO1sgbYB6u6VVcvChanp5g",
         "rawType": "float64",
         "type": "float"
        },
        {
         "name": "WOj8nPos3R9IIf0Pyttd8g",
         "rawType": "float64",
         "type": "float"
        },
        {
         "name": "WPCgtEG-bJt0cZtnM-x7yw",
         "rawType": "float64",
         "type": "float"
        },
        {
         "name": "WQyGqfFKd-baBTVfZWzeTw",
         "rawType": "float64",
         "type": "float"
        },
        {
         "name": "WVvqV0cmNR3j7ChPoI74hQ",
         "rawType": "float64",
         "type": "float"
        },
        {
         "name": "WWOCqk1Vh605xP-lcb9lhA",
         "rawType": "float64",
         "type": "float"
        },
        {
         "name": "WdBWhGe4Siqg3IYTc4_K4A",
         "rawType": "float64",
         "type": "float"
        },
        {
         "name": "WdCh7l_pxqJtuZl5VJriYw",
         "rawType": "float64",
         "type": "float"
        },
        {
         "name": "Wh_-S_tJvma15bxjSJjrWw",
         "rawType": "float64",
         "type": "float"
        },
        {
         "name": "Whx8DVjPVUpldsWk8Hea8Q",
         "rawType": "float64",
         "type": "float"
        },
        {
         "name": "Whzg5Koaz9yJ6mwIl7QkqQ",
         "rawType": "float64",
         "type": "float"
        },
        {
         "name": "WlkOFaqRL5vtYZZ7fl4x1Q",
         "rawType": "float64",
         "type": "float"
        },
        {
         "name": "Wmrc1Yro_BLHGU3Usyqdhw",
         "rawType": "float64",
         "type": "float"
        },
        {
         "name": "WnrK19zBdW3ATWRc9RjYMA",
         "rawType": "float64",
         "type": "float"
        },
        {
         "name": "Wppq3ceZDMNCr24X4i-kfw",
         "rawType": "float64",
         "type": "float"
        },
        {
         "name": "WqimEEptZwgkfZztkTrbAA",
         "rawType": "float64",
         "type": "float"
        },
        {
         "name": "Wrjz_LLqFy692cyXhIO0jw",
         "rawType": "float64",
         "type": "float"
        },
        {
         "name": "Wxujfvh6t4xHkLHaqLgJoA",
         "rawType": "float64",
         "type": "float"
        },
        {
         "name": "Wxxvi3LZbHNIDwJ-ZimtnA",
         "rawType": "float64",
         "type": "float"
        },
        {
         "name": "WyjxWKA0VKs6qiUUU9FOlA",
         "rawType": "float64",
         "type": "float"
        },
        {
         "name": "X1twjafYxMCpKt2MqvY5Tw",
         "rawType": "float64",
         "type": "float"
        },
        {
         "name": "XD0LjNuPPwJPsTAHecUh7A",
         "rawType": "float64",
         "type": "float"
        },
        {
         "name": "XE8LOObCmAqu78fhEt7SHQ",
         "rawType": "float64",
         "type": "float"
        },
        {
         "name": "XKJdnU_LK5tE5ENJUxFUmQ",
         "rawType": "float64",
         "type": "float"
        },
        {
         "name": "XKPosZx2j4RHcZ8Ewdwj0A",
         "rawType": "float64",
         "type": "float"
        },
        {
         "name": "XPkyhoAoCXPmmCdbMpxLHg",
         "rawType": "float64",
         "type": "float"
        },
        {
         "name": "XPtDU14nu36LWt7_UagI9Q",
         "rawType": "float64",
         "type": "float"
        },
        {
         "name": "XS80QAi1aYKK5v1zmKlkwA",
         "rawType": "float64",
         "type": "float"
        },
        {
         "name": "XSZgcEMWM4XcuE-sWXny9w",
         "rawType": "float64",
         "type": "float"
        },
        {
         "name": "XXCDAqG0iwIWWuKOtnre0w",
         "rawType": "float64",
         "type": "float"
        },
        {
         "name": "XXW_OFaYQkkGOGniujZFHg",
         "rawType": "float64",
         "type": "float"
        },
        {
         "name": "X_EBs3ShGJmehqzfuciEAA",
         "rawType": "float64",
         "type": "float"
        },
        {
         "name": "XaCZ11vawjLZ6gDE2dU6CA",
         "rawType": "float64",
         "type": "float"
        },
        {
         "name": "XdY36-Qh_DxnCaFpTPfYMg",
         "rawType": "float64",
         "type": "float"
        },
        {
         "name": "XeUm1QS078kgjwONhul0ng",
         "rawType": "float64",
         "type": "float"
        },
        {
         "name": "XfO5MZI2lH1U2HsMnIsYzg",
         "rawType": "float64",
         "type": "float"
        },
        {
         "name": "Xg5qEQiB-7L6kGJ5F4K3bQ",
         "rawType": "float64",
         "type": "float"
        },
        {
         "name": "XgRDG9E_WLEbl8S-QUqQkQ",
         "rawType": "float64",
         "type": "float"
        },
        {
         "name": "Xgk-d2x59qhPxOsuCKeShw",
         "rawType": "float64",
         "type": "float"
        },
        {
         "name": "XiMvHK4Nq0xPa1GOtdKzdA",
         "rawType": "float64",
         "type": "float"
        },
        {
         "name": "XlbDdblfNsOGiZ84CorRBQ",
         "rawType": "float64",
         "type": "float"
        },
        {
         "name": "XmgdFa3G_CZVfjtQEJMZfQ",
         "rawType": "float64",
         "type": "float"
        },
        {
         "name": "XqKJ6PHxt7fbUptQe_SJcg",
         "rawType": "float64",
         "type": "float"
        },
        {
         "name": "Xrd1ZBG6ru-s7r5xT0G68g",
         "rawType": "float64",
         "type": "float"
        },
        {
         "name": "Xrr19fzrUUgTTQBLUd2Gzg",
         "rawType": "float64",
         "type": "float"
        },
        {
         "name": "XsSgv3vBOyOBXn3Co8EVIg",
         "rawType": "float64",
         "type": "float"
        },
        {
         "name": "Xv9kCl04nTNxny8xy9BOHw",
         "rawType": "float64",
         "type": "float"
        },
        {
         "name": "XvuUYiJYAAiNC4AmdbBZ8g",
         "rawType": "float64",
         "type": "float"
        },
        {
         "name": "XwV2-lISDp_5Acy72bA8Qg",
         "rawType": "float64",
         "type": "float"
        },
        {
         "name": "XwwjDG5z91z4fxxUYW-yxw",
         "rawType": "float64",
         "type": "float"
        },
        {
         "name": "XxnQKE9jTD0bTE3LZ5NOtQ",
         "rawType": "float64",
         "type": "float"
        },
        {
         "name": "Y-oPVMkxgEsve1sG2iDLXA",
         "rawType": "float64",
         "type": "float"
        },
        {
         "name": "Y3FcorCGv0U-ecprHT1Hxg",
         "rawType": "float64",
         "type": "float"
        },
        {
         "name": "Y40U2KXA3v-N_h-9F8Y_aQ",
         "rawType": "float64",
         "type": "float"
        },
        {
         "name": "Y5CTA3S9TVkpr3Yvwaki-A",
         "rawType": "float64",
         "type": "float"
        },
        {
         "name": "Y6HXGGDMKiPMNPwmK3W_oQ",
         "rawType": "float64",
         "type": "float"
        },
        {
         "name": "Y6Tu9r3AaEaX41BRATQLaQ",
         "rawType": "float64",
         "type": "float"
        },
        {
         "name": "YAJzBGvqT3dT_qAg6u8E1A",
         "rawType": "float64",
         "type": "float"
        },
        {
         "name": "YCEZLECK9IToE8Mysorbhw",
         "rawType": "float64",
         "type": "float"
        },
        {
         "name": "YCYqEsAabSPzfdKeT7KJIA",
         "rawType": "float64",
         "type": "float"
        },
        {
         "name": "YE55riIHyVuC9NfkcU9eFg",
         "rawType": "float64",
         "type": "float"
        },
        {
         "name": "YEr6lSiAPa8ziEB0fU2cJA",
         "rawType": "float64",
         "type": "float"
        },
        {
         "name": "YHubCF0Ua0uC6HC2tm-arQ",
         "rawType": "float64",
         "type": "float"
        },
        {
         "name": "YJ05ntGlszxACOD5zn1YjA",
         "rawType": "float64",
         "type": "float"
        },
        {
         "name": "YJ8ljUhLsz6CtT_2ORNFmg",
         "rawType": "float64",
         "type": "float"
        },
        {
         "name": "YJ_nOxPvADRDVRpNi3WSCw",
         "rawType": "float64",
         "type": "float"
        },
        {
         "name": "YLwXQbMN-4NvUs_U8brP-w",
         "rawType": "float64",
         "type": "float"
        },
        {
         "name": "YM-nYIHd99qUt9n62AxIAg",
         "rawType": "float64",
         "type": "float"
        },
        {
         "name": "YPa8t1631tlRQms0p331ZQ",
         "rawType": "float64",
         "type": "float"
        },
        {
         "name": "YQ0h5NTYgrBgOXf2VRYKVg",
         "rawType": "float64",
         "type": "float"
        },
        {
         "name": "YQkiqFCiGr_GtTY6-QHEog",
         "rawType": "float64",
         "type": "float"
        },
        {
         "name": "YSUPAkyni4qpcHfrMOAEww",
         "rawType": "float64",
         "type": "float"
        },
        {
         "name": "YURN6bVsqRfPElrMlef4nQ",
         "rawType": "float64",
         "type": "float"
        },
        {
         "name": "YWd0I1BxSzFG61lSyC3IyQ",
         "rawType": "float64",
         "type": "float"
        },
        {
         "name": "Ya9FMj-MWMkeMcog06N5bQ",
         "rawType": "float64",
         "type": "float"
        },
        {
         "name": "YaP9eUQh4Jy_bbOID7f7iw",
         "rawType": "float64",
         "type": "float"
        },
        {
         "name": "YavRvjbLsvh4DYDJPAfJIA",
         "rawType": "float64",
         "type": "float"
        },
        {
         "name": "YbrMUQSdRtTMZSUQq3xoPQ",
         "rawType": "float64",
         "type": "float"
        },
        {
         "name": "Ybxl-MdPl4BUQ7Fc4xaj7A",
         "rawType": "float64",
         "type": "float"
        },
        {
         "name": "Yemfgx9S_UzK9Rbqpbl6nA",
         "rawType": "float64",
         "type": "float"
        },
        {
         "name": "Yf-2OMa58Pdxv-Jc9kXiVA",
         "rawType": "float64",
         "type": "float"
        },
        {
         "name": "Yh18ij9FW0ZkpWuFJnb8Xg",
         "rawType": "float64",
         "type": "float"
        },
        {
         "name": "YlwJYpBWa-oL0byTVPNKRQ",
         "rawType": "float64",
         "type": "float"
        },
        {
         "name": "Ym0xnOQsoG3XTKMDuqIrjw",
         "rawType": "float64",
         "type": "float"
        },
        {
         "name": "YmFkrylzWy4vmNFkWk-I0g",
         "rawType": "float64",
         "type": "float"
        },
        {
         "name": "YmIYjZGnuZzqVPkFBF4Omw",
         "rawType": "float64",
         "type": "float"
        },
        {
         "name": "YmOWkved7K8q3eXgf4NNnA",
         "rawType": "float64",
         "type": "float"
        },
        {
         "name": "Yo8ODT7aFMM2xKUd1yaBVw",
         "rawType": "float64",
         "type": "float"
        },
        {
         "name": "YrKjO9jFZrsgpIbSSLSHRA",
         "rawType": "float64",
         "type": "float"
        },
        {
         "name": "YrqQWT5wzBUumklE4B_XfA",
         "rawType": "float64",
         "type": "float"
        },
        {
         "name": "YuQD6IiuIRCAXiNOmXM0rA",
         "rawType": "float64",
         "type": "float"
        },
        {
         "name": "YulFeohJQz8ECCuxopF3NQ",
         "rawType": "float64",
         "type": "float"
        },
        {
         "name": "YyY4DFr-OFtpN2ThrLHTAQ",
         "rawType": "float64",
         "type": "float"
        },
        {
         "name": "Z3y47L3EY-axAEVbwmXZaA",
         "rawType": "float64",
         "type": "float"
        },
        {
         "name": "Z4y3LZlCjv4xnZ8xOpYf_Q",
         "rawType": "float64",
         "type": "float"
        },
        {
         "name": "Z7nGSKvjmHNRkXtoMxA3Jw",
         "rawType": "float64",
         "type": "float"
        },
        {
         "name": "ZAqgv1gply0m_4fHAIffWA",
         "rawType": "float64",
         "type": "float"
        },
        {
         "name": "ZBrPiysQdu-Yi1gqWGzcmw",
         "rawType": "float64",
         "type": "float"
        },
        {
         "name": "ZCzey5aPhd7jYIoHsUfjmQ",
         "rawType": "float64",
         "type": "float"
        },
        {
         "name": "ZDDzKXN_JXe7694zePRuTQ",
         "rawType": "float64",
         "type": "float"
        },
        {
         "name": "ZGXd87vme_dDVYqr-HpRQQ",
         "rawType": "float64",
         "type": "float"
        },
        {
         "name": "ZHiT9EIlnKMqbpBUmxSh_Q",
         "rawType": "float64",
         "type": "float"
        },
        {
         "name": "ZJdOOIubTizd1eqECkeK-Q",
         "rawType": "float64",
         "type": "float"
        },
        {
         "name": "ZM-ljL_Y6bR4qEYsGHws5A",
         "rawType": "float64",
         "type": "float"
        },
        {
         "name": "ZMx9_sQydPUj5KGvcm73Sw",
         "rawType": "float64",
         "type": "float"
        },
        {
         "name": "ZP9W5gdd2WVzJcDbT9hcWw",
         "rawType": "float64",
         "type": "float"
        },
        {
         "name": "ZPwx7ktiVluGFVg0L05n5A",
         "rawType": "float64",
         "type": "float"
        },
        {
         "name": "ZYUCffa5zsT1HPnKxeKQrQ",
         "rawType": "float64",
         "type": "float"
        },
        {
         "name": "ZYr2feXiGYTbWyho_1oUiw",
         "rawType": "float64",
         "type": "float"
        },
        {
         "name": "ZZegUx6pEhjglihlOgyGiA",
         "rawType": "float64",
         "type": "float"
        },
        {
         "name": "ZcTl-DflTJXmxd29xgh11g",
         "rawType": "float64",
         "type": "float"
        },
        {
         "name": "Zd5bvGvlSmksBJXrevtxEQ",
         "rawType": "float64",
         "type": "float"
        },
        {
         "name": "ZilzayEdyk70SoI-wruJbg",
         "rawType": "float64",
         "type": "float"
        },
        {
         "name": "ZjzfYSCfmGIj3O1dOBI26g",
         "rawType": "float64",
         "type": "float"
        },
        {
         "name": "ZkGHqd_f6hxNb5TN6Knu-g",
         "rawType": "float64",
         "type": "float"
        },
        {
         "name": "Zo0DWTyHTSyKRVIWIYVf-w",
         "rawType": "float64",
         "type": "float"
        },
        {
         "name": "ZosrzTfiiPhbURA04AQTUA",
         "rawType": "float64",
         "type": "float"
        },
        {
         "name": "Zp9RMGJKVc9Qkhj4QqyROw",
         "rawType": "float64",
         "type": "float"
        },
        {
         "name": "ZrS5rhJ4OvXQG_38wPEWlA",
         "rawType": "float64",
         "type": "float"
        },
        {
         "name": "ZuCKwbWUNUu5Ri0IN5dUQw",
         "rawType": "float64",
         "type": "float"
        },
        {
         "name": "ZumOnWbstgsIE6bJlxw0_Q",
         "rawType": "float64",
         "type": "float"
        },
        {
         "name": "Zwg2TWwdm7y5ORK3yN6nDw",
         "rawType": "float64",
         "type": "float"
        },
        {
         "name": "Zzvjuyxr1iudPN_heAAygw",
         "rawType": "float64",
         "type": "float"
        },
        {
         "name": "_-vDX3omTBcx646X5TRpfQ",
         "rawType": "float64",
         "type": "float"
        },
        {
         "name": "_58iFj9Hj5NMVECaAkLjog",
         "rawType": "float64",
         "type": "float"
        },
        {
         "name": "_5BaYz2A3l2SJvA9Hv6POQ",
         "rawType": "float64",
         "type": "float"
        },
        {
         "name": "_5S-0t10CgqKuMW6yiklHQ",
         "rawType": "float64",
         "type": "float"
        },
        {
         "name": "_7wj87KZspahqDHxbXreMQ",
         "rawType": "float64",
         "type": "float"
        },
        {
         "name": "_8VkSb_Mryb6bHQxSWB7Pg",
         "rawType": "float64",
         "type": "float"
        },
        {
         "name": "_B3jnaQVtDXqydea1y92fQ",
         "rawType": "float64",
         "type": "float"
        },
        {
         "name": "_BnBjRMt5Ba-TAv07r3fyw",
         "rawType": "float64",
         "type": "float"
        },
        {
         "name": "_CEoobNepzCNHxege05A5A",
         "rawType": "float64",
         "type": "float"
        },
        {
         "name": "_DzbJ52ySSD4xVxigwj9nw",
         "rawType": "float64",
         "type": "float"
        },
        {
         "name": "_GSmCvoVEpQG1heudjMNZQ",
         "rawType": "float64",
         "type": "float"
        },
        {
         "name": "_Ggfchx5t3KYZOWu5N3y-A",
         "rawType": "float64",
         "type": "float"
        },
        {
         "name": "_JD_U3pZDynB6l8swzVlQA",
         "rawType": "float64",
         "type": "float"
        },
        {
         "name": "_LFL-zsgOZRc7rSfjzZbVQ",
         "rawType": "float64",
         "type": "float"
        },
        {
         "name": "_MNNGWXqkXCPiKQxCHsiuQ",
         "rawType": "float64",
         "type": "float"
        },
        {
         "name": "_OTl6V2oUfMMmoDWD2nXVg",
         "rawType": "float64",
         "type": "float"
        },
        {
         "name": "_PfpHaeuekLUGaKKtee2KA",
         "rawType": "float64",
         "type": "float"
        },
        {
         "name": "__pTR2Zcmofr_1FpAaQZhA",
         "rawType": "float64",
         "type": "float"
        },
        {
         "name": "_aofcEsCpuKVqK39u03x-A",
         "rawType": "float64",
         "type": "float"
        },
        {
         "name": "_ax_jfISiBZ4JSTHrI4xJA",
         "rawType": "float64",
         "type": "float"
        },
        {
         "name": "_cjPEH9wXhKS-HQe_U3M4Q",
         "rawType": "float64",
         "type": "float"
        },
        {
         "name": "_eysP-l3yXpCqMHOQEptdQ",
         "rawType": "float64",
         "type": "float"
        },
        {
         "name": "_i3AM8X40LkTDOrDyNVv5Q",
         "rawType": "float64",
         "type": "float"
        },
        {
         "name": "_mUA8LjS5fQUk0oKT6u3NQ",
         "rawType": "float64",
         "type": "float"
        },
        {
         "name": "_mtAXGkVLLB6I9NddO-whQ",
         "rawType": "float64",
         "type": "float"
        },
        {
         "name": "_n3w5BK4-k7iXCWifCjUZg",
         "rawType": "float64",
         "type": "float"
        },
        {
         "name": "_pBXtjN43eqMV0XZTz7nmw",
         "rawType": "float64",
         "type": "float"
        },
        {
         "name": "_sh6mIBWZis66mAjkjN8Qg",
         "rawType": "float64",
         "type": "float"
        },
        {
         "name": "_t8B7bb-Q7kmn50kvGEKzw",
         "rawType": "float64",
         "type": "float"
        },
        {
         "name": "_ttAz3nQQOLY2UctfuNbmA",
         "rawType": "float64",
         "type": "float"
        },
        {
         "name": "_xAJZOKBMPOe47p1MphB2w",
         "rawType": "float64",
         "type": "float"
        },
        {
         "name": "_y1Et7f4NE6D1P1GzphlIw",
         "rawType": "float64",
         "type": "float"
        },
        {
         "name": "_ypwtK0_ilVZNlsP1z3jBg",
         "rawType": "float64",
         "type": "float"
        },
        {
         "name": "_zTW9DhfQxU7HaVAu-Tsmg",
         "rawType": "float64",
         "type": "float"
        },
        {
         "name": "a-Mo7Ipu_c5y21mmg0-F7g",
         "rawType": "float64",
         "type": "float"
        },
        {
         "name": "a2S-Rr7RQGrpkYH_ia9vnw",
         "rawType": "float64",
         "type": "float"
        },
        {
         "name": "a2leVC69VaflWRREkr7RNg",
         "rawType": "float64",
         "type": "float"
        },
        {
         "name": "a8ECAeXMEEUeCidS7vvCyg",
         "rawType": "float64",
         "type": "float"
        },
        {
         "name": "a8pmtlVKf7NiSLI-4KejIw",
         "rawType": "float64",
         "type": "float"
        },
        {
         "name": "a8uQhqCsy_CA74HqNBOuUA",
         "rawType": "float64",
         "type": "float"
        },
        {
         "name": "aAIKXfz-86Vki8ValH94JA",
         "rawType": "float64",
         "type": "float"
        },
        {
         "name": "aD-YA02i2xAqLBDon1tzIQ",
         "rawType": "float64",
         "type": "float"
        },
        {
         "name": "aEs7Qle2Ah49dwaf3QNU1w",
         "rawType": "float64",
         "type": "float"
        },
        {
         "name": "aG-QcGdP7yY7-UPyeyvNCA",
         "rawType": "float64",
         "type": "float"
        },
        {
         "name": "aLcFhMe6DDJ430zelCpd2A",
         "rawType": "float64",
         "type": "float"
        },
        {
         "name": "aNYunG3j5zNJ4F0dQcZMyQ",
         "rawType": "float64",
         "type": "float"
        },
        {
         "name": "aO1gAp41n8w8zpxTiHdLNA",
         "rawType": "float64",
         "type": "float"
        },
        {
         "name": "aQ222ydz_GSRZV66xNt4kQ",
         "rawType": "float64",
         "type": "float"
        },
        {
         "name": "aQ5dTU00g8RPZnwHDMaDKw",
         "rawType": "float64",
         "type": "float"
        },
        {
         "name": "aRYR0UWsICM_CsgbEkvyfw",
         "rawType": "float64",
         "type": "float"
        },
        {
         "name": "aVkVDJ01OgvNwhlCUz_bng",
         "rawType": "float64",
         "type": "float"
        },
        {
         "name": "aXWN4oH8W-MVDchWia084g",
         "rawType": "float64",
         "type": "float"
        },
        {
         "name": "abA0s0uxoeOn7zNm-1dDxw",
         "rawType": "float64",
         "type": "float"
        },
        {
         "name": "ak_qBHizWMbY_ens51v8Mw",
         "rawType": "float64",
         "type": "float"
        },
        {
         "name": "alG1fb1kl2vmT8s34jbbHg",
         "rawType": "float64",
         "type": "float"
        },
        {
         "name": "anQSLdujUOp0sTCmIBi2Tg",
         "rawType": "float64",
         "type": "float"
        },
        {
         "name": "aokqWHt8vMf5iwj8KZZ5eg",
         "rawType": "float64",
         "type": "float"
        },
        {
         "name": "aow8T0EAFdYDXmVAUO5aFg",
         "rawType": "float64",
         "type": "float"
        },
        {
         "name": "arpBUwgiaE8iqfNGMQ_hgg",
         "rawType": "float64",
         "type": "float"
        },
        {
         "name": "atVh8viqTj-sqDJ35tAYVg",
         "rawType": "float64",
         "type": "float"
        },
        {
         "name": "awI4hHMfa7H0Xf0-ChU5hg",
         "rawType": "float64",
         "type": "float"
        },
        {
         "name": "awgoBwuhzlLGKEIverTGjQ",
         "rawType": "float64",
         "type": "float"
        },
        {
         "name": "b-0q4xbL6EWYUqnwqcYM4Q",
         "rawType": "float64",
         "type": "float"
        },
        {
         "name": "b3eOIxo0RKZBCuKUmVytKg",
         "rawType": "float64",
         "type": "float"
        },
        {
         "name": "b3izhXwG2O3CagK_r8S6uA",
         "rawType": "float64",
         "type": "float"
        },
        {
         "name": "b4LmLgVdbhM-nc1IZc5Weg",
         "rawType": "float64",
         "type": "float"
        },
        {
         "name": "b4k3TsCTJs9b7MrM8Xz7_w",
         "rawType": "float64",
         "type": "float"
        },
        {
         "name": "b78V2YgEGGb4sp0wdbz57g",
         "rawType": "float64",
         "type": "float"
        },
        {
         "name": "b7XTyK_z8Nsl-uds_l6imQ",
         "rawType": "float64",
         "type": "float"
        },
        {
         "name": "b7pkopqvDr7A7S7hlqp6cw",
         "rawType": "float64",
         "type": "float"
        },
        {
         "name": "bCh7vrbbxSKx0mtZnOvQoQ",
         "rawType": "float64",
         "type": "float"
        },
        {
         "name": "bEEkF_uur6TA7tW_7-9XEQ",
         "rawType": "float64",
         "type": "float"
        },
        {
         "name": "bEv7e3-xigK107P-7gFaKw",
         "rawType": "float64",
         "type": "float"
        },
        {
         "name": "bFbfpIwrd5M8UsNpPivc6w",
         "rawType": "float64",
         "type": "float"
        },
        {
         "name": "bFdk8ZXEq4ApXVo9-4_alQ",
         "rawType": "float64",
         "type": "float"
        },
        {
         "name": "bIrg_VRbL5gvAi-zxJJcWw",
         "rawType": "float64",
         "type": "float"
        },
        {
         "name": "bJcGfSif86OKI0HwvgB5xw",
         "rawType": "float64",
         "type": "float"
        },
        {
         "name": "bMrYaaAy62ppdS09na0RgQ",
         "rawType": "float64",
         "type": "float"
        },
        {
         "name": "bNt_GCxZjWZne1odwDicLg",
         "rawType": "float64",
         "type": "float"
        },
        {
         "name": "bQ2uuNkOxgUQRM7Y7RJDXQ",
         "rawType": "float64",
         "type": "float"
        },
        {
         "name": "bRR4gsjHv0F_RnRGjQBqlg",
         "rawType": "float64",
         "type": "float"
        },
        {
         "name": "bWI9t-tXQG7FCRCaVd5YRg",
         "rawType": "float64",
         "type": "float"
        },
        {
         "name": "bWJdRgTROygw8qX1oVfx9A",
         "rawType": "float64",
         "type": "float"
        },
        {
         "name": "bc0JkwwJT_9qMx4AHcgYhQ",
         "rawType": "float64",
         "type": "float"
        },
        {
         "name": "bcJmbFHVAkLFqhJbUTdbyQ",
         "rawType": "float64",
         "type": "float"
        },
        {
         "name": "bchksAMD4CtI98_s_kJNpg",
         "rawType": "float64",
         "type": "float"
        },
        {
         "name": "bdPJYc4dx48FcgHSBD1swA",
         "rawType": "float64",
         "type": "float"
        },
        {
         "name": "bfR-vJvrjdOJaWsXGJgzPA",
         "rawType": "float64",
         "type": "float"
        },
        {
         "name": "bhqOSajw2x1NLQxijsDVcg",
         "rawType": "float64",
         "type": "float"
        },
        {
         "name": "bivY4IG4zyvMakJ9UQdSdw",
         "rawType": "float64",
         "type": "float"
        },
        {
         "name": "bjGp5sKsrE9_tWKCw1pBtg",
         "rawType": "float64",
         "type": "float"
        },
        {
         "name": "bjllusUsLq9zE4yZnLpOzg",
         "rawType": "float64",
         "type": "float"
        },
        {
         "name": "boYDu57rLihB0HyVUpLk0Q",
         "rawType": "float64",
         "type": "float"
        },
        {
         "name": "bvGdqJ-SeGdIHX-HEabwlg",
         "rawType": "float64",
         "type": "float"
        },
        {
         "name": "c-NXKTJ0jrrusTPxJAUwvA",
         "rawType": "float64",
         "type": "float"
        },
        {
         "name": "c-l4nDPZcEwapEiV-Xf08w",
         "rawType": "float64",
         "type": "float"
        },
        {
         "name": "c0p3hFgBo5tGxqncNRN9Eg",
         "rawType": "float64",
         "type": "float"
        },
        {
         "name": "c35qzLN6ItDpVIoj2uQW4Q",
         "rawType": "float64",
         "type": "float"
        },
        {
         "name": "c7ih3d4WF-TdlgdViHIJbA",
         "rawType": "float64",
         "type": "float"
        },
        {
         "name": "cBoFYIJQztZNaNjMS4xmNA",
         "rawType": "float64",
         "type": "float"
        },
        {
         "name": "cDoo0Pf1d_P79Rq3ZNk-Mw",
         "rawType": "float64",
         "type": "float"
        },
        {
         "name": "cFpbP3-trTR9q34lOqiIUA",
         "rawType": "float64",
         "type": "float"
        },
        {
         "name": "cHcYk5bJn3Nh9ARJjQVq8Q",
         "rawType": "float64",
         "type": "float"
        },
        {
         "name": "cHdJXLlKNWixBXpDwEGb_A",
         "rawType": "float64",
         "type": "float"
        },
        {
         "name": "cK9e9dU6NwcCXT-ycKQ3SA",
         "rawType": "float64",
         "type": "float"
        },
        {
         "name": "cOJ1uIVIHCiefUyWG2wDfw",
         "rawType": "float64",
         "type": "float"
        },
        {
         "name": "cP8ErpZfRzdVR5Fvks-pnQ",
         "rawType": "float64",
         "type": "float"
        },
        {
         "name": "cPmThZ7Ugpd8eJnIObOy0Q",
         "rawType": "float64",
         "type": "float"
        },
        {
         "name": "cQlmYFkJt1axuaKE3FiPxQ",
         "rawType": "float64",
         "type": "float"
        },
        {
         "name": "cSk4hIuOgdKsJfOooa3Sbg",
         "rawType": "float64",
         "type": "float"
        },
        {
         "name": "cSwEDCPtfN-t545eQyGhmQ",
         "rawType": "float64",
         "type": "float"
        },
        {
         "name": "cT1eYUOjz5CgvZJuxu87sg",
         "rawType": "float64",
         "type": "float"
        },
        {
         "name": "cX3N8kmxYoqiFzvQsTQ_wg",
         "rawType": "float64",
         "type": "float"
        },
        {
         "name": "cYwJA2A6I12KNkm2rtXd5g",
         "rawType": "float64",
         "type": "float"
        },
        {
         "name": "caXiL25g86LPvdwbn99VgA",
         "rawType": "float64",
         "type": "float"
        },
        {
         "name": "cbddL2q8uRA38RwycB0FJg",
         "rawType": "float64",
         "type": "float"
        },
        {
         "name": "ccd6w9w81PUBmtV1DFXgig",
         "rawType": "float64",
         "type": "float"
        },
        {
         "name": "cd3PpDFypgMByAqBSYZc9w",
         "rawType": "float64",
         "type": "float"
        },
        {
         "name": "cdPnRYnfKrbeEUAoSJONtw",
         "rawType": "float64",
         "type": "float"
        },
        {
         "name": "ceK2VvPlxPBPo1evXOlD7g",
         "rawType": "float64",
         "type": "float"
        },
        {
         "name": "ceQE2ktRVBnQsaT5aeOAeA",
         "rawType": "float64",
         "type": "float"
        },
        {
         "name": "cgbwniQdmHwVxjdyuTm9vA",
         "rawType": "float64",
         "type": "float"
        },
        {
         "name": "ciG7QN_7TQEqtSrQAXpjKw",
         "rawType": "float64",
         "type": "float"
        },
        {
         "name": "cj_9eTPR0JBqk9qt2VmzFw",
         "rawType": "float64",
         "type": "float"
        },
        {
         "name": "coAdjIJ7Xomwq7sfHFzxKQ",
         "rawType": "float64",
         "type": "float"
        },
        {
         "name": "cqJNu4gGWI99M970dd1ZBw",
         "rawType": "float64",
         "type": "float"
        },
        {
         "name": "cs0FZDhSmWirLXNoRa3S0Q",
         "rawType": "float64",
         "type": "float"
        },
        {
         "name": "cs1qJvnWUg_f8g020z_3PQ",
         "rawType": "float64",
         "type": "float"
        },
        {
         "name": "csOR4N615Qc94jSP0tLftA",
         "rawType": "float64",
         "type": "float"
        },
        {
         "name": "ct43PIwz_XflYImvopdvIQ",
         "rawType": "float64",
         "type": "float"
        },
        {
         "name": "ctNVGh_5lE6oiu3GQhmd3Q",
         "rawType": "float64",
         "type": "float"
        },
        {
         "name": "cxJ09-DtHlw58JoRWWltzQ",
         "rawType": "float64",
         "type": "float"
        },
        {
         "name": "cxlxJpw_vTzw7bXJq6Dbsg",
         "rawType": "float64",
         "type": "float"
        },
        {
         "name": "cxnbk6t6L3jnfT5n2Hbl3Q",
         "rawType": "float64",
         "type": "float"
        },
        {
         "name": "czx3G3V_f-4ZDg9YKJ0YQA",
         "rawType": "float64",
         "type": "float"
        },
        {
         "name": "d1PsrEtEdlD9Q4QtWHXrkA",
         "rawType": "float64",
         "type": "float"
        },
        {
         "name": "d3Wz6ENnjMHtRUXfg8idaw",
         "rawType": "float64",
         "type": "float"
        },
        {
         "name": "d3ygrIfiL3Ysn1tHWPh1hg",
         "rawType": "float64",
         "type": "float"
        },
        {
         "name": "d48RG4PGGtz4qy_wmNVKIg",
         "rawType": "float64",
         "type": "float"
        },
        {
         "name": "d4z4gjdhQYs-WOVClISf_A",
         "rawType": "float64",
         "type": "float"
        },
        {
         "name": "d67gEYHd6c9-8KhSDhAm0g",
         "rawType": "float64",
         "type": "float"
        },
        {
         "name": "d7Jgj1h_MILumtsTlb2aXA",
         "rawType": "float64",
         "type": "float"
        },
        {
         "name": "d8WZtx4dZUvT9Sg9NXGb3Q",
         "rawType": "float64",
         "type": "float"
        },
        {
         "name": "d9wSnfW2kaJR-_auyK9G4A",
         "rawType": "float64",
         "type": "float"
        },
        {
         "name": "dH5LDzfqGulpIDrLjQgKtA",
         "rawType": "float64",
         "type": "float"
        },
        {
         "name": "dJzRwJytL1ECqYA98aHQaQ",
         "rawType": "float64",
         "type": "float"
        },
        {
         "name": "dNMYNKhAAKo5O4WfrAPzcQ",
         "rawType": "float64",
         "type": "float"
        },
        {
         "name": "dSnQTUJC0tCHadU1AGzvrw",
         "rawType": "float64",
         "type": "float"
        },
        {
         "name": "dTu69dJYUrxkJ4tg_48E-A",
         "rawType": "float64",
         "type": "float"
        },
        {
         "name": "dUffgo9Lh_Vk9TLuFR5ywg",
         "rawType": "float64",
         "type": "float"
        },
        {
         "name": "dVQFNgVlnxgitEXDQR7tfA",
         "rawType": "float64",
         "type": "float"
        },
        {
         "name": "dWk0mbhj79pK3WBp5oLtpw",
         "rawType": "float64",
         "type": "float"
        },
        {
         "name": "dY7erNwqdfjVrgigPUcoGw",
         "rawType": "float64",
         "type": "float"
        },
        {
         "name": "dc6sPg9kNliz_Cy2yX19tw",
         "rawType": "float64",
         "type": "float"
        },
        {
         "name": "dd3GZs6zW2t7BM0cbxAzvg",
         "rawType": "float64",
         "type": "float"
        },
        {
         "name": "ddPchhJK2zURVTFWyFNBgQ",
         "rawType": "float64",
         "type": "float"
        },
        {
         "name": "dei67jnanWpRLRL7aRwqAA",
         "rawType": "float64",
         "type": "float"
        },
        {
         "name": "deipWwvNQm5DMmfpq9tNoA",
         "rawType": "float64",
         "type": "float"
        },
        {
         "name": "dizdLoOk0GMaSS_qQAuklQ",
         "rawType": "float64",
         "type": "float"
        },
        {
         "name": "dpOWBBnpzpkIvhuLBFIg6w",
         "rawType": "float64",
         "type": "float"
        },
        {
         "name": "dsIHIXyAl_ldqkd8QekvTQ",
         "rawType": "float64",
         "type": "float"
        },
        {
         "name": "du9EiKx28BVs-2hUAQ3UVg",
         "rawType": "float64",
         "type": "float"
        },
        {
         "name": "duMosohbc271G58rllgvbA",
         "rawType": "float64",
         "type": "float"
        },
        {
         "name": "dumO6I2X9g6dv_70NDWkmw",
         "rawType": "float64",
         "type": "float"
        },
        {
         "name": "dw2ST-AHUbu2xq0QNfngBA",
         "rawType": "float64",
         "type": "float"
        },
        {
         "name": "dxeu5YQIzw0jOp1cSVkimg",
         "rawType": "float64",
         "type": "float"
        },
        {
         "name": "e-hztV3mlfn5z8VmRFBNlw",
         "rawType": "float64",
         "type": "float"
        },
        {
         "name": "e13SEvJud_vgeDR_doL4sQ",
         "rawType": "float64",
         "type": "float"
        },
        {
         "name": "e2r5_zNwNu4kVBnpFRv0AQ",
         "rawType": "float64",
         "type": "float"
        },
        {
         "name": "e41TP5cXZqSrz50xCBJqZw",
         "rawType": "float64",
         "type": "float"
        },
        {
         "name": "e9UsRb-fmza5ukU8Ftduew",
         "rawType": "float64",
         "type": "float"
        },
        {
         "name": "eB7fjnO87_qNPFU5JJUx-g",
         "rawType": "float64",
         "type": "float"
        },
        {
         "name": "eE4MUd3m6j6yISWjEYjyPQ",
         "rawType": "float64",
         "type": "float"
        },
        {
         "name": "eFbYR1MZT5zT9y-DO4F1dg",
         "rawType": "float64",
         "type": "float"
        },
        {
         "name": "eGP9T_kj0iM5h3MciSQjSw",
         "rawType": "float64",
         "type": "float"
        },
        {
         "name": "eJKyhdP99iw5qmVrwJvp9w",
         "rawType": "float64",
         "type": "float"
        },
        {
         "name": "eJPckkV1k7gn0V2awA1pzA",
         "rawType": "float64",
         "type": "float"
        },
        {
         "name": "eLFfWcdb7VkqNyTONksHiQ",
         "rawType": "float64",
         "type": "float"
        },
        {
         "name": "eLMCasvWCkJYDkvkKREz7A",
         "rawType": "float64",
         "type": "float"
        },
        {
         "name": "eMTE-wqpk_YWaV3mf7Ii3A",
         "rawType": "float64",
         "type": "float"
        },
        {
         "name": "eMvikXS_1HlPyVctesxSjA",
         "rawType": "float64",
         "type": "float"
        },
        {
         "name": "eN8mkjt_q686hGKi-A9ceg",
         "rawType": "float64",
         "type": "float"
        },
        {
         "name": "ePENUZsGmPzT2NSJAjQhlQ",
         "rawType": "float64",
         "type": "float"
        },
        {
         "name": "eR7Iw_X54m3YLWkXp9y35Q",
         "rawType": "float64",
         "type": "float"
        },
        {
         "name": "eZCE1u_3ORlX8dHSVTjl9w",
         "rawType": "float64",
         "type": "float"
        },
        {
         "name": "eZXhBAQ65BUtnc56r9U1Kg",
         "rawType": "float64",
         "type": "float"
        },
        {
         "name": "eZcCFV-8X91ZSnmB9807bw",
         "rawType": "float64",
         "type": "float"
        },
        {
         "name": "eaPLZezIMILiG2rStpqfjA",
         "rawType": "float64",
         "type": "float"
        },
        {
         "name": "ebEP_MZngIWKH0Ixobcqhg",
         "rawType": "float64",
         "type": "float"
        },
        {
         "name": "ecJri9ozyke4dOCWulZiRQ",
         "rawType": "float64",
         "type": "float"
        },
        {
         "name": "edFOP4OKtRTrBtSEtwLNuQ",
         "rawType": "float64",
         "type": "float"
        },
        {
         "name": "edf1UxWW9-7u_f35kbvEwQ",
         "rawType": "float64",
         "type": "float"
        },
        {
         "name": "egLYFnycp8ktxMCvilFdLw",
         "rawType": "float64",
         "type": "float"
        },
        {
         "name": "egXPYRWuMsw7p-feDrBjrw",
         "rawType": "float64",
         "type": "float"
        },
        {
         "name": "eityWbFA-jVVcFiE3Mn3Bg",
         "rawType": "float64",
         "type": "float"
        },
        {
         "name": "ejaUQ1hYo7Q7xCL1HdPINw",
         "rawType": "float64",
         "type": "float"
        },
        {
         "name": "ejdBoVvEdn5fdycuJRen8Q",
         "rawType": "float64",
         "type": "float"
        },
        {
         "name": "ejmQEtYs7lNGh3-w5RIUYQ",
         "rawType": "float64",
         "type": "float"
        },
        {
         "name": "elqbBhBfElMNSrjFqW3now",
         "rawType": "float64",
         "type": "float"
        },
        {
         "name": "eoG9zP7xxsDHVM0kJYrvkw",
         "rawType": "float64",
         "type": "float"
        },
        {
         "name": "eqQnIjAAhOUuHqK6gTWRXw",
         "rawType": "float64",
         "type": "float"
        },
        {
         "name": "evbEh0qRFWlqliHOy62c0A",
         "rawType": "float64",
         "type": "float"
        },
        {
         "name": "ezrNxiPJUYLJpDtTQyj9eA",
         "rawType": "float64",
         "type": "float"
        },
        {
         "name": "f-v1fvtnbdw_QQRsCnwH-g",
         "rawType": "float64",
         "type": "float"
        },
        {
         "name": "f0zHPEwKLf3Aguf_IDemRQ",
         "rawType": "float64",
         "type": "float"
        },
        {
         "name": "f4Y3634vku_QlaPTqmfQNA",
         "rawType": "float64",
         "type": "float"
        },
        {
         "name": "f4kNNLU_0q_2J711jCN7dA",
         "rawType": "float64",
         "type": "float"
        },
        {
         "name": "f4x1YBxkLrZg652xt2KR5g",
         "rawType": "float64",
         "type": "float"
        },
        {
         "name": "f5O7v_X_jCg2itqacRfxhg",
         "rawType": "float64",
         "type": "float"
        },
        {
         "name": "f6CTsNX30XmC8siHWYV2bA",
         "rawType": "float64",
         "type": "float"
        },
        {
         "name": "f6swKoBMy4v5X6UR6YadYA",
         "rawType": "float64",
         "type": "float"
        },
        {
         "name": "f9cIbhLyBz_qTEfMLfwrrQ",
         "rawType": "float64",
         "type": "float"
        },
        {
         "name": "fB4cb6uvz-QngtYP0fbfAw",
         "rawType": "float64",
         "type": "float"
        },
        {
         "name": "fH7ABat7FDq9Cfkqwac7dA",
         "rawType": "float64",
         "type": "float"
        },
        {
         "name": "fI9ErCUGY8rXRPBbatcxMA",
         "rawType": "float64",
         "type": "float"
        },
        {
         "name": "fIuquIgWrkNEM5yvYSHPgw",
         "rawType": "float64",
         "type": "float"
        },
        {
         "name": "fKlr9qNoV37WQJwQ826POg",
         "rawType": "float64",
         "type": "float"
        },
        {
         "name": "fL-b760btOaGa85OJ9ut3w",
         "rawType": "float64",
         "type": "float"
        },
        {
         "name": "fS9a8AGrcwWPf_9vfn5wPQ",
         "rawType": "float64",
         "type": "float"
        },
        {
         "name": "fSBhe0A6Dfa8JCYccfpMog",
         "rawType": "float64",
         "type": "float"
        },
        {
         "name": "fY3lvNKf5KyQUDwUz2apnQ",
         "rawType": "float64",
         "type": "float"
        },
        {
         "name": "f_IQ80PAHE9qpjsWMABO2A",
         "rawType": "float64",
         "type": "float"
        },
        {
         "name": "faPVqws-x-5k2CQKDNtHxw",
         "rawType": "float64",
         "type": "float"
        },
        {
         "name": "fbVFJNbdVPjVq_pCwh8PFQ",
         "rawType": "float64",
         "type": "float"
        },
        {
         "name": "fiYqGH-esbPpO-3DnSqVeg",
         "rawType": "float64",
         "type": "float"
        },
        {
         "name": "fknU3sWplCBn26b6HwJ1kQ",
         "rawType": "float64",
         "type": "float"
        },
        {
         "name": "flgxUeGy8xctqiykaMVOLA",
         "rawType": "float64",
         "type": "float"
        },
        {
         "name": "foD6m1lhxAAfNEHdUbBpOA",
         "rawType": "float64",
         "type": "float"
        },
        {
         "name": "fpq8H7tPv8gK3me02NASfg",
         "rawType": "float64",
         "type": "float"
        },
        {
         "name": "frCxZS7lPhEnQRJ3UY6m7A",
         "rawType": "float64",
         "type": "float"
        },
        {
         "name": "ftvZ6BVmbZndKcVPEdakIQ",
         "rawType": "float64",
         "type": "float"
        },
        {
         "name": "fxZ8B05ROM1BSAdlh7p1MQ",
         "rawType": "float64",
         "type": "float"
        },
        {
         "name": "g6AFW-zY0wDvBl9U82g4zg",
         "rawType": "float64",
         "type": "float"
        },
        {
         "name": "g83WbX_recywc4DEIZ-xug",
         "rawType": "float64",
         "type": "float"
        },
        {
         "name": "g9dn-3YxlY9TwWWSctpQMQ",
         "rawType": "float64",
         "type": "float"
        },
        {
         "name": "gA9hCYY7MYl9oZ3aym5dvw",
         "rawType": "float64",
         "type": "float"
        },
        {
         "name": "gBIpbpuVWCBWiWZF2p_B8w",
         "rawType": "float64",
         "type": "float"
        },
        {
         "name": "gBfPyzPRmeOaj3SdcIj0Rw",
         "rawType": "float64",
         "type": "float"
        },
        {
         "name": "gDjHnPJDx9ZVse0i9mp5hQ",
         "rawType": "float64",
         "type": "float"
        },
        {
         "name": "gEv1Og5uGDLw9HkbKSGUZw",
         "rawType": "float64",
         "type": "float"
        },
        {
         "name": "gHngt6zpP683GKe1i23LUg",
         "rawType": "float64",
         "type": "float"
        },
        {
         "name": "gNhxs9nPUSkVBSSIRQOgaA",
         "rawType": "float64",
         "type": "float"
        },
        {
         "name": "gOBxVkHpqtjRRxHBIrpnMA",
         "rawType": "float64",
         "type": "float"
        },
        {
         "name": "gOpOoZgrF2shRLCBBzO3Mw",
         "rawType": "float64",
         "type": "float"
        },
        {
         "name": "gQHvqWLvqOlSi_A0WkLLog",
         "rawType": "float64",
         "type": "float"
        },
        {
         "name": "gQestnRT9AgSdDMsh83aDw",
         "rawType": "float64",
         "type": "float"
        },
        {
         "name": "gSPALi3f3Ga01HGXHrhlUQ",
         "rawType": "float64",
         "type": "float"
        },
        {
         "name": "gTaD9vJp04nFJBWyX7eK7Q",
         "rawType": "float64",
         "type": "float"
        },
        {
         "name": "gZGsReG0VeX4uKViHTB9EQ",
         "rawType": "float64",
         "type": "float"
        },
        {
         "name": "gZYt10Kn-eHpo3n4lx3iBg",
         "rawType": "float64",
         "type": "float"
        },
        {
         "name": "g_H_ylYgE74EIVSTv8aO6w",
         "rawType": "float64",
         "type": "float"
        },
        {
         "name": "gcfDH5QxVC2xqdXYz94W8Q",
         "rawType": "float64",
         "type": "float"
        },
        {
         "name": "gdtZA3sVQ5Hk-3oPBArdLA",
         "rawType": "float64",
         "type": "float"
        },
        {
         "name": "gfeCCBFK1b3SMsb_7dTrOA",
         "rawType": "float64",
         "type": "float"
        },
        {
         "name": "gfmRNRj2eMwExc6YVxSI9Q",
         "rawType": "float64",
         "type": "float"
        },
        {
         "name": "gh0mBl_SBZ6kX9mYMq-R5g",
         "rawType": "float64",
         "type": "float"
        },
        {
         "name": "ghaj1MZzPW1qXYCZWfoTTw",
         "rawType": "float64",
         "type": "float"
        },
        {
         "name": "gjQ20S96ScTc7LR_DY8SQQ",
         "rawType": "float64",
         "type": "float"
        },
        {
         "name": "glkEaoxbewiSMBiXs945JA",
         "rawType": "float64",
         "type": "float"
        },
        {
         "name": "gpaJYV8IT-oT9wOt16BlSw",
         "rawType": "float64",
         "type": "float"
        },
        {
         "name": "gqdqnFg2lYeSyS20q2ZK_Q",
         "rawType": "float64",
         "type": "float"
        },
        {
         "name": "gtfLQysuCBEAQk3wwWxwTg",
         "rawType": "float64",
         "type": "float"
        },
        {
         "name": "gtqtnzgzDCWVFi298dIvow",
         "rawType": "float64",
         "type": "float"
        },
        {
         "name": "gwcAxVenwrA4PoTPke-QUA",
         "rawType": "float64",
         "type": "float"
        },
        {
         "name": "gxEkxkqQrrK62DJnXxXDLg",
         "rawType": "float64",
         "type": "float"
        },
        {
         "name": "h19bR52xQ9fQWGMTSbjnbw",
         "rawType": "float64",
         "type": "float"
        },
        {
         "name": "h1Jq1YlqPyD1mGSW0sjRaQ",
         "rawType": "float64",
         "type": "float"
        },
        {
         "name": "h2SA2bn6iBmxoe4W8iCYEg",
         "rawType": "float64",
         "type": "float"
        },
        {
         "name": "h36qA5gnNTgByhxWx1aH-Q",
         "rawType": "float64",
         "type": "float"
        },
        {
         "name": "h6f3QbR0n0fpS2Tu9MJJTw",
         "rawType": "float64",
         "type": "float"
        },
        {
         "name": "h6neYN7OZVt9_ok2bAx6BA",
         "rawType": "float64",
         "type": "float"
        },
        {
         "name": "h9ESVzpA6xQcFTzI4cX7ig",
         "rawType": "float64",
         "type": "float"
        },
        {
         "name": "hAioxEk3WU-SzlqIM4TI7w",
         "rawType": "float64",
         "type": "float"
        },
        {
         "name": "hBJ0SZwpCX5fvJPyxFy83Q",
         "rawType": "float64",
         "type": "float"
        },
        {
         "name": "hBROX8RGSUYXDJAF97OV_A",
         "rawType": "float64",
         "type": "float"
        },
        {
         "name": "hDyc9DdjGldhxis5E1rd3w",
         "rawType": "float64",
         "type": "float"
        },
        {
         "name": "hHe1mFDxxrtejXHfiysJJg",
         "rawType": "float64",
         "type": "float"
        },
        {
         "name": "hIUKufhwR6Ifn7bi0-phLA",
         "rawType": "float64",
         "type": "float"
        },
        {
         "name": "hI_WID6sP7EOgPeFFJPPwQ",
         "rawType": "float64",
         "type": "float"
        },
        {
         "name": "hIgGkG1JnHX4xmVuOgegDw",
         "rawType": "float64",
         "type": "float"
        },
        {
         "name": "hJNfnMZZzxgL_Y0R7o_OTg",
         "rawType": "float64",
         "type": "float"
        },
        {
         "name": "hL5tldgv2eLcL-AUnPZ9gA",
         "rawType": "float64",
         "type": "float"
        },
        {
         "name": "hNsRj2nXuALlJS4Op-8MmA",
         "rawType": "float64",
         "type": "float"
        },
        {
         "name": "hOB3NHuF-iVFdEkrA-PUlg",
         "rawType": "float64",
         "type": "float"
        },
        {
         "name": "hRkZHnKHVuIZWmF258sbCw",
         "rawType": "float64",
         "type": "float"
        },
        {
         "name": "hSZp_aa8Zjofb2mC9ZdZug",
         "rawType": "float64",
         "type": "float"
        },
        {
         "name": "hTn7q68tdmFeCXoIdQG9JQ",
         "rawType": "float64",
         "type": "float"
        },
        {
         "name": "hWK2yx9mFbr7Ix-78Ki8rg",
         "rawType": "float64",
         "type": "float"
        },
        {
         "name": "hZfOOdU6Iz4PKiPqx_FUdg",
         "rawType": "float64",
         "type": "float"
        },
        {
         "name": "hdgYnadxg0GANhWOJabr2g",
         "rawType": "float64",
         "type": "float"
        },
        {
         "name": "hfQWA7u_iM49E-3Ti4b2AQ",
         "rawType": "float64",
         "type": "float"
        },
        {
         "name": "hihud--QRriCYZw1zZvW4g",
         "rawType": "float64",
         "type": "float"
        },
        {
         "name": "hm0y7QxT-UUmQcF074qV0g",
         "rawType": "float64",
         "type": "float"
        },
        {
         "name": "hpvHHl_f4PHk0gc1qcg5qQ",
         "rawType": "float64",
         "type": "float"
        },
        {
         "name": "hqjBvbNvrAp82Av1RXvkyA",
         "rawType": "float64",
         "type": "float"
        },
        {
         "name": "htNNxttBjRmRnP4d0XFl-w",
         "rawType": "float64",
         "type": "float"
        },
        {
         "name": "htiB-auOhxa6YTp9bAb6lw",
         "rawType": "float64",
         "type": "float"
        },
        {
         "name": "huOCKRwDvNqGX3KSzYawbw",
         "rawType": "float64",
         "type": "float"
        },
        {
         "name": "hvridAom9cjx4mfFYasVrA",
         "rawType": "float64",
         "type": "float"
        },
        {
         "name": "hxUxeY8DG9lhyjCVo_s-pw",
         "rawType": "float64",
         "type": "float"
        },
        {
         "name": "hxedolqDRVlKA_iOoI09Ng",
         "rawType": "float64",
         "type": "float"
        },
        {
         "name": "hyYm9Tb8HPpFSSLZzI6pqg",
         "rawType": "float64",
         "type": "float"
        },
        {
         "name": "hyyy_yFDI3CJJaG3uROGBA",
         "rawType": "float64",
         "type": "float"
        },
        {
         "name": "i1bwc_MLGgOIJ8S0r2uu2w",
         "rawType": "float64",
         "type": "float"
        },
        {
         "name": "i3mZIwNi1EiJ7-1A8amoyw",
         "rawType": "float64",
         "type": "float"
        },
        {
         "name": "i43yZtGjLh2TG9h7qnlrqg",
         "rawType": "float64",
         "type": "float"
        },
        {
         "name": "i4hvmTd4RH9HvOyG8ndYGw",
         "rawType": "float64",
         "type": "float"
        },
        {
         "name": "i8ijGG8LXmFOWTz-Haej7w",
         "rawType": "float64",
         "type": "float"
        },
        {
         "name": "iAD5r5vNOzc1AP6UA5yFiQ",
         "rawType": "float64",
         "type": "float"
        },
        {
         "name": "iBFgCuiQoK8DCXgTw6vi2Q",
         "rawType": "float64",
         "type": "float"
        },
        {
         "name": "iBVKoqOqe46J3h8ny9m0YA",
         "rawType": "float64",
         "type": "float"
        },
        {
         "name": "iCQpiavjjPzJ5_3gPD5Ebg",
         "rawType": "float64",
         "type": "float"
        },
        {
         "name": "iH3mI3QpCX_-QylL4dVKIg",
         "rawType": "float64",
         "type": "float"
        },
        {
         "name": "iIok1p4qnpGAa07xoaXRQA",
         "rawType": "float64",
         "type": "float"
        },
        {
         "name": "iIwKW2cBAxjElE8eUzjwqA",
         "rawType": "float64",
         "type": "float"
        },
        {
         "name": "iKMLsX1Je7P3wAOEc9scDg",
         "rawType": "float64",
         "type": "float"
        },
        {
         "name": "iO3GuIiZxzv-iETGVnoeVA",
         "rawType": "float64",
         "type": "float"
        },
        {
         "name": "iRDfCn7MSvEVKZLyzimKpw",
         "rawType": "float64",
         "type": "float"
        },
        {
         "name": "iSQwKRrLYYi-dI2PpJmJJg",
         "rawType": "float64",
         "type": "float"
        },
        {
         "name": "iT053N_wdX7Ryr5lLCtLfg",
         "rawType": "float64",
         "type": "float"
        },
        {
         "name": "iT_z6pzoK1AbqaBrDbXhlQ",
         "rawType": "float64",
         "type": "float"
        },
        {
         "name": "iVCx91Wrn-CjpxJAyLHPxg",
         "rawType": "float64",
         "type": "float"
        },
        {
         "name": "iXUxp09odGN2qhdPU6TKYQ",
         "rawType": "float64",
         "type": "float"
        },
        {
         "name": "iXmFhJtk2Qg2xkh7mz15oQ",
         "rawType": "float64",
         "type": "float"
        },
        {
         "name": "iYQPfLcPQXiYi-kycrm2rw",
         "rawType": "float64",
         "type": "float"
        },
        {
         "name": "iYT30UPGmLdmTRaAKz0Vvw",
         "rawType": "float64",
         "type": "float"
        },
        {
         "name": "i_96cvjJo5mgcepHmGvl_A",
         "rawType": "float64",
         "type": "float"
        },
        {
         "name": "igHYkXZMLAc9UdV5VnR_AA",
         "rawType": "float64",
         "type": "float"
        },
        {
         "name": "igcuOefaL4fmAi9Evgoprg",
         "rawType": "float64",
         "type": "float"
        },
        {
         "name": "ihW5mCeFuzouTzIIduNEFQ",
         "rawType": "float64",
         "type": "float"
        },
        {
         "name": "ijg7qQCYnhUWBd5JUxbfvA",
         "rawType": "float64",
         "type": "float"
        },
        {
         "name": "ikTlMObBu3aI4xNmE9X4mA",
         "rawType": "float64",
         "type": "float"
        },
        {
         "name": "ilELkaycQPNo0ikN3Ec5Rw",
         "rawType": "float64",
         "type": "float"
        },
        {
         "name": "iocG2xLxxHDmjsnGz9oikQ",
         "rawType": "float64",
         "type": "float"
        },
        {
         "name": "ireHTdAh1d4lmGiieMfV_A",
         "rawType": "float64",
         "type": "float"
        },
        {
         "name": "irje9nJnDy6GbfU84v0N4Q",
         "rawType": "float64",
         "type": "float"
        },
        {
         "name": "isYj0rlYyUv3bUd4ZChxlQ",
         "rawType": "float64",
         "type": "float"
        },
        {
         "name": "itJ5Amsr2XeGwGd90l3I8w",
         "rawType": "float64",
         "type": "float"
        },
        {
         "name": "iuFE29Wk113afMJZkcYiXA",
         "rawType": "float64",
         "type": "float"
        },
        {
         "name": "ivbMuKOwwX2B70gFggzT-g",
         "rawType": "float64",
         "type": "float"
        },
        {
         "name": "ixAh9crILnJ9tM8LhWFhkw",
         "rawType": "float64",
         "type": "float"
        },
        {
         "name": "iyyWYpWm8X-6i7kBR3JHuw",
         "rawType": "float64",
         "type": "float"
        },
        {
         "name": "j-_edie1hOUgWVHUGjSfKg",
         "rawType": "float64",
         "type": "float"
        },
        {
         "name": "j2bx_ctb_ED3zbfSaqhQmQ",
         "rawType": "float64",
         "type": "float"
        },
        {
         "name": "j2uIPTtof6r1Bl5W0WCnuw",
         "rawType": "float64",
         "type": "float"
        },
        {
         "name": "j3SHAiF8OIlY3kUPnAAlKw",
         "rawType": "float64",
         "type": "float"
        },
        {
         "name": "jCpB1D_Hsc_dlF0ErNO-7w",
         "rawType": "float64",
         "type": "float"
        },
        {
         "name": "jGKeSXPVj5NX36aFbgNcnA",
         "rawType": "float64",
         "type": "float"
        },
        {
         "name": "jGe5sKmpIStORtVbsd9yyQ",
         "rawType": "float64",
         "type": "float"
        },
        {
         "name": "jIzygnVmajEXYmfsBNY_Gw",
         "rawType": "float64",
         "type": "float"
        },
        {
         "name": "jJDKPJLzkoPeytWIzstJrA",
         "rawType": "float64",
         "type": "float"
        },
        {
         "name": "jKNdXLQtVM7FJIi_tmuszQ",
         "rawType": "float64",
         "type": "float"
        },
        {
         "name": "jRPwCUg9X0fUSLR7w1D-MQ",
         "rawType": "float64",
         "type": "float"
        },
        {
         "name": "jS3U9iEGnJY7j5oT9iDN7A",
         "rawType": "float64",
         "type": "float"
        },
        {
         "name": "jUqCRsuGqwePkDKQ1fM6TA",
         "rawType": "float64",
         "type": "float"
        },
        {
         "name": "jWpTckAGWMWEffl2D7NhCA",
         "rawType": "float64",
         "type": "float"
        },
        {
         "name": "jXJ2ccZTuYrMhrzG2mzfEg",
         "rawType": "float64",
         "type": "float"
        },
        {
         "name": "jZ23B--fu21is2zrWiy4Kg",
         "rawType": "float64",
         "type": "float"
        },
        {
         "name": "jZwqcK3UF3Aa8nxrh9BHig",
         "rawType": "float64",
         "type": "float"
        },
        {
         "name": "jdAdf7keZac1idbgNKG2pw",
         "rawType": "float64",
         "type": "float"
        },
        {
         "name": "jeTvVMOR8W_04xFsPjzOEQ",
         "rawType": "float64",
         "type": "float"
        },
        {
         "name": "jiOREht1_iH8BPDBe9kerw",
         "rawType": "float64",
         "type": "float"
        },
        {
         "name": "jjkreMAvH3DWtk7mvASmEw",
         "rawType": "float64",
         "type": "float"
        },
        {
         "name": "jkqSUjv8qTvTJQKOPeLxMA",
         "rawType": "float64",
         "type": "float"
        },
        {
         "name": "jniApOOS8ppUHhESL7OzTg",
         "rawType": "float64",
         "type": "float"
        },
        {
         "name": "jpBOoa3qNwsbVkdS2cdYSg",
         "rawType": "float64",
         "type": "float"
        },
        {
         "name": "jppxrDQLXr4Nk8cV7IGlcw",
         "rawType": "float64",
         "type": "float"
        },
        {
         "name": "jqAdZf9PJo8lsRskc6T1Sw",
         "rawType": "float64",
         "type": "float"
        },
        {
         "name": "jrE4M9HlYp2AZZ7iQCSIRw",
         "rawType": "float64",
         "type": "float"
        },
        {
         "name": "js9rQZAlA5rr7oSBRRcCDw",
         "rawType": "float64",
         "type": "float"
        },
        {
         "name": "jspgVJaiyobeUq6EMhmO-w",
         "rawType": "float64",
         "type": "float"
        },
        {
         "name": "jtQARsP6P-LbkyjbO1qNGg",
         "rawType": "float64",
         "type": "float"
        },
        {
         "name": "jvwzhzA9vsfJHCdlbLkHZw",
         "rawType": "float64",
         "type": "float"
        },
        {
         "name": "k0iSRXXqw49yugl8UUpbsw",
         "rawType": "float64",
         "type": "float"
        },
        {
         "name": "k1lSQ4VIqEn36UL1zkb3dw",
         "rawType": "float64",
         "type": "float"
        },
        {
         "name": "k2b3niokS_tosjah_rzCPw",
         "rawType": "float64",
         "type": "float"
        },
        {
         "name": "k3usuzYs_UVBkSgUbmthdQ",
         "rawType": "float64",
         "type": "float"
        },
        {
         "name": "k6hh3LSw68Zyh-J5OPpuJA",
         "rawType": "float64",
         "type": "float"
        },
        {
         "name": "k6pWX0v60LIRS2guzkpxqQ",
         "rawType": "float64",
         "type": "float"
        },
        {
         "name": "k7D1eFxN-_Ry491C-RiMpw",
         "rawType": "float64",
         "type": "float"
        },
        {
         "name": "k9b96JXlNewj36ddrce9Jw",
         "rawType": "float64",
         "type": "float"
        },
        {
         "name": "kBQkdV4l1u7m9XPozHFWQw",
         "rawType": "float64",
         "type": "float"
        },
        {
         "name": "kC1x4pDkj-QU_13J-PA5Dg",
         "rawType": "float64",
         "type": "float"
        },
        {
         "name": "kEq7eudoX5qdcaSLAq3axw",
         "rawType": "float64",
         "type": "float"
        },
        {
         "name": "kF6uM_KKWvBMGFdxMe9k2A",
         "rawType": "float64",
         "type": "float"
        },
        {
         "name": "kG3TJsJvaDHF3csp0dRDYg",
         "rawType": "float64",
         "type": "float"
        },
        {
         "name": "kICgNgVRkIh4doz0atyMMA",
         "rawType": "float64",
         "type": "float"
        },
        {
         "name": "kJHrgtkkXDNrP7gu4OTXCQ",
         "rawType": "float64",
         "type": "float"
        },
        {
         "name": "kJaoLPzOYh_7UoKuxL0l6Q",
         "rawType": "float64",
         "type": "float"
        },
        {
         "name": "kOFDVcnj-8fd3doIpCQ06A",
         "rawType": "float64",
         "type": "float"
        },
        {
         "name": "kPR47uxGqmQNIQkIZr2_Tg",
         "rawType": "float64",
         "type": "float"
        },
        {
         "name": "kRhjWeAPs-U5RmakIKz0Pg",
         "rawType": "float64",
         "type": "float"
        },
        {
         "name": "kT9SuRVTapbDgFGMcg1Rqg",
         "rawType": "float64",
         "type": "float"
        },
        {
         "name": "kWgdj5qr5WWvn7kAO8Wr1w",
         "rawType": "float64",
         "type": "float"
        },
        {
         "name": "kYD9E14AijONhJ7rFsyLrg",
         "rawType": "float64",
         "type": "float"
        },
        {
         "name": "k_HDSmO_GX3ZBdMHtgrKCA",
         "rawType": "float64",
         "type": "float"
        },
        {
         "name": "kcpu_H4BaMY0dqHY8khoGQ",
         "rawType": "float64",
         "type": "float"
        },
        {
         "name": "kd2kHMQTDQPjuBTO5nFHPQ",
         "rawType": "float64",
         "type": "float"
        },
        {
         "name": "kd3gE_3MAZjiNUjxD2ubnw",
         "rawType": "float64",
         "type": "float"
        },
        {
         "name": "ki_b3zJZjrboVliIiT7Vww",
         "rawType": "float64",
         "type": "float"
        },
        {
         "name": "kiweDovyXezj-ZMpB1tlXg",
         "rawType": "float64",
         "type": "float"
        },
        {
         "name": "klQnFvxN7stIgYAvRylY0Q",
         "rawType": "float64",
         "type": "float"
        },
        {
         "name": "kp9IG_6UDGFn8HxlIDBusQ",
         "rawType": "float64",
         "type": "float"
        },
        {
         "name": "krCiaZqjU2CeOfwoJWctDg",
         "rawType": "float64",
         "type": "float"
        },
        {
         "name": "krROTqY_UsCzpdh0fFRggw",
         "rawType": "float64",
         "type": "float"
        },
        {
         "name": "krlBwPboTImWFS1xwPr70Q",
         "rawType": "float64",
         "type": "float"
        },
        {
         "name": "krsjoEks-XF-PLKjOJW66A",
         "rawType": "float64",
         "type": "float"
        },
        {
         "name": "ktf_QNZaJ1IvnXrncZCQqw",
         "rawType": "float64",
         "type": "float"
        },
        {
         "name": "kwEBCIp18Xi9ETDn_WIQaA",
         "rawType": "float64",
         "type": "float"
        },
        {
         "name": "l-UsKevA9YyOM4wGtS5gGw",
         "rawType": "float64",
         "type": "float"
        },
        {
         "name": "l07ctcrDMV--TYwe3uzebQ",
         "rawType": "float64",
         "type": "float"
        },
        {
         "name": "l0aaLW6ZdDXWjUegUECSxg",
         "rawType": "float64",
         "type": "float"
        },
        {
         "name": "l0pf71mxpV1f_po1W5w1Lw",
         "rawType": "float64",
         "type": "float"
        },
        {
         "name": "l1EzeGkWmLzAf9F1bAlFRQ",
         "rawType": "float64",
         "type": "float"
        },
        {
         "name": "l4SRHKV2XLdUR_QpvVxI1g",
         "rawType": "float64",
         "type": "float"
        },
        {
         "name": "l4x5FFzfiCFrGN0S-uZbBQ",
         "rawType": "float64",
         "type": "float"
        },
        {
         "name": "l5MKpZThwcinpNmv4lcBgg",
         "rawType": "float64",
         "type": "float"
        },
        {
         "name": "l683preTG0GIk9XMaHAUNA",
         "rawType": "float64",
         "type": "float"
        },
        {
         "name": "l6dEjWeflhFlPoocCTEXqA",
         "rawType": "float64",
         "type": "float"
        },
        {
         "name": "l7RCvKqA61Jzm98gaqIhvw",
         "rawType": "float64",
         "type": "float"
        },
        {
         "name": "l8LYK3kqDBrqgVyvd2MoHQ",
         "rawType": "float64",
         "type": "float"
        },
        {
         "name": "l8k4gOEkfoLKq0mPVWHWGg",
         "rawType": "float64",
         "type": "float"
        },
        {
         "name": "l9vx-OTdDPU-oHZ17aVxdg",
         "rawType": "float64",
         "type": "float"
        },
        {
         "name": "lDFSx3D5AKfza3GjpPV6BA",
         "rawType": "float64",
         "type": "float"
        },
        {
         "name": "lDpVyjENOz_qbxbRoyBi8w",
         "rawType": "float64",
         "type": "float"
        },
        {
         "name": "lH0Ph4DiYSqj9UJBXAq8hQ",
         "rawType": "float64",
         "type": "float"
        },
        {
         "name": "lH8cGkcpBIz4KX_zwLjKCA",
         "rawType": "float64",
         "type": "float"
        },
        {
         "name": "lHYMeXf8JH1Q8Dazn9s3Gg",
         "rawType": "float64",
         "type": "float"
        },
        {
         "name": "lHYiCS-y8AFjUitv6MGpxg",
         "rawType": "float64",
         "type": "float"
        },
        {
         "name": "lIdzQkSWB8HpX0ac4isKnA",
         "rawType": "float64",
         "type": "float"
        },
        {
         "name": "lNh_U1fEfxtcLRpT1RpX8g",
         "rawType": "float64",
         "type": "float"
        },
        {
         "name": "lShGSRdcV-xbGLvcuj0Nag",
         "rawType": "float64",
         "type": "float"
        },
        {
         "name": "lUczD7I5o4wTWru7jzSqeQ",
         "rawType": "float64",
         "type": "float"
        },
        {
         "name": "lXH-2--dUls3FSPsnJFbPQ",
         "rawType": "float64",
         "type": "float"
        },
        {
         "name": "lYFpDTiVMNrpkpFyIEcc_w",
         "rawType": "float64",
         "type": "float"
        },
        {
         "name": "la0ScEQYua2O01Mdau8Xkw",
         "rawType": "float64",
         "type": "float"
        },
        {
         "name": "laEOq0egnG2F_6hxtBMYSA",
         "rawType": "float64",
         "type": "float"
        },
        {
         "name": "lb26Toy99S0hU8oqTJFlcQ",
         "rawType": "float64",
         "type": "float"
        },
        {
         "name": "lbQiJ3t9VhBrt0NcuXx1bg",
         "rawType": "float64",
         "type": "float"
        },
        {
         "name": "ld-foUbIqtcYTihGZkGsTw",
         "rawType": "float64",
         "type": "float"
        },
        {
         "name": "ljuT-1vsT3PcRUGwphPYoQ",
         "rawType": "float64",
         "type": "float"
        },
        {
         "name": "lmxA0dJM0XsPCIHPXhEQ-g",
         "rawType": "float64",
         "type": "float"
        },
        {
         "name": "loSgYD9dHOsjjm7QCly5qw",
         "rawType": "float64",
         "type": "float"
        },
        {
         "name": "loze9bM2c5NgXhQLG54YDQ",
         "rawType": "float64",
         "type": "float"
        },
        {
         "name": "lpD3xIYuVaQA8xRSlKwn-Q",
         "rawType": "float64",
         "type": "float"
        },
        {
         "name": "lqCJiHlxzRpuYt-u_XQUvg",
         "rawType": "float64",
         "type": "float"
        },
        {
         "name": "lsxbnkAD5DZ4SuVPrFx39A",
         "rawType": "float64",
         "type": "float"
        },
        {
         "name": "ltQ-ilKwrlBtub7b_7gKww",
         "rawType": "float64",
         "type": "float"
        },
        {
         "name": "luI3vBj9ciPBWT2bQ7dXXg",
         "rawType": "float64",
         "type": "float"
        },
        {
         "name": "lvU7Mu7YU_2Gfw6QvsKqqw",
         "rawType": "float64",
         "type": "float"
        },
        {
         "name": "lxPWvoHDxgxBXIwfRjtLwg",
         "rawType": "float64",
         "type": "float"
        },
        {
         "name": "lyIHmlIK7PKwQeGyR8svJQ",
         "rawType": "float64",
         "type": "float"
        },
        {
         "name": "m65oi2C7b1CJM7DaXbFi-g",
         "rawType": "float64",
         "type": "float"
        },
        {
         "name": "m6rffQy85HUq82DjLq-YJg",
         "rawType": "float64",
         "type": "float"
        },
        {
         "name": "m8o3OrY0DWfqvk820EyrxQ",
         "rawType": "float64",
         "type": "float"
        },
        {
         "name": "mDoLWEOFmxcQ5TAPqxoJLg",
         "rawType": "float64",
         "type": "float"
        },
        {
         "name": "mIlQi6nZdFbEAjZuQ6pFfQ",
         "rawType": "float64",
         "type": "float"
        },
        {
         "name": "mJ3KbEz2fEMTGXc30cz9Aw",
         "rawType": "float64",
         "type": "float"
        },
        {
         "name": "mO8ukT3f5BRQ29pC_WoAtg",
         "rawType": "float64",
         "type": "float"
        },
        {
         "name": "mTcPc9rE43XrG05RQOjnWw",
         "rawType": "float64",
         "type": "float"
        },
        {
         "name": "mUdalYTuAtnZm2K9zoH27Q",
         "rawType": "float64",
         "type": "float"
        },
        {
         "name": "mYTem99eRslMJhWpfQOKGg",
         "rawType": "float64",
         "type": "float"
        },
        {
         "name": "mYZth87kJbyWwmTmVsvKcw",
         "rawType": "float64",
         "type": "float"
        },
        {
         "name": "mYlNFkIiFY3SyDl-nPWR5g",
         "rawType": "float64",
         "type": "float"
        },
        {
         "name": "mdAY2mCRiaOKn3BONyTG4g",
         "rawType": "float64",
         "type": "float"
        },
        {
         "name": "mdrdluPih166hhckelglNA",
         "rawType": "float64",
         "type": "float"
        },
        {
         "name": "miMx3VNOW8qPJC5wEGaIOw",
         "rawType": "float64",
         "type": "float"
        },
        {
         "name": "mjex91FZ2b5Khh4YDK4-9g",
         "rawType": "float64",
         "type": "float"
        },
        {
         "name": "mlCDsdVFuZvRGrJTfQ6amw",
         "rawType": "float64",
         "type": "float"
        },
        {
         "name": "mm0qwYzOilFNVV2us5_8Rg",
         "rawType": "float64",
         "type": "float"
        },
        {
         "name": "mm2wLW24ESxNIEL2bjseaQ",
         "rawType": "float64",
         "type": "float"
        },
        {
         "name": "mmeKyvhdKHsW-gh0JvLbGA",
         "rawType": "float64",
         "type": "float"
        },
        {
         "name": "mmpwjRJpbdWHgoqOhG0Igg",
         "rawType": "float64",
         "type": "float"
        },
        {
         "name": "mnwRtuVQEsIUomBchu0gwg",
         "rawType": "float64",
         "type": "float"
        },
        {
         "name": "ms8tG7Co_ELSSGhbOL6HBg",
         "rawType": "float64",
         "type": "float"
        },
        {
         "name": "mseBBgYcqyv6T1sfrXI-XQ",
         "rawType": "float64",
         "type": "float"
        },
        {
         "name": "mss-LiOfL1vtoNo3WoEoJw",
         "rawType": "float64",
         "type": "float"
        },
        {
         "name": "mtQ7Uc-j2muK0AyVQTT9fQ",
         "rawType": "float64",
         "type": "float"
        },
        {
         "name": "mw2TffuWp9kEDd4EPPZ4aw",
         "rawType": "float64",
         "type": "float"
        },
        {
         "name": "mxbHNHRrCNTjkzyLCnsHUQ",
         "rawType": "float64",
         "type": "float"
        },
        {
         "name": "n-Muw3wnU-INyXkgPtZVVg",
         "rawType": "float64",
         "type": "float"
        },
        {
         "name": "n1S7XnZfCCDIWlMZ8yUvEw",
         "rawType": "float64",
         "type": "float"
        },
        {
         "name": "n2vIw3p7jZ04N62JqsET6w",
         "rawType": "float64",
         "type": "float"
        },
        {
         "name": "n2yMw2PkNe99x464j6xQDQ",
         "rawType": "float64",
         "type": "float"
        },
        {
         "name": "n43SvzsYHO_4UTC_QwrZKA",
         "rawType": "float64",
         "type": "float"
        },
        {
         "name": "n62dcL1e8BQA1_kUEYrldQ",
         "rawType": "float64",
         "type": "float"
        },
        {
         "name": "n8Zqqhff-2cxzWt_nwhU2Q",
         "rawType": "float64",
         "type": "float"
        },
        {
         "name": "nBFGsYyd7OL45zcumb5Yag",
         "rawType": "float64",
         "type": "float"
        },
        {
         "name": "nChi_8Gygb6NUMa_kg_tlQ",
         "rawType": "float64",
         "type": "float"
        },
        {
         "name": "nDn2h-_c7Xk4UwM0aiXZlw",
         "rawType": "float64",
         "type": "float"
        },
        {
         "name": "nFVqjh-JCOuV2Uci1ZfJ_Q",
         "rawType": "float64",
         "type": "float"
        },
        {
         "name": "nG9xyZhpNzhVKHb5Gsy1GQ",
         "rawType": "float64",
         "type": "float"
        },
        {
         "name": "nJcyfIRGbI31EGLzillWYg",
         "rawType": "float64",
         "type": "float"
        },
        {
         "name": "nJoohOsIiZMgtPV0ttvPxA",
         "rawType": "float64",
         "type": "float"
        },
        {
         "name": "nL8_8Icehnn07NSmkToNuA",
         "rawType": "float64",
         "type": "float"
        },
        {
         "name": "nNavjod8pAkEW7ZHeCyAbA",
         "rawType": "float64",
         "type": "float"
        },
        {
         "name": "nPBG-UbMHDMdcnW-HncZNA",
         "rawType": "float64",
         "type": "float"
        },
        {
         "name": "nUVnnr5dYTXLLFwiCAp22Q",
         "rawType": "float64",
         "type": "float"
        },
        {
         "name": "nW45ez1L6U4PsYhV1BTrGQ",
         "rawType": "float64",
         "type": "float"
        },
        {
         "name": "nWO956JzoKr1uKD3VIkp5A",
         "rawType": "float64",
         "type": "float"
        },
        {
         "name": "nWW6fBfBljiRFa4sG7TyxA",
         "rawType": "float64",
         "type": "float"
        },
        {
         "name": "nWbYvXpikLfAh4S6AkG45A",
         "rawType": "float64",
         "type": "float"
        },
        {
         "name": "na4Th5DrNauOv-c43QQFvA",
         "rawType": "float64",
         "type": "float"
        },
        {
         "name": "nao-DQVFd90DA37rq6HO2g",
         "rawType": "float64",
         "type": "float"
        },
        {
         "name": "nb2Bpt5uGGZvNhnkEGMnpw",
         "rawType": "float64",
         "type": "float"
        },
        {
         "name": "nhfZW6Pi-oLQuhYcrcZJWw",
         "rawType": "float64",
         "type": "float"
        },
        {
         "name": "nn4ZkIZTCd7jJhxs-P9tHA",
         "rawType": "float64",
         "type": "float"
        },
        {
         "name": "nnjcCyP9Z8fpLWBEf87sUg",
         "rawType": "float64",
         "type": "float"
        },
        {
         "name": "npDvIbSKhJPh1vUJ6mjDNA",
         "rawType": "float64",
         "type": "float"
        },
        {
         "name": "nqiTujxNtEpA8dPATEQRrg",
         "rawType": "float64",
         "type": "float"
        },
        {
         "name": "nsDDx67UwXJvbkNdoXHmIQ",
         "rawType": "float64",
         "type": "float"
        },
        {
         "name": "nsSfCKW9KDB4COj9bzXApw",
         "rawType": "float64",
         "type": "float"
        },
        {
         "name": "nu-DHeDtxnOW5vYj93dGPQ",
         "rawType": "float64",
         "type": "float"
        },
        {
         "name": "nuGAd48mGzVLlJLPkST0BA",
         "rawType": "float64",
         "type": "float"
        },
        {
         "name": "nvuMlUxjxJF5GPr6De6UlQ",
         "rawType": "float64",
         "type": "float"
        },
        {
         "name": "o112Vh27kc6jryoWXwxmpg",
         "rawType": "float64",
         "type": "float"
        },
        {
         "name": "o3u8wbIWViEcNlphlc0szw",
         "rawType": "float64",
         "type": "float"
        },
        {
         "name": "o69XnnmtOaj6a2sjOTsGeg",
         "rawType": "float64",
         "type": "float"
        },
        {
         "name": "o6Yor6ofIw2TqM3mN28Kzg",
         "rawType": "float64",
         "type": "float"
        },
        {
         "name": "o6f_n_YyqHq1e7zXz_BP8w",
         "rawType": "float64",
         "type": "float"
        },
        {
         "name": "oAq3-dXyDT3k4Mluc1ftTA",
         "rawType": "float64",
         "type": "float"
        },
        {
         "name": "oDxvrLYe5SiQKdJlGhheoA",
         "rawType": "float64",
         "type": "float"
        },
        {
         "name": "oGTYDN6lzkBuFk3mTpFB0Q",
         "rawType": "float64",
         "type": "float"
        },
        {
         "name": "oIzIo6okfNdNiTJ50UnKiQ",
         "rawType": "float64",
         "type": "float"
        },
        {
         "name": "oJsfjG1uh6jopK6Kc-3pdQ",
         "rawType": "float64",
         "type": "float"
        },
        {
         "name": "oM_iooopkwnS7XnVS5kqlQ",
         "rawType": "float64",
         "type": "float"
        },
        {
         "name": "oRBIgTHfNDritzEP5pvfRQ",
         "rawType": "float64",
         "type": "float"
        },
        {
         "name": "oRKyGtUsN5IcRReN7ScUwQ",
         "rawType": "float64",
         "type": "float"
        },
        {
         "name": "oSI3qAZI_zhd91twB-ivqA",
         "rawType": "float64",
         "type": "float"
        },
        {
         "name": "oTyTT9LkR7VQIjw_ISoMLQ",
         "rawType": "float64",
         "type": "float"
        },
        {
         "name": "oVrvzUJczq0e2JzVxSTyag",
         "rawType": "float64",
         "type": "float"
        },
        {
         "name": "oWHZtv98YyKvSennjtBuAA",
         "rawType": "float64",
         "type": "float"
        },
        {
         "name": "oWTn2IzrprsRkPfULtjZtQ",
         "rawType": "float64",
         "type": "float"
        },
        {
         "name": "oWh3TnsN5WrmPn7VgQNsWA",
         "rawType": "float64",
         "type": "float"
        },
        {
         "name": "oXoVJ0xKv82cBo9U6oEjlQ",
         "rawType": "float64",
         "type": "float"
        },
        {
         "name": "oZJHJieidHz-zuGL7lBMpg",
         "rawType": "float64",
         "type": "float"
        },
        {
         "name": "o_73vrhXGy07nUWxn5q58A",
         "rawType": "float64",
         "type": "float"
        },
        {
         "name": "oa52t2Nfb7sOCqJE5M5hzg",
         "rawType": "float64",
         "type": "float"
        },
        {
         "name": "ofFhVu7PcZZpP7VCqK12zg",
         "rawType": "float64",
         "type": "float"
        },
        {
         "name": "ofTjkad-MksyUyQ4IDNazQ",
         "rawType": "float64",
         "type": "float"
        },
        {
         "name": "ogO3Yh_PgvBFcifw5f8g-g",
         "rawType": "float64",
         "type": "float"
        },
        {
         "name": "ohEnmKpF7i2_ujme1p_vUQ",
         "rawType": "float64",
         "type": "float"
        },
        {
         "name": "oi3FWENKZ5y_bDCpEb8yOw",
         "rawType": "float64",
         "type": "float"
        },
        {
         "name": "ojd-Sn7A05kl2wdZA0YGzA",
         "rawType": "float64",
         "type": "float"
        },
        {
         "name": "okQw1wEERhes49YCuBR9gA",
         "rawType": "float64",
         "type": "float"
        },
        {
         "name": "olmCDBoMF-EhN8U2livBSg",
         "rawType": "float64",
         "type": "float"
        },
        {
         "name": "on9Ex8TcopX9lU0JQsuiuQ",
         "rawType": "float64",
         "type": "float"
        },
        {
         "name": "oqLPpDP4TIaHSRyxR4Rqdw",
         "rawType": "float64",
         "type": "float"
        },
        {
         "name": "oqeBR3-TEMlbCBI4jofnIw",
         "rawType": "float64",
         "type": "float"
        },
        {
         "name": "osReO-Gng40ZKYBMyvM2jA",
         "rawType": "float64",
         "type": "float"
        },
        {
         "name": "ostVuyoxxQiP3Qik_L7nPA",
         "rawType": "float64",
         "type": "float"
        },
        {
         "name": "otyRCkvK6Kd8Gt2Va-EzDg",
         "rawType": "float64",
         "type": "float"
        },
        {
         "name": "ovnqQaQ8BsPgDoJ4nlYBUw",
         "rawType": "float64",
         "type": "float"
        },
        {
         "name": "owO2UkNKk9qrWWd_PTYLDA",
         "rawType": "float64",
         "type": "float"
        },
        {
         "name": "oyCRc4Zs2RkKOHy9IAa3wg",
         "rawType": "float64",
         "type": "float"
        },
        {
         "name": "p2CyF_XXYdkkdTSv6sCg0Q",
         "rawType": "float64",
         "type": "float"
        },
        {
         "name": "p3EiKlzllwI7Lwd3QYNGCA",
         "rawType": "float64",
         "type": "float"
        },
        {
         "name": "p4GDM1mu0doucp1xDlKdrw",
         "rawType": "float64",
         "type": "float"
        },
        {
         "name": "p4M-Tu7unXFi5jru6QSm2A",
         "rawType": "float64",
         "type": "float"
        },
        {
         "name": "p5rpYtxS5xPQjt3MXYVEwA",
         "rawType": "float64",
         "type": "float"
        },
        {
         "name": "p6YA-77VayfRsm-QdBlUJQ",
         "rawType": "float64",
         "type": "float"
        },
        {
         "name": "pCZrmhZFRis_G2sQMGxg3A",
         "rawType": "float64",
         "type": "float"
        },
        {
         "name": "pFQaji0idkrzv5J-qTQ82Q",
         "rawType": "float64",
         "type": "float"
        },
        {
         "name": "pFvIB18E0hsCaof3gXO22w",
         "rawType": "float64",
         "type": "float"
        },
        {
         "name": "pHpU8lnnxMuPWRHOysuMIQ",
         "rawType": "float64",
         "type": "float"
        },
        {
         "name": "pHsoinSUwG09PgGdgn33og",
         "rawType": "float64",
         "type": "float"
        },
        {
         "name": "pJGfdoRYWqBU1aVfxWvThA",
         "rawType": "float64",
         "type": "float"
        },
        {
         "name": "pJlHbIoePemy_wQVpWTR2g",
         "rawType": "float64",
         "type": "float"
        },
        {
         "name": "pM6RUrQNitEA5gG4VBc6Hg",
         "rawType": "float64",
         "type": "float"
        },
        {
         "name": "pP36B7aQh39jwBzHBs40ww",
         "rawType": "float64",
         "type": "float"
        },
        {
         "name": "pR9HHzbUdZ0Gt80_3NmmQw",
         "rawType": "float64",
         "type": "float"
        },
        {
         "name": "pVrke8m3lG65WfVRJP1moA",
         "rawType": "float64",
         "type": "float"
        },
        {
         "name": "pYLurMX_Sku8kK5r-kwu2w",
         "rawType": "float64",
         "type": "float"
        },
        {
         "name": "pYZnKIv0z-UxrpgBjp_z1w",
         "rawType": "float64",
         "type": "float"
        },
        {
         "name": "pZ1quwXnYozLIZIVABojhw",
         "rawType": "float64",
         "type": "float"
        },
        {
         "name": "paNjgpMDRhNzBj6xzhHPVQ",
         "rawType": "float64",
         "type": "float"
        },
        {
         "name": "pcA3DcjbkkQERU1dbsiSow",
         "rawType": "float64",
         "type": "float"
        },
        {
         "name": "pfn4CSTtpjSkN-OeyAafJQ",
         "rawType": "float64",
         "type": "float"
        },
        {
         "name": "pgSc8dBFiyAc0Cxzx1ryuw",
         "rawType": "float64",
         "type": "float"
        },
        {
         "name": "pkr0gGFBmei8b_l1pLwzcw",
         "rawType": "float64",
         "type": "float"
        },
        {
         "name": "plD9cuwxJ5esXPT9rY3tmQ",
         "rawType": "float64",
         "type": "float"
        },
        {
         "name": "pomGBqfbxcqPv14c3XH-ZQ",
         "rawType": "float64",
         "type": "float"
        },
        {
         "name": "prGGdpeqi6DU4t_RfdO0Dw",
         "rawType": "float64",
         "type": "float"
        },
        {
         "name": "prHnRsgY-PuM7vxe8-RwEA",
         "rawType": "float64",
         "type": "float"
        },
        {
         "name": "ptCUU6vlRV2F8bwElxDCZA",
         "rawType": "float64",
         "type": "float"
        },
        {
         "name": "pvNlEkUozt6B1BhGnsj77g",
         "rawType": "float64",
         "type": "float"
        },
        {
         "name": "pvPAE1Vjeo6_XbnflGo9xw",
         "rawType": "float64",
         "type": "float"
        },
        {
         "name": "pxkIhzA-XCLz1mtxITbs0Q",
         "rawType": "float64",
         "type": "float"
        },
        {
         "name": "pxn8oiRtZnnEP-ejmExQmg",
         "rawType": "float64",
         "type": "float"
        },
        {
         "name": "pxpLVCInGwLClbnwJwxInw",
         "rawType": "float64",
         "type": "float"
        },
        {
         "name": "py85NxzGJTNfeQvqrKY_GA",
         "rawType": "float64",
         "type": "float"
        },
        {
         "name": "pyqnGlIfP9Zw8LLxBjyAiA",
         "rawType": "float64",
         "type": "float"
        },
        {
         "name": "q-Mbr_XrA93pQkNaWJ6sMg",
         "rawType": "float64",
         "type": "float"
        },
        {
         "name": "q3XMIMigTpYS0m_myxavfQ",
         "rawType": "float64",
         "type": "float"
        },
        {
         "name": "q3gQtSf1IcMHdRUw--zFMQ",
         "rawType": "float64",
         "type": "float"
        },
        {
         "name": "q5xrVJ4kivx_yEfJeOKNYQ",
         "rawType": "float64",
         "type": "float"
        },
        {
         "name": "qAg8GkN9rforFWmGxBqVqA",
         "rawType": "float64",
         "type": "float"
        },
        {
         "name": "qCS7kgg2o5QxCvIhTUgzrQ",
         "rawType": "float64",
         "type": "float"
        },
        {
         "name": "qDguZjZSYPOzq-je_EqO3w",
         "rawType": "float64",
         "type": "float"
        },
        {
         "name": "qDl34ITEzEQNypLSJzTJTw",
         "rawType": "float64",
         "type": "float"
        },
        {
         "name": "qIRqFlmvHDRe7kWBAsuVnQ",
         "rawType": "float64",
         "type": "float"
        },
        {
         "name": "qJ18IGaDsQtzJ6v2UzkdcQ",
         "rawType": "float64",
         "type": "float"
        },
        {
         "name": "qLB08x1bZeXRylZ88amSsw",
         "rawType": "float64",
         "type": "float"
        },
        {
         "name": "qMJyOW1FdPOf8sli8DIq_A",
         "rawType": "float64",
         "type": "float"
        },
        {
         "name": "qNYLt8zizn--wEpT1KILfw",
         "rawType": "float64",
         "type": "float"
        },
        {
         "name": "qP-wKnRAGLXzUY10JNyDyw",
         "rawType": "float64",
         "type": "float"
        },
        {
         "name": "qSP6RqBJUyJRsQKTarlo6g",
         "rawType": "float64",
         "type": "float"
        },
        {
         "name": "qSsUXOWF9W4sekeHVekuug",
         "rawType": "float64",
         "type": "float"
        },
        {
         "name": "qTBT6UDQP5-GSrB-UTn5CQ",
         "rawType": "float64",
         "type": "float"
        },
        {
         "name": "qUfaMjN_45EuIlMrPhB_bw",
         "rawType": "float64",
         "type": "float"
        },
        {
         "name": "qVDRb-CZPXnO09csSuNK2Q",
         "rawType": "float64",
         "type": "float"
        },
        {
         "name": "qaNt4vtVdge_S68DVjw5Jg",
         "rawType": "float64",
         "type": "float"
        },
        {
         "name": "qauawyA4HmtCIvRG9gk-BA",
         "rawType": "float64",
         "type": "float"
        },
        {
         "name": "qbC4cfz-ShxEGpLS94Mk7Q",
         "rawType": "float64",
         "type": "float"
        },
        {
         "name": "qcltTph9ALOpiljbwMluKQ",
         "rawType": "float64",
         "type": "float"
        },
        {
         "name": "qdC2h3MqCNussc5lhzL7gg",
         "rawType": "float64",
         "type": "float"
        },
        {
         "name": "qhXwFR1kCJW23ShXCbBAhw",
         "rawType": "float64",
         "type": "float"
        },
        {
         "name": "qiR7S83_7Du_XQyj_U0zWw",
         "rawType": "float64",
         "type": "float"
        },
        {
         "name": "qmymSqVwHYRqdwfcBatzpQ",
         "rawType": "float64",
         "type": "float"
        },
        {
         "name": "qo4dzAKiwdN44wjexJWH4g",
         "rawType": "float64",
         "type": "float"
        },
        {
         "name": "qqs7LP4TXAoOrSlaKRfz3A",
         "rawType": "float64",
         "type": "float"
        },
        {
         "name": "qsCoUN2TRL47ucTzo9D6xA",
         "rawType": "float64",
         "type": "float"
        },
        {
         "name": "qsJkjQoM3Hdg6Gtqp2S9_w",
         "rawType": "float64",
         "type": "float"
        },
        {
         "name": "qvVYYnapp7sdDChoLaa-uw",
         "rawType": "float64",
         "type": "float"
        },
        {
         "name": "qx_ZlGhgCrJ4-8FUj9LWKg",
         "rawType": "float64",
         "type": "float"
        },
        {
         "name": "r-uKGbHOb3Qdz_s2U-PuFQ",
         "rawType": "float64",
         "type": "float"
        },
        {
         "name": "r3Xx9Qk3xAMzYGIGFBcKpQ",
         "rawType": "float64",
         "type": "float"
        },
        {
         "name": "rACsJxfreq6l1pquJeC36Q",
         "rawType": "float64",
         "type": "float"
        },
        {
         "name": "rETL4tn0LMohgdQYpytY5A",
         "rawType": "float64",
         "type": "float"
        },
        {
         "name": "rEvnqL_h1W1DXdKoujmrgQ",
         "rawType": "float64",
         "type": "float"
        },
        {
         "name": "rJHMVTCjCHXfZ7AboUL5Qg",
         "rawType": "float64",
         "type": "float"
        },
        {
         "name": "rKBZdPOd-IkRykaeQ56Ngw",
         "rawType": "float64",
         "type": "float"
        },
        {
         "name": "rNNVuA-xq1SVEQaLzrK4bw",
         "rawType": "float64",
         "type": "float"
        },
        {
         "name": "rPk01P-gHFZnBtRyfc7Wrg",
         "rawType": "float64",
         "type": "float"
        },
        {
         "name": "rSwGkWTJkKfwjfOWHYr3mA",
         "rawType": "float64",
         "type": "float"
        },
        {
         "name": "rTS8LsUmNIiXsXydE49tPA",
         "rawType": "float64",
         "type": "float"
        },
        {
         "name": "rVi34tu0bITsoxMMT9QhUw",
         "rawType": "float64",
         "type": "float"
        },
        {
         "name": "r_BrIgzYcwo1NAuG9dLbpg",
         "rawType": "float64",
         "type": "float"
        },
        {
         "name": "raVyoZbWWuN7JcFUdT7k2g",
         "rawType": "float64",
         "type": "float"
        },
        {
         "name": "rbH0HuTcBvZBbiAnqufRqQ",
         "rawType": "float64",
         "type": "float"
        },
        {
         "name": "rcGjCTd9wYPBv6Szslti-Q",
         "rawType": "float64",
         "type": "float"
        },
        {
         "name": "rcaPajgKOJC2vo_l3xa42A",
         "rawType": "float64",
         "type": "float"
        },
        {
         "name": "rgTcICdtCXoNXc71Z7-t5g",
         "rawType": "float64",
         "type": "float"
        },
        {
         "name": "riFzCvp77DMKDX-5GoTpqA",
         "rawType": "float64",
         "type": "float"
        },
        {
         "name": "riM-pBsdqRRVXtAVbLfsxQ",
         "rawType": "float64",
         "type": "float"
        },
        {
         "name": "rmP7AzV3SAeRWUzbNuqQ5A",
         "rawType": "float64",
         "type": "float"
        },
        {
         "name": "roR1_DDlMk7mhi5_R6XVKA",
         "rawType": "float64",
         "type": "float"
        },
        {
         "name": "rp5RXEpoAj-k3c4_QP6LMQ",
         "rawType": "float64",
         "type": "float"
        },
        {
         "name": "rq5dgoksPHkJwJNQKlGQ7w",
         "rawType": "float64",
         "type": "float"
        },
        {
         "name": "rrh4nkmotLVqA6XnSb3q8Q",
         "rawType": "float64",
         "type": "float"
        },
        {
         "name": "rsjrcxOIJm9VdkSNpkXZ9Q",
         "rawType": "float64",
         "type": "float"
        },
        {
         "name": "ruPFtD9dU6Cv9_wpzIR4UQ",
         "rawType": "float64",
         "type": "float"
        },
        {
         "name": "ruWTngdiC68O9la27hvvHw",
         "rawType": "float64",
         "type": "float"
        },
        {
         "name": "rvnTFEq7R2ZHg0_CYbBNFw",
         "rawType": "float64",
         "type": "float"
        },
        {
         "name": "s-YJpfR-LFRnH7qYVFuJuw",
         "rawType": "float64",
         "type": "float"
        },
        {
         "name": "s2FWW3HzoPHHpMmkca7maA",
         "rawType": "float64",
         "type": "float"
        },
        {
         "name": "sBrrWO-Nv7imsqU0e5504Q",
         "rawType": "float64",
         "type": "float"
        },
        {
         "name": "sCr3A1IpKuifofjoJo0v9Q",
         "rawType": "float64",
         "type": "float"
        },
        {
         "name": "sEjy65M87W8dLka1YD_-JQ",
         "rawType": "float64",
         "type": "float"
        },
        {
         "name": "sH3UsolKjik01u0HlQ9_0Q",
         "rawType": "float64",
         "type": "float"
        },
        {
         "name": "sH9aI3xg-POBMp8R-kSQZg",
         "rawType": "float64",
         "type": "float"
        },
        {
         "name": "sPPh1LJllyr5jUpKFTxxag",
         "rawType": "float64",
         "type": "float"
        },
        {
         "name": "sS2IKdaUne_8QwiAl6iyfg",
         "rawType": "float64",
         "type": "float"
        },
        {
         "name": "sVYxSjy_lPIG18uOvk5v7g",
         "rawType": "float64",
         "type": "float"
        },
        {
         "name": "sVqV9lzvx98kWU39Fn4c6w",
         "rawType": "float64",
         "type": "float"
        },
        {
         "name": "s_7T0ET8svmbLklIucYeHg",
         "rawType": "float64",
         "type": "float"
        },
        {
         "name": "sa1ZAswk7kEQfg9Mb6iQwQ",
         "rawType": "float64",
         "type": "float"
        },
        {
         "name": "saQQmDQQJ14BVkm_sg53UA",
         "rawType": "float64",
         "type": "float"
        },
        {
         "name": "sd4BuC4Om6WuvnP87ZS8Og",
         "rawType": "float64",
         "type": "float"
        },
        {
         "name": "sdYkVaTy7EJwUkO8Ie_qPg",
         "rawType": "float64",
         "type": "float"
        },
        {
         "name": "sdfmHavBrOZMMsiBv2sg7g",
         "rawType": "float64",
         "type": "float"
        },
        {
         "name": "seDuOOv4W3_fgFD7iMKhKw",
         "rawType": "float64",
         "type": "float"
        },
        {
         "name": "seSxUrP20emweQGA-Ugm4g",
         "rawType": "float64",
         "type": "float"
        },
        {
         "name": "sgeH1aWYynK1BQiouCTMtw",
         "rawType": "float64",
         "type": "float"
        },
        {
         "name": "sjpYOSE-cK0h-XI7XooLTQ",
         "rawType": "float64",
         "type": "float"
        },
        {
         "name": "smnXd7cSduSxe8CoYyLCyw",
         "rawType": "float64",
         "type": "float"
        },
        {
         "name": "sscP36MO34i5ep4QO8c7KA",
         "rawType": "float64",
         "type": "float"
        },
        {
         "name": "szWfpLdcJVrpqVJQA3fhJw",
         "rawType": "float64",
         "type": "float"
        },
        {
         "name": "szhD1-esquzkQd0HDkbUOQ",
         "rawType": "float64",
         "type": "float"
        },
        {
         "name": "t-DxcWFBnd4m0wOxVnDRow",
         "rawType": "float64",
         "type": "float"
        },
        {
         "name": "t0T_4MM4EUHbCzBTF11FHA",
         "rawType": "float64",
         "type": "float"
        },
        {
         "name": "t24iet8ECETVbu_2UhrxkA",
         "rawType": "float64",
         "type": "float"
        },
        {
         "name": "t5LFQy9h9IpWfFfcMwQT4w",
         "rawType": "float64",
         "type": "float"
        },
        {
         "name": "t5nyOtnEv455rShOS_g3RA",
         "rawType": "float64",
         "type": "float"
        },
        {
         "name": "tA5mqEP68qjbTFK9c14D7A",
         "rawType": "float64",
         "type": "float"
        },
        {
         "name": "tCYAxj5_pV4RnDpe3_5VpA",
         "rawType": "float64",
         "type": "float"
        },
        {
         "name": "tEfmHuo_dNanyTaC5PyoOQ",
         "rawType": "float64",
         "type": "float"
        },
        {
         "name": "tIX6o1jkLrrmsJIdGUjA5A",
         "rawType": "float64",
         "type": "float"
        },
        {
         "name": "tIvDO_1WNbb6UAifErQ-Ug",
         "rawType": "float64",
         "type": "float"
        },
        {
         "name": "tTXlg3pL7pHPHam1kL87IQ",
         "rawType": "float64",
         "type": "float"
        },
        {
         "name": "tTzQZTrwBgwxMch77nCJfQ",
         "rawType": "float64",
         "type": "float"
        },
        {
         "name": "tWdp26XQEJqJGnRmFVJQxA",
         "rawType": "float64",
         "type": "float"
        },
        {
         "name": "tXq5OcDNUT9boWJtaxtOlA",
         "rawType": "float64",
         "type": "float"
        },
        {
         "name": "tZsSTf4Q7eoq4v0-_HvPPg",
         "rawType": "float64",
         "type": "float"
        },
        {
         "name": "t_yiQnxUDdPPCN2z4QyezA",
         "rawType": "float64",
         "type": "float"
        },
        {
         "name": "tbMAjldMYhvDUS2gG5Fdxw",
         "rawType": "float64",
         "type": "float"
        },
        {
         "name": "tf4FoM-A_I469qTUbLZs5Q",
         "rawType": "float64",
         "type": "float"
        },
        {
         "name": "th4pZ5LkoIIkb1Vmu_m2DA",
         "rawType": "float64",
         "type": "float"
        },
        {
         "name": "tixO3aKYU99KCFaRKm7Cjw",
         "rawType": "float64",
         "type": "float"
        },
        {
         "name": "tjw1yJdmatifLYHbsI9HGA",
         "rawType": "float64",
         "type": "float"
        },
        {
         "name": "tk97oILqxd6y_eOWFevUQg",
         "rawType": "float64",
         "type": "float"
        },
        {
         "name": "tkoCC_N3EOTV3yc_QIcnxw",
         "rawType": "float64",
         "type": "float"
        },
        {
         "name": "tlt8zNrZ6_A3DmXiM-cnBA",
         "rawType": "float64",
         "type": "float"
        },
        {
         "name": "tnG4_L5bZiffTbaFru9EBg",
         "rawType": "float64",
         "type": "float"
        },
        {
         "name": "tniQZd6UFm46cu4pyN9HcQ",
         "rawType": "float64",
         "type": "float"
        },
        {
         "name": "toBMu3SXZn-dpdmVrPe4aQ",
         "rawType": "float64",
         "type": "float"
        },
        {
         "name": "tpM73m9YqgYFwIQIzIpQ2w",
         "rawType": "float64",
         "type": "float"
        },
        {
         "name": "tq2B9UpvdLNUW7tdVm-FrA",
         "rawType": "float64",
         "type": "float"
        },
        {
         "name": "tqgDsKlKdH73HVs5jxfemw",
         "rawType": "float64",
         "type": "float"
        },
        {
         "name": "trpn1eVgQdR1iWG6uLZrQg",
         "rawType": "float64",
         "type": "float"
        },
        {
         "name": "ts_kVtBEAJsdmdoqxRDdRQ",
         "rawType": "float64",
         "type": "float"
        },
        {
         "name": "ttuEwktrkmh3TUlSFPZqAA",
         "rawType": "float64",
         "type": "float"
        },
        {
         "name": "tuB82m4oIlKLyWeQjEF16g",
         "rawType": "float64",
         "type": "float"
        },
        {
         "name": "tvxI5iRImLnPdLbiI1HXhA",
         "rawType": "float64",
         "type": "float"
        },
        {
         "name": "u0wSFmWfg7IFJRl-WdSrNQ",
         "rawType": "float64",
         "type": "float"
        },
        {
         "name": "u3nwislXMKKwkpHAXAArbQ",
         "rawType": "float64",
         "type": "float"
        },
        {
         "name": "u4IDWradF0DQSdfiUNpS2Q",
         "rawType": "float64",
         "type": "float"
        },
        {
         "name": "u7jiuYiz-zVwsh0TGRHUIg",
         "rawType": "float64",
         "type": "float"
        },
        {
         "name": "u8-WDsLXAl0dXQW_wqWrDg",
         "rawType": "float64",
         "type": "float"
        },
        {
         "name": "u8C8pRvaHXg3PgDrsUHJHQ",
         "rawType": "float64",
         "type": "float"
        },
        {
         "name": "uAAWlLdsoUf872F1FKiX1A",
         "rawType": "float64",
         "type": "float"
        },
        {
         "name": "uD8SU0khj7Kn4BOrL-dwWw",
         "rawType": "float64",
         "type": "float"
        },
        {
         "name": "uEx5j9wrtKldFBI8NBifzQ",
         "rawType": "float64",
         "type": "float"
        },
        {
         "name": "uEzeBOLF_ia0kzCL8Rhaew",
         "rawType": "float64",
         "type": "float"
        },
        {
         "name": "uF86ZhygpBEGr3CudNemYA",
         "rawType": "float64",
         "type": "float"
        },
        {
         "name": "uGlxpR3HAyqBsOf1HTvkvQ",
         "rawType": "float64",
         "type": "float"
        },
        {
         "name": "uH2dNi5nKj31_Xf5dTfXdw",
         "rawType": "float64",
         "type": "float"
        },
        {
         "name": "uJJ62PLmWnkvPMDSB4k4AQ",
         "rawType": "float64",
         "type": "float"
        },
        {
         "name": "uKKNw68mZZaa1jcyszEbyA",
         "rawType": "float64",
         "type": "float"
        },
        {
         "name": "uOh6X33yWo03vp2kKqEXmA",
         "rawType": "float64",
         "type": "float"
        },
        {
         "name": "uU1VdmqO6UTCiRgbhQrbsg",
         "rawType": "float64",
         "type": "float"
        },
        {
         "name": "uYVafd0rRxOdHzFc-2zw2A",
         "rawType": "float64",
         "type": "float"
        },
        {
         "name": "uZx57JEWbG4hIPv-QtGYZA",
         "rawType": "float64",
         "type": "float"
        },
        {
         "name": "u_vPjx925UPEG9DFOAAvFQ",
         "rawType": "float64",
         "type": "float"
        },
        {
         "name": "ubpfIf6qT2vIDQaPC_2GGA",
         "rawType": "float64",
         "type": "float"
        },
        {
         "name": "uejutOD4_-IUaY5cKkpezg",
         "rawType": "float64",
         "type": "float"
        },
        {
         "name": "ufA5ebLmVAqCuhMrApaONg",
         "rawType": "float64",
         "type": "float"
        },
        {
         "name": "ufmokEGxGqEWIdvIVsNg_Q",
         "rawType": "float64",
         "type": "float"
        },
        {
         "name": "ug-p2DvXDkPTPOFeHofLsA",
         "rawType": "float64",
         "type": "float"
        },
        {
         "name": "ugf6qjoG5h6VXR5-vpq0Qw",
         "rawType": "float64",
         "type": "float"
        },
        {
         "name": "ugw8RtuqcDMLrCI_GzqwuA",
         "rawType": "float64",
         "type": "float"
        },
        {
         "name": "ujHiaprwCQ5ewziu0Vi9rw",
         "rawType": "float64",
         "type": "float"
        },
        {
         "name": "ujPuhQdg8-GCJQg6BoRJtA",
         "rawType": "float64",
         "type": "float"
        },
        {
         "name": "ujbnYohZttC_-u-BGIFzHw",
         "rawType": "float64",
         "type": "float"
        },
        {
         "name": "uo7vkLcPKJIDgi2TPMMBGA",
         "rawType": "float64",
         "type": "float"
        },
        {
         "name": "uoaXG4PDHuFYRMftxWtMyw",
         "rawType": "float64",
         "type": "float"
        },
        {
         "name": "utIA0LyQmwP-9DRyxUe6qQ",
         "rawType": "float64",
         "type": "float"
        },
        {
         "name": "uteI0OIVarN_qkmORgPPgg",
         "rawType": "float64",
         "type": "float"
        },
        {
         "name": "uthbVCNZqmExJTzhII9iNQ",
         "rawType": "float64",
         "type": "float"
        },
        {
         "name": "uu5AtMrz_94e8kk4Gixg9Q",
         "rawType": "float64",
         "type": "float"
        },
        {
         "name": "uufFYaIiNeISTgzSsEcYwg",
         "rawType": "float64",
         "type": "float"
        },
        {
         "name": "uxM2hXYkS9kr-DiQN2lB5g",
         "rawType": "float64",
         "type": "float"
        },
        {
         "name": "uzslagEIM-bByNAGg8_3FQ",
         "rawType": "float64",
         "type": "float"
        },
        {
         "name": "v-ZHYK044MXryMThoCeGCw",
         "rawType": "float64",
         "type": "float"
        },
        {
         "name": "v-supbjeNBKNwomn3sLc8g",
         "rawType": "float64",
         "type": "float"
        },
        {
         "name": "v078BH3cCAeZyKOTe0ogtQ",
         "rawType": "float64",
         "type": "float"
        },
        {
         "name": "v0O4O4poJ3-mY8BS_Ye2kQ",
         "rawType": "float64",
         "type": "float"
        },
        {
         "name": "v1AE1LLWDOqe8ubOzqKADg",
         "rawType": "float64",
         "type": "float"
        },
        {
         "name": "v1C8WQR6iB0WW0W48T5pqA",
         "rawType": "float64",
         "type": "float"
        },
        {
         "name": "v1DdKUcs-KxR3JV_vE8nMg",
         "rawType": "float64",
         "type": "float"
        },
        {
         "name": "v1lOO2jjHwhoX2fySoDkVg",
         "rawType": "float64",
         "type": "float"
        },
        {
         "name": "v2UYBFxtaB14OnoKQOuwjA",
         "rawType": "float64",
         "type": "float"
        },
        {
         "name": "v4YmJDtKzG2Dlh-vGB241w",
         "rawType": "float64",
         "type": "float"
        },
        {
         "name": "v4qyBRpTBvOO55M4IAqNNg",
         "rawType": "float64",
         "type": "float"
        },
        {
         "name": "v6HIAGRoLv3sZnv9pcWlGA",
         "rawType": "float64",
         "type": "float"
        },
        {
         "name": "v8-d4GjT_sFiC2RXb3UJSg",
         "rawType": "float64",
         "type": "float"
        },
        {
         "name": "vA7gCRT0JsgSYy0U8NY0nA",
         "rawType": "float64",
         "type": "float"
        },
        {
         "name": "vC23Fq8lMkNiZ4F8yh3ukQ",
         "rawType": "float64",
         "type": "float"
        },
        {
         "name": "vEE91PRNYG3Boq3B69Bycw",
         "rawType": "float64",
         "type": "float"
        },
        {
         "name": "vF2a_cycD2sHfM1-KBijxw",
         "rawType": "float64",
         "type": "float"
        },
        {
         "name": "vGDhK2Lc4Np5iZYZ7FG0QA",
         "rawType": "float64",
         "type": "float"
        },
        {
         "name": "vHZ5zRfM2a4ZyfpPdEBSdQ",
         "rawType": "float64",
         "type": "float"
        },
        {
         "name": "vHt0CSynqesXox-9nBj7uA",
         "rawType": "float64",
         "type": "float"
        },
        {
         "name": "vKvXz-mTPBKwrOYUeN1u9Q",
         "rawType": "float64",
         "type": "float"
        },
        {
         "name": "vOUIiRfyA9jtra7Hez6mpg",
         "rawType": "float64",
         "type": "float"
        },
        {
         "name": "vOyZkFAknjVg-Fwye3TKaQ",
         "rawType": "float64",
         "type": "float"
        },
        {
         "name": "vQq_sX0kSAUdT3yLW06q5A",
         "rawType": "float64",
         "type": "float"
        },
        {
         "name": "vQzGaVyGTwyKkae0z6b_fg",
         "rawType": "float64",
         "type": "float"
        },
        {
         "name": "vU8-ATy2-MASm-bQXdhRaw",
         "rawType": "float64",
         "type": "float"
        },
        {
         "name": "vUpyHcStGZTLWH1d_WETDQ",
         "rawType": "float64",
         "type": "float"
        },
        {
         "name": "vVvJ0ZilcEw7TKjLRHTJkw",
         "rawType": "float64",
         "type": "float"
        },
        {
         "name": "vYFsk6qWh8kke7JEmcKDYA",
         "rawType": "float64",
         "type": "float"
        },
        {
         "name": "vYbpodi9utup_njMK5PAfw",
         "rawType": "float64",
         "type": "float"
        },
        {
         "name": "vciJf1nGkI0eO-WGWQIFUQ",
         "rawType": "float64",
         "type": "float"
        },
        {
         "name": "vcsisb4AxeDuDFnnjLfe1A",
         "rawType": "float64",
         "type": "float"
        },
        {
         "name": "vgLC4k9st5Gc2RiZaSw8EA",
         "rawType": "float64",
         "type": "float"
        },
        {
         "name": "vgfcTvK81oD4r50NMjU2Ag",
         "rawType": "float64",
         "type": "float"
        },
        {
         "name": "vkQrIXyeAn4GrCnrk2haRw",
         "rawType": "float64",
         "type": "float"
        },
        {
         "name": "vlJsF5tTfplbo1D5kbUPmQ",
         "rawType": "float64",
         "type": "float"
        },
        {
         "name": "vpBwJ46ubkaaXyEPiHqCZA",
         "rawType": "float64",
         "type": "float"
        },
        {
         "name": "vqEtZ7CtNB9G8WMzjwJA2g",
         "rawType": "float64",
         "type": "float"
        },
        {
         "name": "vtkJXE_Vdz27rWm6mfAw6Q",
         "rawType": "float64",
         "type": "float"
        },
        {
         "name": "vuC03KldDXReH8VTqRK03g",
         "rawType": "float64",
         "type": "float"
        },
        {
         "name": "vuHzLZ7nAeT-EiecOkS5Og",
         "rawType": "float64",
         "type": "float"
        },
        {
         "name": "vvHr2uKKIhfxVk-fYDmX9Q",
         "rawType": "float64",
         "type": "float"
        },
        {
         "name": "vw6tHgvieuC2hR-Trmno4A",
         "rawType": "float64",
         "type": "float"
        },
        {
         "name": "vwQvDIb_F7AqwCPaQhHrwg",
         "rawType": "float64",
         "type": "float"
        },
        {
         "name": "vx2T3IspTj6Opxjn95xWRA",
         "rawType": "float64",
         "type": "float"
        },
        {
         "name": "vy9we2md5bP6bBjuHdhr4w",
         "rawType": "float64",
         "type": "float"
        },
        {
         "name": "vz8HFGsITt6aj-nyXkAEFg",
         "rawType": "float64",
         "type": "float"
        },
        {
         "name": "w-kAAKasRVMePzORGOJ8HA",
         "rawType": "float64",
         "type": "float"
        },
        {
         "name": "w1fJzm0ladnhvT7Jc0MJ6w",
         "rawType": "float64",
         "type": "float"
        },
        {
         "name": "w4SY_FlZnIfAb8UjDABPsQ",
         "rawType": "float64",
         "type": "float"
        },
        {
         "name": "w55IYhyLHUdsRlo_EvMmNQ",
         "rawType": "float64",
         "type": "float"
        },
        {
         "name": "w5CSi-An5meLnxjKSFn0wQ",
         "rawType": "float64",
         "type": "float"
        },
        {
         "name": "w5gvpOg8X-v4uqvb3tB0HA",
         "rawType": "float64",
         "type": "float"
        },
        {
         "name": "w8RWhhuKxMiFCpvFvIQ3zg",
         "rawType": "float64",
         "type": "float"
        },
        {
         "name": "wB2mrl_xHyj55UObucaVRA",
         "rawType": "float64",
         "type": "float"
        },
        {
         "name": "wCZDFjbSbSjd0CbDSZ6nEg",
         "rawType": "float64",
         "type": "float"
        },
        {
         "name": "wE8OljxUdpI8UbhGay2Xgw",
         "rawType": "float64",
         "type": "float"
        },
        {
         "name": "wGoOWEue58i27zu2wYkiig",
         "rawType": "float64",
         "type": "float"
        },
        {
         "name": "wH6hivXJebodb327MaKKww",
         "rawType": "float64",
         "type": "float"
        },
        {
         "name": "wJVW-Bgc9j2aaMnwI7TH3Q",
         "rawType": "float64",
         "type": "float"
        },
        {
         "name": "wKx2qCvHthF5O6WPgMU6iQ",
         "rawType": "float64",
         "type": "float"
        },
        {
         "name": "wMiOsYLtgwbUoyV2DttqMg",
         "rawType": "float64",
         "type": "float"
        },
        {
         "name": "wPiRP76arN0NB3M1ZXXp7g",
         "rawType": "float64",
         "type": "float"
        },
        {
         "name": "wQWhzyZNzFQKAOiSVEXCwA",
         "rawType": "float64",
         "type": "float"
        },
        {
         "name": "wRQ4IUdDs-pheChmrNJSrg",
         "rawType": "float64",
         "type": "float"
        },
        {
         "name": "wSw-l2m7oCQ_Hn5hHTqmGw",
         "rawType": "float64",
         "type": "float"
        },
        {
         "name": "wUKzaS1MHg94RGM6z8u9mw",
         "rawType": "float64",
         "type": "float"
        },
        {
         "name": "wWH4dED55sn0DMFBqaD56A",
         "rawType": "float64",
         "type": "float"
        },
        {
         "name": "wY3dlpLa0BHfDENYAPYuZA",
         "rawType": "float64",
         "type": "float"
        },
        {
         "name": "wZ_MKDImrS4EvbZ_YUWzfA",
         "rawType": "float64",
         "type": "float"
        },
        {
         "name": "waJ8_8FGJC-j5uIP2im1-A",
         "rawType": "float64",
         "type": "float"
        },
        {
         "name": "wbeK4EgSJZ0mKDd2vbaxnA",
         "rawType": "float64",
         "type": "float"
        },
        {
         "name": "wbghhhmnre5U1_qQHm33Cg",
         "rawType": "float64",
         "type": "float"
        },
        {
         "name": "wcLX8aToZJF4AR-qkpI2Ag",
         "rawType": "float64",
         "type": "float"
        },
        {
         "name": "wcYcF_C7GTm6Q888V7ePDg",
         "rawType": "float64",
         "type": "float"
        },
        {
         "name": "wgoCMZXYoIj2vcxB4GjePw",
         "rawType": "float64",
         "type": "float"
        },
        {
         "name": "wh62Gu_Wgnti9W_WAY-nHQ",
         "rawType": "float64",
         "type": "float"
        },
        {
         "name": "whAwdYVty-jSNRhrYT2zHA",
         "rawType": "float64",
         "type": "float"
        },
        {
         "name": "wiuhohHv4fP2LY5yogv-vQ",
         "rawType": "float64",
         "type": "float"
        },
        {
         "name": "wizwRqaukMKVNSf8IFZCYQ",
         "rawType": "float64",
         "type": "float"
        },
        {
         "name": "wkChwNgC7YSc8KZgXiGT0Q",
         "rawType": "float64",
         "type": "float"
        },
        {
         "name": "wke61EJKd1Yw6q1BR1npZw",
         "rawType": "float64",
         "type": "float"
        },
        {
         "name": "wl0QZqAzr1DelslQ02JGCQ",
         "rawType": "float64",
         "type": "float"
        },
        {
         "name": "wl6w2VNMA4g6O9lu7kTvFA",
         "rawType": "float64",
         "type": "float"
        },
        {
         "name": "wmCBxE0PfLZD8sxIwAY59Q",
         "rawType": "float64",
         "type": "float"
        },
        {
         "name": "wnuBO-iMfdVjEncqoSyOCA",
         "rawType": "float64",
         "type": "float"
        },
        {
         "name": "wrQG6xvECjz0CbBft8oS9Q",
         "rawType": "float64",
         "type": "float"
        },
        {
         "name": "wrcfLni9nmJK46Wb4XMkaQ",
         "rawType": "float64",
         "type": "float"
        },
        {
         "name": "wtcMoqKiaxkFPZj0BC9jlw",
         "rawType": "float64",
         "type": "float"
        },
        {
         "name": "wuMtOi-Q0VPDTVC9O442dA",
         "rawType": "float64",
         "type": "float"
        },
        {
         "name": "wwnuIvnVLgpEZOKzcdfDhw",
         "rawType": "float64",
         "type": "float"
        },
        {
         "name": "wzj2cMpiDJW0HB3iCvCOYA",
         "rawType": "float64",
         "type": "float"
        },
        {
         "name": "x1Fg-pxoCq-BDhklj0GnRw",
         "rawType": "float64",
         "type": "float"
        },
        {
         "name": "x1o-xthDH_r0pBxAs0GjSA",
         "rawType": "float64",
         "type": "float"
        },
        {
         "name": "x3KmMr1qSFaxUZ24K-YpbQ",
         "rawType": "float64",
         "type": "float"
        },
        {
         "name": "x5iQFVJkFl7fSXC6uVjwPw",
         "rawType": "float64",
         "type": "float"
        },
        {
         "name": "xB4NNFPFHYQIyGytHvObgQ",
         "rawType": "float64",
         "type": "float"
        },
        {
         "name": "xDl6ZZmfvVCnEAk6WQGouA",
         "rawType": "float64",
         "type": "float"
        },
        {
         "name": "xDvl_i1g1HCJ4EmIRmwfqg",
         "rawType": "float64",
         "type": "float"
        },
        {
         "name": "xI4IId1ZXfSflFvfbAtTVQ",
         "rawType": "float64",
         "type": "float"
        },
        {
         "name": "xN4d1pftLwL2k0FDeFX2_g",
         "rawType": "float64",
         "type": "float"
        },
        {
         "name": "xQ_1s9C7M5j_v_CUv7e-YQ",
         "rawType": "float64",
         "type": "float"
        },
        {
         "name": "xTOX8D1Tavoi9vPWL-nWdQ",
         "rawType": "float64",
         "type": "float"
        },
        {
         "name": "xUYZzyhyJLdeiHk30cJQRw",
         "rawType": "float64",
         "type": "float"
        },
        {
         "name": "xVEtGucSRLk5pxxN0t4i6g",
         "rawType": "float64",
         "type": "float"
        },
        {
         "name": "xVpE01l6ZXdEtVf5PkRpDg",
         "rawType": "float64",
         "type": "float"
        },
        {
         "name": "xZhCCireQYwcRHh5Nc1Vkw",
         "rawType": "float64",
         "type": "float"
        },
        {
         "name": "xhCiQt_-pMp1nKDXZ7n7BQ",
         "rawType": "float64",
         "type": "float"
        },
        {
         "name": "xjlMlnxWqMd3FGODA_z1NA",
         "rawType": "float64",
         "type": "float"
        },
        {
         "name": "xjmSOMWaobEPCf9eyw014g",
         "rawType": "float64",
         "type": "float"
        },
        {
         "name": "xk-fOf_M39kDTgzfVgu0Tw",
         "rawType": "float64",
         "type": "float"
        },
        {
         "name": "xkVMIk_Vqh17f48ZQ_6b0w",
         "rawType": "float64",
         "type": "float"
        },
        {
         "name": "xkiYAerQQXL25legNhVsSw",
         "rawType": "float64",
         "type": "float"
        },
        {
         "name": "xmgLfJ5Jo6hHjY61hzO_EQ",
         "rawType": "float64",
         "type": "float"
        },
        {
         "name": "xpJEBXTCQh5Ib8BJrjt9Bg",
         "rawType": "float64",
         "type": "float"
        },
        {
         "name": "xqbvqZHNyj2qExHdizzd0w",
         "rawType": "float64",
         "type": "float"
        },
        {
         "name": "xrtyYnxgx7bTM3AEiwjWiA",
         "rawType": "float64",
         "type": "float"
        },
        {
         "name": "xtYiHTmunjfCN2sUaQxBjA",
         "rawType": "float64",
         "type": "float"
        },
        {
         "name": "xu3JbicQsPv1lay0cT6tRw",
         "rawType": "float64",
         "type": "float"
        },
        {
         "name": "xvIKjbhFydKRzrnibKuBDA",
         "rawType": "float64",
         "type": "float"
        },
        {
         "name": "xvrkd0c5E7sl9KuY-IMHIA",
         "rawType": "float64",
         "type": "float"
        },
        {
         "name": "xwAjj-iemdpJ6vuL1-zrDw",
         "rawType": "float64",
         "type": "float"
        },
        {
         "name": "y1eeVRfJa22CCpUCeNfrSw",
         "rawType": "float64",
         "type": "float"
        },
        {
         "name": "y6eUneu8lbQLsls12KmqqA",
         "rawType": "float64",
         "type": "float"
        },
        {
         "name": "y973FDy4JV5N7tZ7rswdwA",
         "rawType": "float64",
         "type": "float"
        },
        {
         "name": "y9hgPwF68tpWEp6onX-3TQ",
         "rawType": "float64",
         "type": "float"
        },
        {
         "name": "yA8iKH7GNFzA8jgyvjAg3g",
         "rawType": "float64",
         "type": "float"
        },
        {
         "name": "yADOyFmSlHuixlQ4MtHhcQ",
         "rawType": "float64",
         "type": "float"
        },
        {
         "name": "yCfIn32VBPusg51DP5dEaQ",
         "rawType": "float64",
         "type": "float"
        },
        {
         "name": "yEOu75XjwczngvWWlr0M_A",
         "rawType": "float64",
         "type": "float"
        },
        {
         "name": "yFumR3CWzpfvTH2FCthvVw",
         "rawType": "float64",
         "type": "float"
        },
        {
         "name": "yGZtG3KpoXyvF6gUC0FExQ",
         "rawType": "float64",
         "type": "float"
        },
        {
         "name": "yLKoESPQ8BN7dn6ADzZicQ",
         "rawType": "float64",
         "type": "float"
        },
        {
         "name": "yNPh5SO-7wr8HPpVCDPbXQ",
         "rawType": "float64",
         "type": "float"
        },
        {
         "name": "yNkOuXH7VdDjYKqV5w33PA",
         "rawType": "float64",
         "type": "float"
        },
        {
         "name": "yP-6hIA3qGWbIz0p9zSaoA",
         "rawType": "float64",
         "type": "float"
        },
        {
         "name": "yQUXMWSA8H7wvkLa4iCD8g",
         "rawType": "float64",
         "type": "float"
        },
        {
         "name": "yUAwR_aC6QtSyjuJUhOEKQ",
         "rawType": "float64",
         "type": "float"
        },
        {
         "name": "yY3jNsrpCyKTqQuRuLV8gw",
         "rawType": "float64",
         "type": "float"
        },
        {
         "name": "yaEZHD2NsTkq3CM6mQimWA",
         "rawType": "float64",
         "type": "float"
        },
        {
         "name": "ydqbNz2sHENV9XOElwyAYA",
         "rawType": "float64",
         "type": "float"
        },
        {
         "name": "yesClkCZlpLGTYZROkx4SA",
         "rawType": "float64",
         "type": "float"
        },
        {
         "name": "yhYhK7tb3la5KcLlVzG5Lw",
         "rawType": "float64",
         "type": "float"
        },
        {
         "name": "ykSRyy7X8EwP92X11cA82g",
         "rawType": "float64",
         "type": "float"
        },
        {
         "name": "yn6KPC17lgPlrOqBNF9vUw",
         "rawType": "float64",
         "type": "float"
        },
        {
         "name": "ynyDiLHzTdf4du9xMhscxg",
         "rawType": "float64",
         "type": "float"
        },
        {
         "name": "yqYtY3-Po4OVPafA9Z-Xyw",
         "rawType": "float64",
         "type": "float"
        },
        {
         "name": "yqqXDVl7ZJaiDDbuCFXqMg",
         "rawType": "float64",
         "type": "float"
        },
        {
         "name": "ysv6yhVYOoH9Pf7PlMyD0g",
         "rawType": "float64",
         "type": "float"
        },
        {
         "name": "yvwK4MO2qnSZE5ggYGyk1A",
         "rawType": "float64",
         "type": "float"
        },
        {
         "name": "yyYpTY4dhfnX_-4UJEWUcg",
         "rawType": "float64",
         "type": "float"
        },
        {
         "name": "yz3KtngrF2PQrif8JW7gdw",
         "rawType": "float64",
         "type": "float"
        },
        {
         "name": "yz66FIUPDKGhILDWzRLeKg",
         "rawType": "float64",
         "type": "float"
        },
        {
         "name": "z0rSmZQz9eEXjg_C3_E5-g",
         "rawType": "float64",
         "type": "float"
        },
        {
         "name": "z15C-dJodOlPO8bMBl6F8g",
         "rawType": "float64",
         "type": "float"
        },
        {
         "name": "z1pd3t6d5GfGmFNRuWGyXQ",
         "rawType": "float64",
         "type": "float"
        },
        {
         "name": "z50FVnW-Lcevj8z2KZQ_gw",
         "rawType": "float64",
         "type": "float"
        },
        {
         "name": "z5y2HCST-6ME_mrlpXG0UA",
         "rawType": "float64",
         "type": "float"
        },
        {
         "name": "zC-RnKVTlGEBmzCngDzp0Q",
         "rawType": "float64",
         "type": "float"
        },
        {
         "name": "zDuYYol0bddtTX5VrOB5Ww",
         "rawType": "float64",
         "type": "float"
        },
        {
         "name": "zIfCWjZ0RAe8YVMSPZdOdA",
         "rawType": "float64",
         "type": "float"
        },
        {
         "name": "zJGtD3y-pAIGNId4codEEg",
         "rawType": "float64",
         "type": "float"
        },
        {
         "name": "zKw09ftu1730wEIZBZPoFg",
         "rawType": "float64",
         "type": "float"
        },
        {
         "name": "zL7ur9zT-WIUTHJrrh_xSg",
         "rawType": "float64",
         "type": "float"
        },
        {
         "name": "zL_qwA1JgRPgI-LNewP1Ew",
         "rawType": "float64",
         "type": "float"
        },
        {
         "name": "zOiRz0CrelSvK3i-BkLvfQ",
         "rawType": "float64",
         "type": "float"
        },
        {
         "name": "zRqi6L1u-YmmVAHjeUbGMQ",
         "rawType": "float64",
         "type": "float"
        },
        {
         "name": "zSFutuGG7NcL60-N9g-EUw",
         "rawType": "float64",
         "type": "float"
        },
        {
         "name": "zUgDrRtGvK5ZTFlHCsTHwA",
         "rawType": "float64",
         "type": "float"
        },
        {
         "name": "zVD7auicbF8eZGjgjT77Cg",
         "rawType": "float64",
         "type": "float"
        },
        {
         "name": "zZuDZscQgFS8cgjK76t7WQ",
         "rawType": "float64",
         "type": "float"
        },
        {
         "name": "zb_NGc44E6XjNxU4uOsPjA",
         "rawType": "float64",
         "type": "float"
        },
        {
         "name": "zdE82PiD6wquvjYLyhOJNA",
         "rawType": "float64",
         "type": "float"
        },
        {
         "name": "zdd3hyxB8ylYV6RcNe347Q",
         "rawType": "float64",
         "type": "float"
        },
        {
         "name": "zg5rJfgT4jhzg1d6r2twnA",
         "rawType": "float64",
         "type": "float"
        },
        {
         "name": "ziv21pDfyrgdhlrlNIgDfg",
         "rawType": "float64",
         "type": "float"
        },
        {
         "name": "zkhBU5qW_zCy0q4OEtIrsA",
         "rawType": "float64",
         "type": "float"
        },
        {
         "name": "ztP466jMUMtqLwwHqXbk9w",
         "rawType": "float64",
         "type": "float"
        },
        {
         "name": "zw9_mqWBn1QCfZg88w0Exg",
         "rawType": "float64",
         "type": "float"
        },
        {
         "name": "zwNLJ2VglfEvGu7DDZjJ4g",
         "rawType": "float64",
         "type": "float"
        },
        {
         "name": "zzYaAiC0rLNSDiFQlMKOEQ",
         "rawType": "float64",
         "type": "float"
        },
        {
         "name": "zzgSiOnuUjnBnmfR-ZG4ww",
         "rawType": "float64",
         "type": "float"
        }
       ],
       "conversionMethod": "pd.DataFrame",
       "ref": "81161cac-e64e-4d03-9603-a59f9af02e88",
       "rows": [
        [
         "-0biHfjE0soSptbU5G3nug",
         null,
         null,
         null,
         null,
         null,
         null,
         null,
         null,
         null,
         null,
         null,
         null,
         null,
         null,
         null,
         null,
         null,
         null,
         null,
         null,
         null,
         null,
         null,
         null,
         null,
         null,
         null,
         null,
         null,
         null,
         null,
         null,
         null,
         null,
         null,
         null,
         null,
         null,
         null,
         null,
         null,
         null,
         null,
         null,
         null,
         null,
         null,
         null,
         null,
         null,
         null,
         null,
         null,
         null,
         null,
         null,
         null,
         null,
         null,
         null,
         null,
         null,
         null,
         null,
         null,
         null,
         null,
         null,
         null,
         null,
         null,
         null,
         null,
         null,
         null,
         null,
         null,
         null,
         null,
         null,
         null,
         null,
         null,
         null,
         null,
         null,
         null,
         null,
         null,
         null,
         null,
         null,
         null,
         null,
         null,
         null,
         null,
         null,
         null,
         null,
         null,
         null,
         null,
         null,
         null,
         null,
         null,
         null,
         null,
         null,
         null,
         null,
         null,
         null,
         null,
         null,
         null,
         null,
         null,
         null,
         null,
         null,
         null,
         null,
         null,
         null,
         null,
         null,
         null,
         null,
         null,
         null,
         null,
         null,
         null,
         null,
         null,
         null,
         null,
         null,
         null,
         null,
         null,
         null,
         null,
         null,
         null,
         null,
         null,
         null,
         null,
         null,
         null,
         null,
         null,
         null,
         null,
         null,
         null,
         null,
         null,
         null,
         null,
         null,
         null,
         null,
         null,
         null,
         null,
         null,
         null,
         null,
         null,
         null,
         null,
         null,
         null,
         null,
         null,
         null,
         null,
         null,
         null,
         null,
         null,
         null,
         null,
         null,
         null,
         null,
         null,
         null,
         null,
         null,
         null,
         null,
         null,
         null,
         null,
         null,
         null,
         null,
         null,
         null,
         null,
         null,
         null,
         null,
         null,
         null,
         null,
         null,
         null,
         null,
         null,
         null,
         null,
         null,
         null,
         null,
         null,
         null,
         null,
         null,
         null,
         null,
         null,
         null,
         null,
         null,
         null,
         null,
         null,
         null,
         null,
         null,
         null,
         null,
         null,
         null,
         null,
         null,
         null,
         null,
         null,
         null,
         null,
         null,
         null,
         null,
         null,
         null,
         null,
         null,
         null,
         null,
         null,
         null,
         null,
         null,
         null,
         null,
         null,
         null,
         null,
         null,
         null,
         null,
         null,
         null,
         null,
         null,
         null,
         null,
         null,
         null,
         null,
         null,
         null,
         null,
         null,
         null,
         null,
         null,
         null,
         null,
         null,
         null,
         null,
         null,
         null,
         null,
         null,
         null,
         null,
         null,
         null,
         null,
         null,
         null,
         null,
         null,
         null,
         null,
         null,
         null,
         null,
         null,
         null,
         null,
         null,
         null,
         null,
         null,
         null,
         null,
         null,
         null,
         null,
         null,
         null,
         null,
         null,
         null,
         null,
         null,
         null,
         null,
         null,
         null,
         null,
         null,
         null,
         null,
         null,
         null,
         null,
         null,
         null,
         null,
         null,
         null,
         null,
         null,
         null,
         null,
         null,
         null,
         null,
         null,
         null,
         null,
         null,
         null,
         null,
         null,
         null,
         null,
         null,
         null,
         null,
         null,
         null,
         null,
         null,
         null,
         null,
         null,
         null,
         null,
         null,
         null,
         null,
         null,
         null,
         null,
         null,
         null,
         null,
         null,
         null,
         null,
         null,
         null,
         null,
         null,
         null,
         null,
         null,
         null,
         null,
         null,
         null,
         null,
         null,
         null,
         null,
         null,
         null,
         null,
         null,
         null,
         null,
         null,
         null,
         null,
         null,
         null,
         null,
         null,
         null,
         null,
         null,
         null,
         null,
         null,
         null,
         null,
         null,
         null,
         null,
         null,
         null,
         null,
         null,
         null,
         null,
         null,
         null,
         null,
         null,
         null,
         null,
         null,
         null,
         null,
         null,
         null,
         null,
         null,
         null,
         null,
         null,
         null,
         null,
         null,
         null,
         null,
         null,
         null,
         null,
         null,
         null,
         null,
         null,
         null,
         null,
         null,
         null,
         null,
         null,
         null,
         null,
         null,
         null,
         null,
         null,
         null,
         null,
         null,
         null,
         null,
         null,
         null,
         null,
         null,
         null,
         null,
         null,
         null,
         null,
         null,
         null,
         null,
         null,
         null,
         null,
         null,
         null,
         null,
         null,
         null,
         null,
         null,
         null,
         null,
         null,
         null,
         null,
         null,
         null,
         null,
         null,
         null,
         null,
         null,
         null,
         null,
         null,
         null,
         null,
         null,
         null,
         null,
         null,
         null,
         null,
         null,
         null,
         null,
         null,
         null,
         null,
         null,
         null,
         null,
         null,
         null,
         null,
         null,
         null,
         null,
         null,
         null,
         null,
         null,
         null,
         null,
         null,
         null,
         null,
         null,
         null,
         null,
         null,
         null,
         null,
         null,
         null,
         null,
         null,
         null,
         null,
         null,
         null,
         null,
         null,
         null,
         null,
         null,
         null,
         null,
         null,
         null,
         null,
         null,
         null,
         null,
         null,
         null,
         null,
         null,
         null,
         null,
         null,
         null,
         null,
         null,
         null,
         null,
         null,
         null,
         null,
         null,
         null,
         null,
         null,
         null,
         null,
         null,
         null,
         null,
         null,
         null,
         null,
         null,
         null,
         null,
         null,
         null,
         null,
         null,
         null,
         null,
         null,
         null,
         null,
         null,
         null,
         null,
         null,
         null,
         null,
         null,
         null,
         null,
         null,
         null,
         null,
         null,
         null,
         null,
         null,
         null,
         null,
         null,
         null,
         null,
         null,
         "5.0",
         null,
         null,
         null,
         null,
         null,
         null,
         null,
         null,
         null,
         null,
         null,
         null,
         null,
         null,
         null,
         null,
         null,
         null,
         null,
         null,
         null,
         null,
         null,
         null,
         null,
         null,
         null,
         null,
         null,
         null,
         null,
         null,
         null,
         null,
         null,
         null,
         null,
         null,
         null,
         null,
         null,
         null,
         null,
         null,
         null,
         null,
         null,
         null,
         null,
         null,
         null,
         null,
         null,
         null,
         null,
         null,
         null,
         null,
         null,
         null,
         null,
         null,
         null,
         null,
         null,
         null,
         null,
         null,
         null,
         null,
         null,
         null,
         null,
         null,
         null,
         null,
         null,
         null,
         null,
         null,
         null,
         null,
         null,
         null,
         null,
         null,
         null,
         null,
         null,
         null,
         null,
         null,
         null,
         null,
         null,
         null,
         null,
         null,
         null,
         null,
         null,
         null,
         null,
         null,
         null,
         null,
         null,
         null,
         null,
         null,
         null,
         null,
         null,
         null,
         null,
         null,
         null,
         null,
         null,
         null,
         null,
         null,
         null,
         null,
         null,
         null,
         null,
         null,
         null,
         null,
         null,
         null,
         null,
         null,
         null,
         null,
         null,
         null,
         null,
         null,
         null,
         null,
         null,
         null,
         null,
         null,
         null,
         null,
         null,
         null,
         null,
         null,
         null,
         null,
         null,
         null,
         null,
         null,
         null,
         null,
         null,
         null,
         null,
         null,
         null,
         null,
         null,
         null,
         null,
         null,
         null,
         null,
         null,
         null,
         null,
         null,
         null,
         null,
         null,
         null,
         null,
         null,
         null,
         null,
         null,
         null,
         null,
         null,
         null,
         null,
         null,
         null,
         null,
         null,
         null,
         null,
         null,
         null,
         null,
         null,
         null,
         null,
         null,
         null,
         null,
         null,
         null,
         null,
         null,
         null,
         null,
         null,
         null,
         null,
         null,
         null,
         null,
         null,
         null,
         null,
         null,
         null,
         null,
         null,
         null,
         null,
         null,
         null,
         null,
         null,
         null,
         null,
         null,
         null,
         null,
         null,
         null,
         null,
         null,
         null,
         null,
         null,
         null,
         null,
         null,
         null,
         null,
         null,
         null,
         null,
         null,
         null,
         null,
         null,
         null,
         null,
         null,
         null,
         null,
         null,
         null,
         null,
         null,
         null,
         null,
         null,
         null,
         null,
         null,
         null,
         null,
         null,
         null,
         null,
         null,
         null,
         null,
         null,
         null,
         null,
         null,
         null,
         null,
         null,
         null,
         null,
         null,
         null,
         null,
         null,
         null,
         null,
         null,
         null,
         null,
         null,
         null,
         null,
         null,
         null,
         null,
         null,
         null,
         null,
         null,
         null,
         null,
         null,
         null,
         null,
         null,
         null,
         null,
         null,
         null,
         null,
         null,
         null,
         null,
         null,
         null,
         null,
         null,
         null,
         null,
         null,
         null,
         null,
         null,
         null,
         null,
         null,
         null,
         null,
         null,
         null,
         null,
         null,
         null,
         null,
         null,
         null,
         null,
         null,
         null,
         null,
         null,
         null,
         null,
         null,
         null,
         null,
         null,
         null,
         null,
         null,
         null,
         null,
         null,
         null,
         null,
         null,
         null,
         null,
         null,
         null,
         null,
         null,
         null,
         null,
         null,
         null,
         null,
         null,
         null,
         null,
         null,
         null,
         null,
         null,
         null,
         null,
         null,
         null,
         null,
         null,
         null,
         null,
         null,
         null,
         null,
         null,
         null,
         null,
         null,
         null,
         null,
         null,
         null,
         null,
         null,
         null,
         null,
         null,
         null,
         null,
         null,
         null,
         null,
         null,
         null,
         null,
         null,
         null,
         null,
         null,
         null,
         null,
         null,
         null,
         null,
         null,
         null,
         null,
         null,
         null,
         null,
         null,
         null,
         null,
         null,
         null,
         null,
         null,
         null,
         null,
         null,
         null,
         null,
         null,
         null,
         null,
         null,
         null,
         null,
         null,
         null,
         null,
         null,
         null,
         null,
         null,
         null,
         null,
         null,
         null,
         null,
         null,
         null,
         null,
         null,
         null,
         null,
         null,
         null,
         null,
         null,
         null,
         null,
         null,
         null,
         null,
         null,
         null,
         null,
         null,
         null,
         null,
         null,
         null,
         null,
         null,
         null,
         null,
         null,
         null,
         null,
         null,
         null,
         null,
         null,
         null,
         null,
         null,
         null,
         null,
         null,
         null,
         null,
         null,
         null,
         null,
         null,
         null,
         null,
         null,
         null,
         null,
         null,
         null,
         null,
         null,
         null,
         null,
         null,
         null,
         null,
         null,
         null,
         null,
         null,
         null,
         null,
         null,
         null,
         null,
         null,
         null,
         null,
         null,
         null,
         null,
         null,
         null,
         null,
         null,
         null,
         null,
         null,
         null,
         null,
         null,
         null,
         null,
         null,
         null,
         null,
         null,
         null,
         null,
         null,
         null,
         null,
         null,
         null,
         null,
         null,
         null,
         null,
         null,
         null,
         null,
         null,
         null,
         null,
         null,
         null,
         null,
         null,
         null,
         null,
         null,
         null,
         null,
         null,
         null,
         null,
         null,
         null,
         null,
         null,
         null,
         null,
         null,
         null,
         null,
         null,
         null,
         null,
         null,
         null,
         null,
         null,
         null,
         null,
         null,
         null,
         null,
         null,
         null,
         null,
         null,
         null,
         null,
         null,
         null,
         null,
         null,
         null,
         null,
         null,
         null,
         null,
         null,
         null,
         null,
         null,
         null,
         null,
         null,
         null,
         null,
         null,
         null,
         null,
         null,
         null,
         null,
         null,
         null,
         null,
         null,
         null,
         null,
         null,
         null,
         null,
         null,
         null,
         null,
         null,
         null,
         null,
         null,
         null,
         null,
         null,
         null,
         null,
         null,
         null,
         null,
         null,
         null,
         null,
         null,
         null,
         null,
         null,
         null,
         null,
         null,
         null,
         null,
         null,
         null,
         null,
         null,
         null,
         null,
         null,
         null,
         null,
         null,
         null,
         null,
         null,
         null,
         null,
         null,
         null,
         null,
         null,
         null,
         null,
         null,
         null,
         null,
         null,
         null,
         null,
         null,
         null,
         null,
         null,
         null,
         null,
         null,
         null,
         null,
         null,
         null,
         null,
         null,
         null,
         null,
         null,
         null,
         null,
         null,
         null,
         null,
         null,
         null,
         null,
         null,
         null,
         null,
         null,
         null,
         null,
         null,
         null,
         null,
         null,
         null,
         null,
         null,
         null,
         null,
         null,
         null,
         null,
         null,
         null,
         null,
         null,
         null,
         null,
         null,
         null,
         null,
         null,
         null,
         null,
         null,
         null,
         null,
         null,
         null,
         null,
         null,
         null,
         null,
         null,
         null,
         null,
         null,
         null,
         null,
         null,
         null,
         null,
         null,
         null,
         null,
         null,
         null,
         null,
         null,
         null,
         null,
         null,
         null,
         null,
         null,
         null,
         null,
         null,
         null,
         null,
         null,
         null,
         null,
         null,
         null,
         null,
         null,
         null,
         null,
         null,
         null,
         null,
         null,
         null,
         null,
         null,
         null,
         null,
         null,
         null,
         null,
         null,
         null,
         null,
         null,
         null,
         null,
         null,
         null,
         null,
         null,
         null,
         null,
         null,
         null,
         null,
         null,
         null,
         null,
         null,
         null,
         null,
         null,
         null,
         null,
         null,
         null,
         null,
         null,
         null,
         null,
         null,
         null,
         null,
         null,
         null,
         null,
         null,
         null,
         null,
         null,
         null,
         null,
         null,
         null,
         null,
         null,
         null,
         null,
         null,
         null,
         null,
         null,
         null,
         null,
         null,
         null,
         null,
         null,
         null,
         null,
         null,
         null,
         null,
         null,
         null,
         null,
         null,
         null,
         null,
         null,
         null,
         null,
         null,
         null,
         null,
         null,
         null,
         null,
         null,
         null,
         null,
         null,
         null,
         null,
         null,
         null,
         null,
         null,
         null,
         null,
         null,
         null,
         null,
         null,
         null,
         null,
         null,
         null,
         null,
         null,
         null,
         null,
         null,
         null,
         null,
         null,
         null,
         null,
         null,
         null,
         null,
         null,
         null,
         null,
         null,
         null,
         null,
         null,
         null,
         null,
         null,
         null,
         null,
         null,
         null,
         null,
         null,
         null,
         null,
         null,
         null,
         null,
         null,
         null,
         null,
         null,
         null,
         null,
         null,
         null,
         null,
         null,
         null,
         null,
         null,
         null,
         null,
         null,
         null,
         null,
         null,
         null,
         null,
         null,
         null,
         null,
         null,
         null,
         null,
         null,
         null,
         null,
         null,
         null,
         null,
         null,
         null,
         null,
         null,
         null,
         null,
         null,
         null,
         null,
         null,
         null,
         null,
         null,
         null,
         null,
         null,
         null,
         null,
         null,
         null,
         null,
         null,
         null,
         null,
         null,
         null,
         null,
         null,
         null,
         null,
         null,
         null,
         null,
         null,
         null,
         null,
         null,
         null,
         null,
         null,
         null,
         null,
         null,
         null,
         null,
         null,
         null,
         null,
         null,
         null,
         null,
         null,
         null,
         null,
         null,
         null,
         null,
         null,
         null,
         null,
         null,
         null,
         null,
         null,
         null,
         null,
         null,
         null,
         null,
         null,
         null,
         null,
         null,
         null,
         null,
         null,
         null,
         null,
         null,
         null,
         null,
         null,
         null,
         null,
         null,
         null,
         null,
         null,
         null,
         null,
         null,
         null,
         null,
         null,
         null,
         null,
         null,
         null,
         null,
         null,
         null,
         null,
         null,
         null,
         null,
         null,
         null,
         null,
         null,
         null,
         null,
         null,
         null,
         null,
         null,
         null,
         null,
         null,
         null,
         null,
         null,
         null,
         null,
         null,
         null,
         null,
         null,
         null,
         null,
         null,
         null,
         null,
         null,
         null,
         null,
         null,
         null,
         null,
         null,
         null,
         null,
         null,
         null,
         null,
         null,
         null,
         null,
         null,
         null,
         null,
         null,
         null,
         null,
         null,
         null,
         null,
         null,
         null,
         null,
         null,
         null,
         null,
         null,
         null,
         null,
         null,
         null,
         null,
         null,
         null,
         null,
         null,
         null,
         null,
         null,
         null,
         null,
         null,
         null,
         null,
         null,
         null,
         null,
         null,
         null,
         null,
         null,
         null,
         null,
         null,
         null,
         null,
         null,
         null,
         null,
         null,
         null,
         null,
         null,
         null,
         null,
         null,
         null,
         null,
         null,
         null,
         null,
         null,
         null,
         null,
         null,
         null,
         null,
         null,
         null,
         null,
         null,
         null,
         null,
         null,
         null,
         null,
         null,
         null,
         null,
         null,
         null,
         null,
         null,
         null,
         null,
         null,
         null,
         null,
         null,
         null,
         null,
         null,
         null,
         null,
         null,
         null,
         null,
         null,
         null,
         null,
         null,
         null,
         null,
         null,
         null,
         null,
         null,
         null,
         null,
         null,
         null,
         null,
         null,
         null,
         null,
         null,
         null,
         null,
         null,
         null,
         null,
         null,
         null,
         null,
         null,
         null,
         null,
         null,
         null,
         null,
         null,
         null,
         null,
         null,
         null,
         null,
         null,
         null,
         null,
         null,
         null,
         null,
         null,
         null,
         null,
         null,
         null,
         null,
         null,
         null,
         null,
         null,
         null,
         null,
         null,
         null,
         null,
         null,
         null,
         null,
         null,
         null,
         null,
         null,
         null,
         null,
         null,
         null,
         null,
         null,
         null,
         null,
         null,
         null,
         null,
         null,
         null,
         null,
         null,
         null,
         null,
         null,
         null,
         null,
         null,
         null,
         null,
         null,
         null,
         null,
         null,
         null,
         null,
         null,
         null,
         null,
         null,
         null,
         null,
         null,
         null,
         null,
         null,
         null,
         null,
         null,
         null,
         null,
         null,
         null,
         null,
         null,
         null,
         null,
         null,
         null,
         null,
         null,
         null,
         null,
         null,
         null,
         null,
         null,
         null,
         null,
         null,
         null,
         null,
         null,
         null,
         null,
         null,
         null,
         null,
         null,
         null,
         null,
         null,
         null,
         null,
         null,
         null,
         null,
         null,
         null,
         null,
         null,
         null,
         null,
         null,
         null,
         null,
         null,
         null,
         null,
         null,
         null,
         null,
         null,
         null,
         null,
         null,
         null,
         null,
         null,
         null,
         null,
         null,
         null,
         null,
         null,
         null,
         null,
         null,
         null,
         null,
         null,
         null,
         null,
         null,
         null,
         null,
         null,
         null,
         null,
         null,
         null,
         null,
         null,
         null,
         null,
         null,
         null,
         null,
         null,
         null,
         null,
         null,
         null,
         null,
         null,
         null,
         null,
         null,
         null,
         null,
         null,
         null,
         null,
         null,
         null,
         null,
         null,
         null,
         null,
         null,
         null,
         null,
         null,
         null,
         null,
         null,
         null,
         null,
         null,
         null,
         null,
         null,
         null,
         null,
         null,
         null,
         null,
         null,
         null,
         null,
         null,
         null,
         null,
         null,
         null,
         null,
         null,
         null,
         null,
         null,
         null,
         null,
         null,
         null,
         null,
         null,
         null,
         null,
         null,
         null,
         null,
         null,
         null,
         null,
         null,
         null,
         null,
         null,
         null,
         null,
         null,
         null,
         null,
         null,
         null,
         null,
         null,
         null,
         null,
         null,
         null,
         null,
         null,
         null,
         null,
         null,
         null,
         null,
         null,
         null,
         null,
         null,
         null,
         null,
         null,
         null,
         null,
         null,
         null,
         null,
         null,
         null,
         null,
         null,
         null,
         null,
         null,
         null,
         null,
         null,
         null,
         null,
         null,
         null,
         null,
         null,
         null,
         null,
         null,
         null,
         null,
         null,
         null,
         null,
         null,
         null,
         null,
         null,
         null,
         null,
         null,
         null,
         null,
         null,
         null,
         null,
         null,
         null,
         null,
         null,
         null,
         null,
         null,
         null,
         null,
         null,
         null,
         null,
         null,
         null,
         null,
         null
        ],
        [
         "-2K0yp7lBT_JUOzGkpdJ_g",
         null,
         null,
         null,
         null,
         null,
         null,
         null,
         null,
         null,
         null,
         null,
         null,
         null,
         null,
         null,
         null,
         null,
         null,
         null,
         null,
         null,
         null,
         null,
         null,
         null,
         null,
         null,
         null,
         null,
         null,
         null,
         null,
         null,
         null,
         null,
         null,
         null,
         null,
         null,
         null,
         null,
         null,
         null,
         null,
         null,
         null,
         null,
         null,
         null,
         null,
         null,
         null,
         null,
         null,
         null,
         null,
         null,
         null,
         null,
         null,
         null,
         null,
         null,
         null,
         null,
         null,
         null,
         null,
         null,
         null,
         null,
         null,
         null,
         null,
         null,
         null,
         null,
         null,
         null,
         null,
         null,
         null,
         null,
         null,
         null,
         null,
         null,
         null,
         null,
         null,
         null,
         null,
         null,
         null,
         null,
         null,
         null,
         null,
         null,
         null,
         null,
         null,
         null,
         null,
         null,
         null,
         null,
         null,
         null,
         null,
         null,
         null,
         null,
         null,
         null,
         null,
         null,
         null,
         null,
         null,
         null,
         null,
         null,
         null,
         null,
         null,
         null,
         null,
         null,
         null,
         null,
         null,
         null,
         null,
         null,
         null,
         null,
         null,
         null,
         null,
         null,
         null,
         null,
         null,
         null,
         null,
         null,
         null,
         null,
         null,
         null,
         null,
         null,
         null,
         null,
         null,
         null,
         null,
         null,
         null,
         null,
         null,
         null,
         null,
         null,
         null,
         null,
         null,
         null,
         null,
         null,
         null,
         null,
         null,
         null,
         null,
         null,
         null,
         null,
         null,
         null,
         null,
         null,
         null,
         null,
         null,
         null,
         null,
         null,
         null,
         null,
         null,
         null,
         null,
         null,
         null,
         null,
         null,
         null,
         null,
         null,
         null,
         null,
         null,
         null,
         null,
         null,
         null,
         null,
         null,
         null,
         null,
         null,
         null,
         null,
         null,
         null,
         null,
         null,
         null,
         null,
         null,
         null,
         null,
         null,
         null,
         null,
         null,
         null,
         "5.0",
         null,
         null,
         null,
         null,
         null,
         null,
         null,
         null,
         null,
         null,
         null,
         null,
         null,
         null,
         null,
         null,
         null,
         null,
         null,
         null,
         null,
         null,
         null,
         null,
         null,
         null,
         null,
         null,
         null,
         null,
         null,
         null,
         null,
         null,
         null,
         null,
         null,
         null,
         null,
         null,
         null,
         null,
         null,
         null,
         null,
         null,
         null,
         null,
         null,
         null,
         null,
         null,
         null,
         null,
         null,
         null,
         null,
         null,
         null,
         null,
         null,
         null,
         null,
         null,
         null,
         null,
         null,
         null,
         null,
         null,
         null,
         null,
         null,
         null,
         null,
         null,
         null,
         null,
         null,
         null,
         null,
         null,
         null,
         null,
         null,
         null,
         null,
         null,
         null,
         null,
         null,
         null,
         null,
         null,
         null,
         null,
         null,
         null,
         null,
         null,
         null,
         null,
         null,
         null,
         null,
         null,
         null,
         null,
         null,
         null,
         null,
         null,
         null,
         null,
         null,
         null,
         null,
         null,
         null,
         null,
         null,
         null,
         null,
         null,
         null,
         null,
         null,
         null,
         null,
         null,
         null,
         null,
         null,
         null,
         null,
         null,
         null,
         null,
         null,
         null,
         null,
         null,
         null,
         null,
         null,
         null,
         null,
         null,
         null,
         null,
         null,
         null,
         null,
         null,
         null,
         null,
         null,
         null,
         null,
         null,
         null,
         null,
         null,
         null,
         null,
         null,
         null,
         null,
         null,
         null,
         null,
         null,
         null,
         null,
         null,
         null,
         null,
         null,
         null,
         null,
         null,
         null,
         null,
         null,
         null,
         null,
         null,
         null,
         null,
         null,
         null,
         null,
         null,
         null,
         null,
         null,
         null,
         null,
         null,
         null,
         null,
         null,
         null,
         null,
         null,
         null,
         null,
         null,
         null,
         null,
         null,
         null,
         null,
         null,
         null,
         null,
         null,
         null,
         null,
         null,
         null,
         null,
         null,
         null,
         null,
         null,
         null,
         null,
         null,
         null,
         null,
         null,
         null,
         null,
         null,
         null,
         null,
         null,
         null,
         null,
         null,
         null,
         null,
         null,
         null,
         null,
         null,
         null,
         null,
         null,
         null,
         null,
         null,
         null,
         null,
         null,
         null,
         null,
         null,
         null,
         null,
         null,
         null,
         null,
         null,
         null,
         null,
         null,
         null,
         null,
         null,
         null,
         null,
         null,
         null,
         null,
         null,
         null,
         null,
         null,
         null,
         null,
         null,
         null,
         null,
         null,
         null,
         null,
         null,
         null,
         null,
         null,
         null,
         null,
         null,
         null,
         null,
         null,
         null,
         null,
         null,
         null,
         null,
         null,
         null,
         null,
         null,
         null,
         null,
         null,
         null,
         null,
         null,
         null,
         null,
         null,
         null,
         null,
         null,
         null,
         null,
         null,
         null,
         null,
         null,
         null,
         null,
         null,
         null,
         null,
         null,
         null,
         null,
         null,
         null,
         null,
         null,
         null,
         null,
         null,
         null,
         null,
         null,
         null,
         null,
         null,
         null,
         null,
         null,
         null,
         null,
         null,
         null,
         null,
         null,
         null,
         null,
         null,
         null,
         null,
         null,
         null,
         null,
         null,
         null,
         null,
         null,
         null,
         null,
         null,
         null,
         null,
         null,
         null,
         null,
         null,
         null,
         null,
         null,
         null,
         null,
         null,
         null,
         null,
         null,
         null,
         null,
         null,
         null,
         null,
         null,
         null,
         null,
         null,
         null,
         null,
         null,
         null,
         null,
         null,
         null,
         null,
         null,
         null,
         null,
         null,
         null,
         null,
         null,
         null,
         null,
         null,
         null,
         null,
         null,
         null,
         null,
         null,
         null,
         null,
         null,
         null,
         null,
         null,
         null,
         null,
         null,
         null,
         null,
         null,
         null,
         null,
         null,
         null,
         null,
         null,
         null,
         null,
         null,
         null,
         null,
         null,
         null,
         null,
         null,
         null,
         null,
         null,
         null,
         null,
         null,
         null,
         null,
         null,
         null,
         null,
         null,
         null,
         null,
         null,
         null,
         null,
         null,
         null,
         null,
         null,
         null,
         null,
         null,
         null,
         null,
         null,
         null,
         null,
         null,
         null,
         null,
         null,
         null,
         null,
         null,
         null,
         null,
         null,
         null,
         null,
         null,
         null,
         null,
         null,
         null,
         null,
         null,
         null,
         null,
         null,
         null,
         null,
         null,
         null,
         null,
         null,
         null,
         null,
         null,
         null,
         null,
         null,
         null,
         null,
         null,
         null,
         null,
         null,
         null,
         null,
         null,
         null,
         null,
         null,
         null,
         null,
         null,
         null,
         null,
         null,
         null,
         null,
         null,
         null,
         null,
         null,
         null,
         null,
         null,
         null,
         null,
         null,
         null,
         null,
         null,
         null,
         null,
         null,
         null,
         null,
         null,
         null,
         null,
         null,
         null,
         null,
         null,
         null,
         null,
         null,
         null,
         null,
         null,
         null,
         null,
         null,
         null,
         null,
         null,
         null,
         null,
         null,
         null,
         null,
         null,
         null,
         null,
         null,
         null,
         null,
         null,
         null,
         null,
         null,
         null,
         null,
         null,
         null,
         null,
         null,
         null,
         null,
         null,
         null,
         null,
         null,
         null,
         null,
         null,
         null,
         null,
         null,
         null,
         null,
         null,
         null,
         null,
         null,
         null,
         null,
         null,
         null,
         null,
         null,
         null,
         null,
         null,
         null,
         null,
         null,
         null,
         null,
         null,
         null,
         null,
         null,
         null,
         null,
         null,
         null,
         null,
         null,
         null,
         null,
         null,
         null,
         null,
         null,
         null,
         null,
         null,
         null,
         null,
         null,
         null,
         null,
         null,
         null,
         null,
         null,
         null,
         null,
         null,
         null,
         null,
         null,
         null,
         null,
         null,
         null,
         null,
         null,
         null,
         null,
         null,
         null,
         null,
         null,
         null,
         null,
         null,
         null,
         null,
         null,
         null,
         null,
         null,
         null,
         null,
         null,
         null,
         null,
         null,
         null,
         null,
         null,
         null,
         null,
         null,
         null,
         null,
         null,
         null,
         null,
         null,
         null,
         null,
         null,
         null,
         null,
         null,
         null,
         null,
         null,
         null,
         null,
         null,
         null,
         null,
         null,
         null,
         null,
         null,
         null,
         null,
         null,
         null,
         null,
         null,
         null,
         null,
         null,
         null,
         null,
         null,
         null,
         null,
         null,
         null,
         null,
         null,
         null,
         null,
         null,
         null,
         null,
         null,
         null,
         null,
         null,
         null,
         null,
         null,
         null,
         null,
         null,
         null,
         null,
         null,
         null,
         null,
         null,
         null,
         null,
         null,
         null,
         null,
         null,
         null,
         null,
         null,
         null,
         null,
         null,
         null,
         null,
         null,
         null,
         null,
         null,
         null,
         null,
         null,
         null,
         null,
         null,
         null,
         null,
         null,
         null,
         null,
         null,
         null,
         null,
         null,
         null,
         null,
         null,
         null,
         null,
         null,
         null,
         null,
         null,
         null,
         null,
         null,
         null,
         null,
         null,
         null,
         null,
         null,
         null,
         null,
         null,
         null,
         null,
         null,
         null,
         null,
         null,
         null,
         null,
         null,
         null,
         null,
         null,
         null,
         null,
         null,
         null,
         null,
         null,
         null,
         null,
         null,
         null,
         null,
         null,
         null,
         null,
         null,
         null,
         null,
         null,
         null,
         null,
         null,
         null,
         null,
         null,
         null,
         null,
         null,
         null,
         null,
         null,
         null,
         null,
         null,
         null,
         null,
         null,
         null,
         null,
         null,
         null,
         null,
         null,
         null,
         null,
         null,
         null,
         null,
         null,
         null,
         null,
         null,
         null,
         null,
         null,
         null,
         null,
         null,
         null,
         null,
         null,
         null,
         null,
         null,
         null,
         null,
         null,
         null,
         null,
         null,
         null,
         null,
         null,
         null,
         null,
         null,
         null,
         null,
         null,
         null,
         null,
         null,
         null,
         null,
         null,
         null,
         null,
         null,
         null,
         null,
         null,
         null,
         null,
         null,
         null,
         null,
         null,
         null,
         null,
         null,
         null,
         null,
         null,
         null,
         null,
         null,
         null,
         null,
         null,
         null,
         null,
         null,
         null,
         null,
         null,
         null,
         null,
         null,
         null,
         null,
         null,
         null,
         null,
         null,
         null,
         null,
         null,
         null,
         null,
         null,
         null,
         null,
         null,
         null,
         null,
         null,
         null,
         null,
         null,
         null,
         null,
         null,
         null,
         null,
         null,
         null,
         null,
         null,
         null,
         null,
         null,
         null,
         null,
         null,
         null,
         null,
         null,
         null,
         null,
         null,
         null,
         null,
         null,
         null,
         null,
         null,
         null,
         null,
         null,
         null,
         null,
         null,
         null,
         null,
         null,
         null,
         null,
         null,
         null,
         null,
         null,
         null,
         null,
         null,
         null,
         null,
         null,
         null,
         null,
         null,
         null,
         null,
         null,
         null,
         null,
         null,
         null,
         null,
         null,
         null,
         null,
         null,
         null,
         null,
         null,
         null,
         null,
         null,
         null,
         null,
         null,
         null,
         null,
         null,
         null,
         null,
         null,
         null,
         null,
         null,
         null,
         null,
         null,
         null,
         null,
         null,
         null,
         null,
         null,
         null,
         null,
         null,
         null,
         null,
         null,
         null,
         null,
         null,
         null,
         null,
         null,
         null,
         null,
         null,
         null,
         null,
         null,
         null,
         null,
         null,
         null,
         null,
         null,
         null,
         null,
         null,
         null,
         null,
         null,
         null,
         null,
         null,
         null,
         null,
         null,
         null,
         null,
         null,
         null,
         null,
         null,
         null,
         null,
         null,
         null,
         null,
         null,
         null,
         null,
         null,
         null,
         null,
         null,
         null,
         null,
         null,
         null,
         null,
         null,
         null,
         null,
         null,
         null,
         null,
         null,
         null,
         null,
         null,
         null,
         null,
         null,
         null,
         null,
         null,
         null,
         null,
         null,
         null,
         null,
         null,
         null,
         null,
         null,
         null,
         null,
         null,
         null,
         null,
         null,
         null,
         null,
         null,
         null,
         null,
         null,
         null,
         null,
         null,
         null,
         null,
         null,
         null,
         null,
         null,
         null,
         null,
         null,
         null,
         null,
         null,
         null,
         null,
         null,
         null,
         null,
         null,
         null,
         null,
         null,
         null,
         null,
         null,
         null,
         null,
         null,
         null,
         null,
         null,
         null,
         null,
         null,
         null,
         null,
         null,
         null,
         null,
         null,
         null,
         null,
         null,
         null,
         null,
         null,
         null,
         null,
         null,
         null,
         null,
         null,
         null,
         null,
         null,
         null,
         null,
         null,
         null,
         null,
         null,
         null,
         null,
         null,
         null,
         null,
         null,
         null,
         null,
         null,
         null,
         null,
         null,
         null,
         null,
         null,
         null,
         null,
         null,
         null,
         null,
         null,
         null,
         null,
         null,
         null,
         null,
         null,
         null,
         null,
         null,
         null,
         null,
         null,
         null,
         null,
         null,
         null,
         null,
         null,
         null,
         null,
         null,
         null,
         null,
         null,
         null,
         null,
         null,
         null,
         null,
         null,
         null,
         null,
         null,
         null,
         null,
         null,
         null,
         null,
         null,
         null,
         null,
         null,
         null,
         null,
         null,
         null,
         null,
         null,
         null,
         null,
         null,
         null,
         null,
         null,
         null,
         null,
         null,
         null,
         null,
         null,
         null,
         null,
         null,
         null,
         null,
         null,
         null,
         null,
         null,
         null,
         null,
         null,
         null,
         null,
         null,
         null,
         null,
         null,
         null,
         null,
         null,
         null,
         null,
         null,
         null,
         null,
         null,
         null,
         null,
         null,
         null,
         null,
         null,
         null,
         null,
         null,
         null,
         null,
         null,
         null,
         null,
         null,
         null,
         null,
         null,
         null,
         null,
         null,
         null,
         null,
         null,
         null,
         null,
         null,
         null,
         null,
         null,
         null,
         null,
         null,
         null,
         null,
         null,
         null,
         null,
         null,
         null,
         null,
         null,
         null,
         null,
         null,
         null,
         null,
         null,
         null,
         null,
         null,
         null,
         null,
         null,
         null,
         null,
         null,
         null,
         null,
         null,
         null,
         null,
         null,
         null,
         null,
         null,
         null,
         null,
         null,
         null,
         null,
         null,
         null,
         null,
         null,
         null,
         null,
         null,
         null,
         null,
         null,
         null,
         null,
         null,
         null,
         null,
         null,
         null,
         null,
         null,
         null,
         null,
         null,
         null,
         null,
         null,
         null,
         null,
         null,
         null,
         null,
         null,
         null,
         null,
         null,
         null,
         null,
         null,
         null,
         null,
         null,
         null,
         null,
         null,
         null,
         null,
         null,
         null,
         null,
         null,
         null,
         null,
         null,
         null,
         null,
         null,
         null,
         null,
         null,
         null,
         null,
         null,
         null,
         null,
         null,
         null,
         null,
         null,
         null,
         null,
         null,
         null,
         null,
         null,
         null,
         null,
         null,
         null,
         null,
         null,
         null,
         null,
         null,
         null,
         null,
         null,
         null,
         null,
         null,
         null,
         null,
         null,
         null,
         null,
         null,
         null,
         null,
         null,
         null,
         null,
         null,
         null,
         null,
         null,
         null,
         null,
         null,
         null,
         null,
         null,
         null,
         null,
         null,
         null,
         null,
         null,
         null,
         null,
         null,
         null,
         null,
         null,
         null,
         null,
         null,
         null,
         null,
         null,
         null,
         null,
         null,
         null,
         null,
         null,
         null,
         null,
         null,
         null,
         null,
         null,
         null,
         null,
         null,
         null,
         null,
         null,
         null,
         null,
         null,
         null,
         null,
         null,
         null,
         null,
         null,
         null,
         null,
         null,
         null,
         null,
         null,
         null,
         null,
         null,
         null,
         null,
         null,
         null,
         null,
         null,
         null,
         null,
         null,
         null,
         null,
         null,
         null,
         null,
         null,
         null,
         null,
         null,
         null,
         null,
         null,
         null,
         null,
         null,
         null,
         null,
         null,
         null,
         null,
         null,
         null,
         null,
         null,
         null,
         null,
         null,
         null,
         null,
         null,
         null,
         null,
         null,
         null,
         null,
         null,
         null,
         null,
         null,
         null,
         null,
         null,
         null,
         null,
         null,
         null,
         null,
         null,
         null,
         null,
         null,
         null,
         null,
         null,
         null,
         null,
         null,
         null,
         null,
         null,
         null,
         null,
         null,
         null,
         null,
         null,
         null,
         null,
         null,
         null,
         null,
         null,
         null,
         null,
         null,
         null,
         null,
         null,
         null,
         null,
         null,
         null,
         null,
         null,
         null,
         null,
         null,
         null,
         null,
         null,
         null,
         null,
         null,
         null,
         null,
         null,
         null,
         null,
         null,
         null,
         null,
         null,
         null,
         null,
         null,
         null,
         null,
         null,
         null,
         null,
         null,
         null,
         null,
         null,
         null,
         null,
         null,
         null,
         null,
         null,
         null,
         null,
         null,
         null,
         null,
         null,
         null,
         null,
         null,
         null,
         null,
         null,
         null,
         null,
         null,
         null,
         null,
         null,
         null,
         null,
         null,
         null,
         null,
         null,
         null,
         null,
         null,
         null,
         null,
         null,
         null,
         null,
         null,
         null,
         null,
         null,
         null,
         null,
         null,
         null,
         null,
         null,
         null,
         null,
         null,
         null,
         null,
         null,
         null,
         null,
         null,
         null,
         null,
         null,
         null,
         null,
         null,
         null,
         null,
         null,
         null,
         null,
         null,
         null,
         null,
         null,
         null,
         null,
         null,
         null,
         null,
         null,
         null,
         null,
         null,
         null,
         null,
         null,
         null,
         null,
         null,
         null,
         null,
         null,
         null,
         null,
         null,
         null,
         null,
         null,
         null,
         null,
         null,
         null,
         null,
         null,
         null,
         null,
         null,
         null,
         null,
         null,
         null,
         null,
         null,
         null,
         null,
         null,
         null,
         null,
         null,
         null,
         null,
         null,
         null,
         null,
         null,
         null,
         null,
         null,
         null,
         null,
         null,
         null,
         null,
         null,
         null,
         null,
         null,
         null,
         null,
         null,
         null,
         null,
         null,
         null,
         null,
         null,
         null,
         null,
         null,
         null,
         null,
         null,
         null,
         null,
         null,
         null,
         null,
         null,
         null,
         null,
         null,
         null,
         null,
         null,
         null,
         null,
         null,
         null,
         null,
         null,
         null,
         null,
         null,
         null,
         null,
         null,
         null,
         null,
         null,
         null,
         null,
         null,
         null,
         null,
         null,
         null,
         null,
         null,
         null,
         null,
         null,
         null,
         null,
         null,
         null,
         null,
         null,
         null,
         null,
         null,
         null,
         null,
         null,
         null,
         null,
         null,
         null,
         null,
         null,
         null,
         null,
         null,
         null,
         null,
         null,
         null,
         null,
         null,
         null,
         null,
         null,
         null,
         null,
         null,
         null,
         null,
         null,
         null,
         null,
         null,
         null,
         null,
         null,
         null,
         null,
         null,
         null,
         null,
         null,
         null,
         null,
         null,
         null,
         null,
         null,
         null,
         null,
         null,
         null,
         null,
         null,
         null,
         null,
         null,
         null,
         null,
         null,
         null,
         null,
         null,
         null,
         null,
         null,
         null,
         null,
         null,
         null,
         null,
         null,
         null,
         null,
         null,
         null,
         null,
         null,
         null,
         null,
         null,
         null,
         null,
         null,
         null,
         null,
         null,
         null,
         null,
         null,
         null,
         null,
         null,
         null,
         null,
         null,
         null,
         null,
         null,
         null,
         null
        ],
        [
         "-Opvc9hAWllZSSPDUsD7NA",
         null,
         null,
         null,
         null,
         null,
         null,
         null,
         null,
         null,
         null,
         null,
         null,
         null,
         null,
         null,
         null,
         null,
         null,
         null,
         null,
         null,
         null,
         null,
         null,
         null,
         null,
         null,
         null,
         null,
         null,
         null,
         null,
         null,
         null,
         null,
         null,
         null,
         null,
         null,
         null,
         null,
         null,
         null,
         null,
         null,
         null,
         null,
         null,
         null,
         null,
         null,
         null,
         null,
         null,
         null,
         null,
         null,
         null,
         null,
         null,
         null,
         null,
         null,
         null,
         null,
         null,
         null,
         null,
         null,
         null,
         null,
         null,
         null,
         null,
         null,
         null,
         null,
         null,
         null,
         null,
         null,
         null,
         null,
         null,
         null,
         null,
         null,
         null,
         null,
         null,
         null,
         null,
         null,
         null,
         null,
         null,
         null,
         null,
         null,
         null,
         null,
         null,
         null,
         null,
         null,
         null,
         null,
         null,
         null,
         null,
         null,
         null,
         null,
         null,
         null,
         null,
         null,
         null,
         null,
         null,
         null,
         null,
         null,
         null,
         null,
         null,
         null,
         null,
         null,
         null,
         null,
         null,
         null,
         null,
         null,
         null,
         null,
         null,
         null,
         null,
         null,
         null,
         null,
         null,
         null,
         null,
         null,
         null,
         null,
         null,
         null,
         null,
         null,
         null,
         null,
         null,
         null,
         null,
         null,
         null,
         null,
         null,
         null,
         null,
         null,
         null,
         null,
         null,
         null,
         null,
         null,
         null,
         null,
         null,
         null,
         null,
         null,
         null,
         null,
         null,
         null,
         null,
         null,
         null,
         null,
         null,
         null,
         null,
         null,
         null,
         null,
         null,
         null,
         null,
         null,
         null,
         null,
         null,
         null,
         null,
         null,
         null,
         null,
         null,
         null,
         null,
         null,
         null,
         null,
         null,
         null,
         null,
         null,
         null,
         null,
         null,
         null,
         null,
         null,
         null,
         null,
         null,
         null,
         null,
         null,
         null,
         null,
         null,
         null,
         null,
         null,
         null,
         null,
         null,
         null,
         null,
         null,
         null,
         null,
         null,
         null,
         null,
         null,
         null,
         null,
         null,
         null,
         null,
         null,
         null,
         null,
         null,
         null,
         null,
         null,
         null,
         null,
         null,
         null,
         null,
         null,
         null,
         null,
         null,
         null,
         null,
         null,
         null,
         null,
         null,
         null,
         null,
         null,
         null,
         null,
         null,
         null,
         null,
         null,
         null,
         null,
         null,
         null,
         null,
         null,
         null,
         null,
         null,
         null,
         null,
         null,
         null,
         null,
         null,
         null,
         null,
         null,
         null,
         null,
         null,
         null,
         null,
         null,
         null,
         null,
         null,
         null,
         null,
         null,
         null,
         null,
         null,
         null,
         null,
         null,
         null,
         null,
         null,
         null,
         null,
         null,
         null,
         null,
         null,
         null,
         null,
         null,
         null,
         null,
         null,
         null,
         null,
         null,
         null,
         null,
         null,
         null,
         null,
         null,
         null,
         null,
         null,
         null,
         null,
         null,
         null,
         null,
         null,
         null,
         null,
         null,
         null,
         null,
         null,
         null,
         null,
         null,
         null,
         null,
         null,
         null,
         null,
         null,
         null,
         null,
         null,
         null,
         null,
         null,
         null,
         null,
         null,
         null,
         null,
         null,
         null,
         null,
         null,
         null,
         null,
         null,
         null,
         null,
         null,
         null,
         null,
         null,
         null,
         null,
         null,
         null,
         null,
         null,
         null,
         null,
         null,
         null,
         null,
         null,
         null,
         null,
         null,
         null,
         null,
         null,
         null,
         null,
         null,
         null,
         null,
         null,
         null,
         null,
         null,
         null,
         null,
         null,
         null,
         null,
         null,
         null,
         null,
         null,
         null,
         null,
         null,
         null,
         null,
         null,
         null,
         null,
         null,
         null,
         null,
         null,
         null,
         null,
         null,
         null,
         null,
         null,
         null,
         null,
         null,
         null,
         null,
         null,
         null,
         null,
         null,
         null,
         null,
         null,
         null,
         null,
         null,
         null,
         null,
         null,
         null,
         null,
         null,
         null,
         null,
         null,
         null,
         null,
         null,
         null,
         null,
         null,
         null,
         null,
         null,
         null,
         null,
         null,
         null,
         null,
         null,
         null,
         null,
         null,
         null,
         null,
         null,
         null,
         null,
         null,
         null,
         null,
         null,
         null,
         null,
         null,
         null,
         null,
         null,
         null,
         null,
         null,
         null,
         null,
         null,
         null,
         null,
         null,
         null,
         null,
         null,
         null,
         null,
         null,
         null,
         null,
         null,
         null,
         null,
         null,
         null,
         null,
         null,
         null,
         null,
         null,
         null,
         null,
         null,
         null,
         null,
         null,
         null,
         null,
         null,
         null,
         null,
         null,
         null,
         null,
         null,
         null,
         null,
         null,
         null,
         null,
         null,
         null,
         null,
         null,
         null,
         null,
         null,
         null,
         null,
         null,
         null,
         null,
         "3.0",
         null,
         null,
         null,
         null,
         null,
         null,
         null,
         null,
         null,
         null,
         null,
         null,
         null,
         null,
         null,
         null,
         null,
         null,
         null,
         null,
         null,
         null,
         null,
         null,
         null,
         null,
         null,
         null,
         null,
         null,
         null,
         null,
         null,
         null,
         null,
         null,
         null,
         null,
         null,
         null,
         null,
         null,
         null,
         null,
         null,
         null,
         null,
         null,
         null,
         null,
         null,
         null,
         null,
         null,
         null,
         null,
         null,
         null,
         null,
         null,
         null,
         null,
         null,
         null,
         null,
         null,
         null,
         null,
         null,
         null,
         null,
         null,
         null,
         null,
         null,
         null,
         null,
         null,
         null,
         null,
         null,
         null,
         null,
         null,
         null,
         null,
         null,
         null,
         null,
         null,
         null,
         null,
         null,
         null,
         null,
         null,
         null,
         null,
         null,
         null,
         null,
         null,
         null,
         null,
         null,
         null,
         null,
         null,
         null,
         null,
         null,
         null,
         null,
         null,
         null,
         null,
         null,
         null,
         null,
         null,
         null,
         null,
         null,
         null,
         null,
         null,
         null,
         null,
         null,
         null,
         null,
         null,
         null,
         null,
         null,
         null,
         null,
         null,
         null,
         null,
         null,
         null,
         null,
         null,
         null,
         null,
         null,
         null,
         null,
         null,
         null,
         null,
         null,
         null,
         null,
         null,
         null,
         null,
         null,
         null,
         null,
         null,
         null,
         null,
         null,
         null,
         null,
         null,
         null,
         null,
         null,
         null,
         null,
         null,
         null,
         null,
         null,
         null,
         null,
         null,
         null,
         null,
         null,
         null,
         null,
         null,
         null,
         null,
         null,
         null,
         null,
         null,
         null,
         null,
         null,
         null,
         null,
         null,
         null,
         null,
         null,
         null,
         null,
         null,
         null,
         null,
         null,
         null,
         null,
         null,
         null,
         null,
         null,
         null,
         null,
         null,
         null,
         null,
         null,
         null,
         null,
         null,
         null,
         null,
         null,
         null,
         null,
         null,
         null,
         null,
         null,
         null,
         null,
         null,
         null,
         null,
         null,
         null,
         null,
         null,
         null,
         null,
         null,
         null,
         null,
         null,
         null,
         null,
         null,
         null,
         null,
         null,
         null,
         null,
         null,
         null,
         null,
         null,
         null,
         null,
         null,
         null,
         null,
         null,
         null,
         null,
         null,
         null,
         null,
         null,
         null,
         null,
         null,
         null,
         null,
         null,
         null,
         null,
         null,
         null,
         null,
         null,
         null,
         null,
         null,
         null,
         null,
         null,
         null,
         null,
         null,
         null,
         null,
         null,
         null,
         null,
         null,
         null,
         null,
         null,
         null,
         null,
         null,
         null,
         null,
         null,
         null,
         null,
         null,
         null,
         null,
         null,
         null,
         null,
         null,
         null,
         null,
         null,
         null,
         null,
         null,
         null,
         null,
         null,
         null,
         null,
         null,
         null,
         null,
         null,
         null,
         null,
         null,
         null,
         null,
         null,
         null,
         null,
         null,
         null,
         null,
         null,
         null,
         null,
         null,
         null,
         null,
         null,
         null,
         null,
         null,
         null,
         null,
         null,
         null,
         null,
         null,
         null,
         null,
         null,
         null,
         null,
         null,
         null,
         null,
         null,
         null,
         null,
         null,
         null,
         null,
         null,
         null,
         null,
         null,
         null,
         null,
         null,
         null,
         null,
         null,
         null,
         null,
         null,
         null,
         null,
         null,
         null,
         null,
         null,
         null,
         null,
         null,
         null,
         null,
         null,
         null,
         null,
         null,
         null,
         null,
         null,
         null,
         null,
         null,
         null,
         null,
         null,
         null,
         null,
         null,
         null,
         null,
         null,
         null,
         null,
         null,
         null,
         null,
         null,
         null,
         null,
         null,
         null,
         null,
         null,
         null,
         null,
         null,
         null,
         null,
         null,
         null,
         null,
         null,
         null,
         null,
         null,
         null,
         null,
         null,
         null,
         null,
         null,
         null,
         null,
         null,
         null,
         null,
         null,
         null,
         null,
         null,
         null,
         null,
         null,
         null,
         null,
         null,
         null,
         null,
         null,
         null,
         null,
         null,
         null,
         null,
         null,
         null,
         null,
         null,
         null,
         null,
         null,
         null,
         null,
         null,
         null,
         null,
         null,
         null,
         null,
         null,
         null,
         null,
         null,
         null,
         null,
         null,
         null,
         null,
         null,
         null,
         null,
         null,
         null,
         null,
         null,
         null,
         null,
         null,
         null,
         null,
         null,
         null,
         null,
         null,
         null,
         null,
         null,
         null,
         null,
         null,
         null,
         null,
         null,
         null,
         null,
         null,
         null,
         null,
         null,
         null,
         null,
         null,
         null,
         null,
         null,
         null,
         null,
         null,
         null,
         null,
         null,
         null,
         null,
         null,
         null,
         null,
         null,
         null,
         null,
         null,
         null,
         null,
         null,
         null,
         null,
         null,
         null,
         null,
         null,
         null,
         null,
         null,
         null,
         null,
         null,
         null,
         null,
         null,
         null,
         null,
         null,
         null,
         null,
         null,
         null,
         null,
         null,
         null,
         null,
         null,
         null,
         null,
         null,
         null,
         null,
         null,
         null,
         null,
         null,
         null,
         null,
         null,
         null,
         null,
         null,
         null,
         null,
         null,
         null,
         null,
         null,
         null,
         null,
         null,
         null,
         null,
         null,
         null,
         null,
         null,
         null,
         null,
         null,
         null,
         null,
         null,
         null,
         null,
         null,
         null,
         null,
         null,
         null,
         null,
         null,
         null,
         null,
         null,
         null,
         null,
         null,
         null,
         null,
         null,
         null,
         null,
         null,
         null,
         null,
         null,
         null,
         null,
         null,
         null,
         null,
         null,
         null,
         null,
         null,
         null,
         null,
         null,
         null,
         null,
         null,
         null,
         null,
         null,
         null,
         null,
         null,
         null,
         null,
         null,
         null,
         null,
         null,
         null,
         null,
         null,
         null,
         null,
         null,
         null,
         null,
         null,
         null,
         null,
         null,
         null,
         null,
         null,
         null,
         null,
         null,
         null,
         null,
         null,
         null,
         null,
         null,
         null,
         null,
         null,
         null,
         null,
         null,
         null,
         null,
         null,
         null,
         null,
         null,
         null,
         null,
         null,
         null,
         null,
         null,
         null,
         null,
         null,
         null,
         null,
         null,
         null,
         null,
         null,
         null,
         null,
         null,
         null,
         null,
         null,
         null,
         null,
         null,
         null,
         null,
         null,
         null,
         null,
         null,
         null,
         null,
         null,
         null,
         null,
         null,
         null,
         null,
         null,
         null,
         null,
         null,
         null,
         null,
         null,
         null,
         null,
         null,
         null,
         null,
         null,
         null,
         null,
         null,
         null,
         null,
         null,
         null,
         null,
         null,
         null,
         null,
         null,
         null,
         null,
         null,
         null,
         null,
         null,
         null,
         null,
         null,
         null,
         null,
         null,
         null,
         null,
         null,
         null,
         null,
         null,
         null,
         null,
         null,
         null,
         null,
         null,
         null,
         null,
         null,
         null,
         null,
         null,
         null,
         null,
         null,
         null,
         null,
         null,
         null,
         null,
         null,
         null,
         null,
         null,
         null,
         null,
         null,
         null,
         null,
         null,
         null,
         null,
         null,
         null,
         null,
         null,
         null,
         null,
         null,
         null,
         null,
         null,
         null,
         null,
         null,
         null,
         null,
         null,
         null,
         null,
         null,
         null,
         null,
         null,
         null,
         null,
         null,
         null,
         null,
         null,
         null,
         null,
         null,
         null,
         null,
         null,
         null,
         null,
         null,
         null,
         null,
         null,
         null,
         null,
         null,
         null,
         null,
         null,
         null,
         null,
         null,
         null,
         null,
         null,
         null,
         null,
         null,
         null,
         null,
         null,
         null,
         null,
         null,
         null,
         null,
         null,
         null,
         null,
         null,
         null,
         null,
         null,
         null,
         null,
         null,
         null,
         null,
         null,
         null,
         null,
         null,
         null,
         null,
         null,
         null,
         null,
         null,
         null,
         null,
         null,
         null,
         null,
         null,
         null,
         null,
         null,
         null,
         null,
         null,
         null,
         null,
         null,
         null,
         null,
         null,
         null,
         null,
         null,
         null,
         null,
         null,
         null,
         null,
         null,
         null,
         null,
         null,
         null,
         null,
         null,
         null,
         null,
         null,
         null,
         null,
         null,
         null,
         null,
         null,
         null,
         null,
         null,
         null,
         null,
         null,
         null,
         null,
         null,
         null,
         null,
         null,
         null,
         null,
         null,
         null,
         null,
         null,
         null,
         null,
         null,
         null,
         null,
         null,
         null,
         null,
         null,
         null,
         null,
         null,
         null,
         null,
         null,
         null,
         null,
         null,
         null,
         null,
         null,
         null,
         null,
         null,
         null,
         null,
         null,
         null,
         null,
         null,
         null,
         null,
         null,
         null,
         null,
         null,
         null,
         null,
         null,
         null,
         null,
         null,
         null,
         null,
         null,
         null,
         null,
         null,
         null,
         null,
         null,
         null,
         null,
         null,
         null,
         null,
         null,
         null,
         null,
         null,
         null,
         null,
         null,
         null,
         null,
         null,
         null,
         null,
         null,
         null,
         null,
         null,
         null,
         null,
         null,
         null,
         null,
         null,
         null,
         null,
         null,
         null,
         null,
         null,
         null,
         null,
         null,
         null,
         null,
         null,
         null,
         null,
         null,
         null,
         null,
         null,
         null,
         null,
         null,
         null,
         null,
         null,
         null,
         null,
         null,
         null,
         null,
         null,
         null,
         null,
         null,
         null,
         null,
         null,
         null,
         null,
         null,
         null,
         null,
         null,
         null,
         null,
         null,
         null,
         null,
         null,
         null,
         null,
         null,
         null,
         null,
         null,
         null,
         null,
         null,
         null,
         null,
         null,
         null,
         null,
         null,
         null,
         null,
         null,
         null,
         null,
         null,
         null,
         null,
         null,
         null,
         null,
         null,
         null,
         null,
         null,
         null,
         null,
         null,
         null,
         null,
         null,
         null,
         null,
         null,
         null,
         null,
         null,
         null,
         null,
         null,
         null,
         null,
         null,
         null,
         null,
         null,
         null,
         null,
         null,
         null,
         null,
         null,
         null,
         null,
         null,
         null,
         null,
         null,
         null,
         null,
         null,
         null,
         null,
         null,
         null,
         null,
         null,
         null,
         null,
         null,
         null,
         null,
         null,
         null,
         null,
         null,
         null,
         null,
         null,
         null,
         null,
         null,
         null,
         null,
         null,
         null,
         null,
         null,
         null,
         null,
         null,
         null,
         null,
         null,
         null,
         null,
         null,
         null,
         null,
         null,
         null,
         null,
         null,
         null,
         null,
         null,
         null,
         null,
         null,
         null,
         null,
         null,
         null,
         null,
         null,
         null,
         null,
         null,
         null,
         null,
         null,
         null,
         null,
         null,
         null,
         null,
         null,
         null,
         null,
         null,
         null,
         null,
         null,
         null,
         null,
         null,
         null,
         null,
         null,
         null,
         null,
         null,
         null,
         null,
         null,
         null,
         null,
         null,
         null,
         null,
         null,
         null,
         null,
         null,
         null,
         null,
         null,
         null,
         null,
         null,
         null,
         null,
         null,
         null,
         null,
         null,
         null,
         null,
         null,
         null,
         null,
         null,
         null,
         null,
         null,
         null,
         null,
         null,
         null,
         null,
         null,
         null,
         null,
         null,
         null,
         null,
         null,
         null,
         null,
         null,
         null,
         null,
         null,
         null,
         null,
         null,
         null,
         null,
         null,
         null,
         null,
         null,
         null,
         null,
         null,
         null,
         null,
         null,
         null,
         null,
         null,
         null,
         null,
         null,
         null,
         null,
         null,
         null,
         null,
         null,
         null,
         null,
         null,
         null,
         null,
         null,
         null,
         null,
         null,
         null,
         null,
         null,
         null,
         null,
         null,
         null,
         null,
         null,
         null,
         null,
         null,
         null,
         null,
         null,
         null,
         null,
         null,
         null,
         null,
         null,
         null,
         null,
         null,
         null,
         null,
         null,
         null,
         null,
         null,
         null,
         null,
         null,
         null,
         null,
         null,
         null,
         null,
         null,
         null,
         null,
         null,
         null,
         null,
         null,
         null,
         null,
         null,
         null,
         null,
         null,
         null,
         null,
         null,
         null,
         null,
         null,
         null,
         null,
         null,
         null,
         null,
         null,
         null,
         null,
         null,
         null,
         null,
         null,
         null,
         null,
         null,
         null,
         null,
         null,
         null,
         null,
         null,
         null,
         null,
         null,
         null,
         null,
         null,
         null,
         null,
         null,
         null,
         null,
         null,
         null,
         null,
         null,
         null,
         null,
         null,
         null,
         null,
         null,
         null,
         null,
         null,
         null,
         null,
         null,
         null,
         null,
         null,
         null,
         null,
         null,
         null,
         null,
         null,
         null,
         null,
         null,
         null,
         null,
         null,
         null,
         null,
         null,
         null,
         null,
         null,
         null,
         null,
         null,
         null,
         null,
         null,
         null,
         null,
         null,
         null,
         null,
         null,
         null,
         null,
         null,
         null,
         null,
         null,
         null,
         null,
         null,
         null,
         null,
         null,
         null,
         null,
         null,
         null,
         null,
         null,
         null,
         null,
         null,
         null,
         null,
         null,
         null,
         null,
         null,
         null,
         null,
         null,
         null,
         null,
         null,
         null,
         null,
         null,
         null,
         null,
         null,
         null,
         null,
         null,
         null,
         null,
         null,
         null,
         null,
         null,
         null,
         null,
         null,
         null,
         null,
         null,
         null,
         null,
         null,
         null,
         null,
         null,
         null,
         null,
         null,
         null,
         null,
         null,
         null,
         null,
         null,
         null,
         null,
         null,
         null,
         null,
         null,
         null,
         null,
         null,
         null,
         null,
         null,
         null,
         null,
         null,
         null,
         null,
         null,
         null,
         null,
         null,
         null,
         null,
         null,
         null,
         null,
         null,
         null,
         null,
         null,
         null,
         null,
         null,
         null,
         null,
         null,
         null,
         null,
         null,
         null,
         null,
         null,
         null,
         null,
         null,
         null,
         null,
         null,
         null,
         null,
         null,
         null,
         null,
         null,
         null,
         null,
         null,
         null,
         null,
         null,
         null,
         null,
         null,
         null,
         null,
         null,
         null,
         null,
         null,
         null,
         null,
         null,
         null,
         null,
         null,
         null,
         null,
         null,
         null,
         null,
         null,
         null,
         null,
         null,
         null,
         null,
         null,
         null,
         null,
         null,
         null,
         null,
         null,
         null,
         null,
         null,
         null,
         null,
         null,
         null,
         null,
         null,
         null,
         null,
         null,
         null,
         null,
         null,
         null,
         null,
         null,
         null,
         null
        ],
        [
         "-Zdxj4wuj4D_899B7tPE3g",
         null,
         null,
         null,
         null,
         null,
         null,
         null,
         null,
         null,
         null,
         null,
         null,
         null,
         null,
         null,
         null,
         null,
         null,
         null,
         null,
         null,
         null,
         null,
         null,
         null,
         null,
         null,
         null,
         null,
         null,
         null,
         null,
         null,
         null,
         null,
         null,
         null,
         null,
         null,
         null,
         null,
         null,
         null,
         null,
         null,
         null,
         null,
         null,
         null,
         null,
         null,
         null,
         null,
         null,
         null,
         null,
         null,
         null,
         null,
         null,
         null,
         null,
         null,
         null,
         null,
         null,
         null,
         null,
         null,
         null,
         null,
         null,
         null,
         null,
         null,
         null,
         null,
         null,
         null,
         null,
         null,
         null,
         null,
         null,
         null,
         null,
         null,
         null,
         null,
         null,
         null,
         null,
         null,
         null,
         null,
         null,
         null,
         null,
         null,
         null,
         null,
         null,
         null,
         null,
         null,
         null,
         null,
         null,
         null,
         null,
         null,
         null,
         null,
         null,
         null,
         null,
         null,
         null,
         null,
         null,
         null,
         null,
         null,
         null,
         null,
         null,
         null,
         null,
         null,
         null,
         null,
         null,
         null,
         null,
         null,
         null,
         null,
         null,
         null,
         null,
         null,
         null,
         null,
         null,
         null,
         null,
         null,
         null,
         null,
         null,
         null,
         null,
         null,
         null,
         null,
         null,
         null,
         null,
         null,
         null,
         null,
         null,
         null,
         null,
         null,
         null,
         null,
         null,
         null,
         null,
         null,
         null,
         null,
         null,
         null,
         null,
         null,
         null,
         null,
         null,
         null,
         null,
         null,
         null,
         null,
         null,
         null,
         null,
         null,
         null,
         null,
         null,
         null,
         null,
         null,
         null,
         null,
         null,
         null,
         null,
         null,
         null,
         null,
         null,
         null,
         null,
         null,
         null,
         null,
         null,
         null,
         null,
         null,
         null,
         null,
         null,
         null,
         null,
         null,
         null,
         null,
         null,
         null,
         null,
         null,
         null,
         null,
         null,
         null,
         null,
         null,
         null,
         null,
         null,
         null,
         null,
         null,
         null,
         null,
         null,
         null,
         null,
         null,
         null,
         null,
         null,
         null,
         null,
         null,
         null,
         null,
         null,
         null,
         null,
         null,
         null,
         null,
         null,
         null,
         null,
         null,
         null,
         null,
         null,
         null,
         null,
         null,
         null,
         null,
         null,
         null,
         null,
         null,
         null,
         null,
         null,
         null,
         null,
         null,
         null,
         null,
         null,
         null,
         null,
         null,
         null,
         null,
         null,
         null,
         null,
         null,
         null,
         null,
         null,
         null,
         null,
         null,
         null,
         null,
         null,
         null,
         null,
         null,
         null,
         null,
         null,
         null,
         null,
         null,
         null,
         null,
         null,
         null,
         null,
         null,
         null,
         null,
         null,
         null,
         null,
         null,
         null,
         null,
         null,
         null,
         null,
         null,
         null,
         null,
         null,
         null,
         null,
         null,
         null,
         null,
         null,
         null,
         null,
         null,
         null,
         null,
         null,
         null,
         null,
         null,
         null,
         null,
         null,
         null,
         null,
         null,
         null,
         null,
         null,
         null,
         null,
         null,
         null,
         null,
         null,
         null,
         null,
         null,
         null,
         null,
         null,
         null,
         null,
         null,
         null,
         null,
         null,
         null,
         null,
         null,
         null,
         null,
         null,
         null,
         null,
         null,
         null,
         null,
         null,
         null,
         null,
         null,
         null,
         null,
         null,
         null,
         null,
         null,
         null,
         null,
         null,
         null,
         null,
         null,
         null,
         null,
         null,
         null,
         null,
         null,
         null,
         null,
         null,
         null,
         null,
         null,
         null,
         null,
         null,
         null,
         null,
         null,
         null,
         null,
         null,
         null,
         null,
         null,
         null,
         null,
         null,
         null,
         null,
         null,
         null,
         null,
         null,
         null,
         null,
         null,
         null,
         null,
         null,
         null,
         null,
         null,
         null,
         null,
         null,
         null,
         null,
         null,
         null,
         null,
         null,
         null,
         null,
         null,
         null,
         null,
         null,
         null,
         null,
         null,
         null,
         null,
         null,
         null,
         null,
         null,
         null,
         null,
         null,
         null,
         null,
         null,
         null,
         null,
         null,
         null,
         null,
         null,
         null,
         null,
         null,
         null,
         null,
         null,
         null,
         null,
         null,
         null,
         null,
         null,
         null,
         null,
         null,
         null,
         null,
         null,
         null,
         null,
         null,
         null,
         null,
         null,
         null,
         null,
         null,
         null,
         null,
         null,
         null,
         null,
         null,
         null,
         null,
         null,
         null,
         null,
         null,
         null,
         null,
         null,
         null,
         null,
         null,
         null,
         null,
         null,
         null,
         null,
         null,
         null,
         null,
         null,
         null,
         null,
         null,
         null,
         null,
         null,
         null,
         null,
         null,
         null,
         null,
         null,
         null,
         null,
         null,
         null,
         null,
         null,
         null,
         null,
         null,
         null,
         null,
         null,
         null,
         null,
         null,
         null,
         null,
         null,
         null,
         null,
         null,
         null,
         null,
         null,
         null,
         null,
         null,
         null,
         null,
         null,
         null,
         null,
         null,
         null,
         null,
         null,
         null,
         null,
         null,
         null,
         null,
         null,
         null,
         null,
         null,
         null,
         null,
         null,
         null,
         null,
         null,
         null,
         null,
         null,
         null,
         null,
         null,
         null,
         null,
         null,
         null,
         null,
         null,
         null,
         null,
         null,
         null,
         null,
         null,
         null,
         null,
         null,
         null,
         null,
         null,
         null,
         null,
         null,
         null,
         null,
         null,
         null,
         null,
         null,
         null,
         null,
         null,
         null,
         null,
         null,
         null,
         null,
         null,
         null,
         null,
         null,
         null,
         null,
         null,
         null,
         null,
         null,
         null,
         null,
         null,
         null,
         null,
         null,
         null,
         null,
         null,
         null,
         null,
         null,
         null,
         null,
         null,
         null,
         null,
         null,
         null,
         null,
         null,
         null,
         null,
         null,
         null,
         null,
         null,
         null,
         null,
         null,
         null,
         null,
         null,
         null,
         null,
         null,
         null,
         null,
         null,
         null,
         null,
         null,
         null,
         null,
         null,
         null,
         null,
         null,
         null,
         null,
         null,
         null,
         null,
         null,
         null,
         null,
         null,
         null,
         null,
         null,
         null,
         null,
         null,
         null,
         null,
         null,
         null,
         null,
         null,
         null,
         null,
         null,
         null,
         null,
         null,
         null,
         null,
         null,
         null,
         null,
         null,
         null,
         null,
         null,
         null,
         null,
         null,
         null,
         null,
         null,
         null,
         null,
         null,
         null,
         null,
         null,
         null,
         null,
         null,
         null,
         null,
         null,
         null,
         null,
         null,
         null,
         null,
         null,
         null,
         null,
         null,
         null,
         null,
         null,
         null,
         null,
         null,
         null,
         null,
         null,
         null,
         null,
         null,
         null,
         null,
         null,
         null,
         null,
         null,
         null,
         null,
         null,
         null,
         null,
         null,
         null,
         null,
         null,
         null,
         null,
         null,
         null,
         null,
         null,
         null,
         null,
         null,
         null,
         null,
         null,
         null,
         null,
         null,
         null,
         null,
         null,
         null,
         null,
         null,
         null,
         null,
         null,
         null,
         null,
         null,
         null,
         null,
         null,
         null,
         null,
         null,
         null,
         null,
         null,
         null,
         null,
         null,
         null,
         null,
         null,
         null,
         null,
         null,
         null,
         null,
         null,
         null,
         null,
         null,
         null,
         null,
         null,
         null,
         null,
         null,
         null,
         null,
         null,
         null,
         null,
         null,
         null,
         null,
         null,
         null,
         null,
         null,
         null,
         null,
         null,
         null,
         null,
         null,
         null,
         null,
         null,
         null,
         null,
         null,
         null,
         null,
         null,
         null,
         null,
         null,
         null,
         null,
         null,
         null,
         null,
         null,
         null,
         null,
         null,
         null,
         null,
         null,
         null,
         null,
         null,
         null,
         null,
         null,
         null,
         null,
         null,
         null,
         null,
         null,
         null,
         null,
         null,
         null,
         null,
         null,
         null,
         null,
         null,
         null,
         null,
         null,
         null,
         null,
         null,
         null,
         null,
         null,
         null,
         null,
         null,
         null,
         null,
         null,
         null,
         null,
         null,
         null,
         null,
         null,
         null,
         null,
         null,
         null,
         null,
         null,
         null,
         null,
         null,
         null,
         null,
         null,
         null,
         null,
         null,
         null,
         null,
         null,
         null,
         null,
         null,
         null,
         null,
         null,
         null,
         null,
         null,
         null,
         null,
         null,
         null,
         null,
         null,
         null,
         null,
         null,
         null,
         null,
         null,
         null,
         null,
         null,
         null,
         null,
         null,
         null,
         null,
         null,
         null,
         null,
         null,
         null,
         null,
         null,
         null,
         null,
         null,
         null,
         null,
         null,
         null,
         null,
         null,
         null,
         null,
         null,
         null,
         null,
         null,
         null,
         null,
         null,
         null,
         null,
         null,
         null,
         null,
         null,
         null,
         null,
         null,
         null,
         null,
         null,
         null,
         null,
         null,
         null,
         null,
         null,
         null,
         null,
         null,
         null,
         null,
         null,
         null,
         null,
         null,
         null,
         null,
         null,
         null,
         null,
         null,
         null,
         null,
         null,
         null,
         null,
         null,
         null,
         null,
         null,
         null,
         null,
         null,
         null,
         null,
         null,
         null,
         null,
         null,
         null,
         null,
         null,
         null,
         null,
         null,
         null,
         null,
         null,
         null,
         null,
         null,
         null,
         null,
         null,
         null,
         null,
         null,
         null,
         null,
         null,
         null,
         null,
         null,
         null,
         null,
         null,
         null,
         null,
         null,
         null,
         null,
         null,
         null,
         null,
         null,
         null,
         null,
         null,
         null,
         null,
         null,
         null,
         null,
         null,
         null,
         null,
         null,
         null,
         null,
         null,
         null,
         null,
         null,
         null,
         null,
         null,
         null,
         null,
         null,
         null,
         null,
         null,
         null,
         null,
         null,
         null,
         null,
         null,
         null,
         null,
         null,
         null,
         null,
         null,
         null,
         null,
         null,
         null,
         null,
         null,
         null,
         null,
         null,
         null,
         null,
         null,
         null,
         null,
         null,
         null,
         null,
         null,
         null,
         null,
         null,
         null,
         null,
         null,
         null,
         null,
         null,
         null,
         null,
         null,
         null,
         null,
         null,
         null,
         null,
         null,
         null,
         null,
         null,
         null,
         null,
         null,
         null,
         null,
         null,
         null,
         null,
         null,
         null,
         null,
         null,
         null,
         null,
         null,
         null,
         null,
         null,
         null,
         null,
         null,
         null,
         null,
         null,
         null,
         null,
         null,
         null,
         null,
         null,
         null,
         null,
         null,
         null,
         null,
         null,
         null,
         null,
         null,
         null,
         null,
         null,
         null,
         null,
         null,
         null,
         null,
         null,
         null,
         null,
         null,
         null,
         null,
         null,
         null,
         null,
         null,
         null,
         null,
         null,
         null,
         null,
         null,
         null,
         null,
         null,
         null,
         null,
         null,
         null,
         null,
         null,
         null,
         null,
         null,
         null,
         null,
         null,
         null,
         null,
         null,
         null,
         null,
         null,
         null,
         null,
         null,
         null,
         null,
         null,
         null,
         null,
         null,
         null,
         null,
         null,
         null,
         null,
         null,
         null,
         null,
         null,
         null,
         null,
         null,
         null,
         null,
         null,
         null,
         null,
         null,
         null,
         null,
         null,
         null,
         null,
         null,
         null,
         null,
         null,
         null,
         null,
         null,
         null,
         null,
         null,
         null,
         null,
         null,
         null,
         null,
         null,
         null,
         null,
         null,
         null,
         null,
         null,
         null,
         null,
         null,
         null,
         null,
         null,
         null,
         null,
         null,
         null,
         null,
         null,
         null,
         null,
         null,
         null,
         null,
         null,
         null,
         null,
         null,
         null,
         null,
         null,
         null,
         null,
         null,
         null,
         null,
         null,
         null,
         null,
         null,
         null,
         null,
         null,
         null,
         null,
         null,
         null,
         null,
         null,
         null,
         null,
         null,
         null,
         null,
         null,
         null,
         null,
         null,
         null,
         null,
         null,
         null,
         null,
         null,
         null,
         null,
         null,
         null,
         null,
         null,
         null,
         null,
         null,
         null,
         null,
         null,
         null,
         null,
         null,
         null,
         null,
         null,
         null,
         null,
         null,
         null,
         null,
         null,
         null,
         null,
         null,
         null,
         null,
         null,
         null,
         null,
         null,
         null,
         null,
         null,
         null,
         null,
         null,
         null,
         null,
         null,
         null,
         null,
         null,
         null,
         null,
         null,
         null,
         null,
         null,
         null,
         null,
         null,
         null,
         null,
         null,
         null,
         null,
         null,
         null,
         null,
         null,
         null,
         null,
         null,
         null,
         null,
         null,
         null,
         null,
         null,
         null,
         null,
         null,
         null,
         null,
         null,
         null,
         null,
         null,
         null,
         null,
         null,
         null,
         null,
         null,
         null,
         null,
         null,
         null,
         null,
         null,
         null,
         null,
         null,
         null,
         null,
         null,
         null,
         null,
         null,
         null,
         null,
         null,
         null,
         null,
         null,
         null,
         null,
         null,
         null,
         null,
         null,
         null,
         null,
         null,
         null,
         null,
         null,
         null,
         null,
         null,
         null,
         null,
         null,
         null,
         null,
         null,
         null,
         null,
         null,
         null,
         null,
         null,
         null,
         null,
         null,
         null,
         null,
         null,
         null,
         null,
         null,
         null,
         null,
         null,
         null,
         null,
         null,
         null,
         null,
         null,
         null,
         null,
         null,
         null,
         null,
         null,
         null,
         null,
         null,
         null,
         null,
         null,
         null,
         null,
         null,
         null,
         null,
         null,
         null,
         null,
         null,
         null,
         null,
         null,
         null,
         null,
         null,
         null,
         null,
         null,
         null,
         null,
         null,
         null,
         null,
         null,
         null,
         null,
         null,
         null,
         null,
         null,
         null,
         null,
         null,
         null,
         null,
         null,
         null,
         null,
         null,
         null,
         null,
         null,
         null,
         null,
         null,
         null,
         null,
         null,
         null,
         null,
         null,
         null,
         null,
         null,
         null,
         null,
         null,
         null,
         null,
         null,
         null,
         null,
         null,
         null,
         null,
         null,
         null,
         null,
         null,
         null,
         null,
         null,
         null,
         null,
         null,
         null,
         null,
         null,
         null,
         null,
         null,
         null,
         null,
         null,
         null,
         null,
         null,
         null,
         null,
         null,
         null,
         null,
         null,
         null,
         null,
         null,
         null,
         null,
         null,
         null,
         null,
         null,
         null,
         null,
         null,
         null,
         null,
         null,
         null,
         null,
         null,
         null,
         null,
         null,
         null,
         null,
         null,
         null,
         null,
         null,
         null,
         null,
         null,
         null,
         null,
         null,
         null,
         null,
         null,
         null,
         null,
         null,
         null,
         null,
         null,
         null,
         null,
         null,
         null,
         null,
         null,
         null,
         null,
         null,
         null,
         null,
         null,
         null,
         null,
         null,
         null,
         null,
         null,
         null,
         null,
         null,
         null,
         null,
         null,
         null,
         null,
         null,
         null,
         null,
         null,
         null,
         null,
         null,
         null,
         null,
         null,
         null,
         null,
         null,
         null,
         null,
         null,
         null,
         null,
         null,
         null,
         null,
         null,
         null,
         null,
         null,
         null,
         null,
         null,
         null,
         null,
         null,
         null,
         null,
         null,
         null,
         null,
         null,
         null,
         null,
         null,
         null,
         null,
         null,
         null,
         null,
         null,
         null,
         null,
         null,
         null,
         null,
         null,
         null,
         null,
         null,
         null,
         null,
         null,
         null,
         null,
         null,
         null,
         null,
         null,
         null,
         null,
         null,
         null,
         null,
         null,
         null,
         null,
         null,
         null,
         null,
         null,
         null,
         null,
         null,
         null,
         null,
         null,
         null,
         null,
         null,
         null,
         null,
         null,
         null,
         null,
         null,
         null,
         null,
         null,
         null,
         null,
         null,
         null,
         null,
         null,
         null,
         null,
         null,
         null,
         null,
         null,
         null,
         null,
         null,
         null,
         null,
         null,
         null,
         null,
         null,
         null,
         null,
         null,
         null,
         null,
         null,
         null,
         null,
         null,
         null,
         null,
         null,
         null,
         null,
         null,
         null,
         null,
         null,
         null,
         null,
         null,
         null,
         null,
         null,
         null,
         null,
         null,
         null,
         null,
         null,
         null,
         null,
         null,
         null,
         null,
         null,
         null,
         null,
         null,
         null,
         null,
         null,
         null,
         null,
         null,
         null,
         null,
         null,
         null,
         null,
         null,
         null,
         null,
         null,
         null,
         null,
         null,
         null,
         null,
         null,
         null,
         null,
         null,
         null,
         null,
         null,
         null,
         null,
         null,
         null,
         null,
         null,
         null,
         null,
         null,
         null,
         null,
         null,
         null,
         null,
         null,
         null,
         null,
         null,
         null,
         null,
         null,
         null,
         null,
         null,
         null,
         null,
         null,
         null,
         null,
         null,
         null,
         null,
         null,
         null,
         null,
         null,
         null,
         null,
         null,
         null,
         null,
         null,
         null,
         null,
         null,
         null,
         null,
         null,
         null,
         null,
         null,
         null,
         null,
         null,
         null,
         null,
         null,
         null,
         null,
         null,
         null,
         null,
         null,
         null,
         null,
         null,
         null,
         null,
         null,
         null,
         null,
         null,
         null,
         null,
         null,
         null,
         null,
         null,
         null,
         null,
         null,
         null,
         null,
         null,
         null,
         null,
         null,
         null,
         null,
         null,
         null,
         null,
         null,
         null,
         null,
         null,
         null,
         null,
         null,
         null,
         null,
         null,
         null,
         null,
         null,
         null,
         null,
         null,
         null,
         null,
         null,
         null,
         null,
         null,
         null,
         null,
         null,
         null,
         null,
         null,
         null,
         null,
         null,
         null,
         null,
         null,
         null,
         "1.0",
         null,
         null,
         null,
         null,
         null,
         null,
         null,
         null,
         null,
         null,
         null,
         null,
         null,
         null,
         null,
         null,
         null,
         null,
         null,
         null,
         null,
         null,
         null,
         null,
         null,
         null,
         null,
         null,
         null,
         null,
         null,
         null,
         null,
         null,
         null,
         null,
         null,
         null,
         null,
         null,
         null,
         null,
         null,
         null,
         null,
         null,
         null,
         null,
         null,
         null,
         null,
         null,
         null,
         null,
         null,
         null,
         null,
         null,
         null,
         null,
         null,
         null,
         null,
         null,
         null,
         null,
         null,
         null,
         null,
         null,
         null,
         null,
         null,
         null,
         null,
         null,
         null,
         null,
         null,
         null,
         null,
         null,
         null,
         null,
         null,
         null,
         null,
         null,
         null,
         null,
         null,
         null,
         null,
         null,
         null,
         null,
         null,
         null,
         null,
         null,
         null,
         null,
         null,
         null,
         null,
         null,
         null,
         null,
         null,
         null,
         null,
         null,
         null,
         null,
         null,
         null,
         null,
         null,
         null,
         null,
         null,
         null,
         null,
         null,
         null,
         null,
         null,
         null,
         null,
         null,
         null,
         null,
         null,
         null,
         null,
         null,
         null,
         null,
         null,
         null,
         null,
         null,
         null,
         null,
         null,
         null,
         null,
         null,
         null,
         null,
         null,
         null,
         null,
         null,
         null,
         null,
         null,
         null,
         null,
         null,
         null,
         null,
         null,
         null,
         null,
         null,
         null,
         null,
         null,
         null,
         null,
         null,
         null,
         null,
         null,
         null,
         null,
         null,
         null,
         null,
         null,
         null,
         null,
         null,
         null,
         null,
         null,
         null,
         null,
         null,
         null,
         null,
         null,
         null,
         null,
         null,
         null,
         null,
         null,
         null,
         null
        ],
        [
         "-_iULENf28RbqL2k0ja5Xw",
         null,
         null,
         null,
         null,
         null,
         null,
         null,
         null,
         null,
         null,
         null,
         null,
         null,
         null,
         null,
         null,
         null,
         null,
         null,
         null,
         null,
         null,
         null,
         null,
         null,
         null,
         null,
         null,
         null,
         null,
         null,
         null,
         null,
         null,
         null,
         null,
         null,
         null,
         null,
         null,
         null,
         null,
         null,
         null,
         null,
         null,
         null,
         null,
         null,
         null,
         null,
         null,
         null,
         null,
         null,
         null,
         null,
         null,
         null,
         null,
         null,
         null,
         null,
         null,
         null,
         null,
         null,
         null,
         null,
         null,
         null,
         null,
         null,
         null,
         null,
         null,
         null,
         null,
         null,
         null,
         null,
         null,
         null,
         null,
         null,
         null,
         null,
         null,
         null,
         null,
         null,
         null,
         null,
         null,
         null,
         null,
         null,
         null,
         null,
         null,
         null,
         null,
         null,
         null,
         null,
         null,
         null,
         null,
         null,
         null,
         null,
         null,
         null,
         null,
         null,
         null,
         null,
         null,
         null,
         null,
         null,
         null,
         null,
         null,
         null,
         null,
         null,
         null,
         null,
         null,
         null,
         null,
         null,
         null,
         null,
         null,
         null,
         null,
         null,
         null,
         null,
         null,
         null,
         null,
         null,
         null,
         null,
         null,
         null,
         null,
         null,
         null,
         null,
         null,
         null,
         null,
         null,
         null,
         null,
         null,
         null,
         null,
         null,
         null,
         null,
         null,
         null,
         null,
         "5.0",
         null,
         null,
         null,
         null,
         null,
         null,
         null,
         null,
         null,
         null,
         null,
         null,
         null,
         null,
         null,
         null,
         null,
         null,
         null,
         null,
         null,
         null,
         null,
         null,
         null,
         null,
         null,
         null,
         null,
         null,
         null,
         null,
         null,
         null,
         null,
         null,
         null,
         null,
         null,
         null,
         null,
         null,
         null,
         null,
         null,
         null,
         null,
         null,
         null,
         null,
         null,
         null,
         null,
         null,
         null,
         null,
         null,
         null,
         null,
         null,
         null,
         null,
         null,
         null,
         null,
         null,
         null,
         null,
         null,
         null,
         null,
         null,
         null,
         null,
         null,
         null,
         null,
         null,
         null,
         null,
         null,
         null,
         null,
         null,
         null,
         null,
         null,
         null,
         null,
         null,
         null,
         null,
         null,
         null,
         null,
         null,
         null,
         null,
         null,
         null,
         null,
         null,
         null,
         null,
         null,
         null,
         null,
         null,
         null,
         null,
         null,
         null,
         null,
         null,
         null,
         null,
         null,
         null,
         null,
         null,
         null,
         null,
         null,
         null,
         null,
         null,
         null,
         null,
         null,
         null,
         null,
         null,
         null,
         null,
         null,
         null,
         null,
         null,
         null,
         null,
         null,
         null,
         null,
         null,
         null,
         null,
         null,
         null,
         null,
         null,
         null,
         null,
         null,
         null,
         null,
         null,
         null,
         null,
         null,
         null,
         null,
         null,
         null,
         null,
         null,
         null,
         null,
         null,
         null,
         null,
         null,
         null,
         null,
         null,
         null,
         null,
         null,
         null,
         null,
         null,
         null,
         null,
         null,
         null,
         null,
         null,
         null,
         null,
         null,
         null,
         null,
         null,
         null,
         null,
         null,
         null,
         null,
         null,
         null,
         null,
         null,
         null,
         null,
         null,
         null,
         null,
         null,
         null,
         null,
         null,
         null,
         null,
         null,
         null,
         null,
         null,
         null,
         null,
         null,
         null,
         null,
         null,
         null,
         null,
         null,
         null,
         null,
         null,
         null,
         null,
         null,
         null,
         null,
         null,
         null,
         null,
         null,
         null,
         null,
         null,
         null,
         null,
         null,
         null,
         null,
         null,
         null,
         null,
         null,
         null,
         null,
         null,
         null,
         null,
         null,
         null,
         null,
         null,
         null,
         null,
         null,
         null,
         null,
         null,
         null,
         null,
         null,
         null,
         null,
         null,
         null,
         null,
         null,
         null,
         null,
         null,
         null,
         null,
         null,
         null,
         null,
         null,
         null,
         null,
         null,
         null,
         null,
         null,
         null,
         null,
         null,
         null,
         null,
         null,
         null,
         null,
         null,
         null,
         null,
         null,
         null,
         null,
         null,
         null,
         null,
         null,
         null,
         null,
         null,
         null,
         null,
         null,
         null,
         null,
         null,
         null,
         null,
         null,
         null,
         null,
         null,
         null,
         null,
         null,
         null,
         null,
         null,
         null,
         null,
         null,
         null,
         null,
         null,
         null,
         null,
         null,
         null,
         null,
         null,
         null,
         null,
         null,
         null,
         null,
         null,
         null,
         null,
         null,
         null,
         null,
         null,
         null,
         null,
         null,
         null,
         null,
         null,
         null,
         null,
         null,
         null,
         null,
         null,
         null,
         null,
         null,
         null,
         null,
         null,
         null,
         null,
         null,
         null,
         null,
         null,
         null,
         null,
         null,
         null,
         null,
         null,
         null,
         null,
         null,
         null,
         null,
         null,
         null,
         null,
         null,
         null,
         null,
         null,
         null,
         null,
         null,
         null,
         null,
         null,
         null,
         null,
         null,
         null,
         null,
         null,
         null,
         null,
         null,
         null,
         null,
         null,
         null,
         null,
         null,
         null,
         null,
         null,
         null,
         null,
         null,
         null,
         null,
         null,
         null,
         null,
         null,
         null,
         null,
         null,
         null,
         null,
         null,
         null,
         null,
         null,
         null,
         null,
         null,
         null,
         null,
         null,
         null,
         null,
         null,
         null,
         null,
         null,
         null,
         null,
         null,
         null,
         null,
         null,
         null,
         null,
         null,
         null,
         null,
         null,
         null,
         null,
         null,
         null,
         null,
         null,
         null,
         null,
         null,
         null,
         null,
         null,
         null,
         null,
         null,
         null,
         null,
         null,
         null,
         null,
         null,
         null,
         null,
         null,
         null,
         null,
         null,
         null,
         null,
         null,
         null,
         null,
         null,
         null,
         null,
         null,
         null,
         null,
         null,
         null,
         null,
         null,
         null,
         null,
         null,
         null,
         null,
         null,
         null,
         null,
         null,
         null,
         null,
         null,
         null,
         null,
         null,
         null,
         null,
         null,
         null,
         null,
         null,
         null,
         null,
         null,
         null,
         null,
         null,
         null,
         null,
         null,
         null,
         null,
         null,
         null,
         null,
         null,
         null,
         null,
         null,
         null,
         null,
         null,
         null,
         null,
         null,
         null,
         null,
         null,
         null,
         null,
         null,
         null,
         null,
         null,
         null,
         null,
         null,
         null,
         null,
         null,
         null,
         null,
         null,
         null,
         null,
         null,
         null,
         null,
         null,
         null,
         null,
         null,
         null,
         null,
         null,
         null,
         null,
         null,
         null,
         null,
         null,
         null,
         null,
         null,
         null,
         null,
         null,
         null,
         null,
         null,
         null,
         null,
         null,
         null,
         null,
         null,
         null,
         null,
         null,
         null,
         null,
         null,
         null,
         null,
         null,
         null,
         null,
         null,
         null,
         null,
         null,
         null,
         null,
         null,
         null,
         null,
         null,
         null,
         null,
         null,
         null,
         null,
         null,
         null,
         null,
         null,
         null,
         null,
         null,
         null,
         null,
         null,
         null,
         null,
         null,
         null,
         null,
         null,
         null,
         null,
         null,
         null,
         null,
         null,
         null,
         null,
         null,
         null,
         null,
         null,
         null,
         null,
         null,
         null,
         null,
         null,
         null,
         null,
         null,
         null,
         null,
         null,
         null,
         null,
         null,
         null,
         null,
         null,
         null,
         null,
         null,
         null,
         null,
         null,
         null,
         null,
         null,
         null,
         null,
         null,
         null,
         null,
         null,
         null,
         null,
         null,
         null,
         null,
         null,
         null,
         null,
         null,
         null,
         null,
         null,
         null,
         null,
         null,
         null,
         null,
         null,
         null,
         null,
         null,
         null,
         null,
         null,
         null,
         null,
         null,
         null,
         null,
         null,
         null,
         null,
         null,
         null,
         null,
         null,
         null,
         null,
         null,
         null,
         null,
         null,
         null,
         null,
         null,
         null,
         null,
         null,
         null,
         null,
         null,
         null,
         null,
         null,
         null,
         null,
         null,
         null,
         null,
         null,
         null,
         null,
         null,
         null,
         null,
         null,
         null,
         null,
         null,
         null,
         null,
         null,
         null,
         null,
         null,
         null,
         null,
         null,
         null,
         null,
         null,
         null,
         null,
         null,
         null,
         null,
         null,
         null,
         null,
         null,
         null,
         null,
         null,
         null,
         null,
         null,
         null,
         null,
         null,
         null,
         null,
         null,
         null,
         null,
         null,
         null,
         null,
         null,
         null,
         null,
         null,
         null,
         null,
         null,
         null,
         null,
         null,
         null,
         null,
         null,
         null,
         null,
         null,
         null,
         null,
         null,
         null,
         null,
         null,
         null,
         null,
         null,
         null,
         null,
         null,
         null,
         null,
         null,
         null,
         null,
         null,
         null,
         null,
         null,
         null,
         null,
         null,
         null,
         null,
         null,
         null,
         null,
         null,
         null,
         null,
         null,
         null,
         null,
         null,
         null,
         null,
         null,
         null,
         null,
         null,
         null,
         null,
         null,
         null,
         null,
         null,
         null,
         null,
         null,
         null,
         null,
         null,
         null,
         null,
         null,
         null,
         null,
         null,
         null,
         null,
         null,
         null,
         null,
         null,
         null,
         null,
         null,
         null,
         null,
         null,
         null,
         null,
         null,
         null,
         null,
         null,
         null,
         null,
         null,
         null,
         null,
         null,
         null,
         null,
         null,
         null,
         null,
         null,
         null,
         null,
         null,
         null,
         null,
         null,
         null,
         null,
         null,
         null,
         null,
         null,
         null,
         null,
         null,
         null,
         null,
         null,
         null,
         null,
         null,
         null,
         null,
         null,
         null,
         null,
         null,
         null,
         null,
         null,
         null,
         null,
         null,
         null,
         null,
         null,
         null,
         null,
         null,
         null,
         null,
         null,
         null,
         null,
         null,
         null,
         null,
         null,
         null,
         null,
         null,
         null,
         null,
         null,
         null,
         null,
         null,
         null,
         null,
         null,
         null,
         null,
         null,
         null,
         null,
         null,
         null,
         null,
         null,
         null,
         null,
         null,
         null,
         null,
         null,
         null,
         null,
         null,
         null,
         null,
         null,
         null,
         null,
         null,
         null,
         null,
         null,
         null,
         null,
         null,
         null,
         null,
         null,
         null,
         null,
         null,
         null,
         null,
         null,
         null,
         null,
         null,
         null,
         null,
         null,
         null,
         null,
         null,
         null,
         null,
         null,
         null,
         null,
         null,
         null,
         null,
         null,
         null,
         null,
         null,
         null,
         null,
         null,
         null,
         null,
         null,
         null,
         null,
         null,
         null,
         null,
         null,
         null,
         null,
         null,
         null,
         null,
         null,
         null,
         null,
         null,
         null,
         null,
         null,
         null,
         null,
         null,
         null,
         null,
         null,
         null,
         null,
         null,
         null,
         null,
         null,
         null,
         null,
         null,
         null,
         null,
         null,
         null,
         null,
         null,
         null,
         null,
         null,
         null,
         null,
         null,
         null,
         null,
         null,
         null,
         null,
         null,
         null,
         null,
         null,
         null,
         null,
         null,
         null,
         null,
         null,
         null,
         null,
         null,
         null,
         null,
         null,
         null,
         null,
         null,
         null,
         null,
         null,
         null,
         null,
         null,
         null,
         null,
         null,
         null,
         null,
         null,
         null,
         null,
         null,
         null,
         null,
         null,
         null,
         null,
         null,
         null,
         null,
         null,
         null,
         null,
         null,
         null,
         null,
         null,
         null,
         null,
         null,
         null,
         null,
         null,
         null,
         null,
         null,
         null,
         null,
         null,
         null,
         null,
         null,
         null,
         null,
         null,
         null,
         null,
         null,
         null,
         null,
         null,
         null,
         null,
         null,
         null,
         null,
         null,
         null,
         null,
         null,
         null,
         null,
         null,
         null,
         null,
         null,
         null,
         null,
         null,
         null,
         null,
         null,
         null,
         null,
         null,
         null,
         null,
         null,
         null,
         null,
         null,
         null,
         null,
         null,
         null,
         null,
         null,
         null,
         null,
         null,
         null,
         null,
         null,
         null,
         null,
         null,
         null,
         null,
         null,
         null,
         null,
         null,
         null,
         null,
         null,
         null,
         null,
         null,
         null,
         null,
         null,
         null,
         null,
         null,
         null,
         null,
         null,
         null,
         null,
         null,
         null,
         null,
         null,
         null,
         null,
         null,
         null,
         null,
         null,
         null,
         null,
         null,
         null,
         null,
         null,
         null,
         null,
         null,
         null,
         null,
         null,
         null,
         null,
         null,
         null,
         null,
         null,
         null,
         null,
         null,
         null,
         null,
         null,
         null,
         null,
         null,
         null,
         null,
         null,
         null,
         null,
         null,
         null,
         null,
         null,
         null,
         null,
         null,
         null,
         null,
         null,
         null,
         null,
         null,
         null,
         null,
         null,
         null,
         null,
         null,
         null,
         null,
         null,
         null,
         null,
         null,
         null,
         null,
         null,
         null,
         null,
         null,
         null,
         null,
         null,
         null,
         null,
         null,
         null,
         null,
         null,
         null,
         null,
         null,
         null,
         null,
         null,
         null,
         null,
         null,
         null,
         null,
         null,
         null,
         null,
         null,
         null,
         null,
         null,
         null,
         null,
         null,
         null,
         null,
         null,
         null,
         null,
         null,
         null,
         null,
         null,
         null,
         null,
         null,
         null,
         null,
         null,
         null,
         null,
         null,
         null,
         null,
         null,
         null,
         null,
         null,
         null,
         null,
         null,
         null,
         null,
         null,
         null,
         null,
         null,
         null,
         null,
         null,
         null,
         null,
         null,
         null,
         null,
         null,
         null,
         null,
         null,
         null,
         null,
         null,
         null,
         null,
         null,
         null,
         null,
         null,
         null,
         null,
         null,
         null,
         null,
         null,
         null,
         null,
         null,
         null,
         null,
         null,
         null,
         null,
         null,
         null,
         null,
         null,
         null,
         null,
         null,
         null,
         null,
         null,
         null,
         null,
         null,
         null,
         null,
         null,
         null,
         null,
         null,
         null,
         null,
         null,
         null,
         null,
         null,
         null,
         null,
         null,
         null,
         null,
         null,
         null,
         null,
         null,
         null,
         null,
         null,
         null,
         null,
         null,
         null,
         null,
         null,
         null,
         null,
         null,
         null,
         null,
         null,
         null,
         null,
         null,
         null,
         null,
         null,
         null,
         null,
         null,
         null,
         "5.0",
         null,
         null,
         null,
         null,
         null,
         null,
         null,
         null,
         null,
         null,
         null,
         null,
         null,
         null,
         null,
         null,
         null,
         null,
         null,
         null,
         null,
         null,
         null,
         null,
         null,
         null,
         null,
         null,
         null,
         null,
         null,
         null,
         null,
         null,
         null,
         null,
         null,
         null,
         null,
         null,
         null,
         null,
         null,
         null,
         null,
         null,
         null,
         null,
         null,
         null,
         null,
         null,
         null,
         null,
         null,
         null,
         null,
         null,
         null,
         null,
         null,
         null,
         null,
         null,
         null,
         null,
         null,
         null,
         null,
         null,
         null,
         null,
         null,
         null,
         null,
         null,
         null,
         null,
         null,
         null,
         null,
         null,
         null,
         null,
         null,
         null,
         null,
         null,
         null,
         null,
         null,
         null,
         null,
         null,
         null,
         null,
         null,
         null,
         null,
         null,
         null,
         null,
         null,
         null,
         null,
         null,
         null,
         null,
         null,
         null,
         null,
         null,
         null,
         null,
         null,
         null,
         null,
         null,
         null,
         null,
         null,
         null,
         null,
         null,
         null,
         null,
         null,
         null,
         null,
         null,
         null,
         null,
         null,
         null,
         null,
         null,
         null,
         null,
         null,
         null,
         null,
         null,
         null,
         null,
         null,
         null,
         null,
         null,
         null,
         null,
         null,
         null,
         null,
         null,
         null,
         null,
         null,
         null,
         null,
         null,
         null,
         null,
         null,
         null,
         null,
         null,
         null,
         null,
         null,
         null,
         null,
         null,
         null,
         null,
         null,
         null,
         null,
         null,
         null,
         null,
         null,
         null,
         null,
         null,
         null,
         null,
         null,
         null,
         null,
         null,
         null,
         null,
         null,
         null,
         null,
         null,
         null,
         null,
         null,
         null,
         null,
         null,
         null,
         null,
         null,
         null,
         null,
         null,
         null,
         null,
         null,
         null,
         null,
         null,
         null,
         null,
         null,
         null,
         null,
         null,
         null,
         null,
         null,
         null,
         null,
         null,
         null,
         null,
         null,
         null,
         null,
         null,
         null,
         null,
         null,
         null,
         null,
         null,
         null,
         null,
         null,
         null,
         null,
         null,
         null,
         null,
         null,
         null,
         null,
         null,
         null,
         null,
         null,
         null,
         null,
         null,
         null,
         null,
         null,
         null,
         null,
         null,
         null,
         null,
         null,
         null,
         null,
         null,
         null,
         null,
         null,
         null,
         null,
         null,
         null,
         null,
         null,
         null,
         null,
         null,
         null,
         null,
         null,
         null,
         null,
         null,
         null,
         null,
         null,
         null,
         null,
         null,
         null,
         null,
         null,
         null,
         null,
         null,
         null,
         null,
         null,
         null,
         null,
         null,
         null,
         null,
         null,
         null,
         null,
         null,
         null,
         null,
         null,
         null,
         null,
         null,
         null,
         null,
         null,
         null,
         null,
         null,
         null,
         null,
         null,
         null,
         null,
         null,
         null,
         null,
         null,
         null,
         null,
         null,
         null,
         null,
         null,
         null,
         null,
         null,
         null,
         null,
         null,
         null,
         null,
         null,
         null,
         null,
         null,
         null,
         null,
         null,
         null,
         null,
         null,
         null,
         null,
         null,
         null,
         null,
         null,
         null,
         null,
         null,
         null,
         null,
         null,
         null,
         null,
         null,
         null,
         null,
         null,
         null,
         null,
         null,
         null,
         null,
         null,
         null,
         null,
         null,
         null,
         null,
         null,
         null,
         null,
         null,
         null,
         null,
         null,
         null,
         null,
         null,
         null,
         null,
         null,
         null,
         null,
         null,
         null,
         null,
         null,
         null,
         null,
         null,
         null,
         null,
         null,
         null,
         null,
         null,
         null,
         null,
         null,
         null,
         null,
         null,
         null,
         null,
         null,
         null,
         null,
         null,
         null,
         null,
         null,
         null,
         null,
         null,
         null,
         null,
         null,
         null,
         null,
         null,
         null,
         null,
         null,
         null,
         null,
         null,
         null,
         null,
         null,
         null,
         null,
         null,
         null,
         null,
         null,
         null,
         null,
         null,
         null,
         null,
         null,
         null,
         null,
         null,
         null,
         null,
         null,
         null,
         null,
         null,
         null,
         null,
         null,
         null,
         null,
         null,
         null,
         null,
         null,
         null,
         null,
         null,
         null,
         null,
         null,
         null,
         null,
         null,
         null,
         null,
         null,
         null,
         null,
         null,
         null,
         null,
         null,
         null,
         null,
         null,
         null,
         null,
         null,
         null,
         null,
         null,
         null,
         null,
         null,
         null,
         null,
         null,
         null,
         null,
         null,
         null,
         null,
         null,
         null,
         null,
         null,
         null,
         null,
         null,
         null,
         null,
         null,
         null,
         null,
         null,
         null,
         null,
         null,
         null,
         null,
         null,
         null,
         null,
         null,
         null,
         null,
         null,
         null,
         null,
         null,
         null,
         null,
         null,
         null,
         null,
         null,
         null,
         null,
         null,
         null,
         null,
         null,
         null,
         null,
         null,
         null,
         null,
         null,
         null,
         null,
         null,
         null,
         null,
         null,
         null,
         null,
         null,
         null,
         null,
         null,
         null,
         null,
         null,
         null,
         null,
         null,
         null
        ]
       ],
       "shape": {
        "columns": 2192,
        "rows": 5
       }
      },
      "text/html": [
       "<div>\n",
       "<style scoped>\n",
       "    .dataframe tbody tr th:only-of-type {\n",
       "        vertical-align: middle;\n",
       "    }\n",
       "\n",
       "    .dataframe tbody tr th {\n",
       "        vertical-align: top;\n",
       "    }\n",
       "\n",
       "    .dataframe thead th {\n",
       "        text-align: right;\n",
       "    }\n",
       "</style>\n",
       "<table border=\"1\" class=\"dataframe\">\n",
       "  <thead>\n",
       "    <tr style=\"text-align: right;\">\n",
       "      <th>business_id</th>\n",
       "      <th>-050d_XIor1NpCuWkbIVaQ</th>\n",
       "      <th>-0qht1roIqleKiQkBLDkbw</th>\n",
       "      <th>-3zffZUHoY8bQjGfPSoBKQ</th>\n",
       "      <th>-6tvduBzjLI1ISfs3F_qTg</th>\n",
       "      <th>-9nai28tnoylwViuJVrYEQ</th>\n",
       "      <th>-C8sSrFqaCxp51pyo-fQLQ</th>\n",
       "      <th>-Dnh48f029YNugtMKkkI-Q</th>\n",
       "      <th>-FLnsWAa4AGEW4NgE8Fqew</th>\n",
       "      <th>-G7MPSNBpxRJmtrJxdwt7A</th>\n",
       "      <th>-GY2fx-8udXPY8qn2HVBCg</th>\n",
       "      <th>...</th>\n",
       "      <th>zdE82PiD6wquvjYLyhOJNA</th>\n",
       "      <th>zdd3hyxB8ylYV6RcNe347Q</th>\n",
       "      <th>zg5rJfgT4jhzg1d6r2twnA</th>\n",
       "      <th>ziv21pDfyrgdhlrlNIgDfg</th>\n",
       "      <th>zkhBU5qW_zCy0q4OEtIrsA</th>\n",
       "      <th>ztP466jMUMtqLwwHqXbk9w</th>\n",
       "      <th>zw9_mqWBn1QCfZg88w0Exg</th>\n",
       "      <th>zwNLJ2VglfEvGu7DDZjJ4g</th>\n",
       "      <th>zzYaAiC0rLNSDiFQlMKOEQ</th>\n",
       "      <th>zzgSiOnuUjnBnmfR-ZG4ww</th>\n",
       "    </tr>\n",
       "    <tr>\n",
       "      <th>user_id</th>\n",
       "      <th></th>\n",
       "      <th></th>\n",
       "      <th></th>\n",
       "      <th></th>\n",
       "      <th></th>\n",
       "      <th></th>\n",
       "      <th></th>\n",
       "      <th></th>\n",
       "      <th></th>\n",
       "      <th></th>\n",
       "      <th></th>\n",
       "      <th></th>\n",
       "      <th></th>\n",
       "      <th></th>\n",
       "      <th></th>\n",
       "      <th></th>\n",
       "      <th></th>\n",
       "      <th></th>\n",
       "      <th></th>\n",
       "      <th></th>\n",
       "      <th></th>\n",
       "    </tr>\n",
       "  </thead>\n",
       "  <tbody>\n",
       "    <tr>\n",
       "      <th>-0biHfjE0soSptbU5G3nug</th>\n",
       "      <td>NaN</td>\n",
       "      <td>NaN</td>\n",
       "      <td>NaN</td>\n",
       "      <td>NaN</td>\n",
       "      <td>NaN</td>\n",
       "      <td>NaN</td>\n",
       "      <td>NaN</td>\n",
       "      <td>NaN</td>\n",
       "      <td>NaN</td>\n",
       "      <td>NaN</td>\n",
       "      <td>...</td>\n",
       "      <td>NaN</td>\n",
       "      <td>NaN</td>\n",
       "      <td>NaN</td>\n",
       "      <td>NaN</td>\n",
       "      <td>NaN</td>\n",
       "      <td>NaN</td>\n",
       "      <td>NaN</td>\n",
       "      <td>NaN</td>\n",
       "      <td>NaN</td>\n",
       "      <td>NaN</td>\n",
       "    </tr>\n",
       "    <tr>\n",
       "      <th>-2K0yp7lBT_JUOzGkpdJ_g</th>\n",
       "      <td>NaN</td>\n",
       "      <td>NaN</td>\n",
       "      <td>NaN</td>\n",
       "      <td>NaN</td>\n",
       "      <td>NaN</td>\n",
       "      <td>NaN</td>\n",
       "      <td>NaN</td>\n",
       "      <td>NaN</td>\n",
       "      <td>NaN</td>\n",
       "      <td>NaN</td>\n",
       "      <td>...</td>\n",
       "      <td>NaN</td>\n",
       "      <td>NaN</td>\n",
       "      <td>NaN</td>\n",
       "      <td>NaN</td>\n",
       "      <td>NaN</td>\n",
       "      <td>NaN</td>\n",
       "      <td>NaN</td>\n",
       "      <td>NaN</td>\n",
       "      <td>NaN</td>\n",
       "      <td>NaN</td>\n",
       "    </tr>\n",
       "    <tr>\n",
       "      <th>-Opvc9hAWllZSSPDUsD7NA</th>\n",
       "      <td>NaN</td>\n",
       "      <td>NaN</td>\n",
       "      <td>NaN</td>\n",
       "      <td>NaN</td>\n",
       "      <td>NaN</td>\n",
       "      <td>NaN</td>\n",
       "      <td>NaN</td>\n",
       "      <td>NaN</td>\n",
       "      <td>NaN</td>\n",
       "      <td>NaN</td>\n",
       "      <td>...</td>\n",
       "      <td>NaN</td>\n",
       "      <td>NaN</td>\n",
       "      <td>NaN</td>\n",
       "      <td>NaN</td>\n",
       "      <td>NaN</td>\n",
       "      <td>NaN</td>\n",
       "      <td>NaN</td>\n",
       "      <td>NaN</td>\n",
       "      <td>NaN</td>\n",
       "      <td>NaN</td>\n",
       "    </tr>\n",
       "    <tr>\n",
       "      <th>-Zdxj4wuj4D_899B7tPE3g</th>\n",
       "      <td>NaN</td>\n",
       "      <td>NaN</td>\n",
       "      <td>NaN</td>\n",
       "      <td>NaN</td>\n",
       "      <td>NaN</td>\n",
       "      <td>NaN</td>\n",
       "      <td>NaN</td>\n",
       "      <td>NaN</td>\n",
       "      <td>NaN</td>\n",
       "      <td>NaN</td>\n",
       "      <td>...</td>\n",
       "      <td>NaN</td>\n",
       "      <td>NaN</td>\n",
       "      <td>NaN</td>\n",
       "      <td>NaN</td>\n",
       "      <td>NaN</td>\n",
       "      <td>NaN</td>\n",
       "      <td>NaN</td>\n",
       "      <td>NaN</td>\n",
       "      <td>NaN</td>\n",
       "      <td>NaN</td>\n",
       "    </tr>\n",
       "    <tr>\n",
       "      <th>-_iULENf28RbqL2k0ja5Xw</th>\n",
       "      <td>NaN</td>\n",
       "      <td>NaN</td>\n",
       "      <td>NaN</td>\n",
       "      <td>NaN</td>\n",
       "      <td>NaN</td>\n",
       "      <td>NaN</td>\n",
       "      <td>NaN</td>\n",
       "      <td>NaN</td>\n",
       "      <td>NaN</td>\n",
       "      <td>NaN</td>\n",
       "      <td>...</td>\n",
       "      <td>NaN</td>\n",
       "      <td>NaN</td>\n",
       "      <td>NaN</td>\n",
       "      <td>NaN</td>\n",
       "      <td>NaN</td>\n",
       "      <td>NaN</td>\n",
       "      <td>NaN</td>\n",
       "      <td>NaN</td>\n",
       "      <td>NaN</td>\n",
       "      <td>NaN</td>\n",
       "    </tr>\n",
       "  </tbody>\n",
       "</table>\n",
       "<p>5 rows × 2192 columns</p>\n",
       "</div>"
      ],
      "text/plain": [
       "business_id             -050d_XIor1NpCuWkbIVaQ  -0qht1roIqleKiQkBLDkbw  \\\n",
       "user_id                                                                  \n",
       "-0biHfjE0soSptbU5G3nug                     NaN                     NaN   \n",
       "-2K0yp7lBT_JUOzGkpdJ_g                     NaN                     NaN   \n",
       "-Opvc9hAWllZSSPDUsD7NA                     NaN                     NaN   \n",
       "-Zdxj4wuj4D_899B7tPE3g                     NaN                     NaN   \n",
       "-_iULENf28RbqL2k0ja5Xw                     NaN                     NaN   \n",
       "\n",
       "business_id             -3zffZUHoY8bQjGfPSoBKQ  -6tvduBzjLI1ISfs3F_qTg  \\\n",
       "user_id                                                                  \n",
       "-0biHfjE0soSptbU5G3nug                     NaN                     NaN   \n",
       "-2K0yp7lBT_JUOzGkpdJ_g                     NaN                     NaN   \n",
       "-Opvc9hAWllZSSPDUsD7NA                     NaN                     NaN   \n",
       "-Zdxj4wuj4D_899B7tPE3g                     NaN                     NaN   \n",
       "-_iULENf28RbqL2k0ja5Xw                     NaN                     NaN   \n",
       "\n",
       "business_id             -9nai28tnoylwViuJVrYEQ  -C8sSrFqaCxp51pyo-fQLQ  \\\n",
       "user_id                                                                  \n",
       "-0biHfjE0soSptbU5G3nug                     NaN                     NaN   \n",
       "-2K0yp7lBT_JUOzGkpdJ_g                     NaN                     NaN   \n",
       "-Opvc9hAWllZSSPDUsD7NA                     NaN                     NaN   \n",
       "-Zdxj4wuj4D_899B7tPE3g                     NaN                     NaN   \n",
       "-_iULENf28RbqL2k0ja5Xw                     NaN                     NaN   \n",
       "\n",
       "business_id             -Dnh48f029YNugtMKkkI-Q  -FLnsWAa4AGEW4NgE8Fqew  \\\n",
       "user_id                                                                  \n",
       "-0biHfjE0soSptbU5G3nug                     NaN                     NaN   \n",
       "-2K0yp7lBT_JUOzGkpdJ_g                     NaN                     NaN   \n",
       "-Opvc9hAWllZSSPDUsD7NA                     NaN                     NaN   \n",
       "-Zdxj4wuj4D_899B7tPE3g                     NaN                     NaN   \n",
       "-_iULENf28RbqL2k0ja5Xw                     NaN                     NaN   \n",
       "\n",
       "business_id             -G7MPSNBpxRJmtrJxdwt7A  -GY2fx-8udXPY8qn2HVBCg  ...  \\\n",
       "user_id                                                                 ...   \n",
       "-0biHfjE0soSptbU5G3nug                     NaN                     NaN  ...   \n",
       "-2K0yp7lBT_JUOzGkpdJ_g                     NaN                     NaN  ...   \n",
       "-Opvc9hAWllZSSPDUsD7NA                     NaN                     NaN  ...   \n",
       "-Zdxj4wuj4D_899B7tPE3g                     NaN                     NaN  ...   \n",
       "-_iULENf28RbqL2k0ja5Xw                     NaN                     NaN  ...   \n",
       "\n",
       "business_id             zdE82PiD6wquvjYLyhOJNA  zdd3hyxB8ylYV6RcNe347Q  \\\n",
       "user_id                                                                  \n",
       "-0biHfjE0soSptbU5G3nug                     NaN                     NaN   \n",
       "-2K0yp7lBT_JUOzGkpdJ_g                     NaN                     NaN   \n",
       "-Opvc9hAWllZSSPDUsD7NA                     NaN                     NaN   \n",
       "-Zdxj4wuj4D_899B7tPE3g                     NaN                     NaN   \n",
       "-_iULENf28RbqL2k0ja5Xw                     NaN                     NaN   \n",
       "\n",
       "business_id             zg5rJfgT4jhzg1d6r2twnA  ziv21pDfyrgdhlrlNIgDfg  \\\n",
       "user_id                                                                  \n",
       "-0biHfjE0soSptbU5G3nug                     NaN                     NaN   \n",
       "-2K0yp7lBT_JUOzGkpdJ_g                     NaN                     NaN   \n",
       "-Opvc9hAWllZSSPDUsD7NA                     NaN                     NaN   \n",
       "-Zdxj4wuj4D_899B7tPE3g                     NaN                     NaN   \n",
       "-_iULENf28RbqL2k0ja5Xw                     NaN                     NaN   \n",
       "\n",
       "business_id             zkhBU5qW_zCy0q4OEtIrsA  ztP466jMUMtqLwwHqXbk9w  \\\n",
       "user_id                                                                  \n",
       "-0biHfjE0soSptbU5G3nug                     NaN                     NaN   \n",
       "-2K0yp7lBT_JUOzGkpdJ_g                     NaN                     NaN   \n",
       "-Opvc9hAWllZSSPDUsD7NA                     NaN                     NaN   \n",
       "-Zdxj4wuj4D_899B7tPE3g                     NaN                     NaN   \n",
       "-_iULENf28RbqL2k0ja5Xw                     NaN                     NaN   \n",
       "\n",
       "business_id             zw9_mqWBn1QCfZg88w0Exg  zwNLJ2VglfEvGu7DDZjJ4g  \\\n",
       "user_id                                                                  \n",
       "-0biHfjE0soSptbU5G3nug                     NaN                     NaN   \n",
       "-2K0yp7lBT_JUOzGkpdJ_g                     NaN                     NaN   \n",
       "-Opvc9hAWllZSSPDUsD7NA                     NaN                     NaN   \n",
       "-Zdxj4wuj4D_899B7tPE3g                     NaN                     NaN   \n",
       "-_iULENf28RbqL2k0ja5Xw                     NaN                     NaN   \n",
       "\n",
       "business_id             zzYaAiC0rLNSDiFQlMKOEQ  zzgSiOnuUjnBnmfR-ZG4ww  \n",
       "user_id                                                                 \n",
       "-0biHfjE0soSptbU5G3nug                     NaN                     NaN  \n",
       "-2K0yp7lBT_JUOzGkpdJ_g                     NaN                     NaN  \n",
       "-Opvc9hAWllZSSPDUsD7NA                     NaN                     NaN  \n",
       "-Zdxj4wuj4D_899B7tPE3g                     NaN                     NaN  \n",
       "-_iULENf28RbqL2k0ja5Xw                     NaN                     NaN  \n",
       "\n",
       "[5 rows x 2192 columns]"
      ]
     },
     "execution_count": 17,
     "metadata": {},
     "output_type": "execute_result"
    }
   ],
   "source": [
    "# This transforms the data into a person by person spreadsheet and what stars they gave various restaurants\n",
    "# Most values are NaN (null or missing) because people only review a few restaurants of those that exist\n",
    "usr_reviews = df.pivot(index='user_id', columns='business_id', values='stars')\n",
    "usr_reviews.head()"
   ]
  },
  {
   "cell_type": "markdown",
   "metadata": {},
   "source": [
    "## Summary\n",
    "\n",
    "In this brief introduction, you learned the acronym ETL and got to preview a few examples of ETL processes using pandas."
   ]
  }
 ],
 "metadata": {
  "kernelspec": {
   "display_name": "learn-env",
   "language": "python",
   "name": "python3"
  },
  "language_info": {
   "codemirror_mode": {
    "name": "ipython",
    "version": 3
   },
   "file_extension": ".py",
   "mimetype": "text/x-python",
   "name": "python",
   "nbconvert_exporter": "python",
   "pygments_lexer": "ipython3",
   "version": "3.8.5"
  }
 },
 "nbformat": 4,
 "nbformat_minor": 2
}
